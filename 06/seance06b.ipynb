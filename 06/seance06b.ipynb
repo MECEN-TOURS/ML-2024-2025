{
 "cells": [
  {
   "cell_type": "code",
   "execution_count": 1,
   "id": "ea3ac244",
   "metadata": {},
   "outputs": [],
   "source": [
    "import numpy as np\n",
    "import matplotlib.pyplot as plt"
   ]
  },
  {
   "cell_type": "code",
   "execution_count": 45,
   "id": "4a548f8b",
   "metadata": {},
   "outputs": [],
   "source": [
    "from rich import print\n",
    "from rich.table import Table"
   ]
  },
  {
   "cell_type": "code",
   "execution_count": 2,
   "id": "0785c0b5",
   "metadata": {},
   "outputs": [],
   "source": [
    "# load -> machine\n",
    "# fetch -> internet\n",
    "from sklearn.datasets import load_digits"
   ]
  },
  {
   "cell_type": "code",
   "execution_count": 3,
   "id": "003558e5",
   "metadata": {},
   "outputs": [],
   "source": [
    "resultat = load_digits()"
   ]
  },
  {
   "cell_type": "code",
   "execution_count": 5,
   "id": "15e1bec7",
   "metadata": {},
   "outputs": [
    {
     "name": "stdout",
     "output_type": "stream",
     "text": [
      ".. _digits_dataset:\n",
      "\n",
      "Optical recognition of handwritten digits dataset\n",
      "--------------------------------------------------\n",
      "\n",
      "**Data Set Characteristics:**\n",
      "\n",
      "    :Number of Instances: 1797\n",
      "    :Number of Attributes: 64\n",
      "    :Attribute Information: 8x8 image of integer pixels in the range 0..16.\n",
      "    :Missing Attribute Values: None\n",
      "    :Creator: E. Alpaydin (alpaydin '@' boun.edu.tr)\n",
      "    :Date: July; 1998\n",
      "\n",
      "This is a copy of the test set of the UCI ML hand-written digits datasets\n",
      "https://archive.ics.uci.edu/ml/datasets/Optical+Recognition+of+Handwritten+Digits\n",
      "\n",
      "The data set contains images of hand-written digits: 10 classes where\n",
      "each class refers to a digit.\n",
      "\n",
      "Preprocessing programs made available by NIST were used to extract\n",
      "normalized bitmaps of handwritten digits from a preprinted form. From a\n",
      "total of 43 people, 30 contributed to the training set and different 13\n",
      "to the test set. 32x32 bitmaps are divided into nonoverlapping blocks of\n",
      "4x4 and the number of on pixels are counted in each block. This generates\n",
      "an input matrix of 8x8 where each element is an integer in the range\n",
      "0..16. This reduces dimensionality and gives invariance to small\n",
      "distortions.\n",
      "\n",
      "For info on NIST preprocessing routines, see M. D. Garris, J. L. Blue, G.\n",
      "T. Candela, D. L. Dimmick, J. Geist, P. J. Grother, S. A. Janet, and C.\n",
      "L. Wilson, NIST Form-Based Handprint Recognition System, NISTIR 5469,\n",
      "1994.\n",
      "\n",
      ".. topic:: References\n",
      "\n",
      "  - C. Kaynak (1995) Methods of Combining Multiple Classifiers and Their\n",
      "    Applications to Handwritten Digit Recognition, MSc Thesis, Institute of\n",
      "    Graduate Studies in Science and Engineering, Bogazici University.\n",
      "  - E. Alpaydin, C. Kaynak (1998) Cascading Classifiers, Kybernetika.\n",
      "  - Ken Tang and Ponnuthurai N. Suganthan and Xi Yao and A. Kai Qin.\n",
      "    Linear dimensionalityreduction using relevance weighted LDA. School of\n",
      "    Electrical and Electronic Engineering Nanyang Technological University.\n",
      "    2005.\n",
      "  - Claudio Gentile. A New Approximate Maximal Margin Classification\n",
      "    Algorithm. NIPS. 2000.\n",
      "\n"
     ]
    }
   ],
   "source": [
    "print(resultat.DESCR)"
   ]
  },
  {
   "cell_type": "code",
   "execution_count": 6,
   "id": "39758ddb",
   "metadata": {
    "scrolled": true
   },
   "outputs": [
    {
     "data": {
      "text/plain": [
       "['pixel_0_0',\n",
       " 'pixel_0_1',\n",
       " 'pixel_0_2',\n",
       " 'pixel_0_3',\n",
       " 'pixel_0_4',\n",
       " 'pixel_0_5',\n",
       " 'pixel_0_6',\n",
       " 'pixel_0_7',\n",
       " 'pixel_1_0',\n",
       " 'pixel_1_1',\n",
       " 'pixel_1_2',\n",
       " 'pixel_1_3',\n",
       " 'pixel_1_4',\n",
       " 'pixel_1_5',\n",
       " 'pixel_1_6',\n",
       " 'pixel_1_7',\n",
       " 'pixel_2_0',\n",
       " 'pixel_2_1',\n",
       " 'pixel_2_2',\n",
       " 'pixel_2_3',\n",
       " 'pixel_2_4',\n",
       " 'pixel_2_5',\n",
       " 'pixel_2_6',\n",
       " 'pixel_2_7',\n",
       " 'pixel_3_0',\n",
       " 'pixel_3_1',\n",
       " 'pixel_3_2',\n",
       " 'pixel_3_3',\n",
       " 'pixel_3_4',\n",
       " 'pixel_3_5',\n",
       " 'pixel_3_6',\n",
       " 'pixel_3_7',\n",
       " 'pixel_4_0',\n",
       " 'pixel_4_1',\n",
       " 'pixel_4_2',\n",
       " 'pixel_4_3',\n",
       " 'pixel_4_4',\n",
       " 'pixel_4_5',\n",
       " 'pixel_4_6',\n",
       " 'pixel_4_7',\n",
       " 'pixel_5_0',\n",
       " 'pixel_5_1',\n",
       " 'pixel_5_2',\n",
       " 'pixel_5_3',\n",
       " 'pixel_5_4',\n",
       " 'pixel_5_5',\n",
       " 'pixel_5_6',\n",
       " 'pixel_5_7',\n",
       " 'pixel_6_0',\n",
       " 'pixel_6_1',\n",
       " 'pixel_6_2',\n",
       " 'pixel_6_3',\n",
       " 'pixel_6_4',\n",
       " 'pixel_6_5',\n",
       " 'pixel_6_6',\n",
       " 'pixel_6_7',\n",
       " 'pixel_7_0',\n",
       " 'pixel_7_1',\n",
       " 'pixel_7_2',\n",
       " 'pixel_7_3',\n",
       " 'pixel_7_4',\n",
       " 'pixel_7_5',\n",
       " 'pixel_7_6',\n",
       " 'pixel_7_7']"
      ]
     },
     "execution_count": 6,
     "metadata": {},
     "output_type": "execute_result"
    }
   ],
   "source": [
    "resultat.feature_names"
   ]
  },
  {
   "cell_type": "code",
   "execution_count": 8,
   "id": "753656d6",
   "metadata": {},
   "outputs": [
    {
     "data": {
      "text/plain": [
       "(1797, 64)"
      ]
     },
     "execution_count": 8,
     "metadata": {},
     "output_type": "execute_result"
    }
   ],
   "source": [
    "resultat.data.shape"
   ]
  },
  {
   "cell_type": "code",
   "execution_count": 9,
   "id": "5d1c9a14",
   "metadata": {},
   "outputs": [
    {
     "data": {
      "text/plain": [
       "array([0, 1, 2, 3, 4, 5, 6, 7, 8, 9])"
      ]
     },
     "execution_count": 9,
     "metadata": {},
     "output_type": "execute_result"
    }
   ],
   "source": [
    "resultat.target_names"
   ]
  },
  {
   "cell_type": "code",
   "execution_count": 10,
   "id": "38b78acd",
   "metadata": {},
   "outputs": [
    {
     "data": {
      "text/plain": [
       "(1797,)"
      ]
     },
     "execution_count": 10,
     "metadata": {},
     "output_type": "execute_result"
    }
   ],
   "source": [
    "resultat.target.shape"
   ]
  },
  {
   "cell_type": "code",
   "execution_count": 11,
   "id": "b1fc6737",
   "metadata": {},
   "outputs": [],
   "source": [
    "X, y = resultat.data, resultat.target"
   ]
  },
  {
   "cell_type": "code",
   "execution_count": 12,
   "id": "b8d3220f",
   "metadata": {},
   "outputs": [],
   "source": [
    "image1 = X[0].reshape((8, 8))"
   ]
  },
  {
   "cell_type": "code",
   "execution_count": 15,
   "id": "9f2bc895",
   "metadata": {},
   "outputs": [
    {
     "data": {
      "text/plain": [
       "<matplotlib.image.AxesImage at 0x7f0e71d15cd0>"
      ]
     },
     "execution_count": 15,
     "metadata": {},
     "output_type": "execute_result"
    },
    {
     "data": {
      "image/png": "[encoded data removed]",
      "text/plain": [
       "<Figure size 480x480 with 1 Axes>"
      ]
     },
     "metadata": {},
     "output_type": "display_data"
    }
   ],
   "source": [
    "plt.matshow(image1, cmap=\"Greys\")"
   ]
  },
  {
   "cell_type": "code",
   "execution_count": 17,
   "id": "6b309271",
   "metadata": {},
   "outputs": [
    {
     "data": {
      "text/plain": [
       "0"
      ]
     },
     "execution_count": 17,
     "metadata": {},
     "output_type": "execute_result"
    }
   ],
   "source": [
    "y[0]"
   ]
  },
  {
   "cell_type": "markdown",
   "id": "32c29aa0",
   "metadata": {},
   "source": [
    "**EXERCICE** \n",
    "Assembler les 16 premières images en une figure de 4x4 repères"
   ]
  },
  {
   "cell_type": "code",
   "execution_count": 21,
   "id": "d5bcb139",
   "metadata": {},
   "outputs": [
    {
     "data": {
      "image/png": "[encoded data removed]",
      "text/plain": [
       "<Figure size 1200x1200 with 16 Axes>"
      ]
     },
     "metadata": {},
     "output_type": "display_data"
    }
   ],
   "source": [
    "fig, reps = plt.subplots(ncols=4, nrows=4, figsize=(12, 12), tight_layout=True)\n",
    "\n",
    "for i, rep in enumerate(reps.ravel()):\n",
    "    rep.matshow(X[i].reshape((8,8)), cmap=\"Greys\")\n",
    "    rep.set_title(f\"chiffre: {y[i]}\")"
   ]
  },
  {
   "cell_type": "markdown",
   "id": "479218cb",
   "metadata": {},
   "source": [
    "**OBJECTIF** :\n",
    "\n",
    "1. Faire un train test split\n",
    "2. Faire une régression logistique"
   ]
  },
  {
   "cell_type": "code",
   "execution_count": 22,
   "id": "1d135daa",
   "metadata": {},
   "outputs": [],
   "source": [
    "from sklearn.model_selection import train_test_split, cross_validate"
   ]
  },
  {
   "cell_type": "code",
   "execution_count": 23,
   "id": "6653a0fc",
   "metadata": {},
   "outputs": [],
   "source": [
    "from sklearn.linear_model import LogisticRegression"
   ]
  },
  {
   "cell_type": "code",
   "execution_count": null,
   "id": "be3c335b",
   "metadata": {},
   "outputs": [],
   "source": [
    "X_tr, X_te, y_tr, y_te = train_test_split(X, y)"
   ]
  },
  {
   "cell_type": "code",
   "execution_count": 32,
   "id": "aae68e2d",
   "metadata": {},
   "outputs": [
    {
     "name": "stderr",
     "output_type": "stream",
     "text": [
      "/usr/lib/python3/dist-packages/sklearn/linear_model/_logistic.py:458: ConvergenceWarning: lbfgs failed to converge (status=1):\n",
      "STOP: TOTAL NO. of ITERATIONS REACHED LIMIT.\n",
      "\n",
      "Increase the number of iterations (max_iter) or scale the data as shown in:\n",
      "    https://scikit-learn.org/stable/modules/preprocessing.html\n",
      "Please also refer to the documentation for alternative solver options:\n",
      "    https://scikit-learn.org/stable/modules/linear_model.html#logistic-regression\n",
      "  n_iter_i = _check_optimize_result(\n"
     ]
    },
    {
     "data": {
      "text/html": [
       "<style>#sk-container-id-3 {color: black;background-color: white;}#sk-container-id-3 pre{padding: 0;}#sk-container-id-3 div.sk-toggleable {background-color: white;}#sk-container-id-3 label.sk-toggleable__label {cursor: pointer;display: block;width: 100%;margin-bottom: 0;padding: 0.3em;box-sizing: border-box;text-align: center;}#sk-container-id-3 label.sk-toggleable__label-arrow:before {content: \"▸\";float: left;margin-right: 0.25em;color: #696969;}#sk-container-id-3 label.sk-toggleable__label-arrow:hover:before {color: black;}#sk-container-id-3 div.sk-estimator:hover label.sk-toggleable__label-arrow:before {color: black;}#sk-container-id-3 div.sk-toggleable__content {max-height: 0;max-width: 0;overflow: hidden;text-align: left;background-color: #f0f8ff;}#sk-container-id-3 div.sk-toggleable__content pre {margin: 0.2em;color: black;border-radius: 0.25em;background-color: #f0f8ff;}#sk-container-id-3 input.sk-toggleable__control:checked~div.sk-toggleable__content {max-height: 200px;max-width: 100%;overflow: auto;}#sk-container-id-3 input.sk-toggleable__control:checked~label.sk-toggleable__label-arrow:before {content: \"▾\";}#sk-container-id-3 div.sk-estimator input.sk-toggleable__control:checked~label.sk-toggleable__label {background-color: #d4ebff;}#sk-container-id-3 div.sk-label input.sk-toggleable__control:checked~label.sk-toggleable__label {background-color: #d4ebff;}#sk-container-id-3 input.sk-hidden--visually {border: 0;clip: rect(1px 1px 1px 1px);clip: rect(1px, 1px, 1px, 1px);height: 1px;margin: -1px;overflow: hidden;padding: 0;position: absolute;width: 1px;}#sk-container-id-3 div.sk-estimator {font-family: monospace;background-color: #f0f8ff;border: 1px dotted black;border-radius: 0.25em;box-sizing: border-box;margin-bottom: 0.5em;}#sk-container-id-3 div.sk-estimator:hover {background-color: #d4ebff;}#sk-container-id-3 div.sk-parallel-item::after {content: \"\";width: 100%;border-bottom: 1px solid gray;flex-grow: 1;}#sk-container-id-3 div.sk-label:hover label.sk-toggleable__label {background-color: #d4ebff;}#sk-container-id-3 div.sk-serial::before {content: \"\";position: absolute;border-left: 1px solid gray;box-sizing: border-box;top: 0;bottom: 0;left: 50%;z-index: 0;}#sk-container-id-3 div.sk-serial {display: flex;flex-direction: column;align-items: center;background-color: white;padding-right: 0.2em;padding-left: 0.2em;position: relative;}#sk-container-id-3 div.sk-item {position: relative;z-index: 1;}#sk-container-id-3 div.sk-parallel {display: flex;align-items: stretch;justify-content: center;background-color: white;position: relative;}#sk-container-id-3 div.sk-item::before, #sk-container-id-3 div.sk-parallel-item::before {content: \"\";position: absolute;border-left: 1px solid gray;box-sizing: border-box;top: 0;bottom: 0;left: 50%;z-index: -1;}#sk-container-id-3 div.sk-parallel-item {display: flex;flex-direction: column;z-index: 1;position: relative;background-color: white;}#sk-container-id-3 div.sk-parallel-item:first-child::after {align-self: flex-end;width: 50%;}#sk-container-id-3 div.sk-parallel-item:last-child::after {align-self: flex-start;width: 50%;}#sk-container-id-3 div.sk-parallel-item:only-child::after {width: 0;}#sk-container-id-3 div.sk-dashed-wrapped {border: 1px dashed gray;margin: 0 0.4em 0.5em 0.4em;box-sizing: border-box;padding-bottom: 0.4em;background-color: white;}#sk-container-id-3 div.sk-label label {font-family: monospace;font-weight: bold;display: inline-block;line-height: 1.2em;}#sk-container-id-3 div.sk-label-container {text-align: center;}#sk-container-id-3 div.sk-container {/* jupyter's `normalize.less` sets `[hidden] { display: none; }` but bootstrap.min.css set `[hidden] { display: none !important; }` so we also need the `!important` here to be able to override the default hidden behavior on the sphinx rendered scikit-learn.org. See: https://github.com/scikit-learn/scikit-learn/issues/21755 */display: inline-block !important;position: relative;}#sk-container-id-3 div.sk-text-repr-fallback {display: none;}</style><div id=\"sk-container-id-3\" class=\"sk-top-container\"><div class=\"sk-text-repr-fallback\"><pre>LogisticRegression()</pre><b>In a Jupyter environment, please rerun this cell to show the HTML representation or trust the notebook. <br />On GitHub, the HTML representation is unable to render, please try loading this page with nbviewer.org.</b></div><div class=\"sk-container\" hidden><div class=\"sk-item\"><div class=\"sk-estimator sk-toggleable\"><input class=\"sk-toggleable__control sk-hidden--visually\" id=\"sk-estimator-id-3\" type=\"checkbox\" checked><label for=\"sk-estimator-id-3\" class=\"sk-toggleable__label sk-toggleable__label-arrow\">LogisticRegression</label><div class=\"sk-toggleable__content\"><pre>LogisticRegression()</pre></div></div></div></div></div>"
      ],
      "text/plain": [
       "LogisticRegression()"
      ]
     },
     "execution_count": 32,
     "metadata": {},
     "output_type": "execute_result"
    }
   ],
   "source": [
    "lr = LogisticRegression()\n",
    "lr.fit(X_tr, y_tr)"
   ]
  },
  {
   "cell_type": "code",
   "execution_count": 33,
   "id": "b5e60061",
   "metadata": {},
   "outputs": [
    {
     "data": {
      "text/html": [
       "<style>#sk-container-id-4 {color: black;background-color: white;}#sk-container-id-4 pre{padding: 0;}#sk-container-id-4 div.sk-toggleable {background-color: white;}#sk-container-id-4 label.sk-toggleable__label {cursor: pointer;display: block;width: 100%;margin-bottom: 0;padding: 0.3em;box-sizing: border-box;text-align: center;}#sk-container-id-4 label.sk-toggleable__label-arrow:before {content: \"▸\";float: left;margin-right: 0.25em;color: #696969;}#sk-container-id-4 label.sk-toggleable__label-arrow:hover:before {color: black;}#sk-container-id-4 div.sk-estimator:hover label.sk-toggleable__label-arrow:before {color: black;}#sk-container-id-4 div.sk-toggleable__content {max-height: 0;max-width: 0;overflow: hidden;text-align: left;background-color: #f0f8ff;}#sk-container-id-4 div.sk-toggleable__content pre {margin: 0.2em;color: black;border-radius: 0.25em;background-color: #f0f8ff;}#sk-container-id-4 input.sk-toggleable__control:checked~div.sk-toggleable__content {max-height: 200px;max-width: 100%;overflow: auto;}#sk-container-id-4 input.sk-toggleable__control:checked~label.sk-toggleable__label-arrow:before {content: \"▾\";}#sk-container-id-4 div.sk-estimator input.sk-toggleable__control:checked~label.sk-toggleable__label {background-color: #d4ebff;}#sk-container-id-4 div.sk-label input.sk-toggleable__control:checked~label.sk-toggleable__label {background-color: #d4ebff;}#sk-container-id-4 input.sk-hidden--visually {border: 0;clip: rect(1px 1px 1px 1px);clip: rect(1px, 1px, 1px, 1px);height: 1px;margin: -1px;overflow: hidden;padding: 0;position: absolute;width: 1px;}#sk-container-id-4 div.sk-estimator {font-family: monospace;background-color: #f0f8ff;border: 1px dotted black;border-radius: 0.25em;box-sizing: border-box;margin-bottom: 0.5em;}#sk-container-id-4 div.sk-estimator:hover {background-color: #d4ebff;}#sk-container-id-4 div.sk-parallel-item::after {content: \"\";width: 100%;border-bottom: 1px solid gray;flex-grow: 1;}#sk-container-id-4 div.sk-label:hover label.sk-toggleable__label {background-color: #d4ebff;}#sk-container-id-4 div.sk-serial::before {content: \"\";position: absolute;border-left: 1px solid gray;box-sizing: border-box;top: 0;bottom: 0;left: 50%;z-index: 0;}#sk-container-id-4 div.sk-serial {display: flex;flex-direction: column;align-items: center;background-color: white;padding-right: 0.2em;padding-left: 0.2em;position: relative;}#sk-container-id-4 div.sk-item {position: relative;z-index: 1;}#sk-container-id-4 div.sk-parallel {display: flex;align-items: stretch;justify-content: center;background-color: white;position: relative;}#sk-container-id-4 div.sk-item::before, #sk-container-id-4 div.sk-parallel-item::before {content: \"\";position: absolute;border-left: 1px solid gray;box-sizing: border-box;top: 0;bottom: 0;left: 50%;z-index: -1;}#sk-container-id-4 div.sk-parallel-item {display: flex;flex-direction: column;z-index: 1;position: relative;background-color: white;}#sk-container-id-4 div.sk-parallel-item:first-child::after {align-self: flex-end;width: 50%;}#sk-container-id-4 div.sk-parallel-item:last-child::after {align-self: flex-start;width: 50%;}#sk-container-id-4 div.sk-parallel-item:only-child::after {width: 0;}#sk-container-id-4 div.sk-dashed-wrapped {border: 1px dashed gray;margin: 0 0.4em 0.5em 0.4em;box-sizing: border-box;padding-bottom: 0.4em;background-color: white;}#sk-container-id-4 div.sk-label label {font-family: monospace;font-weight: bold;display: inline-block;line-height: 1.2em;}#sk-container-id-4 div.sk-label-container {text-align: center;}#sk-container-id-4 div.sk-container {/* jupyter's `normalize.less` sets `[hidden] { display: none; }` but bootstrap.min.css set `[hidden] { display: none !important; }` so we also need the `!important` here to be able to override the default hidden behavior on the sphinx rendered scikit-learn.org. See: https://github.com/scikit-learn/scikit-learn/issues/21755 */display: inline-block !important;position: relative;}#sk-container-id-4 div.sk-text-repr-fallback {display: none;}</style><div id=\"sk-container-id-4\" class=\"sk-top-container\"><div class=\"sk-text-repr-fallback\"><pre>LogisticRegression(max_iter=10000)</pre><b>In a Jupyter environment, please rerun this cell to show the HTML representation or trust the notebook. <br />On GitHub, the HTML representation is unable to render, please try loading this page with nbviewer.org.</b></div><div class=\"sk-container\" hidden><div class=\"sk-item\"><div class=\"sk-estimator sk-toggleable\"><input class=\"sk-toggleable__control sk-hidden--visually\" id=\"sk-estimator-id-4\" type=\"checkbox\" checked><label for=\"sk-estimator-id-4\" class=\"sk-toggleable__label sk-toggleable__label-arrow\">LogisticRegression</label><div class=\"sk-toggleable__content\"><pre>LogisticRegression(max_iter=10000)</pre></div></div></div></div></div>"
      ],
      "text/plain": [
       "LogisticRegression(max_iter=10000)"
      ]
     },
     "execution_count": 33,
     "metadata": {},
     "output_type": "execute_result"
    }
   ],
   "source": [
    "lr = LogisticRegression(max_iter=10_000)\n",
    "lr.fit(X_tr, y_tr)"
   ]
  },
  {
   "cell_type": "code",
   "execution_count": 34,
   "id": "b9952e51",
   "metadata": {},
   "outputs": [
    {
     "data": {
      "text/plain": [
       "1.0"
      ]
     },
     "execution_count": 34,
     "metadata": {},
     "output_type": "execute_result"
    }
   ],
   "source": [
    "lr.score(X_tr, y_tr)"
   ]
  },
  {
   "cell_type": "code",
   "execution_count": 35,
   "id": "997b311d",
   "metadata": {},
   "outputs": [
    {
     "data": {
      "text/plain": [
       "0.9511111111111111"
      ]
     },
     "execution_count": 35,
     "metadata": {},
     "output_type": "execute_result"
    }
   ],
   "source": [
    "lr.score(X_te, y_te)"
   ]
  },
  {
   "cell_type": "code",
   "execution_count": null,
   "id": "610bbee4",
   "metadata": {},
   "outputs": [],
   "source": [
    "lr."
   ]
  },
  {
   "cell_type": "code",
   "execution_count": 36,
   "id": "f492cb5a",
   "metadata": {},
   "outputs": [],
   "source": [
    "from sklearn.metrics import confusion_matrix"
   ]
  },
  {
   "cell_type": "code",
   "execution_count": 37,
   "id": "49e71c32",
   "metadata": {},
   "outputs": [
    {
     "data": {
      "text/plain": [
       "array([[125,   0,   0,   0,   0,   0,   0,   0,   0,   0],\n",
       "       [  0, 134,   0,   0,   0,   0,   0,   0,   0,   0],\n",
       "       [  0,   0, 136,   0,   0,   0,   0,   0,   0,   0],\n",
       "       [  0,   0,   0, 146,   0,   0,   0,   0,   0,   0],\n",
       "       [  0,   0,   0,   0, 134,   0,   0,   0,   0,   0],\n",
       "       [  0,   0,   0,   0,   0, 136,   0,   0,   0,   0],\n",
       "       [  0,   0,   0,   0,   0,   0, 146,   0,   0,   0],\n",
       "       [  0,   0,   0,   0,   0,   0,   0, 132,   0,   0],\n",
       "       [  0,   0,   0,   0,   0,   0,   0,   0, 120,   0],\n",
       "       [  0,   0,   0,   0,   0,   0,   0,   0,   0, 138]])"
      ]
     },
     "execution_count": 37,
     "metadata": {},
     "output_type": "execute_result"
    }
   ],
   "source": [
    "confusion_matrix(y_tr, lr.predict(X_tr))"
   ]
  },
  {
   "cell_type": "code",
   "execution_count": 38,
   "id": "0a6bd4b8",
   "metadata": {},
   "outputs": [
    {
     "data": {
      "text/plain": [
       "array([[53,  0,  0,  0,  0,  0,  0,  0,  0,  0],\n",
       "       [ 0, 47,  0,  0,  0,  0,  0,  0,  1,  0],\n",
       "       [ 0,  0, 41,  0,  0,  0,  0,  0,  0,  0],\n",
       "       [ 0,  0,  2, 34,  0,  0,  0,  0,  0,  1],\n",
       "       [ 0,  1,  0,  0, 46,  0,  0,  0,  0,  0],\n",
       "       [ 0,  0,  0,  1,  0, 41,  1,  1,  1,  1],\n",
       "       [ 0,  1,  0,  0,  0,  0, 33,  0,  1,  0],\n",
       "       [ 0,  0,  0,  1,  0,  0,  0, 46,  0,  0],\n",
       "       [ 0,  1,  2,  2,  0,  1,  2,  0, 45,  1],\n",
       "       [ 0,  0,  0,  0,  0,  0,  0,  0,  0, 42]])"
      ]
     },
     "execution_count": 38,
     "metadata": {},
     "output_type": "execute_result"
    }
   ],
   "source": [
    "confusion_matrix(y_te, lr.predict(X_te))"
   ]
  },
  {
   "cell_type": "markdown",
   "id": "5d33af0a",
   "metadata": {},
   "source": [
    "**EXERCICE** \n",
    "\n",
    "1. Comparer avec un classificateur par plus proche voisin. \n",
    "2. Faite une procédure de validation croisée pour sélectionner le meilleur modèle entre `LogisticRegression` avec `C` pour hyperparamètre et `KNeighborsClassifier` d'hyperparamètre `n_neighboors`."
   ]
  },
  {
   "cell_type": "code",
   "execution_count": 39,
   "id": "bef9c4be",
   "metadata": {},
   "outputs": [],
   "source": [
    "from sklearn.neighbors import KNeighborsClassifier"
   ]
  },
  {
   "cell_type": "code",
   "execution_count": 41,
   "id": "50053d3e",
   "metadata": {},
   "outputs": [],
   "source": [
    "estimateurs = list()"
   ]
  },
  {
   "cell_type": "code",
   "execution_count": 42,
   "id": "3b5011fd",
   "metadata": {},
   "outputs": [],
   "source": [
    "for C in range(1, 8):\n",
    "    estimateurs.append(LogisticRegression(C=C, max_iter=10_000))\n",
    "    \n",
    "for nombre_voisin in range(3, 10):\n",
    "    estimateurs.append(KNeighborsClassifier(n_neighbors=nombre_voisin))"
   ]
  },
  {
   "cell_type": "code",
   "execution_count": 43,
   "id": "8cc9add1",
   "metadata": {},
   "outputs": [
    {
     "name": "stdout",
     "output_type": "stream",
     "text": [
      "CPU times: user 59.4 s, sys: 170 ms, total: 59.5 s\n",
      "Wall time: 58.7 s\n"
     ]
    }
   ],
   "source": [
    "%%time\n",
    "resultat_cv = [\n",
    "    (estimateur, cross_validate(estimateur, X_tr, y_tr)) \n",
    "    for estimateur in estimateurs\n",
    "]"
   ]
  },
  {
   "cell_type": "code",
   "execution_count": 44,
   "id": "2ebf8e3b",
   "metadata": {},
   "outputs": [
    {
     "data": {
      "text/plain": [
       "[(LogisticRegression(C=1, max_iter=10000),\n",
       "  {'fit_time': array([1.12914634, 1.05975699, 2.05252814, 1.05016804, 1.39092278]),\n",
       "   'score_time': array([0.00049853, 0.00043607, 0.00038719, 0.00039291, 0.00042295]),\n",
       "   'test_score': array([0.95555556, 0.95925926, 0.97026022, 0.96654275, 0.95539033])}),\n",
       " (LogisticRegression(C=2, max_iter=10000),\n",
       "  {'fit_time': array([2.24199104, 1.28353   , 1.38654923, 1.65762901, 1.6001637 ]),\n",
       "   'score_time': array([0.00042081, 0.00045896, 0.00038242, 0.00042367, 0.00042152]),\n",
       "   'test_score': array([0.95185185, 0.95925926, 0.97026022, 0.96282528, 0.95539033])}),\n",
       " (LogisticRegression(C=3, max_iter=10000),\n",
       "  {'fit_time': array([1.71942449, 1.03673482, 1.6370039 , 1.39809537, 1.38558197]),\n",
       "   'score_time': array([0.0004251 , 0.00041676, 0.0003767 , 0.0004065 , 0.00041342]),\n",
       "   'test_score': array([0.95185185, 0.95925926, 0.97026022, 0.95910781, 0.95539033])}),\n",
       " (LogisticRegression(C=4, max_iter=10000),\n",
       "  {'fit_time': array([1.20644617, 1.68191147, 2.9572928 , 1.22036219, 1.07036424]),\n",
       "   'score_time': array([0.0004034 , 0.00040627, 0.00038314, 0.00039721, 0.0004158 ]),\n",
       "   'test_score': array([0.95185185, 0.95555556, 0.97026022, 0.95910781, 0.95539033])}),\n",
       " (LogisticRegression(C=5, max_iter=10000),\n",
       "  {'fit_time': array([1.17554164, 2.42980886, 1.39004207, 2.4282999 , 2.3599813 ]),\n",
       "   'score_time': array([0.00037503, 0.00042057, 0.00041485, 0.00042272, 0.00039339]),\n",
       "   'test_score': array([0.95185185, 0.95925926, 0.97026022, 0.95910781, 0.95539033])}),\n",
       " (LogisticRegression(C=6, max_iter=10000),\n",
       "  {'fit_time': array([2.37670183, 2.74627638, 1.44787741, 1.11808372, 1.76642704]),\n",
       "   'score_time': array([0.00042248, 0.00042105, 0.00037289, 0.00041008, 0.00037479]),\n",
       "   'test_score': array([0.95185185, 0.95925926, 0.97026022, 0.95910781, 0.95167286])}),\n",
       " (LogisticRegression(C=7, max_iter=10000),\n",
       "  {'fit_time': array([1.40725613, 1.51817274, 1.44996905, 1.72474718, 2.99065065]),\n",
       "   'score_time': array([0.00038838, 0.00042152, 0.00040746, 0.00038195, 0.00037861]),\n",
       "   'test_score': array([0.94814815, 0.95555556, 0.97026022, 0.95910781, 0.95167286])}),\n",
       " (KNeighborsClassifier(n_neighbors=3),\n",
       "  {'fit_time': array([0.00036097, 0.00033188, 0.00031018, 0.00029397, 0.00029802]),\n",
       "   'score_time': array([0.00566411, 0.00503445, 0.00535297, 0.00528741, 0.00525618]),\n",
       "   'test_score': array([0.97407407, 0.98518519, 0.98513011, 0.99256506, 1.        ])}),\n",
       " (KNeighborsClassifier(n_neighbors=4),\n",
       "  {'fit_time': array([0.00028872, 0.00030589, 0.00030041, 0.00030136, 0.00028753]),\n",
       "   'score_time': array([0.0053153 , 0.00527525, 0.00527906, 0.00526547, 0.00527263]),\n",
       "   'test_score': array([0.97037037, 0.97407407, 0.98141264, 0.9739777 , 0.99628253])}),\n",
       " (KNeighborsClassifier(),\n",
       "  {'fit_time': array([0.00031567, 0.0002985 , 0.00029469, 0.00029516, 0.00028968]),\n",
       "   'score_time': array([0.00535107, 0.00532961, 0.00531793, 0.00530219, 0.00529337]),\n",
       "   'test_score': array([0.97777778, 0.97407407, 0.97769517, 0.98141264, 0.98884758])}),\n",
       " (KNeighborsClassifier(n_neighbors=6),\n",
       "  {'fit_time': array([0.00029325, 0.00029421, 0.00030279, 0.00030994, 0.00028944]),\n",
       "   'score_time': array([0.00536966, 0.00528002, 0.00533915, 0.00528026, 0.0053494 ]),\n",
       "   'test_score': array([0.97407407, 0.97407407, 0.97769517, 0.9739777 , 0.98884758])}),\n",
       " (KNeighborsClassifier(n_neighbors=7),\n",
       "  {'fit_time': array([0.00030851, 0.00031614, 0.00029373, 0.00028992, 0.00029063]),\n",
       "   'score_time': array([0.00449371, 0.00493622, 0.00535417, 0.00540304, 0.00537419]),\n",
       "   'test_score': array([0.97777778, 0.97407407, 0.98141264, 0.97769517, 0.98513011])}),\n",
       " (KNeighborsClassifier(n_neighbors=8),\n",
       "  {'fit_time': array([0.00028992, 0.0003047 , 0.0002923 , 0.00028849, 0.0002861 ]),\n",
       "   'score_time': array([0.00547576, 0.0054307 , 0.00539494, 0.00544143, 0.0054028 ]),\n",
       "   'test_score': array([0.97407407, 0.97037037, 0.97769517, 0.97769517, 0.98884758])}),\n",
       " (KNeighborsClassifier(n_neighbors=9),\n",
       "  {'fit_time': array([0.00029016, 0.00029302, 0.00028777, 0.00031161, 0.00028539]),\n",
       "   'score_time': array([0.00541472, 0.00491309, 0.00542927, 0.00541353, 0.00539351]),\n",
       "   'test_score': array([0.97407407, 0.97037037, 0.97769517, 0.98141264, 0.98513011])})]"
      ]
     },
     "execution_count": 44,
     "metadata": {},
     "output_type": "execute_result"
    }
   ],
   "source": [
    "resultat_cv"
   ]
  },
  {
   "cell_type": "code",
   "execution_count": 47,
   "id": "a4bf3fea",
   "metadata": {},
   "outputs": [],
   "source": [
    "tableau = Table(\n",
    "    \"Modèle\",  \n",
    "    \"score moyen\", \n",
    "    \"variance scores\", \n",
    "    title=\"Résultats Validation Croisée\"\n",
    ")\n",
    "\n",
    "for modele, cv_score in resultat_cv:\n",
    "    tableau.add_row(\n",
    "        repr(modele),\n",
    "        repr(cv_score[\"test_score\"].mean()),\n",
    "        repr(cv_score[\"test_score\"].std()),\n",
    "    )"
   ]
  },
  {
   "cell_type": "code",
   "execution_count": 48,
   "id": "b014358c",
   "metadata": {},
   "outputs": [
    {
     "data": {
      "text/html": [
       "<pre style=\"white-space:pre;overflow-x:auto;line-height:normal;font-family:Menlo,'DejaVu Sans Mono',consolas,'Courier New',monospace\"><span style=\"font-style: italic\">                             Résultats Validation Croisée                              </span>\n",
       "┏━━━━━━━━━━━━━━━━━━━━━━━━━━━━━━━━━━━━━━━━━┳━━━━━━━━━━━━━━━━━━━━┳━━━━━━━━━━━━━━━━━━━━━━┓\n",
       "┃<span style=\"font-weight: bold\"> Modèle                                  </span>┃<span style=\"font-weight: bold\"> score moyen        </span>┃<span style=\"font-weight: bold\"> variance scores      </span>┃\n",
       "┡━━━━━━━━━━━━━━━━━━━━━━━━━━━━━━━━━━━━━━━━━╇━━━━━━━━━━━━━━━━━━━━╇━━━━━━━━━━━━━━━━━━━━━━┩\n",
       "│ LogisticRegression(C=1, max_iter=10000) │ 0.9614016246730002 │ 0.005996795923218944 │\n",
       "│ LogisticRegression(C=2, max_iter=10000) │ 0.9599173895084675 │ 0.006346814718174013 │\n",
       "│ LogisticRegression(C=3, max_iter=10000) │ 0.9591738950846758 │ 0.006178122201581468 │\n",
       "│ LogisticRegression(C=4, max_iter=10000) │ 0.9584331543439351 │ 0.006343304806945582 │\n",
       "│ LogisticRegression(C=5, max_iter=10000) │ 0.9591738950846758 │ 0.006178122201581468 │\n",
       "│ LogisticRegression(C=6, max_iter=10000) │ 0.9584304006608839 │ 0.00678280488118957  │\n",
       "│ LogisticRegression(C=7, max_iter=10000) │ 0.9569489191794023 │ 0.007603728210397254 │\n",
       "│ KNeighborsClassifier(n_neighbors=3)     │ 0.9873908853091009 │ 0.008638003076838834 │\n",
       "│ KNeighborsClassifier(n_neighbors=4)     │ 0.9792234613795952 │ 0.009254358146545216 │\n",
       "│ KNeighborsClassifier()                  │ 0.9799614484372849 │ 0.005012683489292769 │\n",
       "│ KNeighborsClassifier(n_neighbors=6)     │ 0.9777337188489605 │ 0.005734338506574387 │\n",
       "│ KNeighborsClassifier(n_neighbors=7)     │ 0.9792179540134931 │ 0.00375826391402537  │\n",
       "│ KNeighborsClassifier(n_neighbors=8)     │ 0.9777364725320116 │ 0.006182763555086837 │\n",
       "│ KNeighborsClassifier(n_neighbors=9)     │ 0.9777364725320116 │ 0.005212570000865164 │\n",
       "└─────────────────────────────────────────┴────────────────────┴──────────────────────┘\n",
       "</pre>\n"
      ],
      "text/plain": [
       "\u001b[3m                             Résultats Validation Croisée                              \u001b[0m\n",
       "┏━━━━━━━━━━━━━━━━━━━━━━━━━━━━━━━━━━━━━━━━━┳━━━━━━━━━━━━━━━━━━━━┳━━━━━━━━━━━━━━━━━━━━━━┓\n",
       "┃\u001b[1m \u001b[0m\u001b[1mModèle                                 \u001b[0m\u001b[1m \u001b[0m┃\u001b[1m \u001b[0m\u001b[1mscore moyen       \u001b[0m\u001b[1m \u001b[0m┃\u001b[1m \u001b[0m\u001b[1mvariance scores     \u001b[0m\u001b[1m \u001b[0m┃\n",
       "┡━━━━━━━━━━━━━━━━━━━━━━━━━━━━━━━━━━━━━━━━━╇━━━━━━━━━━━━━━━━━━━━╇━━━━━━━━━━━━━━━━━━━━━━┩\n",
       "│ LogisticRegression(C=1, max_iter=10000) │ 0.9614016246730002 │ 0.005996795923218944 │\n",
       "│ LogisticRegression(C=2, max_iter=10000) │ 0.9599173895084675 │ 0.006346814718174013 │\n",
       "│ LogisticRegression(C=3, max_iter=10000) │ 0.9591738950846758 │ 0.006178122201581468 │\n",
       "│ LogisticRegression(C=4, max_iter=10000) │ 0.9584331543439351 │ 0.006343304806945582 │\n",
       "│ LogisticRegression(C=5, max_iter=10000) │ 0.9591738950846758 │ 0.006178122201581468 │\n",
       "│ LogisticRegression(C=6, max_iter=10000) │ 0.9584304006608839 │ 0.00678280488118957  │\n",
       "│ LogisticRegression(C=7, max_iter=10000) │ 0.9569489191794023 │ 0.007603728210397254 │\n",
       "│ KNeighborsClassifier(n_neighbors=3)     │ 0.9873908853091009 │ 0.008638003076838834 │\n",
       "│ KNeighborsClassifier(n_neighbors=4)     │ 0.9792234613795952 │ 0.009254358146545216 │\n",
       "│ KNeighborsClassifier()                  │ 0.9799614484372849 │ 0.005012683489292769 │\n",
       "│ KNeighborsClassifier(n_neighbors=6)     │ 0.9777337188489605 │ 0.005734338506574387 │\n",
       "│ KNeighborsClassifier(n_neighbors=7)     │ 0.9792179540134931 │ 0.00375826391402537  │\n",
       "│ KNeighborsClassifier(n_neighbors=8)     │ 0.9777364725320116 │ 0.006182763555086837 │\n",
       "│ KNeighborsClassifier(n_neighbors=9)     │ 0.9777364725320116 │ 0.005212570000865164 │\n",
       "└─────────────────────────────────────────┴────────────────────┴──────────────────────┘\n"
      ]
     },
     "metadata": {},
     "output_type": "display_data"
    }
   ],
   "source": [
    "print(tableau)"
   ]
  },
  {
   "cell_type": "code",
   "execution_count": 49,
   "id": "e3c6ea7b",
   "metadata": {},
   "outputs": [],
   "source": [
    "meilleur = KNeighborsClassifier(n_neighbors=3)"
   ]
  },
  {
   "cell_type": "code",
   "execution_count": 50,
   "id": "5de98e7e",
   "metadata": {},
   "outputs": [
    {
     "data": {
      "text/html": [
       "<style>#sk-container-id-5 {color: black;background-color: white;}#sk-container-id-5 pre{padding: 0;}#sk-container-id-5 div.sk-toggleable {background-color: white;}#sk-container-id-5 label.sk-toggleable__label {cursor: pointer;display: block;width: 100%;margin-bottom: 0;padding: 0.3em;box-sizing: border-box;text-align: center;}#sk-container-id-5 label.sk-toggleable__label-arrow:before {content: \"▸\";float: left;margin-right: 0.25em;color: #696969;}#sk-container-id-5 label.sk-toggleable__label-arrow:hover:before {color: black;}#sk-container-id-5 div.sk-estimator:hover label.sk-toggleable__label-arrow:before {color: black;}#sk-container-id-5 div.sk-toggleable__content {max-height: 0;max-width: 0;overflow: hidden;text-align: left;background-color: #f0f8ff;}#sk-container-id-5 div.sk-toggleable__content pre {margin: 0.2em;color: black;border-radius: 0.25em;background-color: #f0f8ff;}#sk-container-id-5 input.sk-toggleable__control:checked~div.sk-toggleable__content {max-height: 200px;max-width: 100%;overflow: auto;}#sk-container-id-5 input.sk-toggleable__control:checked~label.sk-toggleable__label-arrow:before {content: \"▾\";}#sk-container-id-5 div.sk-estimator input.sk-toggleable__control:checked~label.sk-toggleable__label {background-color: #d4ebff;}#sk-container-id-5 div.sk-label input.sk-toggleable__control:checked~label.sk-toggleable__label {background-color: #d4ebff;}#sk-container-id-5 input.sk-hidden--visually {border: 0;clip: rect(1px 1px 1px 1px);clip: rect(1px, 1px, 1px, 1px);height: 1px;margin: -1px;overflow: hidden;padding: 0;position: absolute;width: 1px;}#sk-container-id-5 div.sk-estimator {font-family: monospace;background-color: #f0f8ff;border: 1px dotted black;border-radius: 0.25em;box-sizing: border-box;margin-bottom: 0.5em;}#sk-container-id-5 div.sk-estimator:hover {background-color: #d4ebff;}#sk-container-id-5 div.sk-parallel-item::after {content: \"\";width: 100%;border-bottom: 1px solid gray;flex-grow: 1;}#sk-container-id-5 div.sk-label:hover label.sk-toggleable__label {background-color: #d4ebff;}#sk-container-id-5 div.sk-serial::before {content: \"\";position: absolute;border-left: 1px solid gray;box-sizing: border-box;top: 0;bottom: 0;left: 50%;z-index: 0;}#sk-container-id-5 div.sk-serial {display: flex;flex-direction: column;align-items: center;background-color: white;padding-right: 0.2em;padding-left: 0.2em;position: relative;}#sk-container-id-5 div.sk-item {position: relative;z-index: 1;}#sk-container-id-5 div.sk-parallel {display: flex;align-items: stretch;justify-content: center;background-color: white;position: relative;}#sk-container-id-5 div.sk-item::before, #sk-container-id-5 div.sk-parallel-item::before {content: \"\";position: absolute;border-left: 1px solid gray;box-sizing: border-box;top: 0;bottom: 0;left: 50%;z-index: -1;}#sk-container-id-5 div.sk-parallel-item {display: flex;flex-direction: column;z-index: 1;position: relative;background-color: white;}#sk-container-id-5 div.sk-parallel-item:first-child::after {align-self: flex-end;width: 50%;}#sk-container-id-5 div.sk-parallel-item:last-child::after {align-self: flex-start;width: 50%;}#sk-container-id-5 div.sk-parallel-item:only-child::after {width: 0;}#sk-container-id-5 div.sk-dashed-wrapped {border: 1px dashed gray;margin: 0 0.4em 0.5em 0.4em;box-sizing: border-box;padding-bottom: 0.4em;background-color: white;}#sk-container-id-5 div.sk-label label {font-family: monospace;font-weight: bold;display: inline-block;line-height: 1.2em;}#sk-container-id-5 div.sk-label-container {text-align: center;}#sk-container-id-5 div.sk-container {/* jupyter's `normalize.less` sets `[hidden] { display: none; }` but bootstrap.min.css set `[hidden] { display: none !important; }` so we also need the `!important` here to be able to override the default hidden behavior on the sphinx rendered scikit-learn.org. See: https://github.com/scikit-learn/scikit-learn/issues/21755 */display: inline-block !important;position: relative;}#sk-container-id-5 div.sk-text-repr-fallback {display: none;}</style><div id=\"sk-container-id-5\" class=\"sk-top-container\"><div class=\"sk-text-repr-fallback\"><pre>KNeighborsClassifier(n_neighbors=3)</pre><b>In a Jupyter environment, please rerun this cell to show the HTML representation or trust the notebook. <br />On GitHub, the HTML representation is unable to render, please try loading this page with nbviewer.org.</b></div><div class=\"sk-container\" hidden><div class=\"sk-item\"><div class=\"sk-estimator sk-toggleable\"><input class=\"sk-toggleable__control sk-hidden--visually\" id=\"sk-estimator-id-5\" type=\"checkbox\" checked><label for=\"sk-estimator-id-5\" class=\"sk-toggleable__label sk-toggleable__label-arrow\">KNeighborsClassifier</label><div class=\"sk-toggleable__content\"><pre>KNeighborsClassifier(n_neighbors=3)</pre></div></div></div></div></div>"
      ],
      "text/plain": [
       "KNeighborsClassifier(n_neighbors=3)"
      ]
     },
     "execution_count": 50,
     "metadata": {},
     "output_type": "execute_result"
    }
   ],
   "source": [
    "meilleur.fit(X_tr, y_tr)"
   ]
  },
  {
   "cell_type": "code",
   "execution_count": 51,
   "id": "71017ccf",
   "metadata": {},
   "outputs": [
    {
     "data": {
      "text/plain": [
       "0.9933184855233853"
      ]
     },
     "execution_count": 51,
     "metadata": {},
     "output_type": "execute_result"
    }
   ],
   "source": [
    "meilleur.score(X_tr, y_tr)"
   ]
  },
  {
   "cell_type": "code",
   "execution_count": 52,
   "id": "449037a1",
   "metadata": {},
   "outputs": [
    {
     "data": {
      "text/plain": [
       "0.9911111111111112"
      ]
     },
     "execution_count": 52,
     "metadata": {},
     "output_type": "execute_result"
    }
   ],
   "source": [
    "meilleur.score(X_te, y_te)"
   ]
  },
  {
   "cell_type": "markdown",
   "id": "679b212a",
   "metadata": {},
   "source": [
    "## Reprise de l'ancien exemple de régression"
   ]
  },
  {
   "cell_type": "code",
   "execution_count": 53,
   "id": "3522c4ff",
   "metadata": {},
   "outputs": [],
   "source": [
    "L = 5.\n",
    "\n",
    "def reelle(xs):\n",
    "    return np.sin(10 * np.pi * xs / L) / (1 + np.exp(3 * xs / L))"
   ]
  },
  {
   "cell_type": "code",
   "execution_count": 54,
   "id": "ee5ce324",
   "metadata": {},
   "outputs": [
    {
     "data": {
      "text/plain": [
       "[<matplotlib.lines.Line2D at 0x7f0e66390650>]"
      ]
     },
     "execution_count": 54,
     "metadata": {},
     "output_type": "execute_result"
    },
    {
     "data": {
      "image/png": "[encoded data removed]",
      "text/plain": [
       "<Figure size 640x480 with 1 Axes>"
      ]
     },
     "metadata": {},
     "output_type": "display_data"
    }
   ],
   "source": [
    "xs = np.linspace(0, L, 200)\n",
    "ys = reelle(xs)\n",
    "\n",
    "plt.plot(xs, ys)"
   ]
  },
  {
   "cell_type": "code",
   "execution_count": 57,
   "id": "70ab4296",
   "metadata": {},
   "outputs": [],
   "source": [
    "N = 100\n",
    "epsilon = 0.1\n",
    "\n",
    "X = np.random.uniform(low=0., high=L, size=(N, 1))\n",
    "\n",
    "vraies = reelle(X).reshape(N)\n",
    "y = vraies + epsilon * np.random.randn(N)"
   ]
  },
  {
   "cell_type": "code",
   "execution_count": 58,
   "id": "3e93813d",
   "metadata": {},
   "outputs": [
    {
     "data": {
      "text/plain": [
       "<matplotlib.collections.PathCollection at 0x7f0e65a3ee10>"
      ]
     },
     "execution_count": 58,
     "metadata": {},
     "output_type": "execute_result"
    },
    {
     "data": {
      "image/png": "[encoded data removed]",
      "text/plain": [
       "<Figure size 640x480 with 1 Axes>"
      ]
     },
     "metadata": {},
     "output_type": "display_data"
    }
   ],
   "source": [
    "xs = np.linspace(0, L, 200)\n",
    "ys = reelle(xs)\n",
    "\n",
    "plt.plot(xs, ys)\n",
    "plt.scatter(X.ravel(), y)"
   ]
  },
  {
   "cell_type": "markdown",
   "id": "02081e98",
   "metadata": {},
   "source": [
    "**EXERCICE** Comparer en validation croisée:\n",
    "\n",
    "1. Le modèle polynomial.\n",
    "2. Un réseau de neurones à une couche.\n",
    "3. Un autre modèle de régression de votre choix."
   ]
  },
  {
   "cell_type": "code",
   "execution_count": 59,
   "id": "7e2fff56",
   "metadata": {},
   "outputs": [],
   "source": [
    "from sklearn.linear_model import LinearRegression\n",
    "from sklearn.neural_network import MLPRegressor\n",
    "from sklearn.pipeline import Pipeline\n",
    "from sklearn.preprocessing import MinMaxScaler, PolynomialFeatures"
   ]
  },
  {
   "cell_type": "code",
   "execution_count": 60,
   "id": "c45234f3",
   "metadata": {},
   "outputs": [],
   "source": [
    "X_tr, X_te, y_tr, y_te = train_test_split(X, y)"
   ]
  },
  {
   "cell_type": "code",
   "execution_count": 62,
   "id": "f788ca04",
   "metadata": {},
   "outputs": [],
   "source": [
    "estimateurs = list()"
   ]
  },
  {
   "cell_type": "code",
   "execution_count": 63,
   "id": "acd0846b",
   "metadata": {},
   "outputs": [],
   "source": [
    "for degre in range(1, 20):\n",
    "    estimateurs.append(\n",
    "        Pipeline(\n",
    "            [\n",
    "                (\"genere_puissance\", PolynomialFeatures(degree=degre)),\n",
    "                (\"regression_linéaire\", LinearRegression()),\n",
    "            ]\n",
    "        )\n",
    "    )"
   ]
  },
  {
   "cell_type": "code",
   "execution_count": 64,
   "id": "8d90ba38",
   "metadata": {},
   "outputs": [],
   "source": [
    "for nombre_neurones in range(2, 10):\n",
    "    estimateurs.append(MLPRegressor(hidden_layer_sizes=(nombre_neurones, )))"
   ]
  },
  {
   "cell_type": "code",
   "execution_count": 65,
   "id": "9a77e55e",
   "metadata": {},
   "outputs": [
    {
     "name": "stderr",
     "output_type": "stream",
     "text": [
      "/usr/lib/python3/dist-packages/sklearn/neural_network/_multilayer_perceptron.py:686: ConvergenceWarning: Stochastic Optimizer: Maximum iterations (200) reached and the optimization hasn't converged yet.\n",
      "  warnings.warn(\n",
      "/usr/lib/python3/dist-packages/sklearn/neural_network/_multilayer_perceptron.py:686: ConvergenceWarning: Stochastic Optimizer: Maximum iterations (200) reached and the optimization hasn't converged yet.\n",
      "  warnings.warn(\n",
      "/usr/lib/python3/dist-packages/sklearn/neural_network/_multilayer_perceptron.py:686: ConvergenceWarning: Stochastic Optimizer: Maximum iterations (200) reached and the optimization hasn't converged yet.\n",
      "  warnings.warn(\n",
      "/usr/lib/python3/dist-packages/sklearn/neural_network/_multilayer_perceptron.py:686: ConvergenceWarning: Stochastic Optimizer: Maximum iterations (200) reached and the optimization hasn't converged yet.\n",
      "  warnings.warn(\n",
      "/usr/lib/python3/dist-packages/sklearn/neural_network/_multilayer_perceptron.py:686: ConvergenceWarning: Stochastic Optimizer: Maximum iterations (200) reached and the optimization hasn't converged yet.\n",
      "  warnings.warn(\n",
      "/usr/lib/python3/dist-packages/sklearn/neural_network/_multilayer_perceptron.py:686: ConvergenceWarning: Stochastic Optimizer: Maximum iterations (200) reached and the optimization hasn't converged yet.\n",
      "  warnings.warn(\n",
      "/usr/lib/python3/dist-packages/sklearn/neural_network/_multilayer_perceptron.py:686: ConvergenceWarning: Stochastic Optimizer: Maximum iterations (200) reached and the optimization hasn't converged yet.\n",
      "  warnings.warn(\n",
      "/usr/lib/python3/dist-packages/sklearn/neural_network/_multilayer_perceptron.py:686: ConvergenceWarning: Stochastic Optimizer: Maximum iterations (200) reached and the optimization hasn't converged yet.\n",
      "  warnings.warn(\n",
      "/usr/lib/python3/dist-packages/sklearn/neural_network/_multilayer_perceptron.py:686: ConvergenceWarning: Stochastic Optimizer: Maximum iterations (200) reached and the optimization hasn't converged yet.\n",
      "  warnings.warn(\n",
      "/usr/lib/python3/dist-packages/sklearn/neural_network/_multilayer_perceptron.py:686: ConvergenceWarning: Stochastic Optimizer: Maximum iterations (200) reached and the optimization hasn't converged yet.\n",
      "  warnings.warn(\n",
      "/usr/lib/python3/dist-packages/sklearn/neural_network/_multilayer_perceptron.py:686: ConvergenceWarning: Stochastic Optimizer: Maximum iterations (200) reached and the optimization hasn't converged yet.\n",
      "  warnings.warn(\n",
      "/usr/lib/python3/dist-packages/sklearn/neural_network/_multilayer_perceptron.py:686: ConvergenceWarning: Stochastic Optimizer: Maximum iterations (200) reached and the optimization hasn't converged yet.\n",
      "  warnings.warn(\n",
      "/usr/lib/python3/dist-packages/sklearn/neural_network/_multilayer_perceptron.py:686: ConvergenceWarning: Stochastic Optimizer: Maximum iterations (200) reached and the optimization hasn't converged yet.\n",
      "  warnings.warn(\n",
      "/usr/lib/python3/dist-packages/sklearn/neural_network/_multilayer_perceptron.py:686: ConvergenceWarning: Stochastic Optimizer: Maximum iterations (200) reached and the optimization hasn't converged yet.\n",
      "  warnings.warn(\n",
      "/usr/lib/python3/dist-packages/sklearn/neural_network/_multilayer_perceptron.py:686: ConvergenceWarning: Stochastic Optimizer: Maximum iterations (200) reached and the optimization hasn't converged yet.\n",
      "  warnings.warn(\n",
      "/usr/lib/python3/dist-packages/sklearn/neural_network/_multilayer_perceptron.py:686: ConvergenceWarning: Stochastic Optimizer: Maximum iterations (200) reached and the optimization hasn't converged yet.\n",
      "  warnings.warn(\n",
      "/usr/lib/python3/dist-packages/sklearn/neural_network/_multilayer_perceptron.py:686: ConvergenceWarning: Stochastic Optimizer: Maximum iterations (200) reached and the optimization hasn't converged yet.\n",
      "  warnings.warn(\n",
      "/usr/lib/python3/dist-packages/sklearn/neural_network/_multilayer_perceptron.py:686: ConvergenceWarning: Stochastic Optimizer: Maximum iterations (200) reached and the optimization hasn't converged yet.\n",
      "  warnings.warn(\n"
     ]
    },
    {
     "name": "stdout",
     "output_type": "stream",
     "text": [
      "CPU times: user 676 ms, sys: 3.94 ms, total: 680 ms\n",
      "Wall time: 699 ms\n"
     ]
    },
    {
     "name": "stderr",
     "output_type": "stream",
     "text": [
      "/usr/lib/python3/dist-packages/sklearn/neural_network/_multilayer_perceptron.py:686: ConvergenceWarning: Stochastic Optimizer: Maximum iterations (200) reached and the optimization hasn't converged yet.\n",
      "  warnings.warn(\n",
      "/usr/lib/python3/dist-packages/sklearn/neural_network/_multilayer_perceptron.py:686: ConvergenceWarning: Stochastic Optimizer: Maximum iterations (200) reached and the optimization hasn't converged yet.\n",
      "  warnings.warn(\n",
      "/usr/lib/python3/dist-packages/sklearn/neural_network/_multilayer_perceptron.py:686: ConvergenceWarning: Stochastic Optimizer: Maximum iterations (200) reached and the optimization hasn't converged yet.\n",
      "  warnings.warn(\n",
      "/usr/lib/python3/dist-packages/sklearn/neural_network/_multilayer_perceptron.py:686: ConvergenceWarning: Stochastic Optimizer: Maximum iterations (200) reached and the optimization hasn't converged yet.\n",
      "  warnings.warn(\n",
      "/usr/lib/python3/dist-packages/sklearn/neural_network/_multilayer_perceptron.py:686: ConvergenceWarning: Stochastic Optimizer: Maximum iterations (200) reached and the optimization hasn't converged yet.\n",
      "  warnings.warn(\n",
      "/usr/lib/python3/dist-packages/sklearn/neural_network/_multilayer_perceptron.py:686: ConvergenceWarning: Stochastic Optimizer: Maximum iterations (200) reached and the optimization hasn't converged yet.\n",
      "  warnings.warn(\n"
     ]
    }
   ],
   "source": [
    "%%time\n",
    "resultat_cv = [\n",
    "    (estimateur, cross_validate(estimateur, X_tr, y_tr)) \n",
    "    for estimateur in estimateurs\n",
    "]"
   ]
  },
  {
   "cell_type": "code",
   "execution_count": 69,
   "id": "dec9467a",
   "metadata": {},
   "outputs": [],
   "source": [
    "tableau = Table(\n",
    "    \"Modèle\",  \n",
    "    \"score moyen\", \n",
    "    \"variance scores\",\n",
    "    title=\"Résultats Validation Croisée\"\n",
    ")\n",
    "\n",
    "for modele, cv_score in resultat_cv:\n",
    "    tableau.add_row(\n",
    "        repr(modele),\n",
    "        repr(cv_score[\"test_score\"].mean()),\n",
    "        repr(cv_score[\"test_score\"].std()),\n",
    "    )"
   ]
  },
  {
   "cell_type": "code",
   "execution_count": 70,
   "id": "eb0a66a1",
   "metadata": {},
   "outputs": [
    {
     "data": {
      "text/html": [
       "<pre style=\"white-space:pre;overflow-x:auto;line-height:normal;font-family:Menlo,'DejaVu Sans Mono',consolas,'Courier New',monospace\"><span style=\"font-style: italic\">                                           Résultats Validation Croisée                                            </span>\n",
       "┏━━━━━━━━━━━━━━━━━━━━━━━━━━━━━━━━━━━━━━━━━━━━━━━━━━━━━━━━━━━━━━━━━━━┳━━━━━━━━━━━━━━━━━━━━━━━┳━━━━━━━━━━━━━━━━━━━━━┓\n",
       "┃<span style=\"font-weight: bold\"> Modèle                                                            </span>┃<span style=\"font-weight: bold\"> score moyen           </span>┃<span style=\"font-weight: bold\"> variance scores     </span>┃\n",
       "┡━━━━━━━━━━━━━━━━━━━━━━━━━━━━━━━━━━━━━━━━━━━━━━━━━━━━━━━━━━━━━━━━━━━╇━━━━━━━━━━━━━━━━━━━━━━━╇━━━━━━━━━━━━━━━━━━━━━┩\n",
       "│ Pipeline(steps=[('genere_puissance',                              │ -0.043942084465358036 │ 0.06328599886940674 │\n",
       "│ PolynomialFeatures(degree=1)),                                    │                       │                     │\n",
       "│                 ('regression_linéaire', LinearRegression())])     │                       │                     │\n",
       "│ Pipeline(steps=[('genere_puissance', PolynomialFeatures()),       │ -0.037884001030288085 │ 0.15999183832821992 │\n",
       "│                 ('regression_linéaire', LinearRegression())])     │                       │                     │\n",
       "│ Pipeline(steps=[('genere_puissance',                              │ 0.021448833533461786  │ 0.20800465849855002 │\n",
       "│ PolynomialFeatures(degree=3)),                                    │                       │                     │\n",
       "│                 ('regression_linéaire', LinearRegression())])     │                       │                     │\n",
       "│ Pipeline(steps=[('genere_puissance',                              │ -0.014104270389068963 │ 0.17850031428041896 │\n",
       "│ PolynomialFeatures(degree=4)),                                    │                       │                     │\n",
       "│                 ('regression_linéaire', LinearRegression())])     │                       │                     │\n",
       "│ Pipeline(steps=[('genere_puissance',                              │ -0.1976657545728933   │ 0.2823465307163052  │\n",
       "│ PolynomialFeatures(degree=5)),                                    │                       │                     │\n",
       "│                 ('regression_linéaire', LinearRegression())])     │                       │                     │\n",
       "│ Pipeline(steps=[('genere_puissance',                              │ -0.7262082328573599   │ 1.2854649668418336  │\n",
       "│ PolynomialFeatures(degree=6)),                                    │                       │                     │\n",
       "│                 ('regression_linéaire', LinearRegression())])     │                       │                     │\n",
       "│ Pipeline(steps=[('genere_puissance',                              │ -1.3616604330064286   │ 2.5648198971031326  │\n",
       "│ PolynomialFeatures(degree=7)),                                    │                       │                     │\n",
       "│                 ('regression_linéaire', LinearRegression())])     │                       │                     │\n",
       "│ Pipeline(steps=[('genere_puissance',                              │ -3.1210172904082967   │ 6.067376326260491   │\n",
       "│ PolynomialFeatures(degree=8)),                                    │                       │                     │\n",
       "│                 ('regression_linéaire', LinearRegression())])     │                       │                     │\n",
       "│ Pipeline(steps=[('genere_puissance',                              │ -1.7039831797863172   │ 3.4140010419950984  │\n",
       "│ PolynomialFeatures(degree=9)),                                    │                       │                     │\n",
       "│                 ('regression_linéaire', LinearRegression())])     │                       │                     │\n",
       "│ Pipeline(steps=[('genere_puissance',                              │ 0.027999434254248733  │ 0.23960575661227812 │\n",
       "│ PolynomialFeatures(degree=10)),                                   │                       │                     │\n",
       "│                 ('regression_linéaire', LinearRegression())])     │                       │                     │\n",
       "│ Pipeline(steps=[('genere_puissance',                              │ -6.341591739418567    │ 12.858720282089473  │\n",
       "│ PolynomialFeatures(degree=11)),                                   │                       │                     │\n",
       "│                 ('regression_linéaire', LinearRegression())])     │                       │                     │\n",
       "│ Pipeline(steps=[('genere_puissance',                              │ -21.356742492388534   │ 42.88074681303695   │\n",
       "│ PolynomialFeatures(degree=12)),                                   │                       │                     │\n",
       "│                 ('regression_linéaire', LinearRegression())])     │                       │                     │\n",
       "│ Pipeline(steps=[('genere_puissance',                              │ -3.3933722954103933   │ 7.584239049160816   │\n",
       "│ PolynomialFeatures(degree=13)),                                   │                       │                     │\n",
       "│                 ('regression_linéaire', LinearRegression())])     │                       │                     │\n",
       "│ Pipeline(steps=[('genere_puissance',                              │ -114.54864489361087   │ 229.88296900384208  │\n",
       "│ PolynomialFeatures(degree=14)),                                   │                       │                     │\n",
       "│                 ('regression_linéaire', LinearRegression())])     │                       │                     │\n",
       "│ Pipeline(steps=[('genere_puissance',                              │ -14.532326199468079   │ 30.01061064194796   │\n",
       "│ PolynomialFeatures(degree=15)),                                   │                       │                     │\n",
       "│                 ('regression_linéaire', LinearRegression())])     │                       │                     │\n",
       "│ Pipeline(steps=[('genere_puissance',                              │ 0.2448658605792684    │ 0.47993129384051714 │\n",
       "│ PolynomialFeatures(degree=16)),                                   │                       │                     │\n",
       "│                 ('regression_linéaire', LinearRegression())])     │                       │                     │\n",
       "│ Pipeline(steps=[('genere_puissance',                              │ -0.06404355842774212  │ 1.094736491450272   │\n",
       "│ PolynomialFeatures(degree=17)),                                   │                       │                     │\n",
       "│                 ('regression_linéaire', LinearRegression())])     │                       │                     │\n",
       "│ Pipeline(steps=[('genere_puissance',                              │ 0.11630806328665659   │ 0.667455012122487   │\n",
       "│ PolynomialFeatures(degree=18)),                                   │                       │                     │\n",
       "│                 ('regression_linéaire', LinearRegression())])     │                       │                     │\n",
       "│ Pipeline(steps=[('genere_puissance',                              │ 0.17393855002636974   │ 0.6679314801377981  │\n",
       "│ PolynomialFeatures(degree=19)),                                   │                       │                     │\n",
       "│                 ('regression_linéaire', LinearRegression())])     │                       │                     │\n",
       "│ MLPRegressor(hidden_layer_sizes=(2,))                             │ -22.621992887885337   │ 35.34980780119732   │\n",
       "│ MLPRegressor(hidden_layer_sizes=(3,))                             │ -54.94649171074917    │ 90.30674423460361   │\n",
       "│ MLPRegressor(hidden_layer_sizes=(4,))                             │ -12.250018052075598   │ 22.59472505616666   │\n",
       "│ MLPRegressor(hidden_layer_sizes=(5,))                             │ -5.266974621550567    │ 6.117619392792051   │\n",
       "│ MLPRegressor(hidden_layer_sizes=(6,))                             │ -1.6519111264109452   │ 3.3647754201697153  │\n",
       "│ MLPRegressor(hidden_layer_sizes=(7,))                             │ -70.38087037984013    │ 139.1101472941313   │\n",
       "│ MLPRegressor(hidden_layer_sizes=(8,))                             │ -2.2176248859025196   │ 2.573373073412849   │\n",
       "│ MLPRegressor(hidden_layer_sizes=(9,))                             │ -16.73324536111406    │ 31.672166023774015  │\n",
       "└───────────────────────────────────────────────────────────────────┴───────────────────────┴─────────────────────┘\n",
       "</pre>\n"
      ],
      "text/plain": [
       "\u001b[3m                                           Résultats Validation Croisée                                            \u001b[0m\n",
       "┏━━━━━━━━━━━━━━━━━━━━━━━━━━━━━━━━━━━━━━━━━━━━━━━━━━━━━━━━━━━━━━━━━━━┳━━━━━━━━━━━━━━━━━━━━━━━┳━━━━━━━━━━━━━━━━━━━━━┓\n",
       "┃\u001b[1m \u001b[0m\u001b[1mModèle                                                           \u001b[0m\u001b[1m \u001b[0m┃\u001b[1m \u001b[0m\u001b[1mscore moyen          \u001b[0m\u001b[1m \u001b[0m┃\u001b[1m \u001b[0m\u001b[1mvariance scores    \u001b[0m\u001b[1m \u001b[0m┃\n",
       "┡━━━━━━━━━━━━━━━━━━━━━━━━━━━━━━━━━━━━━━━━━━━━━━━━━━━━━━━━━━━━━━━━━━━╇━━━━━━━━━━━━━━━━━━━━━━━╇━━━━━━━━━━━━━━━━━━━━━┩\n",
       "│ Pipeline(steps=[('genere_puissance',                              │ -0.043942084465358036 │ 0.06328599886940674 │\n",
       "│ PolynomialFeatures(degree=1)),                                    │                       │                     │\n",
       "│                 ('regression_linéaire', LinearRegression())])     │                       │                     │\n",
       "│ Pipeline(steps=[('genere_puissance', PolynomialFeatures()),       │ -0.037884001030288085 │ 0.15999183832821992 │\n",
       "│                 ('regression_linéaire', LinearRegression())])     │                       │                     │\n",
       "│ Pipeline(steps=[('genere_puissance',                              │ 0.021448833533461786  │ 0.20800465849855002 │\n",
       "│ PolynomialFeatures(degree=3)),                                    │                       │                     │\n",
       "│                 ('regression_linéaire', LinearRegression())])     │                       │                     │\n",
       "│ Pipeline(steps=[('genere_puissance',                              │ -0.014104270389068963 │ 0.17850031428041896 │\n",
       "│ PolynomialFeatures(degree=4)),                                    │                       │                     │\n",
       "│                 ('regression_linéaire', LinearRegression())])     │                       │                     │\n",
       "│ Pipeline(steps=[('genere_puissance',                              │ -0.1976657545728933   │ 0.2823465307163052  │\n",
       "│ PolynomialFeatures(degree=5)),                                    │                       │                     │\n",
       "│                 ('regression_linéaire', LinearRegression())])     │                       │                     │\n",
       "│ Pipeline(steps=[('genere_puissance',                              │ -0.7262082328573599   │ 1.2854649668418336  │\n",
       "│ PolynomialFeatures(degree=6)),                                    │                       │                     │\n",
       "│                 ('regression_linéaire', LinearRegression())])     │                       │                     │\n",
       "│ Pipeline(steps=[('genere_puissance',                              │ -1.3616604330064286   │ 2.5648198971031326  │\n",
       "│ PolynomialFeatures(degree=7)),                                    │                       │                     │\n",
       "│                 ('regression_linéaire', LinearRegression())])     │                       │                     │\n",
       "│ Pipeline(steps=[('genere_puissance',                              │ -3.1210172904082967   │ 6.067376326260491   │\n",
       "│ PolynomialFeatures(degree=8)),                                    │                       │                     │\n",
       "│                 ('regression_linéaire', LinearRegression())])     │                       │                     │\n",
       "│ Pipeline(steps=[('genere_puissance',                              │ -1.7039831797863172   │ 3.4140010419950984  │\n",
       "│ PolynomialFeatures(degree=9)),                                    │                       │                     │\n",
       "│                 ('regression_linéaire', LinearRegression())])     │                       │                     │\n",
       "│ Pipeline(steps=[('genere_puissance',                              │ 0.027999434254248733  │ 0.23960575661227812 │\n",
       "│ PolynomialFeatures(degree=10)),                                   │                       │                     │\n",
       "│                 ('regression_linéaire', LinearRegression())])     │                       │                     │\n",
       "│ Pipeline(steps=[('genere_puissance',                              │ -6.341591739418567    │ 12.858720282089473  │\n",
       "│ PolynomialFeatures(degree=11)),                                   │                       │                     │\n",
       "│                 ('regression_linéaire', LinearRegression())])     │                       │                     │\n",
       "│ Pipeline(steps=[('genere_puissance',                              │ -21.356742492388534   │ 42.88074681303695   │\n",
       "│ PolynomialFeatures(degree=12)),                                   │                       │                     │\n",
       "│                 ('regression_linéaire', LinearRegression())])     │                       │                     │\n",
       "│ Pipeline(steps=[('genere_puissance',                              │ -3.3933722954103933   │ 7.584239049160816   │\n",
       "│ PolynomialFeatures(degree=13)),                                   │                       │                     │\n",
       "│                 ('regression_linéaire', LinearRegression())])     │                       │                     │\n",
       "│ Pipeline(steps=[('genere_puissance',                              │ -114.54864489361087   │ 229.88296900384208  │\n",
       "│ PolynomialFeatures(degree=14)),                                   │                       │                     │\n",
       "│                 ('regression_linéaire', LinearRegression())])     │                       │                     │\n",
       "│ Pipeline(steps=[('genere_puissance',                              │ -14.532326199468079   │ 30.01061064194796   │\n",
       "│ PolynomialFeatures(degree=15)),                                   │                       │                     │\n",
       "│                 ('regression_linéaire', LinearRegression())])     │                       │                     │\n",
       "│ Pipeline(steps=[('genere_puissance',                              │ 0.2448658605792684    │ 0.47993129384051714 │\n",
       "│ PolynomialFeatures(degree=16)),                                   │                       │                     │\n",
       "│                 ('regression_linéaire', LinearRegression())])     │                       │                     │\n",
       "│ Pipeline(steps=[('genere_puissance',                              │ -0.06404355842774212  │ 1.094736491450272   │\n",
       "│ PolynomialFeatures(degree=17)),                                   │                       │                     │\n",
       "│                 ('regression_linéaire', LinearRegression())])     │                       │                     │\n",
       "│ Pipeline(steps=[('genere_puissance',                              │ 0.11630806328665659   │ 0.667455012122487   │\n",
       "│ PolynomialFeatures(degree=18)),                                   │                       │                     │\n",
       "│                 ('regression_linéaire', LinearRegression())])     │                       │                     │\n",
       "│ Pipeline(steps=[('genere_puissance',                              │ 0.17393855002636974   │ 0.6679314801377981  │\n",
       "│ PolynomialFeatures(degree=19)),                                   │                       │                     │\n",
       "│                 ('regression_linéaire', LinearRegression())])     │                       │                     │\n",
       "│ MLPRegressor(hidden_layer_sizes=(2,))                             │ -22.621992887885337   │ 35.34980780119732   │\n",
       "│ MLPRegressor(hidden_layer_sizes=(3,))                             │ -54.94649171074917    │ 90.30674423460361   │\n",
       "│ MLPRegressor(hidden_layer_sizes=(4,))                             │ -12.250018052075598   │ 22.59472505616666   │\n",
       "│ MLPRegressor(hidden_layer_sizes=(5,))                             │ -5.266974621550567    │ 6.117619392792051   │\n",
       "│ MLPRegressor(hidden_layer_sizes=(6,))                             │ -1.6519111264109452   │ 3.3647754201697153  │\n",
       "│ MLPRegressor(hidden_layer_sizes=(7,))                             │ -70.38087037984013    │ 139.1101472941313   │\n",
       "│ MLPRegressor(hidden_layer_sizes=(8,))                             │ -2.2176248859025196   │ 2.573373073412849   │\n",
       "│ MLPRegressor(hidden_layer_sizes=(9,))                             │ -16.73324536111406    │ 31.672166023774015  │\n",
       "└───────────────────────────────────────────────────────────────────┴───────────────────────┴─────────────────────┘\n"
      ]
     },
     "metadata": {},
     "output_type": "display_data"
    }
   ],
   "source": [
    "print(tableau)"
   ]
  },
  {
   "cell_type": "markdown",
   "id": "b1b226b5",
   "metadata": {},
   "source": [
    "**REMARQUE**\n",
    "\n",
    "- Le score est croissant (plus grand = meilleur)\n",
    "- Le score maximal est 1.\n",
    "- Le score 0 correspond au prédicteur constant donnant la valeur moyenne de l'échantillon d'entrainement."
   ]
  },
  {
   "cell_type": "markdown",
   "id": "8f246d55",
   "metadata": {},
   "source": [
    "**EXERCICE** Ajouter `MinMaxScaler` en première étape du pipeline pour voir si le problème vient de là. Si il reste des problèmes de convergence, ajuster les paramètres pertinents."
   ]
  },
  {
   "cell_type": "code",
   "execution_count": 75,
   "id": "3e2b4ac0",
   "metadata": {},
   "outputs": [],
   "source": [
    "estimateurs = list()\n",
    "\n",
    "for degre in range(1, 20):\n",
    "    estimateurs.append(\n",
    "        Pipeline(\n",
    "            [\n",
    "                (\"rescaling\", MinMaxScaler()),\n",
    "                (\"genere_puissance\", PolynomialFeatures(degree=degre)),\n",
    "                (\"regression_linéaire\", LinearRegression()),\n",
    "            ]\n",
    "        )\n",
    "    )\n",
    "    \n",
    "for nombre_neurones in range(2, 10):\n",
    "    estimateurs.append(\n",
    "        Pipeline(\n",
    "            [\n",
    "                (\"rescaling\", MinMaxScaler()),\n",
    "                (\n",
    "                    \"reseau_neurones\", \n",
    "                    MLPRegressor(\n",
    "                        hidden_layer_sizes=(nombre_neurones,),\n",
    "                        max_iter=10_000,\n",
    "                    )\n",
    "                )\n",
    "            ]\n",
    "        )\n",
    "    )\n"
   ]
  },
  {
   "cell_type": "code",
   "execution_count": 76,
   "id": "845890bb",
   "metadata": {},
   "outputs": [
    {
     "name": "stdout",
     "output_type": "stream",
     "text": [
      "CPU times: user 1.3 s, sys: 1 µs, total: 1.3 s\n",
      "Wall time: 1.3 s\n"
     ]
    }
   ],
   "source": [
    "%%time\n",
    "resultat_cv = [\n",
    "    (estimateur, cross_validate(estimateur, X_tr, y_tr)) \n",
    "    for estimateur in estimateurs\n",
    "]"
   ]
  },
  {
   "cell_type": "code",
   "execution_count": 77,
   "id": "86237671",
   "metadata": {},
   "outputs": [],
   "source": [
    "tableau = Table(\n",
    "    \"Modèle\",  \n",
    "    \"score moyen\", \n",
    "    \"variance scores\",\n",
    "    title=\"Résultats Validation Croisée\"\n",
    ")\n",
    "\n",
    "for modele, cv_score in resultat_cv:\n",
    "    tableau.add_row(\n",
    "        repr(modele),\n",
    "        repr(cv_score[\"test_score\"].mean()),\n",
    "        repr(cv_score[\"test_score\"].std()),\n",
    "    )"
   ]
  },
  {
   "cell_type": "code",
   "execution_count": 78,
   "id": "a22e9bb6",
   "metadata": {},
   "outputs": [
    {
     "data": {
      "text/html": [
       "<pre style=\"white-space:pre;overflow-x:auto;line-height:normal;font-family:Menlo,'DejaVu Sans Mono',consolas,'Courier New',monospace\"><span style=\"font-style: italic\">                                           Résultats Validation Croisée                                            </span>\n",
       "┏━━━━━━━━━━━━━━━━━━━━━━━━━━━━━━━━━━━━━━━━━━━━━━━━━━━━━━━━━━━━━━━━━━━┳━━━━━━━━━━━━━━━━━━━━━━━┳━━━━━━━━━━━━━━━━━━━━━┓\n",
       "┃<span style=\"font-weight: bold\"> Modèle                                                            </span>┃<span style=\"font-weight: bold\"> score moyen           </span>┃<span style=\"font-weight: bold\"> variance scores     </span>┃\n",
       "┡━━━━━━━━━━━━━━━━━━━━━━━━━━━━━━━━━━━━━━━━━━━━━━━━━━━━━━━━━━━━━━━━━━━╇━━━━━━━━━━━━━━━━━━━━━━━╇━━━━━━━━━━━━━━━━━━━━━┩\n",
       "│ Pipeline(steps=[('rescaling', MinMaxScaler()),                    │ -0.04394208446535812  │ 0.06328599886940675 │\n",
       "│                 ('genere_puissance',                              │                       │                     │\n",
       "│ PolynomialFeatures(degree=1)),                                    │                       │                     │\n",
       "│                 ('regression_linéaire', LinearRegression())])     │                       │                     │\n",
       "│ Pipeline(steps=[('rescaling', MinMaxScaler()),                    │ -0.037884001030287974 │ 0.15999183832821962 │\n",
       "│                 ('genere_puissance', PolynomialFeatures()),       │                       │                     │\n",
       "│                 ('regression_linéaire', LinearRegression())])     │                       │                     │\n",
       "│ Pipeline(steps=[('rescaling', MinMaxScaler()),                    │ 0.021448833533463295  │ 0.2080046584985519  │\n",
       "│                 ('genere_puissance',                              │                       │                     │\n",
       "│ PolynomialFeatures(degree=3)),                                    │                       │                     │\n",
       "│                 ('regression_linéaire', LinearRegression())])     │                       │                     │\n",
       "│ Pipeline(steps=[('rescaling', MinMaxScaler()),                    │ -0.014104270389062656 │ 0.1785003142804421  │\n",
       "│                 ('genere_puissance',                              │                       │                     │\n",
       "│ PolynomialFeatures(degree=4)),                                    │                       │                     │\n",
       "│                 ('regression_linéaire', LinearRegression())])     │                       │                     │\n",
       "│ Pipeline(steps=[('rescaling', MinMaxScaler()),                    │ -0.19766575457338725  │ 0.28234653071738725 │\n",
       "│                 ('genere_puissance',                              │                       │                     │\n",
       "│ PolynomialFeatures(degree=5)),                                    │                       │                     │\n",
       "│                 ('regression_linéaire', LinearRegression())])     │                       │                     │\n",
       "│ Pipeline(steps=[('rescaling', MinMaxScaler()),                    │ -0.7262082328621041   │ 1.2854649668512017  │\n",
       "│                 ('genere_puissance',                              │                       │                     │\n",
       "│ PolynomialFeatures(degree=6)),                                    │                       │                     │\n",
       "│                 ('regression_linéaire', LinearRegression())])     │                       │                     │\n",
       "│ Pipeline(steps=[('rescaling', MinMaxScaler()),                    │ -1.3616604331279034   │ 2.564819897343123   │\n",
       "│                 ('genere_puissance',                              │                       │                     │\n",
       "│ PolynomialFeatures(degree=7)),                                    │                       │                     │\n",
       "│                 ('regression_linéaire', LinearRegression())])     │                       │                     │\n",
       "│ Pipeline(steps=[('rescaling', MinMaxScaler()),                    │ -3.1210172913637693   │ 6.067376328163324   │\n",
       "│                 ('genere_puissance',                              │                       │                     │\n",
       "│ PolynomialFeatures(degree=8)),                                    │                       │                     │\n",
       "│                 ('regression_linéaire', LinearRegression())])     │                       │                     │\n",
       "│ Pipeline(steps=[('rescaling', MinMaxScaler()),                    │ -1.7039831803257584   │ 3.4140010437345207  │\n",
       "│                 ('genere_puissance',                              │                       │                     │\n",
       "│ PolynomialFeatures(degree=9)),                                    │                       │                     │\n",
       "│                 ('regression_linéaire', LinearRegression())])     │                       │                     │\n",
       "│ Pipeline(steps=[('rescaling', MinMaxScaler()),                    │ 0.027999432777180665  │ 0.23960575810935653 │\n",
       "│                 ('genere_puissance',                              │                       │                     │\n",
       "│ PolynomialFeatures(degree=10)),                                   │                       │                     │\n",
       "│                 ('regression_linéaire', LinearRegression())])     │                       │                     │\n",
       "│ Pipeline(steps=[('rescaling', MinMaxScaler()),                    │ -6.341592016476845    │ 12.858720805321699  │\n",
       "│                 ('genere_puissance',                              │                       │                     │\n",
       "│ PolynomialFeatures(degree=11)),                                   │                       │                     │\n",
       "│                 ('regression_linéaire', LinearRegression())])     │                       │                     │\n",
       "│ Pipeline(steps=[('rescaling', MinMaxScaler()),                    │ -21.35674530508433    │ 42.880752420407696  │\n",
       "│                 ('genere_puissance',                              │                       │                     │\n",
       "│ PolynomialFeatures(degree=12)),                                   │                       │                     │\n",
       "│                 ('regression_linéaire', LinearRegression())])     │                       │                     │\n",
       "│ Pipeline(steps=[('rescaling', MinMaxScaler()),                    │ -3.393385441846655    │ 7.5842642484796094  │\n",
       "│                 ('genere_puissance',                              │                       │                     │\n",
       "│ PolynomialFeatures(degree=13)),                                   │                       │                     │\n",
       "│                 ('regression_linéaire', LinearRegression())])     │                       │                     │\n",
       "│ Pipeline(steps=[('rescaling', MinMaxScaler()),                    │ -114.55177680430502   │ 229.8892398708586   │\n",
       "│                 ('genere_puissance',                              │                       │                     │\n",
       "│ PolynomialFeatures(degree=14)),                                   │                       │                     │\n",
       "│                 ('regression_linéaire', LinearRegression())])     │                       │                     │\n",
       "│ Pipeline(steps=[('rescaling', MinMaxScaler()),                    │ -0.547057280031687    │ 2.0510423007933714  │\n",
       "│                 ('genere_puissance',                              │                       │                     │\n",
       "│ PolynomialFeatures(degree=15)),                                   │                       │                     │\n",
       "│                 ('regression_linéaire', LinearRegression())])     │                       │                     │\n",
       "│ Pipeline(steps=[('rescaling', MinMaxScaler()),                    │ -544.7865992149804    │ 1090.4879565389897  │\n",
       "│                 ('genere_puissance',                              │                       │                     │\n",
       "│ PolynomialFeatures(degree=16)),                                   │                       │                     │\n",
       "│                 ('regression_linéaire', LinearRegression())])     │                       │                     │\n",
       "│ Pipeline(steps=[('rescaling', MinMaxScaler()),                    │ -1107.7194349203187   │ 2216.1992122409692  │\n",
       "│                 ('genere_puissance',                              │                       │                     │\n",
       "│ PolynomialFeatures(degree=17)),                                   │                       │                     │\n",
       "│                 ('regression_linéaire', LinearRegression())])     │                       │                     │\n",
       "│ Pipeline(steps=[('rescaling', MinMaxScaler()),                    │ -1438.6896960843378   │ 2878.2674942534372  │\n",
       "│                 ('genere_puissance',                              │                       │                     │\n",
       "│ PolynomialFeatures(degree=18)),                                   │                       │                     │\n",
       "│                 ('regression_linéaire', LinearRegression())])     │                       │                     │\n",
       "│ Pipeline(steps=[('rescaling', MinMaxScaler()),                    │ -3348.055068804699    │ 6696.520858374801   │\n",
       "│                 ('genere_puissance',                              │                       │                     │\n",
       "│ PolynomialFeatures(degree=19)),                                   │                       │                     │\n",
       "│                 ('regression_linéaire', LinearRegression())])     │                       │                     │\n",
       "│ Pipeline(steps=[('rescaling', MinMaxScaler()),                    │ -0.9128728513018981   │ 0.8262824989259294  │\n",
       "│                 ('reseau_neurones',                               │                       │                     │\n",
       "│                  MLPRegressor(hidden_layer_sizes=(2,),            │                       │                     │\n",
       "│ max_iter=10000))])                                                │                       │                     │\n",
       "│ Pipeline(steps=[('rescaling', MinMaxScaler()),                    │ -0.8001241220169367   │ 0.8551622791893704  │\n",
       "│                 ('reseau_neurones',                               │                       │                     │\n",
       "│                  MLPRegressor(hidden_layer_sizes=(3,),            │                       │                     │\n",
       "│ max_iter=10000))])                                                │                       │                     │\n",
       "│ Pipeline(steps=[('rescaling', MinMaxScaler()),                    │ -0.6676034009220573   │ 0.8397393779876836  │\n",
       "│                 ('reseau_neurones',                               │                       │                     │\n",
       "│                  MLPRegressor(hidden_layer_sizes=(4,),            │                       │                     │\n",
       "│ max_iter=10000))])                                                │                       │                     │\n",
       "│ Pipeline(steps=[('rescaling', MinMaxScaler()),                    │ -1.0182101455682222   │ 1.232662941227996   │\n",
       "│                 ('reseau_neurones',                               │                       │                     │\n",
       "│                  MLPRegressor(hidden_layer_sizes=(5,),            │                       │                     │\n",
       "│ max_iter=10000))])                                                │                       │                     │\n",
       "│ Pipeline(steps=[('rescaling', MinMaxScaler()),                    │ -0.2806887779999682   │ 0.24669616529056415 │\n",
       "│                 ('reseau_neurones',                               │                       │                     │\n",
       "│                  MLPRegressor(hidden_layer_sizes=(6,),            │                       │                     │\n",
       "│ max_iter=10000))])                                                │                       │                     │\n",
       "│ Pipeline(steps=[('rescaling', MinMaxScaler()),                    │ -0.18783148324360466  │ 0.219710796410445   │\n",
       "│                 ('reseau_neurones',                               │                       │                     │\n",
       "│                  MLPRegressor(hidden_layer_sizes=(7,),            │                       │                     │\n",
       "│ max_iter=10000))])                                                │                       │                     │\n",
       "│ Pipeline(steps=[('rescaling', MinMaxScaler()),                    │ -0.2295837634994106   │ 0.31397180848348305 │\n",
       "│                 ('reseau_neurones',                               │                       │                     │\n",
       "│                  MLPRegressor(hidden_layer_sizes=(8,),            │                       │                     │\n",
       "│ max_iter=10000))])                                                │                       │                     │\n",
       "│ Pipeline(steps=[('rescaling', MinMaxScaler()),                    │ -0.6671244038453987   │ 0.6051904339238688  │\n",
       "│                 ('reseau_neurones',                               │                       │                     │\n",
       "│                  MLPRegressor(hidden_layer_sizes=(9,),            │                       │                     │\n",
       "│ max_iter=10000))])                                                │                       │                     │\n",
       "└───────────────────────────────────────────────────────────────────┴───────────────────────┴─────────────────────┘\n",
       "</pre>\n"
      ],
      "text/plain": [
       "\u001b[3m                                           Résultats Validation Croisée                                            \u001b[0m\n",
       "┏━━━━━━━━━━━━━━━━━━━━━━━━━━━━━━━━━━━━━━━━━━━━━━━━━━━━━━━━━━━━━━━━━━━┳━━━━━━━━━━━━━━━━━━━━━━━┳━━━━━━━━━━━━━━━━━━━━━┓\n",
       "┃\u001b[1m \u001b[0m\u001b[1mModèle                                                           \u001b[0m\u001b[1m \u001b[0m┃\u001b[1m \u001b[0m\u001b[1mscore moyen          \u001b[0m\u001b[1m \u001b[0m┃\u001b[1m \u001b[0m\u001b[1mvariance scores    \u001b[0m\u001b[1m \u001b[0m┃\n",
       "┡━━━━━━━━━━━━━━━━━━━━━━━━━━━━━━━━━━━━━━━━━━━━━━━━━━━━━━━━━━━━━━━━━━━╇━━━━━━━━━━━━━━━━━━━━━━━╇━━━━━━━━━━━━━━━━━━━━━┩\n",
       "│ Pipeline(steps=[('rescaling', MinMaxScaler()),                    │ -0.04394208446535812  │ 0.06328599886940675 │\n",
       "│                 ('genere_puissance',                              │                       │                     │\n",
       "│ PolynomialFeatures(degree=1)),                                    │                       │                     │\n",
       "│                 ('regression_linéaire', LinearRegression())])     │                       │                     │\n",
       "│ Pipeline(steps=[('rescaling', MinMaxScaler()),                    │ -0.037884001030287974 │ 0.15999183832821962 │\n",
       "│                 ('genere_puissance', PolynomialFeatures()),       │                       │                     │\n",
       "│                 ('regression_linéaire', LinearRegression())])     │                       │                     │\n",
       "│ Pipeline(steps=[('rescaling', MinMaxScaler()),                    │ 0.021448833533463295  │ 0.2080046584985519  │\n",
       "│                 ('genere_puissance',                              │                       │                     │\n",
       "│ PolynomialFeatures(degree=3)),                                    │                       │                     │\n",
       "│                 ('regression_linéaire', LinearRegression())])     │                       │                     │\n",
       "│ Pipeline(steps=[('rescaling', MinMaxScaler()),                    │ -0.014104270389062656 │ 0.1785003142804421  │\n",
       "│                 ('genere_puissance',                              │                       │                     │\n",
       "│ PolynomialFeatures(degree=4)),                                    │                       │                     │\n",
       "│                 ('regression_linéaire', LinearRegression())])     │                       │                     │\n",
       "│ Pipeline(steps=[('rescaling', MinMaxScaler()),                    │ -0.19766575457338725  │ 0.28234653071738725 │\n",
       "│                 ('genere_puissance',                              │                       │                     │\n",
       "│ PolynomialFeatures(degree=5)),                                    │                       │                     │\n",
       "│                 ('regression_linéaire', LinearRegression())])     │                       │                     │\n",
       "│ Pipeline(steps=[('rescaling', MinMaxScaler()),                    │ -0.7262082328621041   │ 1.2854649668512017  │\n",
       "│                 ('genere_puissance',                              │                       │                     │\n",
       "│ PolynomialFeatures(degree=6)),                                    │                       │                     │\n",
       "│                 ('regression_linéaire', LinearRegression())])     │                       │                     │\n",
       "│ Pipeline(steps=[('rescaling', MinMaxScaler()),                    │ -1.3616604331279034   │ 2.564819897343123   │\n",
       "│                 ('genere_puissance',                              │                       │                     │\n",
       "│ PolynomialFeatures(degree=7)),                                    │                       │                     │\n",
       "│                 ('regression_linéaire', LinearRegression())])     │                       │                     │\n",
       "│ Pipeline(steps=[('rescaling', MinMaxScaler()),                    │ -3.1210172913637693   │ 6.067376328163324   │\n",
       "│                 ('genere_puissance',                              │                       │                     │\n",
       "│ PolynomialFeatures(degree=8)),                                    │                       │                     │\n",
       "│                 ('regression_linéaire', LinearRegression())])     │                       │                     │\n",
       "│ Pipeline(steps=[('rescaling', MinMaxScaler()),                    │ -1.7039831803257584   │ 3.4140010437345207  │\n",
       "│                 ('genere_puissance',                              │                       │                     │\n",
       "│ PolynomialFeatures(degree=9)),                                    │                       │                     │\n",
       "│                 ('regression_linéaire', LinearRegression())])     │                       │                     │\n",
       "│ Pipeline(steps=[('rescaling', MinMaxScaler()),                    │ 0.027999432777180665  │ 0.23960575810935653 │\n",
       "│                 ('genere_puissance',                              │                       │                     │\n",
       "│ PolynomialFeatures(degree=10)),                                   │                       │                     │\n",
       "│                 ('regression_linéaire', LinearRegression())])     │                       │                     │\n",
       "│ Pipeline(steps=[('rescaling', MinMaxScaler()),                    │ -6.341592016476845    │ 12.858720805321699  │\n",
       "│                 ('genere_puissance',                              │                       │                     │\n",
       "│ PolynomialFeatures(degree=11)),                                   │                       │                     │\n",
       "│                 ('regression_linéaire', LinearRegression())])     │                       │                     │\n",
       "│ Pipeline(steps=[('rescaling', MinMaxScaler()),                    │ -21.35674530508433    │ 42.880752420407696  │\n",
       "│                 ('genere_puissance',                              │                       │                     │\n",
       "│ PolynomialFeatures(degree=12)),                                   │                       │                     │\n",
       "│                 ('regression_linéaire', LinearRegression())])     │                       │                     │\n",
       "│ Pipeline(steps=[('rescaling', MinMaxScaler()),                    │ -3.393385441846655    │ 7.5842642484796094  │\n",
       "│                 ('genere_puissance',                              │                       │                     │\n",
       "│ PolynomialFeatures(degree=13)),                                   │                       │                     │\n",
       "│                 ('regression_linéaire', LinearRegression())])     │                       │                     │\n",
       "│ Pipeline(steps=[('rescaling', MinMaxScaler()),                    │ -114.55177680430502   │ 229.8892398708586   │\n",
       "│                 ('genere_puissance',                              │                       │                     │\n",
       "│ PolynomialFeatures(degree=14)),                                   │                       │                     │\n",
       "│                 ('regression_linéaire', LinearRegression())])     │                       │                     │\n",
       "│ Pipeline(steps=[('rescaling', MinMaxScaler()),                    │ -0.547057280031687    │ 2.0510423007933714  │\n",
       "│                 ('genere_puissance',                              │                       │                     │\n",
       "│ PolynomialFeatures(degree=15)),                                   │                       │                     │\n",
       "│                 ('regression_linéaire', LinearRegression())])     │                       │                     │\n",
       "│ Pipeline(steps=[('rescaling', MinMaxScaler()),                    │ -544.7865992149804    │ 1090.4879565389897  │\n",
       "│                 ('genere_puissance',                              │                       │                     │\n",
       "│ PolynomialFeatures(degree=16)),                                   │                       │                     │\n",
       "│                 ('regression_linéaire', LinearRegression())])     │                       │                     │\n",
       "│ Pipeline(steps=[('rescaling', MinMaxScaler()),                    │ -1107.7194349203187   │ 2216.1992122409692  │\n",
       "│                 ('genere_puissance',                              │                       │                     │\n",
       "│ PolynomialFeatures(degree=17)),                                   │                       │                     │\n",
       "│                 ('regression_linéaire', LinearRegression())])     │                       │                     │\n",
       "│ Pipeline(steps=[('rescaling', MinMaxScaler()),                    │ -1438.6896960843378   │ 2878.2674942534372  │\n",
       "│                 ('genere_puissance',                              │                       │                     │\n",
       "│ PolynomialFeatures(degree=18)),                                   │                       │                     │\n",
       "│                 ('regression_linéaire', LinearRegression())])     │                       │                     │\n",
       "│ Pipeline(steps=[('rescaling', MinMaxScaler()),                    │ -3348.055068804699    │ 6696.520858374801   │\n",
       "│                 ('genere_puissance',                              │                       │                     │\n",
       "│ PolynomialFeatures(degree=19)),                                   │                       │                     │\n",
       "│                 ('regression_linéaire', LinearRegression())])     │                       │                     │\n",
       "│ Pipeline(steps=[('rescaling', MinMaxScaler()),                    │ -0.9128728513018981   │ 0.8262824989259294  │\n",
       "│                 ('reseau_neurones',                               │                       │                     │\n",
       "│                  MLPRegressor(hidden_layer_sizes=(2,),            │                       │                     │\n",
       "│ max_iter=10000))])                                                │                       │                     │\n",
       "│ Pipeline(steps=[('rescaling', MinMaxScaler()),                    │ -0.8001241220169367   │ 0.8551622791893704  │\n",
       "│                 ('reseau_neurones',                               │                       │                     │\n",
       "│                  MLPRegressor(hidden_layer_sizes=(3,),            │                       │                     │\n",
       "│ max_iter=10000))])                                                │                       │                     │\n",
       "│ Pipeline(steps=[('rescaling', MinMaxScaler()),                    │ -0.6676034009220573   │ 0.8397393779876836  │\n",
       "│                 ('reseau_neurones',                               │                       │                     │\n",
       "│                  MLPRegressor(hidden_layer_sizes=(4,),            │                       │                     │\n",
       "│ max_iter=10000))])                                                │                       │                     │\n",
       "│ Pipeline(steps=[('rescaling', MinMaxScaler()),                    │ -1.0182101455682222   │ 1.232662941227996   │\n",
       "│                 ('reseau_neurones',                               │                       │                     │\n",
       "│                  MLPRegressor(hidden_layer_sizes=(5,),            │                       │                     │\n",
       "│ max_iter=10000))])                                                │                       │                     │\n",
       "│ Pipeline(steps=[('rescaling', MinMaxScaler()),                    │ -0.2806887779999682   │ 0.24669616529056415 │\n",
       "│                 ('reseau_neurones',                               │                       │                     │\n",
       "│                  MLPRegressor(hidden_layer_sizes=(6,),            │                       │                     │\n",
       "│ max_iter=10000))])                                                │                       │                     │\n",
       "│ Pipeline(steps=[('rescaling', MinMaxScaler()),                    │ -0.18783148324360466  │ 0.219710796410445   │\n",
       "│                 ('reseau_neurones',                               │                       │                     │\n",
       "│                  MLPRegressor(hidden_layer_sizes=(7,),            │                       │                     │\n",
       "│ max_iter=10000))])                                                │                       │                     │\n",
       "│ Pipeline(steps=[('rescaling', MinMaxScaler()),                    │ -0.2295837634994106   │ 0.31397180848348305 │\n",
       "│                 ('reseau_neurones',                               │                       │                     │\n",
       "│                  MLPRegressor(hidden_layer_sizes=(8,),            │                       │                     │\n",
       "│ max_iter=10000))])                                                │                       │                     │\n",
       "│ Pipeline(steps=[('rescaling', MinMaxScaler()),                    │ -0.6671244038453987   │ 0.6051904339238688  │\n",
       "│                 ('reseau_neurones',                               │                       │                     │\n",
       "│                  MLPRegressor(hidden_layer_sizes=(9,),            │                       │                     │\n",
       "│ max_iter=10000))])                                                │                       │                     │\n",
       "└───────────────────────────────────────────────────────────────────┴───────────────────────┴─────────────────────┘\n"
      ]
     },
     "metadata": {},
     "output_type": "display_data"
    }
   ],
   "source": [
    "print(tableau)"
   ]
  },
  {
   "cell_type": "markdown",
   "id": "b98f4ad2",
   "metadata": {},
   "source": [
    "**EXERCICE** Aller regarder la documentation de scikit-learn pour voir ce qui est perfectible."
   ]
  }
 ],
 "metadata": {
  "kernelspec": {
   "display_name": "Python 3 (ipykernel)",
   "language": "python",
   "name": "python3"
  },
  "language_info": {
   "codemirror_mode": {
    "name": "ipython",
    "version": 3
   },
   "file_extension": ".py",
   "mimetype": "text/x-python",
   "name": "python",
   "nbconvert_exporter": "python",
   "pygments_lexer": "ipython3",
   "version": "3.11.2"
  }
 },
 "nbformat": 4,
 "nbformat_minor": 5
}
