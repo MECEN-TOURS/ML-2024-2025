{
 "cells": [
  {
   "cell_type": "code",
   "execution_count": 29,
   "id": "a6300cf7",
   "metadata": {},
   "outputs": [],
   "source": [
    "import numpy as np\n",
    "import matplotlib.pyplot as plt\n",
    "from scipy.optimize import minimize, least_squares\n",
    "from dataclasses import dataclass\n",
    "from typing import Iterable"
   ]
  },
  {
   "cell_type": "code",
   "execution_count": 2,
   "id": "c0ddbcea",
   "metadata": {},
   "outputs": [],
   "source": [
    "class Dataset:\n",
    "    def __init__(self, xk, yk):\n",
    "        self.xk = xk\n",
    "        self.yk = yk\n",
    "        \n",
    "    def affichage(self, repere, couleur=\"red\"):\n",
    "        repere.scatter(self.xk, self.yk, color=couleur, label=\"échantillon\")\n",
    "\n"
   ]
  },
  {
   "cell_type": "code",
   "execution_count": 3,
   "id": "ba0a3ccc",
   "metadata": {},
   "outputs": [],
   "source": [
    "class Realite:\n",
    "    def __init__(self, L):\n",
    "        self.L = L\n",
    "        \n",
    "    def __call__(self, xs) -> float:\n",
    "        return np.sin(10 * np.pi * xs / self.L) / (1 + np.exp(3 * xs / self.L))\n",
    "    \n",
    "    def affichage(self, repere, couleur=\"blue\"):\n",
    "        xs = np.linspace(0, self.L, 500)\n",
    "        ys = self(xs)\n",
    "        repere.plot(xs, ys, label=\"cible\", color=couleur)\n",
    "\n",
    "    def ds_simpliste(self, N: int) -> Dataset:\n",
    "        xk = np.linspace(0, self.L, N+1)\n",
    "        yk = self(xk)\n",
    "        return Dataset(xk=xk, yk=yk)\n",
    "\n",
    "    def ds_simple(self, N: int, epsilon: float) -> Dataset:\n",
    "        xk = np.linspace(0, self.L, N+1)\n",
    "        yk = self(xk) + epsilon * np.random.randn(N+1)\n",
    "        return Dataset(xk=xk, yk=yk)\n",
    "\n",
    "    def ds_raisonnable(self, N: int, epsilon: float) -> Dataset:\n",
    "        xk = np.random.uniform(low=0., high=self.L, size=(N+1, ))\n",
    "        yk = self(xk) + epsilon * np.random.randn(N+1)\n",
    "        return Dataset(xk=xk, yk=yk)\n"
   ]
  },
  {
   "cell_type": "code",
   "execution_count": 22,
   "id": "c5f45ecd",
   "metadata": {},
   "outputs": [],
   "source": [
    "class Gaussienne:\n",
    "    def __init__(self, degre: int, L: float):\n",
    "        if degre < 0:\n",
    "            raise ValueError(\"Le degré doit ^etre positif\")\n",
    "        self.degre = degre\n",
    "        self.coefficients = np.zeros(shape=(degre+1, ))\n",
    "        self.L = L\n",
    "        self.points = np.linspace(0, L, degre+1)\n",
    "        self.phi = lambda x: np.exp(-(x * degre / L) ** 2)\n",
    "        \n",
    "    def __repr__(self):\n",
    "        return f\"Gaussienne(degre={self.degre}, L={self.L})\"\n",
    "        \n",
    "    def __call__(self, x):\n",
    "        return sum(\n",
    "            coef * self.phi(x - point) \n",
    "            for coef, point in zip(self.coefficients, self.points)\n",
    "        )\n",
    "        \n",
    "    def affichage(self, repere, couleur=\"magenta\"):\n",
    "        xs = np.linspace(0, self.L, 500)\n",
    "        ys = self(xs)\n",
    "        repere.plot(xs, ys, label=\"prédicteur\", color=couleur)\n",
    "        \n",
    "    def erreur_quadratique(self, ds: Dataset) -> float:\n",
    "        return np.sum((self(ds.xk) - ds.yk)**2) / len(ds.xk)\n",
    "    \n",
    "    def entrainement(self, ds: Dataset):\n",
    "        def calcule_residus(cs):\n",
    "            self.coefficients = cs\n",
    "            return self(ds.xk) - ds.yk\n",
    "        \n",
    "        def calcule_jac(cs):\n",
    "            tableau = [\n",
    "                [\n",
    "                  self.phi(xi - betaj)\n",
    "                    for betaj in self.points\n",
    "                ]\n",
    "                for xi in ds.xk\n",
    "            ]\n",
    "            return np.array(tableau)\n",
    "        \n",
    "        opti_result = least_squares(\n",
    "            fun=calcule_residus,\n",
    "            jac=calcule_jac,\n",
    "            x0=self.coefficients,\n",
    "        )\n",
    "        if not opti_result.success:\n",
    "            print(\"Entrainement Sans succès\",)\n",
    "            print(opti_result.message)\n",
    "        self.coefficients = opti_result.x\n",
    "\n"
   ]
  },
  {
   "cell_type": "code",
   "execution_count": 9,
   "id": "0b03c1c4",
   "metadata": {},
   "outputs": [],
   "source": [
    "def train_test_split(ds: Dataset, proportion=0.7) -> tuple[Dataset, Dataset]:\n",
    "    xtest, ytest, xtrain, ytrain = list(), list(), list(), list()\n",
    "    for x, y in zip(ds.xk, ds.yk):\n",
    "        if np.random.random() < proportion:\n",
    "            xtrain.append(x)\n",
    "            ytrain.append(y)\n",
    "        else:\n",
    "            xtest.append(x)\n",
    "            ytest.append(y)\n",
    "    return Dataset(xtrain, ytrain), Dataset(xtest, ytest)\n"
   ]
  },
  {
   "cell_type": "code",
   "execution_count": 5,
   "id": "d5ee6f87",
   "metadata": {},
   "outputs": [],
   "source": [
    "@dataclass\n",
    "class Score:\n",
    "    modele: Gaussienne\n",
    "    score_entrainement: float\n",
    "    score_selection: float\n"
   ]
  },
  {
   "cell_type": "code",
   "execution_count": 18,
   "id": "02e6e9a0",
   "metadata": {},
   "outputs": [],
   "source": [
    "L = 5.\n",
    "taille_echantillon = 200\n",
    "\n",
    "reel = Realite(L=L)\n",
    "ds = reel.ds_raisonnable(N=taille_echantillon, epsilon=0.1)\n",
    "\n"
   ]
  },
  {
   "cell_type": "code",
   "execution_count": 19,
   "id": "0c4ab5b3",
   "metadata": {},
   "outputs": [],
   "source": [
    "ds_reste, ds_test = train_test_split(ds, proportion=0.8)\n",
    "ds_train, ds_select = train_test_split(ds_reste, proportion=0.8)\n"
   ]
  },
  {
   "cell_type": "code",
   "execution_count": 23,
   "id": "9da54c06",
   "metadata": {},
   "outputs": [
    {
     "name": "stdout",
     "output_type": "stream",
     "text": [
      "CPU times: user 1.74 s, sys: 0 ns, total: 1.74 s\n",
      "Wall time: 1.74 s\n"
     ]
    }
   ],
   "source": [
    "%%time\n",
    "scores = list()\n",
    "\n",
    "for degre in range(10, 100, 3):\n",
    "    gaussienne = Gaussienne(degre=degre, L=L)\n",
    "    gaussienne.entrainement(ds_train)\n",
    "    \n",
    "    scores.append(\n",
    "        Score(\n",
    "            modele=gaussienne, \n",
    "            score_entrainement=gaussienne.erreur_quadratique(ds_train),\n",
    "            score_selection=gaussienne.erreur_quadratique(ds_select)\n",
    "        )\n",
    "    )\n",
    "    "
   ]
  },
  {
   "cell_type": "code",
   "execution_count": 24,
   "id": "f96feaad",
   "metadata": {
    "collapsed": true
   },
   "outputs": [
    {
     "data": {
      "text/plain": [
       "[Score(modele=Gaussienne(degre=10, L=5.0), score_entrainement=0.02769062244786264, score_selection=0.020889107010881057),\n",
       " Score(modele=Gaussienne(degre=13, L=5.0), score_entrainement=0.008037099685217394, score_selection=0.007250482865241726),\n",
       " Score(modele=Gaussienne(degre=16, L=5.0), score_entrainement=0.0074030697743405465, score_selection=0.007035008425582856),\n",
       " Score(modele=Gaussienne(degre=19, L=5.0), score_entrainement=0.007147519268674039, score_selection=0.007842887668348826),\n",
       " Score(modele=Gaussienne(degre=22, L=5.0), score_entrainement=0.006967243303264961, score_selection=0.007867298704059474),\n",
       " Score(modele=Gaussienne(degre=25, L=5.0), score_entrainement=0.006620152941758873, score_selection=0.008943108614871043),\n",
       " Score(modele=Gaussienne(degre=28, L=5.0), score_entrainement=0.006474163086377383, score_selection=0.010674649069289511),\n",
       " Score(modele=Gaussienne(degre=31, L=5.0), score_entrainement=0.0062491110867074675, score_selection=0.01439234873750922),\n",
       " Score(modele=Gaussienne(degre=34, L=5.0), score_entrainement=0.005874788598633742, score_selection=0.01967871893758105),\n",
       " Score(modele=Gaussienne(degre=37, L=5.0), score_entrainement=0.0056235308097202265, score_selection=0.02389098003429062),\n",
       " Score(modele=Gaussienne(degre=40, L=5.0), score_entrainement=0.005457838231170748, score_selection=0.027882204154496902),\n",
       " Score(modele=Gaussienne(degre=43, L=5.0), score_entrainement=0.0053435237698213804, score_selection=0.027520069252254385),\n",
       " Score(modele=Gaussienne(degre=46, L=5.0), score_entrainement=0.005210487244024434, score_selection=0.02458956087752196),\n",
       " Score(modele=Gaussienne(degre=49, L=5.0), score_entrainement=0.004926304562024311, score_selection=0.028301500452528577),\n",
       " Score(modele=Gaussienne(degre=52, L=5.0), score_entrainement=0.004808873946957509, score_selection=0.028417678494000013),\n",
       " Score(modele=Gaussienne(degre=55, L=5.0), score_entrainement=0.004763459263845411, score_selection=0.02515940570368466),\n",
       " Score(modele=Gaussienne(degre=58, L=5.0), score_entrainement=0.004633098465881449, score_selection=0.030902210341521952),\n",
       " Score(modele=Gaussienne(degre=61, L=5.0), score_entrainement=0.004584094011044657, score_selection=0.08840080923665962),\n",
       " Score(modele=Gaussienne(degre=64, L=5.0), score_entrainement=0.0044419889579295786, score_selection=0.08112504326769746),\n",
       " Score(modele=Gaussienne(degre=67, L=5.0), score_entrainement=0.004297263735988813, score_selection=0.29626429796537657),\n",
       " Score(modele=Gaussienne(degre=70, L=5.0), score_entrainement=0.004107112309574507, score_selection=20.4003837006821),\n",
       " Score(modele=Gaussienne(degre=73, L=5.0), score_entrainement=0.003426996924372752, score_selection=1104.0974920472222),\n",
       " Score(modele=Gaussienne(degre=76, L=5.0), score_entrainement=0.0033191159892906204, score_selection=54.03413108831744),\n",
       " Score(modele=Gaussienne(degre=79, L=5.0), score_entrainement=0.0029914126947729863, score_selection=626.6090313321433),\n",
       " Score(modele=Gaussienne(degre=82, L=5.0), score_entrainement=0.003092952681735553, score_selection=10954.15832869562),\n",
       " Score(modele=Gaussienne(degre=85, L=5.0), score_entrainement=0.003072200294594516, score_selection=4347.938488899748),\n",
       " Score(modele=Gaussienne(degre=88, L=5.0), score_entrainement=0.0021926535717833907, score_selection=12901.048231249037),\n",
       " Score(modele=Gaussienne(degre=91, L=5.0), score_entrainement=0.002172801653319783, score_selection=3150350.118554306),\n",
       " Score(modele=Gaussienne(degre=94, L=5.0), score_entrainement=0.002221668253288089, score_selection=3467748.1246959437),\n",
       " Score(modele=Gaussienne(degre=97, L=5.0), score_entrainement=0.002067725374595121, score_selection=6715277.6278557)]"
      ]
     },
     "execution_count": 24,
     "metadata": {},
     "output_type": "execute_result"
    }
   ],
   "source": [
    "scores"
   ]
  },
  {
   "cell_type": "code",
   "execution_count": 25,
   "id": "51a79a11",
   "metadata": {},
   "outputs": [
    {
     "data": {
      "text/plain": [
       "Score(modele=Gaussienne(degre=16, L=5.0), score_entrainement=0.0074030697743405465, score_selection=0.007035008425582856)"
      ]
     },
     "execution_count": 25,
     "metadata": {},
     "output_type": "execute_result"
    }
   ],
   "source": [
    "meilleur = min(scores, key=lambda s: s.score_selection)\n",
    "meilleur"
   ]
  },
  {
   "cell_type": "code",
   "execution_count": 26,
   "id": "a3034cd2",
   "metadata": {},
   "outputs": [],
   "source": [
    "modele_selectionne = meilleur.modele"
   ]
  },
  {
   "cell_type": "code",
   "execution_count": 27,
   "id": "a061c24e",
   "metadata": {},
   "outputs": [],
   "source": [
    "modele_selectionne.entrainement(ds=ds_reste)"
   ]
  },
  {
   "cell_type": "code",
   "execution_count": 28,
   "id": "e1ede1f4",
   "metadata": {},
   "outputs": [
    {
     "name": "stdout",
     "output_type": "stream",
     "text": [
      "\n",
      "Meilleur modèle\n",
      "erreur training: 0.007158431104571609\n",
      "erreur_test    : 0.012121310981968213\n",
      "\n"
     ]
    }
   ],
   "source": [
    "print(f\"\"\"\n",
    "Meilleur modèle\n",
    "erreur training: {modele_selectionne.erreur_quadratique(ds_reste)}\n",
    "erreur_test    : {modele_selectionne.erreur_quadratique(ds_test)}\n",
    "\"\"\")\n"
   ]
  },
  {
   "cell_type": "markdown",
   "id": "6e3032cc",
   "metadata": {},
   "source": [
    "On des ordres de grandeur similaire entre les deux erreurs, on n'est à priori pas en surapprentissage."
   ]
  },
  {
   "cell_type": "markdown",
   "id": "7d8c4ced",
   "metadata": {},
   "source": [
    "**EXERCICE** Modifier la phase de sélection de la façon suivante:\n",
    "\n",
    "1. `ds_reste` est découper en 5 parties égales\n",
    "2. On répète 5 fois la procédure: j'entraine sur 4 partie et je stocke l'erreur sur la 5 ème\n",
    "3. Le score du modele est alors la moyenne de ces 5 erreurs\n",
    "\n",
    "C'est ce qu'on appelle la **cross_validation**\n"
   ]
  },
  {
   "cell_type": "code",
   "execution_count": 34,
   "id": "96de94b3",
   "metadata": {},
   "outputs": [],
   "source": [
    "def fusion(dsa: Dataset, dsb: Dataset) -> Dataset:\n",
    "    xk = list()\n",
    "    xk.extend(dsa.xk)\n",
    "    xk.extend(dsb.xk)\n",
    "    yk = list()\n",
    "    yk.extend(dsa.yk)\n",
    "    yk.extend(dsb.yk)    \n",
    "    return Dataset(xk=xk, yk=yk)\n",
    "    \n",
    "def decoupage(ds: Dataset) -> Dataset:\n",
    "    taille_bloc = len(ds.xk) // 3\n",
    "    return [\n",
    "        Dataset(\n",
    "            xk=ds.xk[: taille_bloc], \n",
    "            yk=ds.yk[: taille_bloc]\n",
    "        ),\n",
    "        Dataset(\n",
    "            xk=ds.xk[taille_bloc : 2 * taille_bloc], \n",
    "            yk=ds.yk[taille_bloc : 2 * taille_bloc]\n",
    "        ),\n",
    "        Dataset(\n",
    "            xk=ds.xk[2 * taille_bloc :], \n",
    "            yk=ds.yk[2 * taille_bloc :]\n",
    "        ),\n",
    "\n",
    "    ]"
   ]
  },
  {
   "cell_type": "code",
   "execution_count": 35,
   "id": "acde1967",
   "metadata": {},
   "outputs": [],
   "source": [
    "def rotation(ds: Dataset) -> Iterable[tuple[Dataset, Dataset]]:\n",
    "    ds1, ds2, ds3 = decoupage(ds, nb_parties)\n",
    "    yield fusion(ds2, ds3), ds1\n",
    "    yield fusion(ds1, ds3), ds2\n",
    "    yield fusion(ds1, ds2), ds3\n",
    "    "
   ]
  },
  {
   "cell_type": "code",
   "execution_count": 36,
   "id": "586bd959",
   "metadata": {},
   "outputs": [],
   "source": [
    "def cross_validation(ds: Dataset, modele: Gaussienne) -> Score:\n",
    "    erreurs_entrainement = list()\n",
    "    erreurs_selection = list()\n",
    "    for ds_train, ds_select in rotation(ds):\n",
    "        modele.entrainement(ds_train)\n",
    "        erreurs_entrainement.append(modele.erreur_quadratique(ds_train))\n",
    "        erreurs_selection.append(modele.erreur_quadratique(ds_select))\n",
    "    return Score(\n",
    "        modele=modele,\n",
    "        score_entrainement=sum(erreurs_entrainement) / len(erreurs_entrainement),\n",
    "        score_selection=sum(erreurs_selection) / len(erreurs_selection),\n",
    "    )"
   ]
  },
  {
   "cell_type": "code",
   "execution_count": 37,
   "id": "7f363ffc",
   "metadata": {},
   "outputs": [
    {
     "name": "stdout",
     "output_type": "stream",
     "text": [
      "CPU times: user 2.65 s, sys: 0 ns, total: 2.65 s\n",
      "Wall time: 2.65 s\n"
     ]
    }
   ],
   "source": [
    "%%time\n",
    "scores = [\n",
    "    cross_validation(ds=ds_reste, modele=Gaussienne(degre=degre, L=L)) \n",
    "    for degre in range(10, 100, 3)\n",
    "]\n",
    "\n",
    "    "
   ]
  },
  {
   "cell_type": "code",
   "execution_count": 38,
   "id": "bafe3652",
   "metadata": {},
   "outputs": [
    {
     "data": {
      "text/plain": [
       "[Score(modele=Gaussienne(degre=10, L=5.0), score_entrainement=0.02572294457636683, score_selection=0.02777279025525284),\n",
       " Score(modele=Gaussienne(degre=13, L=5.0), score_entrainement=0.007194049832208914, score_selection=0.01067021960159355),\n",
       " Score(modele=Gaussienne(degre=16, L=5.0), score_entrainement=0.006563930956408712, score_selection=0.01053717436315546),\n",
       " Score(modele=Gaussienne(degre=19, L=5.0), score_entrainement=0.006329959266464675, score_selection=0.010762361683820597),\n",
       " Score(modele=Gaussienne(degre=22, L=5.0), score_entrainement=0.006111317056050593, score_selection=0.011203617526101535),\n",
       " Score(modele=Gaussienne(degre=25, L=5.0), score_entrainement=0.005861373356086028, score_selection=0.011262231948445183),\n",
       " Score(modele=Gaussienne(degre=28, L=5.0), score_entrainement=0.005695595584560627, score_selection=0.01162930474563109),\n",
       " Score(modele=Gaussienne(degre=31, L=5.0), score_entrainement=0.005473151965672818, score_selection=0.01322014745157342),\n",
       " Score(modele=Gaussienne(degre=34, L=5.0), score_entrainement=0.005229020647577514, score_selection=0.016387163816167553),\n",
       " Score(modele=Gaussienne(degre=37, L=5.0), score_entrainement=0.0048121714214117125, score_selection=0.01874709164191399),\n",
       " Score(modele=Gaussienne(degre=40, L=5.0), score_entrainement=0.004622220553716894, score_selection=0.020635396150114532),\n",
       " Score(modele=Gaussienne(degre=43, L=5.0), score_entrainement=0.004447722538863639, score_selection=0.03256449268173798),\n",
       " Score(modele=Gaussienne(degre=46, L=5.0), score_entrainement=0.003911496557785086, score_selection=0.15461209580795998),\n",
       " Score(modele=Gaussienne(degre=49, L=5.0), score_entrainement=0.00390868807139397, score_selection=0.3044150884490695),\n",
       " Score(modele=Gaussienne(degre=52, L=5.0), score_entrainement=0.003607889411494493, score_selection=0.7795499401323075),\n",
       " Score(modele=Gaussienne(degre=55, L=5.0), score_entrainement=0.003467945065039123, score_selection=2.2923914496531075),\n",
       " Score(modele=Gaussienne(degre=58, L=5.0), score_entrainement=0.0031916232453767213, score_selection=2.688254561228217),\n",
       " Score(modele=Gaussienne(degre=61, L=5.0), score_entrainement=0.0030649242160770834, score_selection=1.9489262762828374),\n",
       " Score(modele=Gaussienne(degre=64, L=5.0), score_entrainement=0.0027751223188923918, score_selection=97.2080515721005),\n",
       " Score(modele=Gaussienne(degre=67, L=5.0), score_entrainement=0.002642107700926847, score_selection=477.07635622454046),\n",
       " Score(modele=Gaussienne(degre=70, L=5.0), score_entrainement=0.0025726492363941067, score_selection=1281.3859441030402),\n",
       " Score(modele=Gaussienne(degre=73, L=5.0), score_entrainement=0.0023709335650367825, score_selection=70846616.78765583),\n",
       " Score(modele=Gaussienne(degre=76, L=5.0), score_entrainement=0.001868842606036393, score_selection=33829440.22658492),\n",
       " Score(modele=Gaussienne(degre=79, L=5.0), score_entrainement=0.0017864560643432352, score_selection=88992249.8255982),\n",
       " Score(modele=Gaussienne(degre=82, L=5.0), score_entrainement=0.0014496195482984967, score_selection=72537922.49339987),\n",
       " Score(modele=Gaussienne(degre=85, L=5.0), score_entrainement=0.00139485528262021, score_selection=1311393051.8802803),\n",
       " Score(modele=Gaussienne(degre=88, L=5.0), score_entrainement=0.0011969902826081088, score_selection=436999750.98950195),\n",
       " Score(modele=Gaussienne(degre=91, L=5.0), score_entrainement=0.0011714228170148359, score_selection=71103332.76553118),\n",
       " Score(modele=Gaussienne(degre=94, L=5.0), score_entrainement=0.0008922987966183009, score_selection=16109285874.968233),\n",
       " Score(modele=Gaussienne(degre=97, L=5.0), score_entrainement=0.0008744829396127388, score_selection=30855928.268791478)]"
      ]
     },
     "execution_count": 38,
     "metadata": {},
     "output_type": "execute_result"
    }
   ],
   "source": [
    "scores"
   ]
  },
  {
   "cell_type": "code",
   "execution_count": 39,
   "id": "5726e776",
   "metadata": {},
   "outputs": [
    {
     "data": {
      "text/plain": [
       "Score(modele=Gaussienne(degre=16, L=5.0), score_entrainement=0.006563930956408712, score_selection=0.01053717436315546)"
      ]
     },
     "execution_count": 39,
     "metadata": {},
     "output_type": "execute_result"
    }
   ],
   "source": [
    "meilleur = min(scores, key=lambda s: s.score_selection)\n",
    "meilleur"
   ]
  },
  {
   "cell_type": "code",
   "execution_count": 40,
   "id": "f7097f64",
   "metadata": {},
   "outputs": [
    {
     "name": "stdout",
     "output_type": "stream",
     "text": [
      "\n",
      "Meilleur modèle\n",
      "erreur training: 0.007158431104571609\n",
      "erreur_test    : 0.012121310981968211\n",
      "\n"
     ]
    }
   ],
   "source": [
    "meilleur.modele.entrainement(ds=ds_reste)\n",
    "print(f\"\"\"\n",
    "Meilleur modèle\n",
    "erreur training: {meilleur.modele.erreur_quadratique(ds_reste)}\n",
    "erreur_test    : {meilleur.modele.erreur_quadratique(ds_test)}\n",
    "\"\"\")\n"
   ]
  },
  {
   "cell_type": "markdown",
   "id": "a159af39",
   "metadata": {},
   "source": [
    "**EXERCICE** \n",
    "\n",
    "1. Adapter le code de `cross_validation` pour prendre en argument le nombre de parties du découpage, et les fonctions sous jacentes.\n",
    "2. Adapter la classe `Dataset` pour faciliter l'implémentation des méthodes précédentes en n'ayant plus à travailler sur les listes xk et yk directement.\n"
   ]
  },
  {
   "cell_type": "markdown",
   "id": "26893fe9",
   "metadata": {},
   "source": [
    "**EXERCICE**\n",
    "\n",
    "Coder une classe `RN` de meme interface que `Gaussienne` mais représentant un réseau de neurones à une couche cachée.\n",
    "\n",
    "Indication: déterminer les formules mathématiques explicites entre les différentes variables quand l'entrée est vectorielle puis regarder la documentation de la fonction `np.einsum`."
   ]
  },
  {
   "cell_type": "code",
   "execution_count": 76,
   "id": "30f89f24",
   "metadata": {},
   "outputs": [],
   "source": [
    "class RN:\n",
    "    def __init__(self, n: int):\n",
    "        self.n = n\n",
    "        self.alpha = np.zeros(shape=(n, ))\n",
    "        self.beta = np.zeros(shape=(n, ))\n",
    "        self.gamma = np.zeros(shape=(n, ))\n",
    "        self.beta2 = 0.\n",
    "        \n",
    "    def sigma(self, z):\n",
    "        return 1. / (1. + np.exp(-z))\n",
    "        \n",
    "    def __repr__(self):\n",
    "        return f\"RN(n={len(self.alpha)})\"\n",
    "        \n",
    "    def __call__(self, x: np.array) -> np.array:\n",
    "        if isinstance(x, float):\n",
    "            x = np.array([x])\n",
    "        c = self.sigma(np.einsum(\"k,i->ik\", self.alpha , x) + self.beta)\n",
    "        return self.sigma(np.einsum(\"k,ik->i\", self.gamma, c) + self.beta2)\n",
    "    \n",
    "        \n",
    "    def affichage(self, repere, couleur=\"magenta\"):\n",
    "        xg, xd = repere.get_xlim()\n",
    "        xs = np.linspace(xg, xd, 500)\n",
    "        ys = self(xs)\n",
    "        repere.plot(xs, ys, label=\"prédicteur\", color=couleur)\n",
    "        \n",
    "    def erreur_quadratique(self, ds: Dataset) -> float:\n",
    "        return np.sum((self(ds.xk) - ds.yk)**2) / len(ds.xk)\n",
    "    \n",
    "    def entrainement(self, ds: Dataset):\n",
    "        def calcule_residus(cs):\n",
    "            self.alpha = cs[:self.n]\n",
    "            self.beta = cs[self.n: 2 * self.n]\n",
    "            self.gamma = cs[2 * self.n: 3 * self.n ]\n",
    "            self.beta2 = cs[-1]\n",
    "            return self(ds.xk) - ds.yk\n",
    "        \n",
    "        opti_result = least_squares(\n",
    "            fun=calcule_residus,\n",
    "            x0=np.zeros(shape=(3*self.n+1,)),\n",
    "            max_nfev=100000,\n",
    "        )\n",
    "        if not opti_result.success:\n",
    "            print(\"Entrainement Sans succès\",)\n",
    "            print(opti_result.message)\n",
    "        self.coefficients = opti_result.x\n",
    "\n"
   ]
  },
  {
   "cell_type": "code",
   "execution_count": 77,
   "id": "037ff174",
   "metadata": {},
   "outputs": [],
   "source": [
    "rn = RN(6)"
   ]
  },
  {
   "cell_type": "code",
   "execution_count": 78,
   "id": "d790df5f",
   "metadata": {},
   "outputs": [
    {
     "data": {
      "text/plain": [
       "array([0.5, 0.5, 0.5, 0.5, 0.5, 0.5, 0.5, 0.5, 0.5, 0.5])"
      ]
     },
     "execution_count": 78,
     "metadata": {},
     "output_type": "execute_result"
    }
   ],
   "source": [
    "rn(np.linspace(0, 1, 10))"
   ]
  },
  {
   "cell_type": "code",
   "execution_count": 79,
   "id": "eb02030b",
   "metadata": {},
   "outputs": [
    {
     "data": {
      "text/plain": [
       "array([0.5])"
      ]
     },
     "execution_count": 79,
     "metadata": {},
     "output_type": "execute_result"
    }
   ],
   "source": [
    "rn(0.5)"
   ]
  },
  {
   "cell_type": "code",
   "execution_count": 80,
   "id": "b59efff3",
   "metadata": {},
   "outputs": [],
   "source": [
    "L = 5.\n",
    "taille_echantillon = 200\n",
    "\n",
    "reel = Realite(L=L)\n",
    "ds = reel.ds_raisonnable(N=taille_echantillon, epsilon=0.1)"
   ]
  },
  {
   "cell_type": "code",
   "execution_count": 81,
   "id": "5fe72bfa",
   "metadata": {},
   "outputs": [],
   "source": [
    "ds_reste, ds_test = train_test_split(ds, proportion=0.8)"
   ]
  },
  {
   "cell_type": "code",
   "execution_count": 82,
   "id": "fbfce8f2",
   "metadata": {},
   "outputs": [
    {
     "ename": "KeyboardInterrupt",
     "evalue": "",
     "output_type": "error",
     "traceback": [
      "\u001b[0;31m---------------------------------------------------------------------------\u001b[0m",
      "\u001b[0;31mKeyboardInterrupt\u001b[0m                         Traceback (most recent call last)",
      "File \u001b[0;32m<timed exec>:1\u001b[0m\n",
      "File \u001b[0;32m<timed exec>:2\u001b[0m, in \u001b[0;36m<listcomp>\u001b[0;34m(.0)\u001b[0m\n",
      "Cell \u001b[0;32mIn [36], line 5\u001b[0m, in \u001b[0;36mcross_validation\u001b[0;34m(ds, modele)\u001b[0m\n\u001b[1;32m      3\u001b[0m erreurs_selection \u001b[38;5;241m=\u001b[39m \u001b[38;5;28mlist\u001b[39m()\n\u001b[1;32m      4\u001b[0m \u001b[38;5;28;01mfor\u001b[39;00m ds_train, ds_select \u001b[38;5;129;01min\u001b[39;00m rotation(ds):\n\u001b[0;32m----> 5\u001b[0m     \u001b[43mmodele\u001b[49m\u001b[38;5;241;43m.\u001b[39;49m\u001b[43mentrainement\u001b[49m\u001b[43m(\u001b[49m\u001b[43mds_train\u001b[49m\u001b[43m)\u001b[49m\n\u001b[1;32m      6\u001b[0m     erreurs_entrainement\u001b[38;5;241m.\u001b[39mappend(modele\u001b[38;5;241m.\u001b[39merreur_quadratique(ds_train))\n\u001b[1;32m      7\u001b[0m     erreurs_selection\u001b[38;5;241m.\u001b[39mappend(modele\u001b[38;5;241m.\u001b[39merreur_quadratique(ds_select))\n",
      "Cell \u001b[0;32mIn [76], line 39\u001b[0m, in \u001b[0;36mRN.entrainement\u001b[0;34m(self, ds)\u001b[0m\n\u001b[1;32m     36\u001b[0m     \u001b[38;5;28mself\u001b[39m\u001b[38;5;241m.\u001b[39mbeta2 \u001b[38;5;241m=\u001b[39m cs[\u001b[38;5;241m-\u001b[39m\u001b[38;5;241m1\u001b[39m]\n\u001b[1;32m     37\u001b[0m     \u001b[38;5;28;01mreturn\u001b[39;00m \u001b[38;5;28mself\u001b[39m(ds\u001b[38;5;241m.\u001b[39mxk) \u001b[38;5;241m-\u001b[39m ds\u001b[38;5;241m.\u001b[39myk\n\u001b[0;32m---> 39\u001b[0m opti_result \u001b[38;5;241m=\u001b[39m \u001b[43mleast_squares\u001b[49m\u001b[43m(\u001b[49m\n\u001b[1;32m     40\u001b[0m \u001b[43m    \u001b[49m\u001b[43mfun\u001b[49m\u001b[38;5;241;43m=\u001b[39;49m\u001b[43mcalcule_residus\u001b[49m\u001b[43m,\u001b[49m\n\u001b[1;32m     41\u001b[0m \u001b[43m    \u001b[49m\u001b[43mx0\u001b[49m\u001b[38;5;241;43m=\u001b[39;49m\u001b[43mnp\u001b[49m\u001b[38;5;241;43m.\u001b[39;49m\u001b[43mzeros\u001b[49m\u001b[43m(\u001b[49m\u001b[43mshape\u001b[49m\u001b[38;5;241;43m=\u001b[39;49m\u001b[43m(\u001b[49m\u001b[38;5;241;43m3\u001b[39;49m\u001b[38;5;241;43m*\u001b[39;49m\u001b[38;5;28;43mself\u001b[39;49m\u001b[38;5;241;43m.\u001b[39;49m\u001b[43mn\u001b[49m\u001b[38;5;241;43m+\u001b[39;49m\u001b[38;5;241;43m1\u001b[39;49m\u001b[43m,\u001b[49m\u001b[43m)\u001b[49m\u001b[43m)\u001b[49m\u001b[43m,\u001b[49m\n\u001b[1;32m     42\u001b[0m \u001b[43m    \u001b[49m\u001b[43mmax_nfev\u001b[49m\u001b[38;5;241;43m=\u001b[39;49m\u001b[38;5;241;43m100000\u001b[39;49m\u001b[43m,\u001b[49m\n\u001b[1;32m     43\u001b[0m \u001b[43m\u001b[49m\u001b[43m)\u001b[49m\n\u001b[1;32m     44\u001b[0m \u001b[38;5;28;01mif\u001b[39;00m \u001b[38;5;129;01mnot\u001b[39;00m opti_result\u001b[38;5;241m.\u001b[39msuccess:\n\u001b[1;32m     45\u001b[0m     \u001b[38;5;28mprint\u001b[39m(\u001b[38;5;124m\"\u001b[39m\u001b[38;5;124mEntrainement Sans succès\u001b[39m\u001b[38;5;124m\"\u001b[39m,)\n",
      "File \u001b[0;32m/usr/lib/python3/dist-packages/scipy/optimize/_lsq/least_squares.py:938\u001b[0m, in \u001b[0;36mleast_squares\u001b[0;34m(fun, x0, jac, bounds, method, ftol, xtol, gtol, x_scale, loss, f_scale, diff_step, tr_solver, tr_options, jac_sparsity, max_nfev, verbose, args, kwargs)\u001b[0m\n\u001b[1;32m    934\u001b[0m     result \u001b[38;5;241m=\u001b[39m call_minpack(fun_wrapped, x0, jac_wrapped, ftol, xtol, gtol,\n\u001b[1;32m    935\u001b[0m                           max_nfev, x_scale, diff_step)\n\u001b[1;32m    937\u001b[0m \u001b[38;5;28;01melif\u001b[39;00m method \u001b[38;5;241m==\u001b[39m \u001b[38;5;124m'\u001b[39m\u001b[38;5;124mtrf\u001b[39m\u001b[38;5;124m'\u001b[39m:\n\u001b[0;32m--> 938\u001b[0m     result \u001b[38;5;241m=\u001b[39m \u001b[43mtrf\u001b[49m\u001b[43m(\u001b[49m\u001b[43mfun_wrapped\u001b[49m\u001b[43m,\u001b[49m\u001b[43m \u001b[49m\u001b[43mjac_wrapped\u001b[49m\u001b[43m,\u001b[49m\u001b[43m \u001b[49m\u001b[43mx0\u001b[49m\u001b[43m,\u001b[49m\u001b[43m \u001b[49m\u001b[43mf0\u001b[49m\u001b[43m,\u001b[49m\u001b[43m \u001b[49m\u001b[43mJ0\u001b[49m\u001b[43m,\u001b[49m\u001b[43m \u001b[49m\u001b[43mlb\u001b[49m\u001b[43m,\u001b[49m\u001b[43m \u001b[49m\u001b[43mub\u001b[49m\u001b[43m,\u001b[49m\u001b[43m \u001b[49m\u001b[43mftol\u001b[49m\u001b[43m,\u001b[49m\u001b[43m \u001b[49m\u001b[43mxtol\u001b[49m\u001b[43m,\u001b[49m\n\u001b[1;32m    939\u001b[0m \u001b[43m                 \u001b[49m\u001b[43mgtol\u001b[49m\u001b[43m,\u001b[49m\u001b[43m \u001b[49m\u001b[43mmax_nfev\u001b[49m\u001b[43m,\u001b[49m\u001b[43m \u001b[49m\u001b[43mx_scale\u001b[49m\u001b[43m,\u001b[49m\u001b[43m \u001b[49m\u001b[43mloss_function\u001b[49m\u001b[43m,\u001b[49m\u001b[43m \u001b[49m\u001b[43mtr_solver\u001b[49m\u001b[43m,\u001b[49m\n\u001b[1;32m    940\u001b[0m \u001b[43m                 \u001b[49m\u001b[43mtr_options\u001b[49m\u001b[38;5;241;43m.\u001b[39;49m\u001b[43mcopy\u001b[49m\u001b[43m(\u001b[49m\u001b[43m)\u001b[49m\u001b[43m,\u001b[49m\u001b[43m \u001b[49m\u001b[43mverbose\u001b[49m\u001b[43m)\u001b[49m\n\u001b[1;32m    942\u001b[0m \u001b[38;5;28;01melif\u001b[39;00m method \u001b[38;5;241m==\u001b[39m \u001b[38;5;124m'\u001b[39m\u001b[38;5;124mdogbox\u001b[39m\u001b[38;5;124m'\u001b[39m:\n\u001b[1;32m    943\u001b[0m     \u001b[38;5;28;01mif\u001b[39;00m tr_solver \u001b[38;5;241m==\u001b[39m \u001b[38;5;124m'\u001b[39m\u001b[38;5;124mlsmr\u001b[39m\u001b[38;5;124m'\u001b[39m \u001b[38;5;129;01mand\u001b[39;00m \u001b[38;5;124m'\u001b[39m\u001b[38;5;124mregularize\u001b[39m\u001b[38;5;124m'\u001b[39m \u001b[38;5;129;01min\u001b[39;00m tr_options:\n",
      "File \u001b[0;32m/usr/lib/python3/dist-packages/scipy/optimize/_lsq/trf.py:119\u001b[0m, in \u001b[0;36mtrf\u001b[0;34m(fun, jac, x0, f0, J0, lb, ub, ftol, xtol, gtol, max_nfev, x_scale, loss_function, tr_solver, tr_options, verbose)\u001b[0m\n\u001b[1;32m    112\u001b[0m \u001b[38;5;28;01mdef\u001b[39;00m \u001b[38;5;21mtrf\u001b[39m(fun, jac, x0, f0, J0, lb, ub, ftol, xtol, gtol, max_nfev, x_scale,\n\u001b[1;32m    113\u001b[0m         loss_function, tr_solver, tr_options, verbose):\n\u001b[1;32m    114\u001b[0m     \u001b[38;5;66;03m# For efficiency, it makes sense to run the simplified version of the\u001b[39;00m\n\u001b[1;32m    115\u001b[0m     \u001b[38;5;66;03m# algorithm when no bounds are imposed. We decided to write the two\u001b[39;00m\n\u001b[1;32m    116\u001b[0m     \u001b[38;5;66;03m# separate functions. It violates the DRY principle, but the individual\u001b[39;00m\n\u001b[1;32m    117\u001b[0m     \u001b[38;5;66;03m# functions are kept the most readable.\u001b[39;00m\n\u001b[1;32m    118\u001b[0m     \u001b[38;5;28;01mif\u001b[39;00m np\u001b[38;5;241m.\u001b[39mall(lb \u001b[38;5;241m==\u001b[39m \u001b[38;5;241m-\u001b[39mnp\u001b[38;5;241m.\u001b[39minf) \u001b[38;5;129;01mand\u001b[39;00m np\u001b[38;5;241m.\u001b[39mall(ub \u001b[38;5;241m==\u001b[39m np\u001b[38;5;241m.\u001b[39minf):\n\u001b[0;32m--> 119\u001b[0m         \u001b[38;5;28;01mreturn\u001b[39;00m \u001b[43mtrf_no_bounds\u001b[49m\u001b[43m(\u001b[49m\n\u001b[1;32m    120\u001b[0m \u001b[43m            \u001b[49m\u001b[43mfun\u001b[49m\u001b[43m,\u001b[49m\u001b[43m \u001b[49m\u001b[43mjac\u001b[49m\u001b[43m,\u001b[49m\u001b[43m \u001b[49m\u001b[43mx0\u001b[49m\u001b[43m,\u001b[49m\u001b[43m \u001b[49m\u001b[43mf0\u001b[49m\u001b[43m,\u001b[49m\u001b[43m \u001b[49m\u001b[43mJ0\u001b[49m\u001b[43m,\u001b[49m\u001b[43m \u001b[49m\u001b[43mftol\u001b[49m\u001b[43m,\u001b[49m\u001b[43m \u001b[49m\u001b[43mxtol\u001b[49m\u001b[43m,\u001b[49m\u001b[43m \u001b[49m\u001b[43mgtol\u001b[49m\u001b[43m,\u001b[49m\u001b[43m \u001b[49m\u001b[43mmax_nfev\u001b[49m\u001b[43m,\u001b[49m\u001b[43m \u001b[49m\u001b[43mx_scale\u001b[49m\u001b[43m,\u001b[49m\n\u001b[1;32m    121\u001b[0m \u001b[43m            \u001b[49m\u001b[43mloss_function\u001b[49m\u001b[43m,\u001b[49m\u001b[43m \u001b[49m\u001b[43mtr_solver\u001b[49m\u001b[43m,\u001b[49m\u001b[43m \u001b[49m\u001b[43mtr_options\u001b[49m\u001b[43m,\u001b[49m\u001b[43m \u001b[49m\u001b[43mverbose\u001b[49m\u001b[43m)\u001b[49m\n\u001b[1;32m    122\u001b[0m     \u001b[38;5;28;01melse\u001b[39;00m:\n\u001b[1;32m    123\u001b[0m         \u001b[38;5;28;01mreturn\u001b[39;00m trf_bounds(\n\u001b[1;32m    124\u001b[0m             fun, jac, x0, f0, J0, lb, ub, ftol, xtol, gtol, max_nfev, x_scale,\n\u001b[1;32m    125\u001b[0m             loss_function, tr_solver, tr_options, verbose)\n",
      "File \u001b[0;32m/usr/lib/python3/dist-packages/scipy/optimize/_lsq/trf.py:467\u001b[0m, in \u001b[0;36mtrf_no_bounds\u001b[0;34m(fun, jac, x0, f0, J0, ftol, xtol, gtol, max_nfev, x_scale, loss_function, tr_solver, tr_options, verbose)\u001b[0m\n\u001b[1;32m    465\u001b[0m \u001b[38;5;28;01mif\u001b[39;00m tr_solver \u001b[38;5;241m==\u001b[39m \u001b[38;5;124m'\u001b[39m\u001b[38;5;124mexact\u001b[39m\u001b[38;5;124m'\u001b[39m:\n\u001b[1;32m    466\u001b[0m     J_h \u001b[38;5;241m=\u001b[39m J \u001b[38;5;241m*\u001b[39m d\n\u001b[0;32m--> 467\u001b[0m     U, s, V \u001b[38;5;241m=\u001b[39m \u001b[43msvd\u001b[49m\u001b[43m(\u001b[49m\u001b[43mJ_h\u001b[49m\u001b[43m,\u001b[49m\u001b[43m \u001b[49m\u001b[43mfull_matrices\u001b[49m\u001b[38;5;241;43m=\u001b[39;49m\u001b[38;5;28;43;01mFalse\u001b[39;49;00m\u001b[43m)\u001b[49m\n\u001b[1;32m    468\u001b[0m     V \u001b[38;5;241m=\u001b[39m V\u001b[38;5;241m.\u001b[39mT\n\u001b[1;32m    469\u001b[0m     uf \u001b[38;5;241m=\u001b[39m U\u001b[38;5;241m.\u001b[39mT\u001b[38;5;241m.\u001b[39mdot(f)\n",
      "File \u001b[0;32m/usr/lib/python3/dist-packages/scipy/linalg/_decomp_svd.py:127\u001b[0m, in \u001b[0;36msvd\u001b[0;34m(a, full_matrices, compute_uv, overwrite_a, check_finite, lapack_driver)\u001b[0m\n\u001b[1;32m    123\u001b[0m lwork \u001b[38;5;241m=\u001b[39m _compute_lwork(gesXd_lwork, a1\u001b[38;5;241m.\u001b[39mshape[\u001b[38;5;241m0\u001b[39m], a1\u001b[38;5;241m.\u001b[39mshape[\u001b[38;5;241m1\u001b[39m],\n\u001b[1;32m    124\u001b[0m                        compute_uv\u001b[38;5;241m=\u001b[39mcompute_uv, full_matrices\u001b[38;5;241m=\u001b[39mfull_matrices)\n\u001b[1;32m    126\u001b[0m \u001b[38;5;66;03m# perform decomposition\u001b[39;00m\n\u001b[0;32m--> 127\u001b[0m u, s, v, info \u001b[38;5;241m=\u001b[39m \u001b[43mgesXd\u001b[49m\u001b[43m(\u001b[49m\u001b[43ma1\u001b[49m\u001b[43m,\u001b[49m\u001b[43m \u001b[49m\u001b[43mcompute_uv\u001b[49m\u001b[38;5;241;43m=\u001b[39;49m\u001b[43mcompute_uv\u001b[49m\u001b[43m,\u001b[49m\u001b[43m \u001b[49m\u001b[43mlwork\u001b[49m\u001b[38;5;241;43m=\u001b[39;49m\u001b[43mlwork\u001b[49m\u001b[43m,\u001b[49m\n\u001b[1;32m    128\u001b[0m \u001b[43m                      \u001b[49m\u001b[43mfull_matrices\u001b[49m\u001b[38;5;241;43m=\u001b[39;49m\u001b[43mfull_matrices\u001b[49m\u001b[43m,\u001b[49m\u001b[43m \u001b[49m\u001b[43moverwrite_a\u001b[49m\u001b[38;5;241;43m=\u001b[39;49m\u001b[43moverwrite_a\u001b[49m\u001b[43m)\u001b[49m\n\u001b[1;32m    130\u001b[0m \u001b[38;5;28;01mif\u001b[39;00m info \u001b[38;5;241m>\u001b[39m \u001b[38;5;241m0\u001b[39m:\n\u001b[1;32m    131\u001b[0m     \u001b[38;5;28;01mraise\u001b[39;00m LinAlgError(\u001b[38;5;124m\"\u001b[39m\u001b[38;5;124mSVD did not converge\u001b[39m\u001b[38;5;124m\"\u001b[39m)\n",
      "\u001b[0;31mKeyboardInterrupt\u001b[0m: "
     ]
    }
   ],
   "source": [
    "%%time\n",
    "scores = [\n",
    "    cross_validation(ds=ds_reste, modele=RN(n=n)) \n",
    "    for n in range(2, 16)\n",
    "]"
   ]
  },
  {
   "cell_type": "code",
   "execution_count": null,
   "id": "77b4b82b",
   "metadata": {},
   "outputs": [],
   "source": []
  }
 ],
 "metadata": {
  "kernelspec": {
   "display_name": "Python 3 (ipykernel)",
   "language": "python",
   "name": "python3"
  },
  "language_info": {
   "codemirror_mode": {
    "name": "ipython",
    "version": 3
   },
   "file_extension": ".py",
   "mimetype": "text/x-python",
   "name": "python",
   "nbconvert_exporter": "python",
   "pygments_lexer": "ipython3",
   "version": "3.11.2"
  }
 },
 "nbformat": 4,
 "nbformat_minor": 5
}
