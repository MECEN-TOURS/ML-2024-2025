{
 "cells": [
  {
   "cell_type": "code",
   "execution_count": 37,
   "id": "ca50f838-764a-4c21-a60c-5b2ec123bf8f",
   "metadata": {},
   "outputs": [],
   "source": [
    "import polars as pl\n",
    "import json\n",
    "from requests import get\n",
    "import re"
   ]
  },
  {
   "cell_type": "code",
   "execution_count": 14,
   "id": "84d8d77b-992f-4443-bde7-87b907a9f26c",
   "metadata": {},
   "outputs": [],
   "source": [
    "from typing import TypedDict"
   ]
  },
  {
   "cell_type": "markdown",
   "id": "6744906c-5ce7-400e-9af3-96e32e1824af",
   "metadata": {},
   "source": [
    "**EXERCICE** Récupérer le fichier json à l'adresse \"https://raw.githubusercontent.com/VPerrollaz/immobilier/refs/heads/master/donnees/brute.json\".\n",
    "Puis le desérialiser."
   ]
  },
  {
   "cell_type": "code",
   "execution_count": 3,
   "id": "2c50f086-f0c4-495c-a2c1-39859afbeb7a",
   "metadata": {},
   "outputs": [],
   "source": [
    "ADRESSE_JSON = \"https://raw.githubusercontent.com/VPerrollaz/immobilier/refs/heads/master/donnees/brute.json\""
   ]
  },
  {
   "cell_type": "code",
   "execution_count": 7,
   "id": "1fecdef4-ad7a-42ce-8cb4-9fa69538e3e7",
   "metadata": {},
   "outputs": [],
   "source": [
    "requete = get(ADRESSE_JSON)\n",
    "assert requete.status_code == 200"
   ]
  },
  {
   "cell_type": "code",
   "execution_count": 8,
   "id": "59862824-4551-4cdb-993d-8eab3f0d7d11",
   "metadata": {},
   "outputs": [],
   "source": [
    "contenu = requete.text"
   ]
  },
  {
   "cell_type": "code",
   "execution_count": 15,
   "id": "fddb349f-e152-429f-85c1-5c299029442f",
   "metadata": {},
   "outputs": [],
   "source": [
    "# TypedDict permet au typechecker de constater les bogues\n",
    "# de clefs ou de type de valeur\n",
    "class Annonce(TypedDict):\n",
    "    id: str\n",
    "    genre: str\n",
    "    prix: str\n",
    "    desc: str\n",
    "    lien: str"
   ]
  },
  {
   "cell_type": "code",
   "execution_count": 11,
   "id": "eff7779a-4ce7-454c-b32f-466045fe43d1",
   "metadata": {},
   "outputs": [],
   "source": [
    "deserialises: list[Annonce] = list()\n",
    "for ligne in contenu.splitlines():\n",
    "    deserialises.append(json.loads(ligne))"
   ]
  },
  {
   "cell_type": "code",
   "execution_count": 12,
   "id": "4cd73586-a93c-4236-a06c-84debda19cb1",
   "metadata": {},
   "outputs": [
    {
     "data": {
      "text/plain": [
       "1818"
      ]
     },
     "execution_count": 12,
     "metadata": {},
     "output_type": "execute_result"
    }
   ],
   "source": [
    "len(deserialises)"
   ]
  },
  {
   "cell_type": "code",
   "execution_count": 13,
   "id": "db4cb6ea-91c7-40bb-bec9-736f510d625c",
   "metadata": {},
   "outputs": [
    {
     "data": {
      "text/plain": [
       "{'id': 'annonce-138905473-376235',\n",
       " 'genre': 'Appartement',\n",
       " 'prix': '374 400 €',\n",
       " 'pcs': '3 p 2 ch 90 m²',\n",
       " 'desc': \"Appartement type 3 - TOURS CATHÉDRALE TOURS CATHÉDRALE: Ravissant appartement type 3 d'environ 90 m² dans résidence de standing (~50 lots) avec cave et parking. Entrée,...\\nÇa m'intéresse\",\n",
       " 'lien': 'https://www.seloger.com/annonces/achat/appartement/tours-37/cathedrale/138905473.htm'}"
      ]
     },
     "execution_count": 13,
     "metadata": {},
     "output_type": "execute_result"
    }
   ],
   "source": [
    "deserialises[0]"
   ]
  },
  {
   "cell_type": "markdown",
   "id": "bc5efdb5-7dd3-4945-bad1-485262c30456",
   "metadata": {},
   "source": [
    "**EXERCICE** Extraire un dataframe `polars` du json.\n",
    "\n",
    "On consultera les documentations de `polars.read_json` et `polars.DataFrame`"
   ]
  },
  {
   "cell_type": "code",
   "execution_count": 16,
   "id": "1a989a8a-6b14-4c61-8c82-3c09196f1cde",
   "metadata": {},
   "outputs": [],
   "source": [
    "brut = pl.DataFrame(data=deserialises)"
   ]
  },
  {
   "cell_type": "code",
   "execution_count": 17,
   "id": "0d5037a1-2ebe-420c-bec5-9a3c71d1a8b0",
   "metadata": {},
   "outputs": [
    {
     "data": {
      "text/html": [
       "<div><style>\n",
       ".dataframe > thead > tr,\n",
       ".dataframe > tbody > tr {\n",
       "  text-align: right;\n",
       "  white-space: pre-wrap;\n",
       "}\n",
       "</style>\n",
       "<small>shape: (9, 7)</small><table border=\"1\" class=\"dataframe\"><thead><tr><th>statistic</th><th>id</th><th>genre</th><th>prix</th><th>pcs</th><th>desc</th><th>lien</th></tr><tr><td>str</td><td>str</td><td>str</td><td>str</td><td>str</td><td>str</td><td>str</td></tr></thead><tbody><tr><td>&quot;count&quot;</td><td>&quot;1818&quot;</td><td>&quot;1818&quot;</td><td>&quot;1818&quot;</td><td>&quot;1818&quot;</td><td>&quot;1818&quot;</td><td>&quot;1818&quot;</td></tr><tr><td>&quot;null_count&quot;</td><td>&quot;0&quot;</td><td>&quot;0&quot;</td><td>&quot;0&quot;</td><td>&quot;0&quot;</td><td>&quot;0&quot;</td><td>&quot;0&quot;</td></tr><tr><td>&quot;mean&quot;</td><td>null</td><td>null</td><td>null</td><td>null</td><td>null</td><td>null</td></tr><tr><td>&quot;std&quot;</td><td>null</td><td>null</td><td>null</td><td>null</td><td>null</td><td>null</td></tr><tr><td>&quot;min&quot;</td><td>&quot;annonce-100241563-317111&quot;</td><td>&quot;Appartement&quot;</td><td>&quot;1 030 000 €&quot;</td><td>&quot;&quot;</td><td>&quot;&quot;TOURS GRAMMONT&quot; Dernier étage…</td><td>&quot;https://www.bellesdemeures.com…</td></tr><tr><td>&quot;25%&quot;</td><td>null</td><td>null</td><td>null</td><td>null</td><td>null</td><td>null</td></tr><tr><td>&quot;50%&quot;</td><td>null</td><td>null</td><td>null</td><td>null</td><td>null</td><td>null</td></tr><tr><td>&quot;75%&quot;</td><td>null</td><td>null</td><td>null</td><td>null</td><td>null</td><td>null</td></tr><tr><td>&quot;max&quot;</td><td>&quot;annonce-98789327-311359&quot;</td><td>&quot;Terrain&quot;</td><td>&quot;€&quot;</td><td>&quot;92 m²&quot;</td><td>&quot;ÉLÉGANTE MAISON BOURGEOISE, po…</td><td>&quot;https://www.selogerneuf.com/an…</td></tr></tbody></table></div>"
      ],
      "text/plain": [
       "shape: (9, 7)\n",
       "┌────────────┬──────────────────────────┬─────────────┬─────────────┬───────┬─────────────────────────────────┬─────────────────────────────────┐\n",
       "│ statistic  ┆ id                       ┆ genre       ┆ prix        ┆ pcs   ┆ desc                            ┆ lien                            │\n",
       "│ ---        ┆ ---                      ┆ ---         ┆ ---         ┆ ---   ┆ ---                             ┆ ---                             │\n",
       "│ str        ┆ str                      ┆ str         ┆ str         ┆ str   ┆ str                             ┆ str                             │\n",
       "╞════════════╪══════════════════════════╪═════════════╪═════════════╪═══════╪═════════════════════════════════╪═════════════════════════════════╡\n",
       "│ count      ┆ 1818                     ┆ 1818        ┆ 1818        ┆ 1818  ┆ 1818                            ┆ 1818                            │\n",
       "│ null_count ┆ 0                        ┆ 0           ┆ 0           ┆ 0     ┆ 0                               ┆ 0                               │\n",
       "│ mean       ┆ null                     ┆ null        ┆ null        ┆ null  ┆ null                            ┆ null                            │\n",
       "│ std        ┆ null                     ┆ null        ┆ null        ┆ null  ┆ null                            ┆ null                            │\n",
       "│ min        ┆ annonce-100241563-317111 ┆ Appartement ┆ 1 030 000 € ┆       ┆ \"TOURS GRAMMONT\" Dernier étage… ┆ https://www.bellesdemeures.com… │\n",
       "│ 25%        ┆ null                     ┆ null        ┆ null        ┆ null  ┆ null                            ┆ null                            │\n",
       "│ 50%        ┆ null                     ┆ null        ┆ null        ┆ null  ┆ null                            ┆ null                            │\n",
       "│ 75%        ┆ null                     ┆ null        ┆ null        ┆ null  ┆ null                            ┆ null                            │\n",
       "│ max        ┆ annonce-98789327-311359  ┆ Terrain     ┆ €           ┆ 92 m² ┆ ÉLÉGANTE MAISON BOURGEOISE, po… ┆ https://www.selogerneuf.com/an… │\n",
       "└────────────┴──────────────────────────┴─────────────┴─────────────┴───────┴─────────────────────────────────┴─────────────────────────────────┘"
      ]
     },
     "execution_count": 17,
     "metadata": {},
     "output_type": "execute_result"
    }
   ],
   "source": [
    "brut.describe()"
   ]
  },
  {
   "cell_type": "markdown",
   "id": "ebd072eb-ff49-4abe-bd84-c2cabdd2e7c9",
   "metadata": {},
   "source": [
    "L'objectif final est d'obtenir un dataset sous forme _tidy_ c'est à dire chaque colonne représente une variable explicative numérique."
   ]
  },
  {
   "cell_type": "markdown",
   "id": "f7fc8bf7-88d2-47ca-ba52-787d3043d425",
   "metadata": {},
   "source": [
    "**EXERCICE** supprimer les doublons, et les lignes non pertinentes en général."
   ]
  },
  {
   "cell_type": "code",
   "execution_count": 19,
   "id": "88c1d7ea-b309-49b9-b5f9-666b791bb113",
   "metadata": {},
   "outputs": [
    {
     "data": {
      "text/html": [
       "<div><style>\n",
       ".dataframe > thead > tr,\n",
       ".dataframe > tbody > tr {\n",
       "  text-align: right;\n",
       "  white-space: pre-wrap;\n",
       "}\n",
       "</style>\n",
       "<small>shape: (5, 2)</small><table border=\"1\" class=\"dataframe\"><thead><tr><th>statistic</th><th>value</th></tr><tr><td>str</td><td>f64</td></tr></thead><tbody><tr><td>&quot;count&quot;</td><td>1818.0</td></tr><tr><td>&quot;null_count&quot;</td><td>0.0</td></tr><tr><td>&quot;mean&quot;</td><td>0.022002</td></tr><tr><td>&quot;min&quot;</td><td>0.0</td></tr><tr><td>&quot;max&quot;</td><td>1.0</td></tr></tbody></table></div>"
      ],
      "text/plain": [
       "shape: (5, 2)\n",
       "┌────────────┬──────────┐\n",
       "│ statistic  ┆ value    │\n",
       "│ ---        ┆ ---      │\n",
       "│ str        ┆ f64      │\n",
       "╞════════════╪══════════╡\n",
       "│ count      ┆ 1818.0   │\n",
       "│ null_count ┆ 0.0      │\n",
       "│ mean       ┆ 0.022002 │\n",
       "│ min        ┆ 0.0      │\n",
       "│ max        ┆ 1.0      │\n",
       "└────────────┴──────────┘"
      ]
     },
     "execution_count": 19,
     "metadata": {},
     "output_type": "execute_result"
    }
   ],
   "source": [
    "# Y  a t il des lignes dupliquées?\n",
    "brut.is_duplicated().describe()"
   ]
  },
  {
   "cell_type": "code",
   "execution_count": 20,
   "id": "c77c4fe1-afa5-4f87-9ec2-0549f27bff4f",
   "metadata": {},
   "outputs": [],
   "source": [
    "brut = brut.unique()"
   ]
  },
  {
   "cell_type": "code",
   "execution_count": 21,
   "id": "cceb5492-b265-42ab-9896-9fce63c56550",
   "metadata": {},
   "outputs": [
    {
     "data": {
      "text/html": [
       "<div><style>\n",
       ".dataframe > thead > tr,\n",
       ".dataframe > tbody > tr {\n",
       "  text-align: right;\n",
       "  white-space: pre-wrap;\n",
       "}\n",
       "</style>\n",
       "<small>shape: (5, 2)</small><table border=\"1\" class=\"dataframe\"><thead><tr><th>statistic</th><th>value</th></tr><tr><td>str</td><td>f64</td></tr></thead><tbody><tr><td>&quot;count&quot;</td><td>1798.0</td></tr><tr><td>&quot;null_count&quot;</td><td>0.0</td></tr><tr><td>&quot;mean&quot;</td><td>0.0</td></tr><tr><td>&quot;min&quot;</td><td>0.0</td></tr><tr><td>&quot;max&quot;</td><td>0.0</td></tr></tbody></table></div>"
      ],
      "text/plain": [
       "shape: (5, 2)\n",
       "┌────────────┬────────┐\n",
       "│ statistic  ┆ value  │\n",
       "│ ---        ┆ ---    │\n",
       "│ str        ┆ f64    │\n",
       "╞════════════╪════════╡\n",
       "│ count      ┆ 1798.0 │\n",
       "│ null_count ┆ 0.0    │\n",
       "│ mean       ┆ 0.0    │\n",
       "│ min        ┆ 0.0    │\n",
       "│ max        ┆ 0.0    │\n",
       "└────────────┴────────┘"
      ]
     },
     "execution_count": 21,
     "metadata": {},
     "output_type": "execute_result"
    }
   ],
   "source": [
    "brut.is_duplicated().describe()"
   ]
  },
  {
   "cell_type": "code",
   "execution_count": 22,
   "id": "22366021-cbc3-4a3e-91eb-c4afa4679d63",
   "metadata": {},
   "outputs": [
    {
     "data": {
      "text/plain": [
       "['id', 'genre', 'prix', 'pcs', 'desc', 'lien']"
      ]
     },
     "execution_count": 22,
     "metadata": {},
     "output_type": "execute_result"
    }
   ],
   "source": [
    "brut.columns"
   ]
  },
  {
   "cell_type": "markdown",
   "id": "857945f3-89d5-4d6a-be04-99fecca092ce",
   "metadata": {},
   "source": [
    "**REMARQUE** la colonne `id` a permis de supprimer les doublons de manière sûre, elle pourra être abandonner maintenant."
   ]
  },
  {
   "cell_type": "code",
   "execution_count": 23,
   "id": "d6964435-94c3-4f33-aab3-86cd4cd14389",
   "metadata": {},
   "outputs": [
    {
     "data": {
      "text/html": [
       "<div><style>\n",
       ".dataframe > thead > tr,\n",
       ".dataframe > tbody > tr {\n",
       "  text-align: right;\n",
       "  white-space: pre-wrap;\n",
       "}\n",
       "</style>\n",
       "<small>shape: (1_798,)</small><table border=\"1\" class=\"dataframe\"><thead><tr><th>genre</th></tr><tr><td>str</td></tr></thead><tbody><tr><td>&quot;Appartement&quot;</td></tr><tr><td>&quot;Maison / Villa&quot;</td></tr><tr><td>&quot;Appartement&quot;</td></tr><tr><td>&quot;Appartement&quot;</td></tr><tr><td>&quot;Maison / Villa&quot;</td></tr><tr><td>&hellip;</td></tr><tr><td>&quot;Appartement&quot;</td></tr><tr><td>&quot;Appartement&quot;</td></tr><tr><td>&quot;Maison / Villa&quot;</td></tr><tr><td>&quot;Appartement neuf&quot;</td></tr><tr><td>&quot;Appartement&quot;</td></tr></tbody></table></div>"
      ],
      "text/plain": [
       "shape: (1_798,)\n",
       "Series: 'genre' [str]\n",
       "[\n",
       "\t\"Appartement\"\n",
       "\t\"Maison / Villa\"\n",
       "\t\"Appartement\"\n",
       "\t\"Appartement\"\n",
       "\t\"Maison / Villa\"\n",
       "\t…\n",
       "\t\"Appartement\"\n",
       "\t\"Appartement\"\n",
       "\t\"Maison / Villa\"\n",
       "\t\"Appartement neuf\"\n",
       "\t\"Appartement\"\n",
       "]"
      ]
     },
     "execution_count": 23,
     "metadata": {},
     "output_type": "execute_result"
    }
   ],
   "source": [
    "brut[\"genre\"]"
   ]
  },
  {
   "cell_type": "markdown",
   "id": "48c00c0b-e9fe-417d-a8ee-de52694eeb5d",
   "metadata": {},
   "source": [
    "Comme on a une variable en fait catégorielle, on veut voir les catégories présentes."
   ]
  },
  {
   "cell_type": "code",
   "execution_count": 24,
   "id": "eca0ecf7-70de-4c74-8d4a-bd98d4b20373",
   "metadata": {},
   "outputs": [
    {
     "data": {
      "text/html": [
       "<div><style>\n",
       ".dataframe > thead > tr,\n",
       ".dataframe > tbody > tr {\n",
       "  text-align: right;\n",
       "  white-space: pre-wrap;\n",
       "}\n",
       "</style>\n",
       "<small>shape: (16,)</small><table border=\"1\" class=\"dataframe\"><thead><tr><th>genre</th></tr><tr><td>str</td></tr></thead><tbody><tr><td>&quot;Bâtiment&quot;</td></tr><tr><td>&quot;Bureau&quot;</td></tr><tr><td>&quot;Projet de construction&quot;</td></tr><tr><td>&quot;Local commercial&quot;</td></tr><tr><td>&quot;Parking&quot;</td></tr><tr><td>&hellip;</td></tr><tr><td>&quot;Appartement&quot;</td></tr><tr><td>&quot;Boutique&quot;</td></tr><tr><td>&quot;Appartement neuf&quot;</td></tr><tr><td>&quot;Loft/Atelier/Surface&quot;</td></tr><tr><td>&quot;Immeuble&quot;</td></tr></tbody></table></div>"
      ],
      "text/plain": [
       "shape: (16,)\n",
       "Series: 'genre' [str]\n",
       "[\n",
       "\t\"Bâtiment\"\n",
       "\t\"Bureau\"\n",
       "\t\"Projet de construction\"\n",
       "\t\"Local commercial\"\n",
       "\t\"Parking\"\n",
       "\t…\n",
       "\t\"Appartement\"\n",
       "\t\"Boutique\"\n",
       "\t\"Appartement neuf\"\n",
       "\t\"Loft/Atelier/Surface\"\n",
       "\t\"Immeuble\"\n",
       "]"
      ]
     },
     "execution_count": 24,
     "metadata": {},
     "output_type": "execute_result"
    }
   ],
   "source": [
    "brut[\"genre\"].unique()"
   ]
  },
  {
   "cell_type": "markdown",
   "id": "492ae13f-9eeb-4c1b-80a8-ede5f9dbab2a",
   "metadata": {},
   "source": [
    "On voit qu'il y a des catégories qui ne correspondent pas à des habitations!"
   ]
  },
  {
   "cell_type": "code",
   "execution_count": 27,
   "id": "c08b23ba-befd-477e-84ea-8451f56ec5d8",
   "metadata": {},
   "outputs": [
    {
     "data": {
      "text/html": [
       "<div><style>\n",
       ".dataframe > thead > tr,\n",
       ".dataframe > tbody > tr {\n",
       "  text-align: right;\n",
       "  white-space: pre-wrap;\n",
       "}\n",
       "</style>\n",
       "<small>shape: (16, 2)</small><table border=\"1\" class=\"dataframe\"><thead><tr><th>genre</th><th>len</th></tr><tr><td>str</td><td>u32</td></tr></thead><tbody><tr><td>&quot;Maison / Villa&quot;</td><td>376</td></tr><tr><td>&quot;Hôtel particulier&quot;</td><td>1</td></tr><tr><td>&quot;Boutique&quot;</td><td>14</td></tr><tr><td>&quot;Maison / Villa neuve&quot;</td><td>16</td></tr><tr><td>&quot;Appartement&quot;</td><td>1037</td></tr><tr><td>&hellip;</td><td>&hellip;</td></tr><tr><td>&quot;Terrain&quot;</td><td>3</td></tr><tr><td>&quot;Local commercial&quot;</td><td>30</td></tr><tr><td>&quot;Immeuble&quot;</td><td>32</td></tr><tr><td>&quot;Château&quot;</td><td>17</td></tr><tr><td>&quot;Parking&quot;</td><td>38</td></tr></tbody></table></div>"
      ],
      "text/plain": [
       "shape: (16, 2)\n",
       "┌──────────────────────┬──────┐\n",
       "│ genre                ┆ len  │\n",
       "│ ---                  ┆ ---  │\n",
       "│ str                  ┆ u32  │\n",
       "╞══════════════════════╪══════╡\n",
       "│ Maison / Villa       ┆ 376  │\n",
       "│ Hôtel particulier    ┆ 1    │\n",
       "│ Boutique             ┆ 14   │\n",
       "│ Maison / Villa neuve ┆ 16   │\n",
       "│ Appartement          ┆ 1037 │\n",
       "│ …                    ┆ …    │\n",
       "│ Terrain              ┆ 3    │\n",
       "│ Local commercial     ┆ 30   │\n",
       "│ Immeuble             ┆ 32   │\n",
       "│ Château              ┆ 17   │\n",
       "│ Parking              ┆ 38   │\n",
       "└──────────────────────┴──────┘"
      ]
     },
     "execution_count": 27,
     "metadata": {},
     "output_type": "execute_result"
    }
   ],
   "source": [
    "brut.group_by(\"genre\").len()"
   ]
  },
  {
   "cell_type": "code",
   "execution_count": 32,
   "id": "06c4f2c7-6aa4-46be-b5c6-faefdeff629e",
   "metadata": {},
   "outputs": [
    {
     "data": {
      "text/plain": [
       "['Bureau',\n",
       " 'Hôtel particulier',\n",
       " 'Projet de construction',\n",
       " 'Local commercial',\n",
       " 'Divers',\n",
       " 'Château',\n",
       " 'Parking',\n",
       " 'Appartement neuf',\n",
       " 'Boutique',\n",
       " 'Loft/Atelier/Surface',\n",
       " 'Appartement',\n",
       " 'Terrain',\n",
       " 'Immeuble',\n",
       " 'Maison / Villa',\n",
       " 'Maison / Villa neuve',\n",
       " 'Bâtiment']"
      ]
     },
     "execution_count": 32,
     "metadata": {},
     "output_type": "execute_result"
    }
   ],
   "source": [
    "list(brut[\"genre\"].unique())"
   ]
  },
  {
   "cell_type": "markdown",
   "id": "32cef8c1-31a3-4855-977d-010495010abc",
   "metadata": {},
   "source": [
    "**EXERCICE** On ne veut conserver que les annonces correspondant à un genre:\n",
    "- Appartement neuf\n",
    "- Appartement\n",
    "- Maison / Villa\n",
    "- Maison / Villa neuve"
   ]
  },
  {
   "cell_type": "markdown",
   "id": "465951c7-fb23-4690-9590-d675eb6e4a7b",
   "metadata": {},
   "source": [
    "On commencera par regarder la documentation de `DataFrame.filter`."
   ]
  },
  {
   "cell_type": "code",
   "execution_count": 34,
   "id": "d322467e-c57e-4b4e-9ab3-d8151351b330",
   "metadata": {},
   "outputs": [],
   "source": [
    "genre_valides = {\n",
    "    'Appartement neuf', \n",
    "    'Appartement', \n",
    "    'Maison / Villa', \n",
    "    'Maison / Villa neuve'\n",
    "}\n",
    "brut = brut.filter(pl.col(\"genre\").is_in(genre_valides)).drop(\"id\")"
   ]
  },
  {
   "cell_type": "code",
   "execution_count": 35,
   "id": "7518a6d1-6955-49ce-91c8-974ff92678b8",
   "metadata": {},
   "outputs": [
    {
     "data": {
      "text/html": [
       "<div><style>\n",
       ".dataframe > thead > tr,\n",
       ".dataframe > tbody > tr {\n",
       "  text-align: right;\n",
       "  white-space: pre-wrap;\n",
       "}\n",
       "</style>\n",
       "<small>shape: (9, 6)</small><table border=\"1\" class=\"dataframe\"><thead><tr><th>statistic</th><th>genre</th><th>prix</th><th>pcs</th><th>desc</th><th>lien</th></tr><tr><td>str</td><td>str</td><td>str</td><td>str</td><td>str</td><td>str</td></tr></thead><tbody><tr><td>&quot;count&quot;</td><td>&quot;1633&quot;</td><td>&quot;1633&quot;</td><td>&quot;1633&quot;</td><td>&quot;1633&quot;</td><td>&quot;1633&quot;</td></tr><tr><td>&quot;null_count&quot;</td><td>&quot;0&quot;</td><td>&quot;0&quot;</td><td>&quot;0&quot;</td><td>&quot;0&quot;</td><td>&quot;0&quot;</td></tr><tr><td>&quot;mean&quot;</td><td>null</td><td>null</td><td>null</td><td>null</td><td>null</td></tr><tr><td>&quot;std&quot;</td><td>null</td><td>null</td><td>null</td><td>null</td><td>null</td></tr><tr><td>&quot;min&quot;</td><td>&quot;Appartement&quot;</td><td>&quot;1 030 000 €&quot;</td><td>&quot;&quot;</td><td>&quot;&quot;TOURS GRAMMONT&quot; Dernier étage…</td><td>&quot;https://www.bellesdemeures.com…</td></tr><tr><td>&quot;25%&quot;</td><td>null</td><td>null</td><td>null</td><td>null</td><td>null</td></tr><tr><td>&quot;50%&quot;</td><td>null</td><td>null</td><td>null</td><td>null</td><td>null</td></tr><tr><td>&quot;75%&quot;</td><td>null</td><td>null</td><td>null</td><td>null</td><td>null</td></tr><tr><td>&quot;max&quot;</td><td>&quot;Maison / Villa neuve&quot;</td><td>&quot;€&quot;</td><td>&quot;9 p 8 ch 280 m²&quot;</td><td>&quot;ÉLÉGANTE MAISON BOURGEOISE, po…</td><td>&quot;https://www.selogerneuf.com/an…</td></tr></tbody></table></div>"
      ],
      "text/plain": [
       "shape: (9, 6)\n",
       "┌────────────┬──────────────────────┬─────────────┬─────────────────┬─────────────────────────────────┬─────────────────────────────────┐\n",
       "│ statistic  ┆ genre                ┆ prix        ┆ pcs             ┆ desc                            ┆ lien                            │\n",
       "│ ---        ┆ ---                  ┆ ---         ┆ ---             ┆ ---                             ┆ ---                             │\n",
       "│ str        ┆ str                  ┆ str         ┆ str             ┆ str                             ┆ str                             │\n",
       "╞════════════╪══════════════════════╪═════════════╪═════════════════╪═════════════════════════════════╪═════════════════════════════════╡\n",
       "│ count      ┆ 1633                 ┆ 1633        ┆ 1633            ┆ 1633                            ┆ 1633                            │\n",
       "│ null_count ┆ 0                    ┆ 0           ┆ 0               ┆ 0                               ┆ 0                               │\n",
       "│ mean       ┆ null                 ┆ null        ┆ null            ┆ null                            ┆ null                            │\n",
       "│ std        ┆ null                 ┆ null        ┆ null            ┆ null                            ┆ null                            │\n",
       "│ min        ┆ Appartement          ┆ 1 030 000 € ┆                 ┆ \"TOURS GRAMMONT\" Dernier étage… ┆ https://www.bellesdemeures.com… │\n",
       "│ 25%        ┆ null                 ┆ null        ┆ null            ┆ null                            ┆ null                            │\n",
       "│ 50%        ┆ null                 ┆ null        ┆ null            ┆ null                            ┆ null                            │\n",
       "│ 75%        ┆ null                 ┆ null        ┆ null            ┆ null                            ┆ null                            │\n",
       "│ max        ┆ Maison / Villa neuve ┆ €           ┆ 9 p 8 ch 280 m² ┆ ÉLÉGANTE MAISON BOURGEOISE, po… ┆ https://www.selogerneuf.com/an… │\n",
       "└────────────┴──────────────────────┴─────────────┴─────────────────┴─────────────────────────────────┴─────────────────────────────────┘"
      ]
     },
     "execution_count": 35,
     "metadata": {},
     "output_type": "execute_result"
    }
   ],
   "source": [
    "brut.describe()"
   ]
  },
  {
   "cell_type": "markdown",
   "id": "14064b7a-8859-4b87-8215-56851615a328",
   "metadata": {},
   "source": [
    "**EXERCICE** La colonne suivante est `prix`, comme c'est la valeur cible, il faut être sûr de ne garder que les annonces qui ont un prix valide.\n",
    "\n",
    "On commencera par construire une regex qui matche un prix valide."
   ]
  },
  {
   "cell_type": "code",
   "execution_count": 36,
   "id": "91fde9f9-18b0-4e9e-bac6-e362ed2d1682",
   "metadata": {},
   "outputs": [
    {
     "data": {
      "text/html": [
       "<div><style>\n",
       ".dataframe > thead > tr,\n",
       ".dataframe > tbody > tr {\n",
       "  text-align: right;\n",
       "  white-space: pre-wrap;\n",
       "}\n",
       "</style>\n",
       "<small>shape: (1_633,)</small><table border=\"1\" class=\"dataframe\"><thead><tr><th>prix</th></tr><tr><td>str</td></tr></thead><tbody><tr><td>&quot;236 250 €&quot;</td></tr><tr><td>&quot;629 000 €&quot;</td></tr><tr><td>&quot;146 400 €&quot;</td></tr><tr><td>&quot;94 000 €&quot;</td></tr><tr><td>&quot;1 924 000 €&quot;</td></tr><tr><td>&hellip;</td></tr><tr><td>&quot;203 300 €&quot;</td></tr><tr><td>&quot;425 000 €&quot;</td></tr><tr><td>&quot;370 000 € HH&quot;</td></tr><tr><td>&quot;149 000 €&quot;</td></tr><tr><td>&quot;292 950 €&quot;</td></tr></tbody></table></div>"
      ],
      "text/plain": [
       "shape: (1_633,)\n",
       "Series: 'prix' [str]\n",
       "[\n",
       "\t\"236 250 €\"\n",
       "\t\"629 000 €\"\n",
       "\t\"146 400 €\"\n",
       "\t\"94 000 €\"\n",
       "\t\"1 924 000 €\"\n",
       "\t…\n",
       "\t\"203 300 €\"\n",
       "\t\"425 000 €\"\n",
       "\t\"370 000 € HH\"\n",
       "\t\"149 000 €\"\n",
       "\t\"292 950 €\"\n",
       "]"
      ]
     },
     "execution_count": 36,
     "metadata": {},
     "output_type": "execute_result"
    }
   ],
   "source": [
    "brut[\"prix\"]"
   ]
  },
  {
   "cell_type": "code",
   "execution_count": 55,
   "id": "832884bd-a7f8-40d3-883a-d4ce2834600e",
   "metadata": {},
   "outputs": [],
   "source": [
    "prix_valide = \"^[0-9 ]+ €.*$\""
   ]
  },
  {
   "cell_type": "code",
   "execution_count": 56,
   "id": "8de746c0-90a8-4689-89c3-a82e3a30d09a",
   "metadata": {},
   "outputs": [
    {
     "data": {
      "text/plain": [
       "<re.Match object; span=(0, 11), match='1 924 000 €'>"
      ]
     },
     "execution_count": 56,
     "metadata": {},
     "output_type": "execute_result"
    }
   ],
   "source": [
    "re.match(prix_valide, \"1 924 000 €\")"
   ]
  },
  {
   "cell_type": "code",
   "execution_count": 57,
   "id": "9fb040e6-c80f-48a5-85ae-8562927333be",
   "metadata": {},
   "outputs": [
    {
     "data": {
      "text/plain": [
       "<re.Match object; span=(0, 12), match='370 000 € HH'>"
      ]
     },
     "execution_count": 57,
     "metadata": {},
     "output_type": "execute_result"
    }
   ],
   "source": [
    "re.match(prix_valide, \"370 000 € HH\")"
   ]
  },
  {
   "cell_type": "code",
   "execution_count": 58,
   "id": "9d935e28-2c5f-4fed-ac55-fa07d6a46cf4",
   "metadata": {},
   "outputs": [],
   "source": [
    "brut = brut.filter(pl.col(\"prix\").str.count_matches(prix_valide) > 0)"
   ]
  },
  {
   "cell_type": "code",
   "execution_count": 52,
   "id": "338e4905-8c9a-430a-a71a-92f0aa520c76",
   "metadata": {},
   "outputs": [
    {
     "data": {
      "text/html": [
       "<div><style>\n",
       ".dataframe > thead > tr,\n",
       ".dataframe > tbody > tr {\n",
       "  text-align: right;\n",
       "  white-space: pre-wrap;\n",
       "}\n",
       "</style>\n",
       "<small>shape: (9, 6)</small><table border=\"1\" class=\"dataframe\"><thead><tr><th>statistic</th><th>genre</th><th>prix</th><th>pcs</th><th>desc</th><th>lien</th></tr><tr><td>str</td><td>str</td><td>str</td><td>str</td><td>str</td><td>str</td></tr></thead><tbody><tr><td>&quot;count&quot;</td><td>&quot;1632&quot;</td><td>&quot;1632&quot;</td><td>&quot;1632&quot;</td><td>&quot;1632&quot;</td><td>&quot;1632&quot;</td></tr><tr><td>&quot;null_count&quot;</td><td>&quot;0&quot;</td><td>&quot;0&quot;</td><td>&quot;0&quot;</td><td>&quot;0&quot;</td><td>&quot;0&quot;</td></tr><tr><td>&quot;mean&quot;</td><td>null</td><td>null</td><td>null</td><td>null</td><td>null</td></tr><tr><td>&quot;std&quot;</td><td>null</td><td>null</td><td>null</td><td>null</td><td>null</td></tr><tr><td>&quot;min&quot;</td><td>&quot;Appartement&quot;</td><td>&quot;1 030 000 €&quot;</td><td>&quot;1 p 1 ch 29 m²&quot;</td><td>&quot;&quot;TOURS GRAMMONT&quot; Dernier étage…</td><td>&quot;https://www.bellesdemeures.com…</td></tr><tr><td>&quot;25%&quot;</td><td>null</td><td>null</td><td>null</td><td>null</td><td>null</td></tr><tr><td>&quot;50%&quot;</td><td>null</td><td>null</td><td>null</td><td>null</td><td>null</td></tr><tr><td>&quot;75%&quot;</td><td>null</td><td>null</td><td>null</td><td>null</td><td>null</td></tr><tr><td>&quot;max&quot;</td><td>&quot;Maison / Villa neuve&quot;</td><td>&quot;992 000 €&quot;</td><td>&quot;9 p 8 ch 280 m²&quot;</td><td>&quot;ÉLÉGANTE MAISON BOURGEOISE, po…</td><td>&quot;https://www.selogerneuf.com/an…</td></tr></tbody></table></div>"
      ],
      "text/plain": [
       "shape: (9, 6)\n",
       "┌────────────┬──────────────────────┬─────────────┬─────────────────┬─────────────────────────────────┬─────────────────────────────────┐\n",
       "│ statistic  ┆ genre                ┆ prix        ┆ pcs             ┆ desc                            ┆ lien                            │\n",
       "│ ---        ┆ ---                  ┆ ---         ┆ ---             ┆ ---                             ┆ ---                             │\n",
       "│ str        ┆ str                  ┆ str         ┆ str             ┆ str                             ┆ str                             │\n",
       "╞════════════╪══════════════════════╪═════════════╪═════════════════╪═════════════════════════════════╪═════════════════════════════════╡\n",
       "│ count      ┆ 1632                 ┆ 1632        ┆ 1632            ┆ 1632                            ┆ 1632                            │\n",
       "│ null_count ┆ 0                    ┆ 0           ┆ 0               ┆ 0                               ┆ 0                               │\n",
       "│ mean       ┆ null                 ┆ null        ┆ null            ┆ null                            ┆ null                            │\n",
       "│ std        ┆ null                 ┆ null        ┆ null            ┆ null                            ┆ null                            │\n",
       "│ min        ┆ Appartement          ┆ 1 030 000 € ┆ 1 p 1 ch 29 m²  ┆ \"TOURS GRAMMONT\" Dernier étage… ┆ https://www.bellesdemeures.com… │\n",
       "│ 25%        ┆ null                 ┆ null        ┆ null            ┆ null                            ┆ null                            │\n",
       "│ 50%        ┆ null                 ┆ null        ┆ null            ┆ null                            ┆ null                            │\n",
       "│ 75%        ┆ null                 ┆ null        ┆ null            ┆ null                            ┆ null                            │\n",
       "│ max        ┆ Maison / Villa neuve ┆ 992 000 €   ┆ 9 p 8 ch 280 m² ┆ ÉLÉGANTE MAISON BOURGEOISE, po… ┆ https://www.selogerneuf.com/an… │\n",
       "└────────────┴──────────────────────┴─────────────┴─────────────────┴─────────────────────────────────┴─────────────────────────────────┘"
      ]
     },
     "execution_count": 52,
     "metadata": {},
     "output_type": "execute_result"
    }
   ],
   "source": [
    "brut.describe()"
   ]
  },
  {
   "cell_type": "markdown",
   "id": "7a9e5ba6-6911-410c-974f-c64eed4c0680",
   "metadata": {},
   "source": [
    "**EXERCICE** Explorer la variable `pcs` puis filtrer ce qui est pertinent."
   ]
  },
  {
   "cell_type": "code",
   "execution_count": 53,
   "id": "44efaabd-da42-405c-ac22-a0b7b9ab33bb",
   "metadata": {},
   "outputs": [
    {
     "data": {
      "text/html": [
       "<div><style>\n",
       ".dataframe > thead > tr,\n",
       ".dataframe > tbody > tr {\n",
       "  text-align: right;\n",
       "  white-space: pre-wrap;\n",
       "}\n",
       "</style>\n",
       "<small>shape: (10,)</small><table border=\"1\" class=\"dataframe\"><thead><tr><th>pcs</th></tr><tr><td>str</td></tr></thead><tbody><tr><td>&quot;5 p 3 ch 150 m²&quot;</td></tr><tr><td>&quot;5 p 3 ch 88,2 m²&quot;</td></tr><tr><td>&quot;2 p 1 ch 42 m²&quot;</td></tr><tr><td>&quot;2 p 1 ch 43 m²&quot;</td></tr><tr><td>&quot;2 p 1 ch 36 m²&quot;</td></tr><tr><td>&quot;2 p 1 ch 30 m²&quot;</td></tr><tr><td>&quot;3 p 2 ch 69 m²&quot;</td></tr><tr><td>&quot;8 p 5 ch 196,44 m²&quot;</td></tr><tr><td>&quot;2 p 1 ch 50,67 m²&quot;</td></tr><tr><td>&quot;3 p 2 ch 58 m²&quot;</td></tr></tbody></table></div>"
      ],
      "text/plain": [
       "shape: (10,)\n",
       "Series: 'pcs' [str]\n",
       "[\n",
       "\t\"5 p 3 ch 150 m²\"\n",
       "\t\"5 p 3 ch 88,2 m²\"\n",
       "\t\"2 p 1 ch 42 m²\"\n",
       "\t\"2 p 1 ch 43 m²\"\n",
       "\t\"2 p 1 ch 36 m²\"\n",
       "\t\"2 p 1 ch 30 m²\"\n",
       "\t\"3 p 2 ch 69 m²\"\n",
       "\t\"8 p 5 ch 196,44 m²\"\n",
       "\t\"2 p 1 ch 50,67 m²\"\n",
       "\t\"3 p 2 ch 58 m²\"\n",
       "]"
      ]
     },
     "execution_count": 53,
     "metadata": {},
     "output_type": "execute_result"
    }
   ],
   "source": [
    "brut[\"pcs\"].sample(10)"
   ]
  },
  {
   "cell_type": "code",
   "execution_count": 68,
   "id": "2e4ffb68-7f8d-4276-a122-72885828e6b8",
   "metadata": {},
   "outputs": [],
   "source": [
    "motif_surface = \"(([0-9]+)|([0-9]+,[0-9]+)) m²\""
   ]
  },
  {
   "cell_type": "code",
   "execution_count": 69,
   "id": "ae22fa55-05e1-4630-ad4c-9b79924bea4d",
   "metadata": {},
   "outputs": [
    {
     "data": {
      "text/plain": [
       "[('150', '150', '')]"
      ]
     },
     "execution_count": 69,
     "metadata": {},
     "output_type": "execute_result"
    }
   ],
   "source": [
    "re.findall(motif_surface, \"5 p 3 ch 150 m²\")"
   ]
  },
  {
   "cell_type": "code",
   "execution_count": 70,
   "id": "5f246ef5-4275-4ec1-a1a3-71eb7511eb63",
   "metadata": {},
   "outputs": [
    {
     "data": {
      "text/plain": [
       "[('88,2', '', '88,2')]"
      ]
     },
     "execution_count": 70,
     "metadata": {},
     "output_type": "execute_result"
    }
   ],
   "source": [
    "re.findall(motif_surface, \"5 p 3 ch 88,2 m²\")"
   ]
  },
  {
   "cell_type": "code",
   "execution_count": 71,
   "id": "567daac1-24df-4bbd-ab9a-f150787933ec",
   "metadata": {},
   "outputs": [
    {
     "data": {
      "text/plain": [
       "[('196,44', '', '196,44')]"
      ]
     },
     "execution_count": 71,
     "metadata": {},
     "output_type": "execute_result"
    }
   ],
   "source": [
    "re.findall(motif_surface, \"8 p 5 ch 196,44 m²\")"
   ]
  },
  {
   "cell_type": "code",
   "execution_count": 72,
   "id": "cfb31cad-4f1a-4aa7-b49c-6933d18dceaf",
   "metadata": {},
   "outputs": [],
   "source": [
    "brut = brut.filter(pl.col(\"pcs\").str.find(motif_surface).is_not_null())"
   ]
  },
  {
   "cell_type": "code",
   "execution_count": 73,
   "id": "7dcf7e35-8a49-43cf-be7e-4cf192a1d44c",
   "metadata": {},
   "outputs": [],
   "source": [
    "motif_pieces = \"[0-9]+ p\""
   ]
  },
  {
   "cell_type": "code",
   "execution_count": 76,
   "id": "1029b256-33d5-4c8c-a58c-a3134e6ed5df",
   "metadata": {},
   "outputs": [],
   "source": [
    "brut = brut.filter(pl.col(\"pcs\").str.find(motif_pieces).is_not_null())"
   ]
  },
  {
   "cell_type": "code",
   "execution_count": 80,
   "id": "3abff1ef-332b-49c3-a098-5ca33e2cd392",
   "metadata": {},
   "outputs": [
    {
     "data": {
      "text/plain": [
       "(1625, 5)"
      ]
     },
     "execution_count": 80,
     "metadata": {},
     "output_type": "execute_result"
    }
   ],
   "source": [
    "brut.shape"
   ]
  },
  {
   "cell_type": "code",
   "execution_count": 77,
   "id": "47d8f82d-036a-409d-b120-227c576c2474",
   "metadata": {},
   "outputs": [],
   "source": [
    "motif_chambre = \"[0-9]+ ch\""
   ]
  },
  {
   "cell_type": "code",
   "execution_count": 79,
   "id": "8f64bb11-89a6-4653-bf69-98627087803e",
   "metadata": {},
   "outputs": [
    {
     "data": {
      "text/plain": [
       "(1450, 5)"
      ]
     },
     "execution_count": 79,
     "metadata": {},
     "output_type": "execute_result"
    }
   ],
   "source": [
    "brut.filter(pl.col(\"pcs\").str.find(motif_chambre).is_not_null()).shape"
   ]
  },
  {
   "cell_type": "markdown",
   "id": "b41312ee-b9a6-4bc6-9f48-96959c49ef19",
   "metadata": {},
   "source": [
    "**REMARQUE** il y a 175 annonces sans renseignement concernant le nombre de chambres.\n",
    "On a trois possibilités:\n",
    "- On filtre pour ne garder que les annonces avec cette information\n",
    "- On ne filtre pas et on abandonne cette variable explicative\n",
    "- On ne filtre pas et on cherche à entrer une valeur pertinente (ou Null) lorsque l'information manque (on peut par exemple partir de l'hypothèse qu'il n'y a qu'une seule chambre)"
   ]
  },
  {
   "cell_type": "code",
   "execution_count": 82,
   "id": "4f6b186c-835d-4cbe-a577-5e84bd7e362d",
   "metadata": {},
   "outputs": [
    {
     "data": {
      "text/html": [
       "<div><style>\n",
       ".dataframe > thead > tr,\n",
       ".dataframe > tbody > tr {\n",
       "  text-align: right;\n",
       "  white-space: pre-wrap;\n",
       "}\n",
       "</style>\n",
       "<small>shape: (15, 5)</small><table border=\"1\" class=\"dataframe\"><thead><tr><th>genre</th><th>prix</th><th>pcs</th><th>desc</th><th>lien</th></tr><tr><td>str</td><td>str</td><td>str</td><td>str</td><td>str</td></tr></thead><tbody><tr><td>&quot;Maison / Villa neuve&quot;</td><td>&quot;320 000 €&quot;</td><td>&quot;4 p 84,4 m²&quot;</td><td>&quot;Maisons de ville 3 chambres av…</td><td>&quot;https://www.selogerneuf.com/an…</td></tr><tr><td>&quot;Appartement&quot;</td><td>&quot;35 000 €&quot;</td><td>&quot;1 p 33 m² 1 asc&quot;</td><td>&quot;En exclusivité chez FONCIA. Ré…</td><td>&quot;https://www.seloger.com/annonc…</td></tr><tr><td>&quot;Appartement neuf&quot;</td><td>&quot;129 600 €&quot;</td><td>&quot;2 p 40 m²&quot;</td><td>&quot;LE NOUVEAU CŒUR DE VIE A TOURS…</td><td>&quot;https://www.selogerneuf.com/an…</td></tr><tr><td>&quot;Appartement&quot;</td><td>&quot;82 500 €&quot;</td><td>&quot;1 p 36,59 m² 1 asc&quot;</td><td>&quot;Une EXCLUSIVITÉ CITYA pour un …</td><td>&quot;https://www.seloger.com/annonc…</td></tr><tr><td>&quot;Appartement neuf&quot;</td><td>&quot;188 500 €&quot;</td><td>&quot;2 p 54,1 m² 1 asc&quot;</td><td>&quot;LANCEMENT COMMERCIAL ! Renseig…</td><td>&quot;https://www.selogerneuf.com/an…</td></tr><tr><td>&hellip;</td><td>&hellip;</td><td>&hellip;</td><td>&hellip;</td><td>&hellip;</td></tr><tr><td>&quot;Appartement&quot;</td><td>&quot;95 500 €&quot;</td><td>&quot;1 p 35 m² 5 etg&quot;</td><td>&quot;** EXCEPTIONNEL FRAIS D AGENCE…</td><td>&quot;https://www.seloger.com/annonc…</td></tr><tr><td>&quot;Appartement neuf&quot;</td><td>&quot;271 000 €&quot;</td><td>&quot;4 p 89 m² tess&quot;</td><td>&quot;Au nord du centre-ville de Tou…</td><td>&quot;https://www.selogerneuf.com/an…</td></tr><tr><td>&quot;Maison / Villa neuve&quot;</td><td>&quot;478 000 €&quot;</td><td>&quot;4 p 113 m²&quot;</td><td>&quot;Face à la Loire, Panoramic est…</td><td>&quot;https://www.selogerneuf.com/an…</td></tr><tr><td>&quot;Appartement neuf&quot;</td><td>&quot;261 000 €&quot;</td><td>&quot;4 p 82 m² tess&quot;</td><td>&quot;Au nord du centre-ville de Tou…</td><td>&quot;https://www.selogerneuf.com/an…</td></tr><tr><td>&quot;Appartement&quot;</td><td>&quot;68 900 € HH&quot;</td><td>&quot;1 p 51,57 m² 1 asc&quot;</td><td>&quot;A vendre Appartement TOURS (37…</td><td>&quot;https://www.seloger.com/annonc…</td></tr></tbody></table></div>"
      ],
      "text/plain": [
       "shape: (15, 5)\n",
       "┌──────────────────────┬─────────────┬────────────────────┬─────────────────────────────────┬─────────────────────────────────┐\n",
       "│ genre                ┆ prix        ┆ pcs                ┆ desc                            ┆ lien                            │\n",
       "│ ---                  ┆ ---         ┆ ---                ┆ ---                             ┆ ---                             │\n",
       "│ str                  ┆ str         ┆ str                ┆ str                             ┆ str                             │\n",
       "╞══════════════════════╪═════════════╪════════════════════╪═════════════════════════════════╪═════════════════════════════════╡\n",
       "│ Maison / Villa neuve ┆ 320 000 €   ┆ 4 p 84,4 m²        ┆ Maisons de ville 3 chambres av… ┆ https://www.selogerneuf.com/an… │\n",
       "│ Appartement          ┆ 35 000 €    ┆ 1 p 33 m² 1 asc    ┆ En exclusivité chez FONCIA. Ré… ┆ https://www.seloger.com/annonc… │\n",
       "│ Appartement neuf     ┆ 129 600 €   ┆ 2 p 40 m²          ┆ LE NOUVEAU CŒUR DE VIE A TOURS… ┆ https://www.selogerneuf.com/an… │\n",
       "│ Appartement          ┆ 82 500 €    ┆ 1 p 36,59 m² 1 asc ┆ Une EXCLUSIVITÉ CITYA pour un … ┆ https://www.seloger.com/annonc… │\n",
       "│ Appartement neuf     ┆ 188 500 €   ┆ 2 p 54,1 m² 1 asc  ┆ LANCEMENT COMMERCIAL ! Renseig… ┆ https://www.selogerneuf.com/an… │\n",
       "│ …                    ┆ …           ┆ …                  ┆ …                               ┆ …                               │\n",
       "│ Appartement          ┆ 95 500 €    ┆ 1 p 35 m² 5 etg    ┆ ** EXCEPTIONNEL FRAIS D AGENCE… ┆ https://www.seloger.com/annonc… │\n",
       "│ Appartement neuf     ┆ 271 000 €   ┆ 4 p 89 m² tess     ┆ Au nord du centre-ville de Tou… ┆ https://www.selogerneuf.com/an… │\n",
       "│ Maison / Villa neuve ┆ 478 000 €   ┆ 4 p 113 m²         ┆ Face à la Loire, Panoramic est… ┆ https://www.selogerneuf.com/an… │\n",
       "│ Appartement neuf     ┆ 261 000 €   ┆ 4 p 82 m² tess     ┆ Au nord du centre-ville de Tou… ┆ https://www.selogerneuf.com/an… │\n",
       "│ Appartement          ┆ 68 900 € HH ┆ 1 p 51,57 m² 1 asc ┆ A vendre Appartement TOURS (37… ┆ https://www.seloger.com/annonc… │\n",
       "└──────────────────────┴─────────────┴────────────────────┴─────────────────────────────────┴─────────────────────────────────┘"
      ]
     },
     "execution_count": 82,
     "metadata": {},
     "output_type": "execute_result"
    }
   ],
   "source": [
    "brut.filter(pl.col(\"pcs\").str.find(motif_chambre).is_null()).sample(15)"
   ]
  },
  {
   "cell_type": "markdown",
   "id": "663c7806-980f-4930-aa56-de0e74b9113b",
   "metadata": {},
   "source": [
    "On ne voit pas forcément de stratégie d'input évident on va prendre la deuxième option."
   ]
  },
  {
   "cell_type": "markdown",
   "id": "bfd6cfb1-bcd0-42ec-9540-3b2164e84a5c",
   "metadata": {},
   "source": [
    "**CONCLUSION** on ne voit pas de filtre évident sur les deux dernières colonnes, on s'arrête ici."
   ]
  },
  {
   "cell_type": "markdown",
   "id": "abea2729-f311-4568-b680-5874e5d33a64",
   "metadata": {},
   "source": [
    "**EXERCICE** Produire un DataFrame avec les variables explicatives\n",
    "- nombre de pièce (int)\n",
    "- surface (float)\n",
    "- Maison (Vrai ou Faux (appartement))\n",
    "- Neuf (Vrai ou Faux)\n",
    "- Prix (int)\n",
    "\n",
    "On commencera en regardant la documentation de `DataFrame.select`."
   ]
  },
  {
   "cell_type": "code",
   "execution_count": 105,
   "id": "739ee3f2-193d-45ee-94bc-0c55efcd5b33",
   "metadata": {},
   "outputs": [],
   "source": [
    "motif_prix = \"([0-9 ]+) €.*\"\n",
    "motif_surface = \"(([0-9]+)|([0-9]+,[0-9]*)) m²\"\n",
    "motif_pieces = \"([0-9]+) p\"\n",
    "motif_maison = \"Maison\"\n",
    "motif_neuf = \"(neuf|neuve)\""
   ]
  },
  {
   "cell_type": "code",
   "execution_count": 111,
   "id": "3f06fb39-2d59-48d9-858a-4842acb64511",
   "metadata": {},
   "outputs": [],
   "source": [
    "dataset = brut.select(\n",
    "    pl.col(\"prix\").str.extract(motif_prix).str.replace_all(\" \", \"\").cast(int),\n",
    "    pl.col(\"pcs\").str.extract(motif_surface).str.replace(\",\", \".\").cast(float).alias(\"surface\"),\n",
    "    pl.col(\"pcs\").str.extract(motif_pieces).cast(int).alias(\"Nombre pieces\"),\n",
    "    (pl.col(\"genre\").str.count_matches(motif_maison) > 0).alias(\"Maison\"),\n",
    "    (pl.col(\"genre\").str.count_matches(motif_neuf) > 0).alias(\"Neuf\"),\n",
    ")"
   ]
  },
  {
   "cell_type": "code",
   "execution_count": 115,
   "id": "1f2ad937-7030-415a-8216-cfdd87f489b5",
   "metadata": {},
   "outputs": [
    {
     "name": "stdout",
     "output_type": "stream",
     "text": [
      "shape: (2, 2)\n",
      "┌────────┬──────┐\n",
      "│ Maison ┆ len  │\n",
      "│ ---    ┆ ---  │\n",
      "│ bool   ┆ u32  │\n",
      "╞════════╪══════╡\n",
      "│ false  ┆ 1234 │\n",
      "│ true   ┆ 391  │\n",
      "└────────┴──────┘\n",
      "shape: (2, 2)\n",
      "┌───────┬──────┐\n",
      "│ Neuf  ┆ len  │\n",
      "│ ---   ┆ ---  │\n",
      "│ bool  ┆ u32  │\n",
      "╞═══════╪══════╡\n",
      "│ true  ┆ 219  │\n",
      "│ false ┆ 1406 │\n",
      "└───────┴──────┘\n",
      "shape: (4, 2)\n",
      "┌──────────────────────┬──────┐\n",
      "│ genre                ┆ len  │\n",
      "│ ---                  ┆ ---  │\n",
      "│ str                  ┆ u32  │\n",
      "╞══════════════════════╪══════╡\n",
      "│ Maison / Villa neuve ┆ 16   │\n",
      "│ Appartement neuf     ┆ 203  │\n",
      "│ Appartement          ┆ 1031 │\n",
      "│ Maison / Villa       ┆ 375  │\n",
      "└──────────────────────┴──────┘\n"
     ]
    }
   ],
   "source": [
    "# vérification Maison Neuf\n",
    "print(dataset.group_by(\"Maison\").len())\n",
    "print(dataset.group_by(\"Neuf\").len())\n",
    "print(brut.group_by(\"genre\").len())"
   ]
  },
  {
   "cell_type": "code",
   "execution_count": null,
   "id": "51277fac-763b-49fd-9607-9a52a4d4e677",
   "metadata": {},
   "outputs": [],
   "source": []
  }
 ],
 "metadata": {
  "kernelspec": {
   "display_name": "Python 3 (ipykernel)",
   "language": "python",
   "name": "python3"
  },
  "language_info": {
   "codemirror_mode": {
    "name": "ipython",
    "version": 3
   },
   "file_extension": ".py",
   "mimetype": "text/x-python",
   "name": "python",
   "nbconvert_exporter": "python",
   "pygments_lexer": "ipython3",
   "version": "3.12.7"
  }
 },
 "nbformat": 4,
 "nbformat_minor": 5
}
