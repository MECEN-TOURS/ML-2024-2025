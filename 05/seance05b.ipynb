{
 "cells": [
  {
   "cell_type": "code",
   "execution_count": 1,
   "id": "7464b1f5-4034-4cd6-93ac-c735db9e4082",
   "metadata": {},
   "outputs": [],
   "source": [
    "import numpy as np\n",
    "import matplotlib.pyplot as plt\n",
    "from scipy.optimize import minimize"
   ]
  },
  {
   "cell_type": "markdown",
   "id": "1cb14ebc-2cf3-429b-87e5-f120092690fe",
   "metadata": {
    "tags": []
   },
   "source": [
    "# Classification"
   ]
  },
  {
   "cell_type": "markdown",
   "id": "c67aac7d-e7bb-42fe-bc17-8d85ff7bf070",
   "metadata": {},
   "source": [
    "Ici plutôt que de prédire une fonction $f:\\mathbb{R} \\to \\mathbb{R}$.\n",
    "On va chercher à classer des entrées réelles en divers catégories (2 pour commencer)."
   ]
  },
  {
   "cell_type": "markdown",
   "id": "07ae9357-a5f4-4e35-8353-878974c13c66",
   "metadata": {},
   "source": [
    "Exemple: L'entrée est une image d'un chiffre, la sortie est le chiffre (0,1,...,9) on a 10 catégories.\n",
    "\n",
    "Exemple: On a une photo contenant un champignon, la réponse est toxique/comestible."
   ]
  },
  {
   "cell_type": "markdown",
   "id": "8a3380f9-ec70-431c-b729-58740338d64a",
   "metadata": {},
   "source": [
    "On va prendre un exemple plus simple."
   ]
  },
  {
   "cell_type": "code",
   "execution_count": 31,
   "id": "0b3524bf-94be-49c5-86c1-f2043ada7226",
   "metadata": {},
   "outputs": [],
   "source": [
    "r, R = 5, 10\n",
    "n = 40\n",
    "\n",
    "thetas, Thetas = np.random.uniform(low=0., high=2 * np.pi, size=(2, n))\n",
    "rs = np.random.normal(loc=r, scale=0.1, size=(n, ))\n",
    "Rs = np.random.normal(loc=R, scale=0.1, size=(n, ))\n",
    "\n",
    "vrais = rs * np.cos(thetas), rs * np.sin(thetas)\n",
    "faux = Rs * np.cos(Thetas), Rs * np.sin(Thetas)"
   ]
  },
  {
   "cell_type": "code",
   "execution_count": 33,
   "id": "42416f71-4006-4aa3-9d34-3c3d77c5239c",
   "metadata": {},
   "outputs": [
    {
     "data": {
      "text/plain": [
       "<matplotlib.collections.PathCollection at 0x2b9c48cba00>"
      ]
     },
     "execution_count": 33,
     "metadata": {},
     "output_type": "execute_result"
    },
    {
     "data": {
      "image/png": "[encoded data removed]",
      "text/plain": [
       "<Figure size 640x480 with 1 Axes>"
      ]
     },
     "metadata": {},
     "output_type": "display_data"
    }
   ],
   "source": [
    "plt.scatter(*vrais, color=\"red\")\n",
    "plt.scatter(*faux, color=\"blue\")"
   ]
  },
  {
   "cell_type": "markdown",
   "id": "70096c62-23f2-4b78-bf7d-78d6d39ad539",
   "metadata": {},
   "source": [
    "On a construit un modèle ou une règle serait:\n",
    "\n",
    "- rayon < 7.5 -> vrai\n",
    "- rayon > 7.5 -> faux"
   ]
  },
  {
   "cell_type": "markdown",
   "id": "c53f4a20-bd54-411f-b386-22371367b684",
   "metadata": {},
   "source": [
    "**EXERCICE** implémenter une régression logistique\n",
    "\n",
    "L'idée est de voir un modèle avec trois paramètres réels $a,b,c$, tels que\n",
    "$\\sigma(a x^1 + b x^2 + c) \\in [0,1]$ \n",
    "représente la probabilité d'être vrai.\n",
    "\n",
    "Ici $\\sigma$ est la sigmoide:\n",
    "$$\n",
    "\\forall u \\in \\mathbb{R},\\quad \\sigma(u) = \\frac{1}{1 + e^{-u}}.\n",
    "$$\n"
   ]
  },
  {
   "cell_type": "markdown",
   "id": "ed7875af-2cc3-4850-ae68-58a78c479098",
   "metadata": {},
   "source": [
    "Ici les entrées sont des couples $((x^1_i,x^2_i))_{1\\leq i \\leq N}$ dans $\\mathbb{R}^2$ et la sortie est $(y_i)_{1\\leq i \\leq N}$ suite de $0$ ou $1$."
   ]
  },
  {
   "cell_type": "code",
   "execution_count": 35,
   "id": "dfe3dbb3-6c06-4cc8-b77a-5a5d006dd14b",
   "metadata": {},
   "outputs": [],
   "source": [
    "X1 = np.stack(vrais).T\n",
    "y1 = np.ones(shape=X1.shape[0])"
   ]
  },
  {
   "cell_type": "code",
   "execution_count": 36,
   "id": "0e0ea239-4cbe-47f4-b38c-549854f73e74",
   "metadata": {},
   "outputs": [],
   "source": [
    "X2 = np.stack(faux).T\n",
    "y2 = np.ones(shape=X2.shape[0])"
   ]
  },
  {
   "cell_type": "code",
   "execution_count": 28,
   "id": "bf93a6e5-91e2-4106-80c0-c11ce0b46418",
   "metadata": {},
   "outputs": [
    {
     "data": {
      "text/plain": [
       "(80, 2)"
      ]
     },
     "execution_count": 28,
     "metadata": {},
     "output_type": "execute_result"
    }
   ],
   "source": [
    "X = np.concatenate((X1, X2))\n",
    "X.shape"
   ]
  },
  {
   "cell_type": "code",
   "execution_count": 39,
   "id": "ee6e1a9f-b99d-465b-b069-36e6739219ef",
   "metadata": {},
   "outputs": [
    {
     "data": {
      "text/plain": [
       "(80,)"
      ]
     },
     "execution_count": 39,
     "metadata": {},
     "output_type": "execute_result"
    }
   ],
   "source": [
    "y = np.concatenate((y1, y2))\n",
    "y.shape"
   ]
  },
  {
   "cell_type": "markdown",
   "id": "199782df-16a1-474e-8aa9-35ad9b57d815",
   "metadata": {},
   "source": [
    "On va chercher à minimiser la fonctionnelle:\n",
    "    \n",
    "$$\n",
    "J(a, b, c)= -\\sum_{i=1}^N {\n",
    "y_i \\ln(\\sigma(a x^1_i + b x^2_i + c))\n",
    "+ (1-y_i) \\ln(1 -\\sigma(a x^1_i + b x^2_i + c))\n",
    "}\n",
    "$$"
   ]
  },
  {
   "cell_type": "markdown",
   "id": "0195b79e-d79c-4615-a817-731b85b99a77",
   "metadata": {},
   "source": [
    "**EXERCICE** implémenter cette minimisation."
   ]
  },
  {
   "cell_type": "code",
   "execution_count": 40,
   "id": "4ecffcdc-7892-4cef-b518-d81f32cdc6b1",
   "metadata": {},
   "outputs": [],
   "source": [
    "def sigma(z):\n",
    "    return 1. / (1. + np.exp(-z))"
   ]
  },
  {
   "cell_type": "code",
   "execution_count": 41,
   "id": "59214d2f-13ff-4136-b710-a1ddad5a29e2",
   "metadata": {},
   "outputs": [],
   "source": [
    "def a_minimiser(coeffs):\n",
    "    a, b, c = coeffs\n",
    "    ps = sigma(a * X[:, 0] + b * X[:, 1] + c)\n",
    "    return - np.sum( y * np.log(ps) + (1. - y) * np.log(1 - ps))"
   ]
  },
  {
   "cell_type": "code",
   "execution_count": 44,
   "id": "0ea09954-c32c-47be-b6de-8855395cb50a",
   "metadata": {},
   "outputs": [],
   "source": [
    "resultat = minimize(\n",
    "    fun=a_minimiser,\n",
    "    x0=np.zeros(shape=(3,)),\n",
    ")\n"
   ]
  },
  {
   "cell_type": "code",
   "execution_count": 45,
   "id": "c71c161c-407f-4f50-93d2-843a32aa43fa",
   "metadata": {},
   "outputs": [],
   "source": [
    "a, b, c = resultat.x"
   ]
  },
  {
   "cell_type": "code",
   "execution_count": 46,
   "id": "8695fb34-79cd-4662-a2f0-c4df968bf6a8",
   "metadata": {},
   "outputs": [],
   "source": [
    "ps = sigma(a * X[:, 0] + b * X[:, 1] + c)"
   ]
  },
  {
   "cell_type": "code",
   "execution_count": 47,
   "id": "61ac52db-fae1-42f7-a48a-ac137971a0cb",
   "metadata": {},
   "outputs": [],
   "source": [
    "preds = np.where(ps > 0.5, 1., 0.)"
   ]
  },
  {
   "cell_type": "code",
   "execution_count": 48,
   "id": "060c9137-e435-428b-938a-c43863f10df0",
   "metadata": {},
   "outputs": [
    {
     "data": {
      "text/plain": [
       "array([ True,  True,  True,  True,  True,  True,  True,  True,  True,\n",
       "        True,  True,  True,  True,  True,  True,  True,  True,  True,\n",
       "        True,  True,  True,  True,  True,  True,  True,  True,  True,\n",
       "        True,  True,  True,  True,  True,  True,  True,  True,  True,\n",
       "        True,  True,  True,  True,  True,  True,  True,  True,  True,\n",
       "        True,  True,  True,  True,  True,  True,  True,  True,  True,\n",
       "        True,  True,  True,  True,  True,  True,  True,  True,  True,\n",
       "        True,  True,  True,  True,  True,  True,  True,  True,  True,\n",
       "        True,  True,  True,  True,  True,  True,  True,  True])"
      ]
     },
     "execution_count": 48,
     "metadata": {},
     "output_type": "execute_result"
    }
   ],
   "source": [
    "preds == y"
   ]
  },
  {
   "cell_type": "markdown",
   "id": "31a96151-94a7-4e9e-b9b8-a30c42381afb",
   "metadata": {},
   "source": [
    "**EXERCICE** \n",
    "Visualiser les zones de décisions."
   ]
  }
 ],
 "metadata": {
  "kernelspec": {
   "display_name": "Python 3 (ipykernel)",
   "language": "python",
   "name": "python3"
  },
  "language_info": {
   "codemirror_mode": {
    "name": "ipython",
    "version": 3
   },
   "file_extension": ".py",
   "mimetype": "text/x-python",
   "name": "python",
   "nbconvert_exporter": "python",
   "pygments_lexer": "ipython3",
   "version": "3.10.9"
  }
 },
 "nbformat": 4,
 "nbformat_minor": 5
}
