{
 "cells": [
  {
   "cell_type": "markdown",
   "id": "608d1b97",
   "metadata": {},
   "source": [
    "# Présentation d'un projet ML"
   ]
  },
  {
   "cell_type": "markdown",
   "id": "932e48c5",
   "metadata": {},
   "source": [
    "## Problématique"
   ]
  },
  {
   "cell_type": "markdown",
   "id": "3060db4f",
   "metadata": {},
   "source": [
    "Je souhaite acheter un bien immobilier.\n",
    "J'ai certains critères sur le bien : \n",
    "\n",
    "- Neuf / Ancien\n",
    "- Maison / Appartement\n",
    "- Surface\n",
    "- Nombre de pièces\n",
    "- Quartiers\n",
    "- Prix \n",
    "\n",
    "Le constat est qu'il y a beaucoup d'annonce correspondant à ces critères.\n",
    "On aimerait avoir une recommandation sur les biens les plus intéressants."
   ]
  },
  {
   "cell_type": "markdown",
   "id": "a5c8d686",
   "metadata": {},
   "source": [
    "Comment définir *intéressant*?"
   ]
  },
  {
   "cell_type": "markdown",
   "id": "ceaf034a",
   "metadata": {},
   "source": [
    "## Role d'un prédicteur"
   ]
  },
  {
   "cell_type": "markdown",
   "id": "3b543e76",
   "metadata": {},
   "source": [
    "Un agent immobilier **idéalisé** peut être conçu comme un système qui étant données les caractéristiques physiques d'un bien peut vous fournir le prix rationnel/intrinsèque.\n",
    "\n",
    "Les bonnes affaires (pour un acheteur) sont alors identifiées comme les biens minimisant la différence entre le prix demandé et le prix rationnel."
   ]
  },
  {
   "cell_type": "markdown",
   "id": "50ca0347",
   "metadata": {},
   "source": [
    "On veut construire une fonction qui joue le rôle de cet agent et qui a une connaissance complète du marché.\n",
    "\n",
    "On a accès à de nombreuses annonces immobilières, on veut les utiliser pour sélectionner parmi toute une classe de fonctions celle qui fait la meilleure prédiction."
   ]
  },
  {
   "cell_type": "markdown",
   "id": "235a7654",
   "metadata": {},
   "source": [
    "## Phases du projet\n",
    "\n",
    "1. Problématique \n",
    "2. Modélisation\n",
    "3. Aspiration des données (webscraping)\n",
    "4. Constitution d'un dataset (Cleaning)\n",
    "5. Sélection d'un modèle\n",
    "6. Entrainement d'un modèle\n",
    "7. Construction d'une application (webapp) utilisant le prédicteur pour résoudre le problème de départ"
   ]
  },
  {
   "cell_type": "markdown",
   "id": "3f052f41",
   "metadata": {},
   "source": [
    "**REMARQUE**\n",
    "\n",
    "Dans un projet complet, une fois les techniques maîtrisées on a grosso modo\n",
    "\n",
    "- 90% du temps consacré à l'aspiration\n",
    "- 9% du temps consacré à la constitution d'un dataset\n",
    "- 1% du temps consacrée au ML proprement dit\n",
    "\n",
    "(On parle du temps codeur pas du temps processeur bien sûr)"
   ]
  },
  {
   "cell_type": "markdown",
   "id": "d09c1af5",
   "metadata": {},
   "source": [
    "## Déroulé du semestre\n",
    "\n",
    "Cours jusqu'à la Toussaint\n",
    "1. présentation du cours\n",
    "2. Rudiments manuel de l'apprentissage\n",
    "3. Rudiments du scraping\n",
    "4. Rudiments du nettoyage\n",
    "5. Retour sur l'apprentissage avec scikit-learn\n",
    "\n",
    "Contenu du cours déposé sur [github](https://github.com/MECEN-TOURS/ML-2024-2025)\n",
    "\n",
    "Puis projet pour soutenance à la rentrée de janvier par groupe de 2.\n",
    "\n",
    "Vous déterminez les problématiques qui vous intéressent.\n",
    "Un objectif serait aussi d'avoir un projet vitrine sur github en complément de vos cv.\n"
   ]
  },
  {
   "cell_type": "markdown",
   "id": "171d5b0c",
   "metadata": {},
   "source": []
  }
 ],
 "metadata": {
  "kernelspec": {
   "display_name": "Python 3 (ipykernel)",
   "language": "python",
   "name": "python3"
  },
  "language_info": {
   "codemirror_mode": {
    "name": "ipython",
    "version": 3
   },
   "file_extension": ".py",
   "mimetype": "text/x-python",
   "name": "python",
   "nbconvert_exporter": "python",
   "pygments_lexer": "ipython3",
   "version": "3.10.9"
  }
 },
 "nbformat": 4,
 "nbformat_minor": 5
}
