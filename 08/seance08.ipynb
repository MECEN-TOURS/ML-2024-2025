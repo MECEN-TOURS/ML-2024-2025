{
 "cells": [
  {
   "cell_type": "markdown",
   "id": "07642144-9335-415d-8659-3d38dcdd1133",
   "metadata": {},
   "source": [
    "# Initiation au scraping"
   ]
  },
  {
   "cell_type": "markdown",
   "id": "7037d601-baa0-4153-82c3-3d4522b09e40",
   "metadata": {},
   "source": [
    "Objectif récupérer des informations disponibles sur le web , mais à priori que pour des humains, de manière programmatique et automatisée (voire périodique)."
   ]
  },
  {
   "cell_type": "markdown",
   "id": "b2895424-9b3a-4ef1-935d-453a43ea3731",
   "metadata": {},
   "source": [
    "Dans l'ordre:\n",
    "\n",
    "1. Requête http\n",
    "2. Extraction de texte\n",
    "3. Parser du html\n",
    "4. Nettoyage des données\n",
    "5. Structuration du dataset"
   ]
  },
  {
   "cell_type": "markdown",
   "id": "644845d9-7792-4cff-91ed-563d89ecfc4d",
   "metadata": {},
   "source": [
    "## Requête http"
   ]
  },
  {
   "cell_type": "code",
   "execution_count": 1,
   "id": "9184baa3-4317-436b-87ba-326289e1b426",
   "metadata": {},
   "outputs": [],
   "source": [
    "from requests import get"
   ]
  },
  {
   "cell_type": "markdown",
   "id": "f9426b5d-bc74-49c3-b9d0-179c62ad2330",
   "metadata": {},
   "source": [
    "**OBJECTIF** récupérer le contenu de la table se trouvant à [cette adresse](https://en.wikipedia.org/wiki/List_of_S%26P_500_companies) et contenant les informations sur les 500 plus grosses capitalisation US."
   ]
  },
  {
   "cell_type": "code",
   "execution_count": 2,
   "id": "ee312af7-2ff4-4a51-b0e2-5a8c3cd202d3",
   "metadata": {},
   "outputs": [],
   "source": [
    "ADRESSE = \"https://en.wikipedia.org/wiki/List_of_S%26P_500_companies\""
   ]
  },
  {
   "cell_type": "code",
   "execution_count": 3,
   "id": "2748c240-dcd2-4180-9217-687857f49782",
   "metadata": {},
   "outputs": [],
   "source": [
    "requete = get(ADRESSE)"
   ]
  },
  {
   "cell_type": "code",
   "execution_count": 4,
   "id": "7f70eca1-eea2-4b0f-8f09-7d805989ebfa",
   "metadata": {},
   "outputs": [
    {
     "data": {
      "text/plain": [
       "requests.models.Response"
      ]
     },
     "execution_count": 4,
     "metadata": {},
     "output_type": "execute_result"
    }
   ],
   "source": [
    "type(requete)"
   ]
  },
  {
   "cell_type": "code",
   "execution_count": 5,
   "id": "ab015ba3-2d36-4616-8fb0-39a89e8245be",
   "metadata": {
    "collapsed": true,
    "jupyter": {
     "outputs_hidden": true
    },
    "tags": []
   },
   "outputs": [
    {
     "data": {
      "text/plain": [
       "['__attrs__',\n",
       " '__bool__',\n",
       " '__class__',\n",
       " '__delattr__',\n",
       " '__dict__',\n",
       " '__dir__',\n",
       " '__doc__',\n",
       " '__enter__',\n",
       " '__eq__',\n",
       " '__exit__',\n",
       " '__format__',\n",
       " '__ge__',\n",
       " '__getattribute__',\n",
       " '__getstate__',\n",
       " '__gt__',\n",
       " '__hash__',\n",
       " '__init__',\n",
       " '__init_subclass__',\n",
       " '__iter__',\n",
       " '__le__',\n",
       " '__lt__',\n",
       " '__module__',\n",
       " '__ne__',\n",
       " '__new__',\n",
       " '__nonzero__',\n",
       " '__reduce__',\n",
       " '__reduce_ex__',\n",
       " '__repr__',\n",
       " '__setattr__',\n",
       " '__setstate__',\n",
       " '__sizeof__',\n",
       " '__str__',\n",
       " '__subclasshook__',\n",
       " '__weakref__',\n",
       " '_content',\n",
       " '_content_consumed',\n",
       " '_next',\n",
       " 'apparent_encoding',\n",
       " 'close',\n",
       " 'connection',\n",
       " 'content',\n",
       " 'cookies',\n",
       " 'elapsed',\n",
       " 'encoding',\n",
       " 'headers',\n",
       " 'history',\n",
       " 'is_permanent_redirect',\n",
       " 'is_redirect',\n",
       " 'iter_content',\n",
       " 'iter_lines',\n",
       " 'json',\n",
       " 'links',\n",
       " 'next',\n",
       " 'ok',\n",
       " 'raise_for_status',\n",
       " 'raw',\n",
       " 'reason',\n",
       " 'request',\n",
       " 'status_code',\n",
       " 'text',\n",
       " 'url']"
      ]
     },
     "execution_count": 5,
     "metadata": {},
     "output_type": "execute_result"
    }
   ],
   "source": [
    "dir(requete)"
   ]
  },
  {
   "cell_type": "markdown",
   "id": "8bd17a2a-b21d-4619-866e-61e542f5aa77",
   "metadata": {},
   "source": [
    "Dans l'objectif d'avoir un script final robuste, il faut pouvoir intercepter les erreurs :"
   ]
  },
  {
   "cell_type": "code",
   "execution_count": 6,
   "id": "6d18ce3b-37a2-4345-a8e5-fdd13a4d5c28",
   "metadata": {},
   "outputs": [
    {
     "data": {
      "text/plain": [
       "200"
      ]
     },
     "execution_count": 6,
     "metadata": {},
     "output_type": "execute_result"
    }
   ],
   "source": [
    "# 200 : OK\n",
    "requete.status_code"
   ]
  },
  {
   "cell_type": "markdown",
   "id": "18f570ed-679e-4e14-8a7c-b43dbcc1b9c9",
   "metadata": {},
   "source": [
    "On consultera [cette page](https://developer.mozilla.org/en-US/docs/Web/HTTP/Status) pour les différents codes possibles."
   ]
  },
  {
   "cell_type": "code",
   "execution_count": 7,
   "id": "6ad5dc26-5f31-481e-8f1f-e27e19a2a178",
   "metadata": {},
   "outputs": [
    {
     "data": {
      "text/plain": [
       "bytes"
      ]
     },
     "execution_count": 7,
     "metadata": {},
     "output_type": "execute_result"
    }
   ],
   "source": [
    "# ATTENTION au type du contenu\n",
    "type(requete.content)"
   ]
  },
  {
   "cell_type": "code",
   "execution_count": 8,
   "id": "dbcea9b2-937e-4482-b4ed-3dc4078b2f69",
   "metadata": {},
   "outputs": [
    {
     "data": {
      "text/plain": [
       "'utf-8'"
      ]
     },
     "execution_count": 8,
     "metadata": {},
     "output_type": "execute_result"
    }
   ],
   "source": [
    "requete.apparent_encoding"
   ]
  },
  {
   "cell_type": "code",
   "execution_count": 9,
   "id": "00863444-26c3-4c54-b2da-73b2d82392eb",
   "metadata": {},
   "outputs": [
    {
     "data": {
      "text/plain": [
       "str"
      ]
     },
     "execution_count": 9,
     "metadata": {},
     "output_type": "execute_result"
    }
   ],
   "source": [
    "type(requete.text)"
   ]
  },
  {
   "cell_type": "code",
   "execution_count": 10,
   "id": "5c01e291-7896-40b2-98f5-474d9970d5c3",
   "metadata": {},
   "outputs": [],
   "source": [
    "# Récupération du code source\n",
    "PAGE = requete.text"
   ]
  },
  {
   "cell_type": "code",
   "execution_count": 12,
   "id": "11df3633-69ec-4523-8fbf-f1a690fe897f",
   "metadata": {},
   "outputs": [
    {
     "data": {
      "text/plain": [
       "741512"
      ]
     },
     "execution_count": 12,
     "metadata": {},
     "output_type": "execute_result"
    }
   ],
   "source": [
    "len(PAGE)"
   ]
  },
  {
   "cell_type": "code",
   "execution_count": 13,
   "id": "32418832-556b-4b93-8537-242228c898d3",
   "metadata": {},
   "outputs": [
    {
     "data": {
      "text/plain": [
       "9739"
      ]
     },
     "execution_count": 13,
     "metadata": {},
     "output_type": "execute_result"
    }
   ],
   "source": [
    "len(PAGE.splitlines())"
   ]
  },
  {
   "cell_type": "markdown",
   "id": "139df215-7cff-4422-9839-6d36929e32a6",
   "metadata": {},
   "source": [
    "**CONCLUSION** le code source de la page web est relativement conséquent."
   ]
  },
  {
   "cell_type": "markdown",
   "id": "bcb18292-e735-44ab-933b-aa080c767c28",
   "metadata": {},
   "source": [
    "**EXERCICE** récupérer la partie de la page, contenant juste le code source concernant la table qui nous intéresse."
   ]
  },
  {
   "cell_type": "code",
   "execution_count": 15,
   "id": "96047916-b625-46a3-9a61-cef82cabf6ab",
   "metadata": {},
   "outputs": [],
   "source": [
    "debut = 0\n",
    "indices = list()\n",
    "while debut >= 0:\n",
    "    debut = PAGE.find(\"<table class=\", debut+1)\n",
    "    indices.append(debut)"
   ]
  },
  {
   "cell_type": "code",
   "execution_count": 16,
   "id": "4cca1436-818a-4343-a0ca-9c8fc181c01f",
   "metadata": {},
   "outputs": [
    {
     "data": {
      "text/plain": [
       "[45233, 259667, -1]"
      ]
     },
     "execution_count": 16,
     "metadata": {},
     "output_type": "execute_result"
    }
   ],
   "source": [
    "indices"
   ]
  },
  {
   "cell_type": "markdown",
   "id": "c0ed7607-a0bc-42ff-8bf8-49139c3988a6",
   "metadata": {},
   "source": [
    "On voit deux éléments `table` dans la page"
   ]
  },
  {
   "cell_type": "code",
   "execution_count": 17,
   "id": "0c13ec23-2fd3-4170-a500-4c3dd49705b0",
   "metadata": {},
   "outputs": [],
   "source": [
    "premier, deuxieme, _ = indices"
   ]
  },
  {
   "cell_type": "code",
   "execution_count": 18,
   "id": "a9e2cbd4-d84c-42ac-aca9-7810c75d6051",
   "metadata": {},
   "outputs": [
    {
     "name": "stdout",
     "output_type": "stream",
     "text": [
      "<table class=\"wikitable sortable sticky-header\" id=\"constituents\">\n",
      "\n",
      "<tbody><tr>\n",
      "<th><a href=\"/wiki/Ticker_symbol\" title=\"Ticker symbol\">Symbol</a>\n",
      "</th>\n",
      "<th>Security</th>\n",
      "<th><a href=\"/wiki/Global_Ind\n"
     ]
    }
   ],
   "source": [
    "print(PAGE[premier:premier+200])"
   ]
  },
  {
   "cell_type": "code",
   "execution_count": 19,
   "id": "063cf6fb-0a61-4e48-9bfa-d051554c2704",
   "metadata": {},
   "outputs": [
    {
     "name": "stdout",
     "output_type": "stream",
     "text": [
      "<table class=\"wikitable sortable\" id=\"changes\">\n",
      "\n",
      "<tbody><tr>\n",
      "<th data-sort-type=\"date\" rowspan=\"2\">Date\n",
      "</th>\n",
      "<th colspan=\"2\">Added\n",
      "</th>\n",
      "<th colspan=\"2\">Removed\n",
      "</th>\n",
      "<th rowspan=\"2\">Reason\n",
      "</th></tr\n"
     ]
    }
   ],
   "source": [
    "print(PAGE[deuxieme:deuxieme+200])"
   ]
  },
  {
   "cell_type": "markdown",
   "id": "b6c73d56-a892-468e-9826-b2fa561c50a2",
   "metadata": {},
   "source": [
    "L'attribut `id` permet de distinguer les deux, car celle qu'on cherche est d'attribut `constituents`."
   ]
  },
  {
   "cell_type": "markdown",
   "id": "c58a143e-dd92-4397-b66e-26ddfd9df039",
   "metadata": {},
   "source": [
    "**ATTENTION** on peut voir que les attributs de `class` ne sont pas exactement les mêmes que dans les outils de développement du navigateur. \n",
    "Ici la différence vient du fait que du javascript a été exécuté par le navigateur!\n",
    "\n",
    "Ici l'attribut supplémentaire est `jquery-tablesorter` qui permet dynamiquement de réordonner les éléments de la table suivant une colonne.\n",
    "Les données recherchées sont quand même bien présentes dans le html qu'on a."
   ]
  },
  {
   "cell_type": "code",
   "execution_count": 21,
   "id": "6753c0de-353f-4497-adc5-e1769de2a34b",
   "metadata": {},
   "outputs": [],
   "source": [
    "fin = PAGE.find(\"</table>\", premier) + len(\"</table>\")"
   ]
  },
  {
   "cell_type": "code",
   "execution_count": 23,
   "id": "c871f29b-e4ea-44c4-8ed3-bdb1304cff8d",
   "metadata": {
    "tags": []
   },
   "outputs": [],
   "source": [
    "code_table = PAGE[premier:fin]\n",
    "debut, *_, fin = code_table.splitlines()"
   ]
  },
  {
   "cell_type": "code",
   "execution_count": 26,
   "id": "35910e95-1b8e-4176-adaa-5bdd66051ea9",
   "metadata": {},
   "outputs": [
    {
     "name": "stdout",
     "output_type": "stream",
     "text": [
      "<table class=\"wikitable sortable sticky-header\" id=\"constituents\">\n"
     ]
    }
   ],
   "source": [
    "assert debut.startswith(\"<table class=\")\n",
    "print(debut)"
   ]
  },
  {
   "cell_type": "code",
   "execution_count": 30,
   "id": "4422c2eb-ef74-47de-826c-e12799949279",
   "metadata": {},
   "outputs": [
    {
     "name": "stdout",
     "output_type": "stream",
     "text": [
      "'</td></tr></tbody></table>'\n"
     ]
    }
   ],
   "source": [
    "assert fin.endswith(\"</table>\")\n",
    "print(repr(fin))"
   ]
  },
  {
   "cell_type": "markdown",
   "id": "08f6b8d1-a9b5-457e-8fa0-1479ccdd75b2",
   "metadata": {},
   "source": [
    "**EXERCICE** \n",
    "1. Récupérer la liste des code sources des lignes de la table\n",
    "2. Créer une dataclass `Ligne` représentant une ligne structurée\n",
    "3. Récupérer une liste de `Ligne`"
   ]
  },
  {
   "cell_type": "code",
   "execution_count": 31,
   "id": "edc7d32e-82cc-41b1-91dc-34ac1e3d55e3",
   "metadata": {},
   "outputs": [],
   "source": [
    "from dataclasses import dataclass"
   ]
  },
  {
   "cell_type": "code",
   "execution_count": 32,
   "id": "cbb4f57a-7f78-4e84-8d75-81f3a7920956",
   "metadata": {},
   "outputs": [],
   "source": [
    "from typing import Iterable"
   ]
  },
  {
   "cell_type": "code",
   "execution_count": 34,
   "id": "61546cb3-870f-4b15-9f05-172330ad37e1",
   "metadata": {},
   "outputs": [],
   "source": [
    "def decoupe_lignes(page: str, debut: int = 0) -> Iterable[str]:\n",
    "    debut = page.find(\"<tr>\", debut)\n",
    "    if debut != -1:\n",
    "        fin = page.find(\"</tr>\", debut) + len(\"</tr>\")\n",
    "        yield page[debut:fin]\n",
    "        yield from decoupe_lignes(page, fin)\n",
    "        "
   ]
  },
  {
   "cell_type": "code",
   "execution_count": 35,
   "id": "05557764-2604-4ef0-af7a-9861acb9c36c",
   "metadata": {},
   "outputs": [],
   "source": [
    "test_lignes = \"\"\"\n",
    "blabla\n",
    "<tr>première</tr>\n",
    "blablabla\n",
    "blablabla\n",
    "<tr> deuxième </tr>\n",
    "blabla\n",
    "<tr> fin </tr>\n",
    "blabla\n",
    "\"\"\""
   ]
  },
  {
   "cell_type": "code",
   "execution_count": 36,
   "id": "97bfbc41-8b42-4f13-baa1-c6b2482f765b",
   "metadata": {},
   "outputs": [
    {
     "data": {
      "text/plain": [
       "['<tr>première</tr>', '<tr> deuxième </tr>', '<tr> fin </tr>']"
      ]
     },
     "execution_count": 36,
     "metadata": {},
     "output_type": "execute_result"
    }
   ],
   "source": [
    "list(decoupe_lignes(test_lignes))"
   ]
  },
  {
   "cell_type": "code",
   "execution_count": 38,
   "id": "ca2443aa-fdbb-4aab-90bb-62e732e2a42d",
   "metadata": {},
   "outputs": [],
   "source": [
    "HEADER, *CODE_LIGNES = list(decoupe_lignes(code_table))"
   ]
  },
  {
   "cell_type": "code",
   "execution_count": 40,
   "id": "70cd9226-5fe3-4bfc-a23b-2360cacab217",
   "metadata": {},
   "outputs": [
    {
     "name": "stdout",
     "output_type": "stream",
     "text": [
      "<tr>\n",
      "<th><a href=\"/wiki/Ticker_symbol\" title=\"Ticker symbol\">Symbol</a>\n",
      "</th>\n",
      "<th>Security</th>\n",
      "<th><a href=\"/wiki/Global_Industry_Classification_Standard\" title=\"Global Industry Classification Standard\">GICS</a> Sector</th>\n",
      "<th>GICS Sub-Industry</th>\n",
      "<th>Headquarters Location</th>\n",
      "<th>Date added</th>\n",
      "<th><a href=\"/wiki/Central_Index_Key\" title=\"Central Index Key\">CIK</a></th>\n",
      "<th>Founded\n",
      "</th></tr>\n"
     ]
    }
   ],
   "source": [
    "print(HEADER)"
   ]
  },
  {
   "cell_type": "code",
   "execution_count": 43,
   "id": "99f310ff-d655-4d4f-a7e0-94148235a8e9",
   "metadata": {},
   "outputs": [],
   "source": [
    "@dataclass\n",
    "class Ligne:\n",
    "    symbole: str\n",
    "    lien_nyse: str\n",
    "    securite: str\n",
    "    lien_wiki: str\n",
    "    gics: str # Global Industry Classification Standard\n",
    "    sous_gics: str\n",
    "    localisation: str\n",
    "    date_entree: str\n",
    "    cik: str # Central Index Key\n",
    "    date_fondation: str"
   ]
  },
  {
   "cell_type": "code",
   "execution_count": 65,
   "id": "5bc03644-f639-48b6-88fa-83724fa28657",
   "metadata": {},
   "outputs": [
    {
     "name": "stdout",
     "output_type": "stream",
     "text": [
      "<tr> <td><a rel=\"nofollow\" class=\"external text\" href=\"https://www.nyse.com/quote/XNYS:MMM\">MMM</a> </td> <td><a href=\"/wiki/3M\" title=\"3M\">3M</a></td> <td>Industrials</td> <td>Industrial Conglomerates</td> <td><a href=\"/wiki/Saint_Paul,_Minnesota\" title=\"Saint Paul, Minnesota\">Saint Paul, Minnesota</a></td> <td>1957-03-04</td> <td>0000066740</td> <td>1902 </td></tr>\n"
     ]
    }
   ],
   "source": [
    "ligne_test = CODE_LIGNES[0].replace(\"\\n\", \" \")\n",
    "print(ligne_test)"
   ]
  },
  {
   "cell_type": "code",
   "execution_count": 67,
   "id": "fed4aad8-08c7-4f4c-a702-0d62b38a2886",
   "metadata": {},
   "outputs": [],
   "source": [
    "td = re.compile(\"<td>(.*?)</td>\")"
   ]
  },
  {
   "cell_type": "code",
   "execution_count": 68,
   "id": "55487a98-269c-4b9e-85f4-77782230e294",
   "metadata": {},
   "outputs": [
    {
     "data": {
      "text/plain": [
       "['<a rel=\"nofollow\" class=\"external text\" href=\"https://www.nyse.com/quote/XNYS:MMM\">MMM</a> ',\n",
       " '<a href=\"/wiki/3M\" title=\"3M\">3M</a>',\n",
       " 'Industrials',\n",
       " 'Industrial Conglomerates',\n",
       " '<a href=\"/wiki/Saint_Paul,_Minnesota\" title=\"Saint Paul, Minnesota\">Saint Paul, Minnesota</a>',\n",
       " '1957-03-04',\n",
       " '0000066740',\n",
       " '1902 ']"
      ]
     },
     "execution_count": 68,
     "metadata": {},
     "output_type": "execute_result"
    }
   ],
   "source": [
    "td.findall(ligne_test)"
   ]
  },
  {
   "cell_type": "code",
   "execution_count": 76,
   "id": "31f3a5e8-d85b-447d-a257-29291ed9d481",
   "metadata": {},
   "outputs": [],
   "source": [
    "def genere_ligne(ligne: str) -> Ligne:\n",
    "    ligne = ligne.replace(\"\\n\", \" \")\n",
    "    \n",
    "    td = re.compile(\"<td>(.*?)</td>\")\n",
    "    symbole, securite, gics, sgics, loc, intro, cik, fond = td.findall(ligne)\n",
    "    \n",
    "    motif_lien_texte = re.compile(\"\"\"<a.*?href=\"(.*?)\".*?>(.*?)</a>\"\"\")\n",
    "    lien_nyse, symbole = motif_lien_texte.match(symbole).groups()\n",
    "    lien_wiki, securite = motif_lien_texte.match(securite).groups()\n",
    "    _, localisation = motif_lien_texte.match(loc).groups()\n",
    "    return Ligne(\n",
    "        symbole=symbole,\n",
    "        lien_nyse=lien_nyse,\n",
    "        securite=securite,\n",
    "        lien_wiki=\"https://en.wikipedia.org/\" + lien_wiki,\n",
    "        gics=gics,\n",
    "        sous_gics=sgics,\n",
    "        localisation=localisation,\n",
    "        date_entree=intro,\n",
    "        cik=cik,\n",
    "        date_fondation=fond.strip(),\n",
    "    )"
   ]
  },
  {
   "cell_type": "code",
   "execution_count": 77,
   "id": "d749e1ba-5377-46e2-a371-a26dd7ff0b82",
   "metadata": {},
   "outputs": [
    {
     "name": "stdout",
     "output_type": "stream",
     "text": [
      "Ligne(symbole='MMM', lien_nyse='https://www.nyse.com/quote/XNYS:MMM', securite='3M', lien_wiki='https://en.wikipedia.org//wiki/3M', gics='Industrials', sous_gics='Industrial Conglomerates', localisation='Saint Paul, Minnesota', date_entree='1957-03-04', cik='0000066740', date_fondation='1902')\n"
     ]
    }
   ],
   "source": [
    "print(genere_ligne(ligne_test))"
   ]
  },
  {
   "cell_type": "code",
   "execution_count": 78,
   "id": "1c8e7e11-b881-429f-8cb8-f1d819eff0a2",
   "metadata": {},
   "outputs": [],
   "source": [
    "# assemblage du tout\n",
    "lignes = [\n",
    "    genere_ligne(ligne)\n",
    "    for ligne in CODE_LIGNES\n",
    "]"
   ]
  },
  {
   "cell_type": "code",
   "execution_count": 79,
   "id": "b7200bf1-4b66-473f-a519-b085d065485c",
   "metadata": {},
   "outputs": [
    {
     "data": {
      "text/plain": [
       "503"
      ]
     },
     "execution_count": 79,
     "metadata": {},
     "output_type": "execute_result"
    }
   ],
   "source": [
    "len(lignes)"
   ]
  },
  {
   "cell_type": "code",
   "execution_count": 80,
   "id": "120772e3-913f-48af-bfcb-b28416d6b51d",
   "metadata": {},
   "outputs": [],
   "source": [
    "from random import randint"
   ]
  },
  {
   "cell_type": "code",
   "execution_count": 81,
   "id": "44196955-dd76-4d3e-b7f2-18122c8668bf",
   "metadata": {},
   "outputs": [
    {
     "data": {
      "text/plain": [
       "Ligne(symbole='ABBV', lien_nyse='https://www.nyse.com/quote/XNYS:ABBV', securite='AbbVie', lien_wiki='https://en.wikipedia.org//wiki/AbbVie', gics='Health Care', sous_gics='Biotechnology', localisation='North Chicago, Illinois', date_entree='2012-12-31', cik='0001551152', date_fondation='2013 (1888)')"
      ]
     },
     "execution_count": 81,
     "metadata": {},
     "output_type": "execute_result"
    }
   ],
   "source": [
    "lignes[randint(0, 502)]"
   ]
  },
  {
   "cell_type": "markdown",
   "id": "c5e1c111-44f9-402a-8703-9708c7757765",
   "metadata": {},
   "source": [
    "**EXERCICE** sérialiser le résultat sur disque au format json."
   ]
  },
  {
   "cell_type": "code",
   "execution_count": 82,
   "id": "4fc331d7-0f1e-429f-b7ba-972bc2e933f9",
   "metadata": {},
   "outputs": [],
   "source": [
    "import json"
   ]
  },
  {
   "cell_type": "code",
   "execution_count": 86,
   "id": "3ea92e9e-58f7-4803-8004-241b808403eb",
   "metadata": {},
   "outputs": [],
   "source": [
    "ligne0 = lignes[0]"
   ]
  },
  {
   "cell_type": "code",
   "execution_count": 89,
   "id": "fbb6b71b-1218-459b-a025-d8fd5de96284",
   "metadata": {},
   "outputs": [
    {
     "data": {
      "text/plain": [
       "{'symbole': 'MMM',\n",
       " 'lien_nyse': 'https://www.nyse.com/quote/XNYS:MMM',\n",
       " 'securite': '3M',\n",
       " 'lien_wiki': 'https://en.wikipedia.org//wiki/3M',\n",
       " 'gics': 'Industrials',\n",
       " 'sous_gics': 'Industrial Conglomerates',\n",
       " 'localisation': 'Saint Paul, Minnesota',\n",
       " 'date_entree': '1957-03-04',\n",
       " 'cik': '0000066740',\n",
       " 'date_fondation': '1902'}"
      ]
     },
     "execution_count": 89,
     "metadata": {},
     "output_type": "execute_result"
    }
   ],
   "source": [
    "ligne0.__dict__"
   ]
  },
  {
   "cell_type": "code",
   "execution_count": 91,
   "id": "b3919ea5-15bd-40c7-aa00-7c956a3f049f",
   "metadata": {},
   "outputs": [],
   "source": [
    "mon_json = json.dumps([ligne.__dict__ for ligne in lignes])"
   ]
  },
  {
   "cell_type": "code",
   "execution_count": 93,
   "id": "aab7f792-d14e-41d6-b779-57ecc7002849",
   "metadata": {},
   "outputs": [],
   "source": [
    "deserialises = [Ligne(**dico) for dico in json.loads(mon_json)]"
   ]
  },
  {
   "cell_type": "code",
   "execution_count": 94,
   "id": "6c22b3ec-b4b0-4fb7-945d-31fc662902db",
   "metadata": {
    "collapsed": true,
    "jupyter": {
     "outputs_hidden": true
    },
    "tags": []
   },
   "outputs": [
    {
     "data": {
      "text/plain": [
       "[Ligne(symbole='MMM', lien_nyse='https://www.nyse.com/quote/XNYS:MMM', securite='3M', lien_wiki='https://en.wikipedia.org//wiki/3M', gics='Industrials', sous_gics='Industrial Conglomerates', localisation='Saint Paul, Minnesota', date_entree='1957-03-04', cik='0000066740', date_fondation='1902'),\n",
       " Ligne(symbole='AOS', lien_nyse='https://www.nyse.com/quote/XNYS:AOS', securite='A. O. Smith', lien_wiki='https://en.wikipedia.org//wiki/A._O._Smith', gics='Industrials', sous_gics='Building Products', localisation='Milwaukee, Wisconsin', date_entree='2017-07-26', cik='0000091142', date_fondation='1916'),\n",
       " Ligne(symbole='ABT', lien_nyse='https://www.nyse.com/quote/XNYS:ABT', securite='Abbott Laboratories', lien_wiki='https://en.wikipedia.org//wiki/Abbott_Laboratories', gics='Health Care', sous_gics='Health Care Equipment', localisation='North Chicago, Illinois', date_entree='1957-03-04', cik='0000001800', date_fondation='1888'),\n",
       " Ligne(symbole='ABBV', lien_nyse='https://www.nyse.com/quote/XNYS:ABBV', securite='AbbVie', lien_wiki='https://en.wikipedia.org//wiki/AbbVie', gics='Health Care', sous_gics='Biotechnology', localisation='North Chicago, Illinois', date_entree='2012-12-31', cik='0001551152', date_fondation='2013 (1888)'),\n",
       " Ligne(symbole='ACN', lien_nyse='https://www.nyse.com/quote/XNYS:ACN', securite='Accenture', lien_wiki='https://en.wikipedia.org//wiki/Accenture', gics='Information Technology', sous_gics='IT Consulting &amp; Other Services', localisation='Dublin, Ireland', date_entree='2011-07-06', cik='0001467373', date_fondation='1989'),\n",
       " Ligne(symbole='ADBE', lien_nyse='https://www.nasdaq.com/market-activity/stocks/adbe', securite='Adobe Inc.', lien_wiki='https://en.wikipedia.org//wiki/Adobe_Inc.', gics='Information Technology', sous_gics='Application Software', localisation='San Jose, California', date_entree='1997-05-05', cik='0000796343', date_fondation='1982'),\n",
       " Ligne(symbole='AMD', lien_nyse='https://www.nasdaq.com/market-activity/stocks/amd', securite='Advanced Micro Devices', lien_wiki='https://en.wikipedia.org//wiki/AMD', gics='Information Technology', sous_gics='Semiconductors', localisation='Santa Clara, California', date_entree='2017-03-20', cik='0000002488', date_fondation='1969'),\n",
       " Ligne(symbole='AES', lien_nyse='https://www.nyse.com/quote/XNYS:AES', securite='AES Corporation', lien_wiki='https://en.wikipedia.org//wiki/AES_Corporation', gics='Utilities', sous_gics='Independent Power Producers &amp; Energy Traders', localisation='Arlington, Virginia', date_entree='1998-10-02', cik='0000874761', date_fondation='1981'),\n",
       " Ligne(symbole='AFL', lien_nyse='https://www.nyse.com/quote/XNYS:AFL', securite='Aflac', lien_wiki='https://en.wikipedia.org//wiki/Aflac', gics='Financials', sous_gics='Life &amp; Health Insurance', localisation='Columbus, Georgia', date_entree='1999-05-28', cik='0000004977', date_fondation='1955'),\n",
       " Ligne(symbole='A', lien_nyse='https://www.nyse.com/quote/XNYS:A', securite='Agilent Technologies', lien_wiki='https://en.wikipedia.org//wiki/Agilent_Technologies', gics='Health Care', sous_gics='Life Sciences Tools &amp; Services', localisation='Santa Clara, California', date_entree='2000-06-05', cik='0001090872', date_fondation='1999'),\n",
       " Ligne(symbole='APD', lien_nyse='https://www.nyse.com/quote/XNYS:APD', securite='Air Products', lien_wiki='https://en.wikipedia.org//wiki/Air_Products', gics='Materials', sous_gics='Industrial Gases', localisation='Upper Macungie Township, Pennsylvania', date_entree='1985-04-30', cik='0000002969', date_fondation='1940'),\n",
       " Ligne(symbole='ABNB', lien_nyse='https://www.nasdaq.com/market-activity/stocks/abnb', securite='Airbnb', lien_wiki='https://en.wikipedia.org//wiki/Airbnb', gics='Consumer Discretionary', sous_gics='Hotels, Resorts &amp; Cruise Lines', localisation='San Francisco, California', date_entree='2023-09-18', cik='0001559720', date_fondation='2008'),\n",
       " Ligne(symbole='AKAM', lien_nyse='https://www.nasdaq.com/market-activity/stocks/akam', securite='Akamai Technologies', lien_wiki='https://en.wikipedia.org//wiki/Akamai_Technologies', gics='Information Technology', sous_gics='Internet Services &amp; Infrastructure', localisation='Cambridge, Massachusetts', date_entree='2007-07-12', cik='0001086222', date_fondation='1998'),\n",
       " Ligne(symbole='ALB', lien_nyse='https://www.nyse.com/quote/XNYS:ALB', securite='Albemarle Corporation', lien_wiki='https://en.wikipedia.org//wiki/Albemarle_Corporation', gics='Materials', sous_gics='Specialty Chemicals', localisation='Charlotte, North Carolina', date_entree='2016-07-01', cik='0000915913', date_fondation='1994'),\n",
       " Ligne(symbole='ARE', lien_nyse='https://www.nyse.com/quote/XNYS:ARE', securite='Alexandria Real Estate Equities', lien_wiki='https://en.wikipedia.org//wiki/Alexandria_Real_Estate_Equities', gics='Real Estate', sous_gics='Office REITs', localisation='Pasadena, California', date_entree='2017-03-20', cik='0001035443', date_fondation='1994'),\n",
       " Ligne(symbole='ALGN', lien_nyse='https://www.nasdaq.com/market-activity/stocks/algn', securite='Align Technology', lien_wiki='https://en.wikipedia.org//wiki/Align_Technology', gics='Health Care', sous_gics='Health Care Supplies', localisation='Tempe, Arizona', date_entree='2017-06-19', cik='0001097149', date_fondation='1997'),\n",
       " Ligne(symbole='ALLE', lien_nyse='https://www.nyse.com/quote/XNYS:ALLE', securite='Allegion', lien_wiki='https://en.wikipedia.org//wiki/Allegion', gics='Industrials', sous_gics='Building Products', localisation='Dublin, Ireland', date_entree='2013-12-02', cik='0001579241', date_fondation='1908'),\n",
       " Ligne(symbole='LNT', lien_nyse='https://www.nasdaq.com/market-activity/stocks/lnt', securite='Alliant Energy', lien_wiki='https://en.wikipedia.org//wiki/Alliant_Energy', gics='Utilities', sous_gics='Electric Utilities', localisation='Madison, Wisconsin', date_entree='2016-07-01', cik='0000352541', date_fondation='1917'),\n",
       " Ligne(symbole='ALL', lien_nyse='https://www.nyse.com/quote/XNYS:ALL', securite='Allstate', lien_wiki='https://en.wikipedia.org//wiki/Allstate', gics='Financials', sous_gics='Property &amp; Casualty Insurance', localisation='Northbrook, Illinois', date_entree='1995-07-13', cik='0000899051', date_fondation='1931'),\n",
       " Ligne(symbole='GOOGL', lien_nyse='https://www.nasdaq.com/market-activity/stocks/googl', securite='Alphabet Inc.', lien_wiki='https://en.wikipedia.org//wiki/Alphabet_Inc.', gics='Communication Services', sous_gics='Interactive Media &amp; Services', localisation='Mountain View, California', date_entree='2014-04-03', cik='0001652044', date_fondation='1998'),\n",
       " Ligne(symbole='GOOG', lien_nyse='https://www.nasdaq.com/market-activity/stocks/goog', securite='Alphabet Inc.', lien_wiki='https://en.wikipedia.org//wiki/Alphabet_Inc.', gics='Communication Services', sous_gics='Interactive Media &amp; Services', localisation='Mountain View, California', date_entree='2006-04-03', cik='0001652044', date_fondation='1998'),\n",
       " Ligne(symbole='MO', lien_nyse='https://www.nyse.com/quote/XNYS:MO', securite='Altria', lien_wiki='https://en.wikipedia.org//wiki/Altria', gics='Consumer Staples', sous_gics='Tobacco', localisation='Richmond, Virginia', date_entree='1957-03-04', cik='0000764180', date_fondation='1985'),\n",
       " Ligne(symbole='AMZN', lien_nyse='https://www.nasdaq.com/market-activity/stocks/amzn', securite='Amazon', lien_wiki='https://en.wikipedia.org//wiki/Amazon_(company)', gics='Consumer Discretionary', sous_gics='Broadline Retail', localisation='Seattle, Washington', date_entree='2005-11-18', cik='0001018724', date_fondation='1994'),\n",
       " Ligne(symbole='AMCR', lien_nyse='https://www.nyse.com/quote/XNYS:AMCR', securite='Amcor', lien_wiki='https://en.wikipedia.org//wiki/Amcor', gics='Materials', sous_gics='Paper &amp; Plastic Packaging Products &amp; Materials', localisation='Warmley', date_entree='2019-06-07', cik='0001748790', date_fondation='2019 (1860)'),\n",
       " Ligne(symbole='AMTM', lien_nyse='https://www.nyse.com/quote/XNYS:AMTM', securite='Amentum', lien_wiki='https://en.wikipedia.org//wiki/Amentum_(company)', gics='Industrials', sous_gics='Diversified Support Services', localisation='Chantilly, Virginia', date_entree='2024-09-30', cik='0002011286', date_fondation='2020'),\n",
       " Ligne(symbole='AEE', lien_nyse='https://www.nyse.com/quote/XNYS:AEE', securite='Ameren', lien_wiki='https://en.wikipedia.org//wiki/Ameren', gics='Utilities', sous_gics='Multi-Utilities', localisation='St. Louis, Missouri', date_entree='1991-09-19', cik='0001002910', date_fondation='1902'),\n",
       " Ligne(symbole='AEP', lien_nyse='https://www.nasdaq.com/market-activity/stocks/aep', securite='American Electric Power', lien_wiki='https://en.wikipedia.org//wiki/American_Electric_Power', gics='Utilities', sous_gics='Electric Utilities', localisation='Columbus, Ohio', date_entree='1957-03-04', cik='0000004904', date_fondation='1906'),\n",
       " Ligne(symbole='AXP', lien_nyse='https://www.nyse.com/quote/XNYS:AXP', securite='American Express', lien_wiki='https://en.wikipedia.org//wiki/American_Express', gics='Financials', sous_gics='Consumer Finance', localisation='New York City, New York', date_entree='1976-06-30', cik='0000004962', date_fondation='1850'),\n",
       " Ligne(symbole='AIG', lien_nyse='https://www.nyse.com/quote/XNYS:AIG', securite='American International Group', lien_wiki='https://en.wikipedia.org//wiki/American_International_Group', gics='Financials', sous_gics='Multi-line Insurance', localisation='New York City, New York', date_entree='1980-03-31', cik='0000005272', date_fondation='1919'),\n",
       " Ligne(symbole='AMT', lien_nyse='https://www.nyse.com/quote/XNYS:AMT', securite='American Tower', lien_wiki='https://en.wikipedia.org//wiki/American_Tower', gics='Real Estate', sous_gics='Telecom Tower REITs', localisation='Boston, Massachusetts', date_entree='2007-11-19', cik='0001053507', date_fondation='1995'),\n",
       " Ligne(symbole='AWK', lien_nyse='https://www.nyse.com/quote/XNYS:AWK', securite='American Water Works', lien_wiki='https://en.wikipedia.org//wiki/American_Water_Works', gics='Utilities', sous_gics='Water Utilities', localisation='Camden, New Jersey', date_entree='2016-03-04', cik='0001410636', date_fondation='1886'),\n",
       " Ligne(symbole='AMP', lien_nyse='https://www.nyse.com/quote/XNYS:AMP', securite='Ameriprise Financial', lien_wiki='https://en.wikipedia.org//wiki/Ameriprise_Financial', gics='Financials', sous_gics='Asset Management &amp; Custody Banks', localisation='Minneapolis, Minnesota', date_entree='2005-10-03', cik='0000820027 ', date_fondation='1894'),\n",
       " Ligne(symbole='AME', lien_nyse='https://www.nyse.com/quote/XNYS:AME', securite='Ametek', lien_wiki='https://en.wikipedia.org//wiki/Ametek', gics='Industrials', sous_gics='Electrical Components &amp; Equipment', localisation='Berwyn, Pennsylvania', date_entree='2013-09-23', cik='0001037868 ', date_fondation='1930'),\n",
       " Ligne(symbole='AMGN', lien_nyse='https://www.nasdaq.com/market-activity/stocks/amgn', securite='Amgen', lien_wiki='https://en.wikipedia.org//wiki/Amgen', gics='Health Care', sous_gics='Biotechnology', localisation='Thousand Oaks, California', date_entree='1992-01-02', cik='0000318154 ', date_fondation='1980'),\n",
       " Ligne(symbole='APH', lien_nyse='https://www.nyse.com/quote/XNYS:APH', securite='Amphenol', lien_wiki='https://en.wikipedia.org//wiki/Amphenol', gics='Information Technology', sous_gics='Electronic Components', localisation='Wallingford, Connecticut', date_entree='2008-09-30', cik='0000820313', date_fondation='1932'),\n",
       " Ligne(symbole='ADI', lien_nyse='https://www.nasdaq.com/market-activity/stocks/adi', securite='Analog Devices', lien_wiki='https://en.wikipedia.org//wiki/Analog_Devices', gics='Information Technology', sous_gics='Semiconductors', localisation='Wilmington, Massachusetts', date_entree='1999-10-12', cik='0000006281 ', date_fondation='1965'),\n",
       " Ligne(symbole='ANSS', lien_nyse='https://www.nasdaq.com/market-activity/stocks/anss', securite='Ansys', lien_wiki='https://en.wikipedia.org//wiki/Ansys', gics='Information Technology', sous_gics='Application Software', localisation='Canonsburg, Pennsylvania', date_entree='2017-06-19', cik='0001013462 ', date_fondation='1969'),\n",
       " Ligne(symbole='AON', lien_nyse='https://www.nyse.com/quote/XNYS:AON', securite='Aon', lien_wiki='https://en.wikipedia.org//wiki/Aon_(company)', gics='Financials', sous_gics='Insurance Brokers', localisation='London, UK', date_entree='1996-04-23', cik='0000315293 ', date_fondation='1982 (1919)'),\n",
       " Ligne(symbole='APA', lien_nyse='https://www.nasdaq.com/market-activity/stocks/apa', securite='APA Corporation', lien_wiki='https://en.wikipedia.org//wiki/APA_Corporation', gics='Energy', sous_gics='Oil &amp; Gas Exploration &amp; Production', localisation='Houston, Texas', date_entree='1997-07-28', cik='0001841666 ', date_fondation='1954'),\n",
       " Ligne(symbole='AAPL', lien_nyse='https://www.nasdaq.com/market-activity/stocks/aapl', securite='Apple Inc.', lien_wiki='https://en.wikipedia.org//wiki/Apple_Inc.', gics='Information Technology', sous_gics='Technology Hardware, Storage &amp; Peripherals', localisation='Cupertino, California', date_entree='1982-11-30', cik='0000320193 ', date_fondation='1977'),\n",
       " Ligne(symbole='AMAT', lien_nyse='https://www.nasdaq.com/market-activity/stocks/amat', securite='Applied Materials', lien_wiki='https://en.wikipedia.org//wiki/Applied_Materials', gics='Information Technology', sous_gics='Semiconductor Materials &amp; Equipment', localisation='Santa Clara, California', date_entree='1995-03-16', cik='0000006951 ', date_fondation='1967'),\n",
       " Ligne(symbole='APTV', lien_nyse='https://www.nyse.com/quote/XNYS:APTV', securite='Aptiv', lien_wiki='https://en.wikipedia.org//wiki/Aptiv', gics='Consumer Discretionary', sous_gics='Automotive Parts &amp; Equipment', localisation='Dublin, Ireland', date_entree='2012-12-24', cik='0001521332 ', date_fondation='1994'),\n",
       " Ligne(symbole='ACGL', lien_nyse='https://www.nasdaq.com/market-activity/stocks/acgl', securite='Arch Capital Group', lien_wiki='https://en.wikipedia.org//wiki/Arch_Capital_Group', gics='Financials', sous_gics='Property &amp; Casualty Insurance', localisation='Hamilton, Bermuda', date_entree='2022-11-01', cik='0000947484', date_fondation='1995'),\n",
       " Ligne(symbole='ADM', lien_nyse='https://www.nyse.com/quote/XNYS:ADM', securite='Archer Daniels Midland', lien_wiki='https://en.wikipedia.org//wiki/Archer_Daniels_Midland', gics='Consumer Staples', sous_gics='Agricultural Products &amp; Services', localisation='Chicago, Illinois', date_entree='1957-03-04', cik='0000007084 ', date_fondation='1902'),\n",
       " Ligne(symbole='ANET', lien_nyse='https://www.nyse.com/quote/XNYS:ANET', securite='Arista Networks', lien_wiki='https://en.wikipedia.org//wiki/Arista_Networks', gics='Information Technology', sous_gics='Communications Equipment', localisation='Santa Clara, California', date_entree='2018-08-28', cik='0001596532', date_fondation='2004'),\n",
       " Ligne(symbole='AJG', lien_nyse='https://www.nyse.com/quote/XNYS:AJG', securite='Arthur J. Gallagher &amp; Co.', lien_wiki='https://en.wikipedia.org//wiki/Arthur_J._Gallagher_%26_Co.', gics='Financials', sous_gics='Insurance Brokers', localisation='Rolling Meadows, Illinois', date_entree='2016-05-31', cik='0000354190 ', date_fondation='1927'),\n",
       " Ligne(symbole='AIZ', lien_nyse='https://www.nyse.com/quote/XNYS:AIZ', securite='Assurant', lien_wiki='https://en.wikipedia.org//wiki/Assurant', gics='Financials', sous_gics='Multi-line Insurance', localisation='Atlanta, Georgia', date_entree='2007-04-10', cik='0001267238', date_fondation='1892'),\n",
       " Ligne(symbole='T', lien_nyse='https://www.nyse.com/quote/XNYS:T', securite='AT&amp;T', lien_wiki='https://en.wikipedia.org//wiki/AT%26T', gics='Communication Services', sous_gics='Integrated Telecommunication Services', localisation='Dallas, Texas', date_entree='1983-11-30', cik='0000732717', date_fondation='1983 (1885)'),\n",
       " Ligne(symbole='ATO', lien_nyse='https://www.nyse.com/quote/XNYS:ATO', securite='Atmos Energy', lien_wiki='https://en.wikipedia.org//wiki/Atmos_Energy', gics='Utilities', sous_gics='Gas Utilities', localisation='Dallas, Texas', date_entree='2019-02-15', cik='0000731802', date_fondation='1906'),\n",
       " Ligne(symbole='ADSK', lien_nyse='https://www.nasdaq.com/market-activity/stocks/adsk', securite='Autodesk', lien_wiki='https://en.wikipedia.org//wiki/Autodesk', gics='Information Technology', sous_gics='Application Software', localisation='San Francisco, California', date_entree='1989-12-01', cik='0000769397 ', date_fondation='1982'),\n",
       " Ligne(symbole='ADP', lien_nyse='https://www.nasdaq.com/market-activity/stocks/adp', securite='Automatic Data Processing', lien_wiki='https://en.wikipedia.org//wiki/ADP_(company)', gics='Industrials', sous_gics='Human Resource &amp; Employment Services', localisation='Roseland, New Jersey', date_entree='1981-03-31', cik='0000008670 ', date_fondation='1949'),\n",
       " Ligne(symbole='AZO', lien_nyse='https://www.nyse.com/quote/XNYS:AZO', securite='AutoZone', lien_wiki='https://en.wikipedia.org//wiki/AutoZone', gics='Consumer Discretionary', sous_gics='Automotive Retail', localisation='Memphis, Tennessee', date_entree='1997-01-02', cik='0000866787 ', date_fondation='1979'),\n",
       " Ligne(symbole='AVB', lien_nyse='https://www.nyse.com/quote/XNYS:AVB', securite='AvalonBay Communities', lien_wiki='https://en.wikipedia.org//wiki/AvalonBay_Communities', gics='Real Estate', sous_gics='Multi-Family Residential REITs', localisation='Arlington, Virginia', date_entree='2007-01-10', cik='0000915912', date_fondation='1978'),\n",
       " Ligne(symbole='AVY', lien_nyse='https://www.nyse.com/quote/XNYS:AVY', securite='Avery Dennison', lien_wiki='https://en.wikipedia.org//wiki/Avery_Dennison', gics='Materials', sous_gics='Paper &amp; Plastic Packaging Products &amp; Materials', localisation='Mentor, Ohio', date_entree='1987-12-31', cik='0000008818', date_fondation='1990'),\n",
       " Ligne(symbole='AXON', lien_nyse='https://www.nasdaq.com/market-activity/stocks/axon', securite='Axon Enterprise', lien_wiki='https://en.wikipedia.org//wiki/Axon_Enterprise', gics='Industrials', sous_gics='Aerospace &amp; Defense', localisation='Scottsdale, Arizona', date_entree='2023-05-04', cik='0001069183', date_fondation='1993'),\n",
       " Ligne(symbole='BKR', lien_nyse='https://www.nasdaq.com/market-activity/stocks/bkr', securite='Baker Hughes', lien_wiki='https://en.wikipedia.org//wiki/Baker_Hughes', gics='Energy', sous_gics='Oil &amp; Gas Equipment &amp; Services', localisation='Houston, Texas', date_entree='2017-07-07', cik='0001701605', date_fondation='2017'),\n",
       " Ligne(symbole='BALL', lien_nyse='https://www.nyse.com/quote/XNYS:BALL', securite='Ball Corporation', lien_wiki='https://en.wikipedia.org//wiki/Ball_Corporation', gics='Materials', sous_gics='Metal, Glass &amp; Plastic Containers', localisation='Broomfield, Colorado', date_entree='1984-10-31', cik='0000009389', date_fondation='1880'),\n",
       " Ligne(symbole='BAC', lien_nyse='https://www.nyse.com/quote/XNYS:BAC', securite='Bank of America', lien_wiki='https://en.wikipedia.org//wiki/Bank_of_America', gics='Financials', sous_gics='Diversified Banks', localisation='Charlotte, North Carolina', date_entree='1976-06-30', cik='0000070858 ', date_fondation='1998 (1923 / 1874)'),\n",
       " Ligne(symbole='BAX', lien_nyse='https://www.nyse.com/quote/XNYS:BAX', securite='Baxter International', lien_wiki='https://en.wikipedia.org//wiki/Baxter_International', gics='Health Care', sous_gics='Health Care Equipment', localisation='Deerfield, Illinois', date_entree='1972-09-30', cik='0000010456', date_fondation='1931'),\n",
       " Ligne(symbole='BDX', lien_nyse='https://www.nyse.com/quote/XNYS:BDX', securite='Becton Dickinson', lien_wiki='https://en.wikipedia.org//wiki/BD_(company)', gics='Health Care', sous_gics='Health Care Equipment', localisation='Franklin Lakes, New Jersey', date_entree='1972-09-30', cik='0000010795', date_fondation='1897'),\n",
       " Ligne(symbole='BRK.B', lien_nyse='https://www.nyse.com/quote/XNYS:BRK.B', securite='Berkshire Hathaway', lien_wiki='https://en.wikipedia.org//wiki/Berkshire_Hathaway', gics='Financials', sous_gics='Multi-Sector Holdings', localisation='Omaha, Nebraska', date_entree='2010-02-16', cik='0001067983 ', date_fondation='1839'),\n",
       " Ligne(symbole='BBY', lien_nyse='https://www.nyse.com/quote/XNYS:BBY', securite='Best Buy', lien_wiki='https://en.wikipedia.org//wiki/Best_Buy', gics='Consumer Discretionary', sous_gics='Computer &amp; Electronics Retail', localisation='Richfield, Minnesota', date_entree='1999-06-29', cik='0000764478 ', date_fondation='1966'),\n",
       " Ligne(symbole='TECH', lien_nyse='https://www.nasdaq.com/market-activity/stocks/tech', securite='Bio-Techne', lien_wiki='https://en.wikipedia.org//wiki/Bio-Techne', gics='Health Care', sous_gics='Life Sciences Tools &amp; Services', localisation='Minneapolis, Minnesota', date_entree='2021-08-30', cik='0000842023 ', date_fondation='1976'),\n",
       " Ligne(symbole='BIIB', lien_nyse='https://www.nasdaq.com/market-activity/stocks/biib', securite='Biogen', lien_wiki='https://en.wikipedia.org//wiki/Biogen', gics='Health Care', sous_gics='Biotechnology', localisation='Cambridge, Massachusetts', date_entree='2003-11-13', cik='0000875045 ', date_fondation='1978'),\n",
       " Ligne(symbole='BLK', lien_nyse='https://www.nyse.com/quote/XNYS:BLK', securite='BlackRock', lien_wiki='https://en.wikipedia.org//wiki/BlackRock', gics='Financials', sous_gics='Asset Management &amp; Custody Banks', localisation='New York City, New York', date_entree='2011-04-04', cik='0001364742 ', date_fondation='1988'),\n",
       " Ligne(symbole='BX', lien_nyse='https://www.nyse.com/quote/XNYS:BX', securite='Blackstone Inc.', lien_wiki='https://en.wikipedia.org//wiki/Blackstone_Inc.', gics='Financials', sous_gics='Asset Management &amp; Custody Banks', localisation='New York City, New York', date_entree='2023-09-18', cik='0001393818', date_fondation='1985'),\n",
       " Ligne(symbole='BK', lien_nyse='https://www.nyse.com/quote/XNYS:BK', securite='BNY Mellon', lien_wiki='https://en.wikipedia.org//wiki/BNY_Mellon', gics='Financials', sous_gics='Asset Management &amp; Custody Banks', localisation='New York City, New York', date_entree='1995-03-31', cik='0001390777', date_fondation='1784'),\n",
       " Ligne(symbole='BA', lien_nyse='https://www.nyse.com/quote/XNYS:BA', securite='Boeing', lien_wiki='https://en.wikipedia.org//wiki/Boeing', gics='Industrials', sous_gics='Aerospace &amp; Defense', localisation='Arlington, Virginia', date_entree='1957-03-04', cik='0000012927', date_fondation='1916'),\n",
       " Ligne(symbole='BKNG', lien_nyse='https://www.nasdaq.com/market-activity/stocks/bkng', securite='Booking Holdings', lien_wiki='https://en.wikipedia.org//wiki/Booking_Holdings', gics='Consumer Discretionary', sous_gics='Hotels, Resorts &amp; Cruise Lines', localisation='Norwalk, Connecticut', date_entree='2009-11-06', cik='0001075531 ', date_fondation='1996'),\n",
       " Ligne(symbole='BWA', lien_nyse='https://www.nyse.com/quote/XNYS:BWA', securite='BorgWarner', lien_wiki='https://en.wikipedia.org//wiki/BorgWarner', gics='Consumer Discretionary', sous_gics='Automotive Parts &amp; Equipment', localisation='Auburn Hills, Michigan', date_entree='2011-12-19', cik='0000908255 ', date_fondation='1880'),\n",
       " Ligne(symbole='BSX', lien_nyse='https://www.nyse.com/quote/XNYS:BSX', securite='Boston Scientific', lien_wiki='https://en.wikipedia.org//wiki/Boston_Scientific', gics='Health Care', sous_gics='Health Care Equipment', localisation='Marlborough, Massachusetts', date_entree='1995-02-24', cik='0000885725 ', date_fondation='1979'),\n",
       " Ligne(symbole='BMY', lien_nyse='https://www.nyse.com/quote/XNYS:BMY', securite='Bristol Myers Squibb', lien_wiki='https://en.wikipedia.org//wiki/Bristol_Myers_Squibb', gics='Health Care', sous_gics='Pharmaceuticals', localisation='New York City, New York', date_entree='1957-03-04', cik='0000014272', date_fondation='1989 (1887)'),\n",
       " Ligne(symbole='AVGO', lien_nyse='https://www.nasdaq.com/market-activity/stocks/avgo', securite='Broadcom', lien_wiki='https://en.wikipedia.org//wiki/Broadcom', gics='Information Technology', sous_gics='Semiconductors', localisation='Palo Alto, California', date_entree='2014-05-08', cik='0001730168', date_fondation='1961'),\n",
       " Ligne(symbole='BR', lien_nyse='https://www.nyse.com/quote/XNYS:BR', securite='Broadridge Financial Solutions', lien_wiki='https://en.wikipedia.org//wiki/Broadridge_Financial_Solutions', gics='Industrials', sous_gics='Data Processing &amp; Outsourced Services', localisation='Lake Success, New York', date_entree='2018-06-18', cik='0001383312', date_fondation='1962'),\n",
       " Ligne(symbole='BRO', lien_nyse='https://www.nyse.com/quote/XNYS:BRO', securite='Brown &amp; Brown', lien_wiki='https://en.wikipedia.org//wiki/Brown_%26_Brown', gics='Financials', sous_gics='Insurance Brokers', localisation='Daytona Beach, Florida', date_entree='2021-09-20', cik='0000079282', date_fondation='1939'),\n",
       " Ligne(symbole='BF.B', lien_nyse='https://www.nyse.com/quote/XNYS:BF.B', securite='Brown–Forman', lien_wiki='https://en.wikipedia.org//wiki/Brown%E2%80%93Forman', gics='Consumer Staples', sous_gics='Distillers &amp; Vintners', localisation='Louisville, Kentucky', date_entree='1982-10-31', cik='0000014693', date_fondation='1870'),\n",
       " Ligne(symbole='BLDR', lien_nyse='https://www.nyse.com/quote/XNYS:BLDR', securite='Builders FirstSource', lien_wiki='https://en.wikipedia.org//wiki/Builders_FirstSource', gics='Industrials', sous_gics='Building Products', localisation='Irving, Texas', date_entree='2023-12-18', cik='0001316835', date_fondation='1998'),\n",
       " Ligne(symbole='BG', lien_nyse='https://www.nyse.com/quote/XNYS:BG', securite='Bunge Global', lien_wiki='https://en.wikipedia.org//wiki/Bunge_Global', gics='Consumer Staples', sous_gics='Agricultural Products &amp; Services', localisation='Chesterfield, Missouri', date_entree='2023-03-15', cik='0001996862', date_fondation='1818'),\n",
       " Ligne(symbole='BXP', lien_nyse='https://www.nyse.com/quote/XNYS:BXP', securite='BXP, Inc.', lien_wiki='https://en.wikipedia.org//wiki/BXP,_Inc.', gics='Real Estate', sous_gics='Office REITs', localisation='Boston, Massachusetts', date_entree='2006-04-03', cik='0001037540', date_fondation='1970'),\n",
       " Ligne(symbole='CHRW', lien_nyse='https://www.nasdaq.com/market-activity/stocks/chrw', securite='C.H. Robinson', lien_wiki='https://en.wikipedia.org//wiki/C.H._Robinson', gics='Industrials', sous_gics='Air Freight &amp; Logistics', localisation='Eden Prairie, Minnesota', date_entree='2007-03-02', cik='0001043277', date_fondation='1905'),\n",
       " Ligne(symbole='CDNS', lien_nyse='https://www.nasdaq.com/market-activity/stocks/cdns', securite='Cadence Design Systems', lien_wiki='https://en.wikipedia.org//wiki/Cadence_Design_Systems', gics='Information Technology', sous_gics='Application Software', localisation='San Jose, California', date_entree='2017-09-18', cik='0000813672', date_fondation='1988'),\n",
       " Ligne(symbole='CZR', lien_nyse='https://www.nasdaq.com/market-activity/stocks/czr', securite='Caesars Entertainment', lien_wiki='https://en.wikipedia.org//wiki/Caesars_Entertainment', gics='Consumer Discretionary', sous_gics='Casinos &amp; Gaming', localisation='Reno, Nevada', date_entree='2021-03-22', cik='0001590895', date_fondation='1973'),\n",
       " Ligne(symbole='CPT', lien_nyse='https://www.nyse.com/quote/XNYS:CPT', securite='Camden Property Trust', lien_wiki='https://en.wikipedia.org//wiki/Camden_Property_Trust', gics='Real Estate', sous_gics='Multi-Family Residential REITs', localisation='Houston, Texas', date_entree='2022-04-04', cik='0000906345', date_fondation='1981'),\n",
       " Ligne(symbole='CPB', lien_nyse='https://www.nyse.com/quote/XNYS:CPB', securite='Campbell Soup Company', lien_wiki='https://en.wikipedia.org//wiki/Campbell_Soup_Company', gics='Consumer Staples', sous_gics='Packaged Foods &amp; Meats', localisation='Camden, New Jersey', date_entree='1957-03-04', cik='0000016732', date_fondation='1869'),\n",
       " Ligne(symbole='COF', lien_nyse='https://www.nyse.com/quote/XNYS:COF', securite='Capital One', lien_wiki='https://en.wikipedia.org//wiki/Capital_One', gics='Financials', sous_gics='Consumer Finance', localisation='Tysons Corner, Virginia', date_entree='1998-07-01', cik='0000927628', date_fondation='1994'),\n",
       " Ligne(symbole='CAH', lien_nyse='https://www.nyse.com/quote/XNYS:CAH', securite='Cardinal Health', lien_wiki='https://en.wikipedia.org//wiki/Cardinal_Health', gics='Health Care', sous_gics='Health Care Distributors', localisation='Dublin, Ohio', date_entree='1997-05-27', cik='0000721371', date_fondation='1971'),\n",
       " Ligne(symbole='KMX', lien_nyse='https://www.nyse.com/quote/XNYS:KMX', securite='CarMax', lien_wiki='https://en.wikipedia.org//wiki/CarMax', gics='Consumer Discretionary', sous_gics='Automotive Retail', localisation='Richmond, Virginia', date_entree='2010-06-28', cik='0001170010', date_fondation='1993'),\n",
       " Ligne(symbole='CCL', lien_nyse='https://www.nyse.com/quote/XNYS:CCL', securite='Carnival', lien_wiki='https://en.wikipedia.org//wiki/Carnival_Corporation_%26_plc', gics='Consumer Discretionary', sous_gics='Hotels, Resorts &amp; Cruise Lines', localisation='Miami, Florida', date_entree='1998-12-22', cik='0000815097', date_fondation='1972'),\n",
       " Ligne(symbole='CARR', lien_nyse='https://www.nyse.com/quote/XNYS:CARR', securite='Carrier Global', lien_wiki='https://en.wikipedia.org//wiki/Carrier_Global', gics='Industrials', sous_gics='Building Products', localisation='Palm Beach Gardens, Florida', date_entree='2020-04-03', cik='0001783180 ', date_fondation='2020 (1915, <a href=\"/wiki/United_Technologies\" title=\"United Technologies\">United Technologies</a> spinoff)'),\n",
       " Ligne(symbole='CTLT', lien_nyse='https://www.nyse.com/quote/XNYS:CTLT', securite='Catalent', lien_wiki='https://en.wikipedia.org//wiki/Catalent', gics='Health Care', sous_gics='Pharmaceuticals', localisation='Somerset, New Jersey', date_entree='2020-09-21', cik='0001596783', date_fondation='2007'),\n",
       " Ligne(symbole='CAT', lien_nyse='https://www.nyse.com/quote/XNYS:CAT', securite='Caterpillar Inc.', lien_wiki='https://en.wikipedia.org//wiki/Caterpillar_Inc.', gics='Industrials', sous_gics='Construction Machinery &amp; Heavy Transportation Equipment', localisation='Irving, Texas', date_entree='1957-03-04', cik='0000018230', date_fondation='1925'),\n",
       " Ligne(symbole='CBOE', lien_nyse='https://markets.cboe.com/us/equities/listings/listed_products/symbols/CBOE', securite='Cboe Global Markets', lien_wiki='https://en.wikipedia.org//wiki/Cboe_Global_Markets', gics='Financials', sous_gics='Financial Exchanges &amp; Data', localisation='Chicago, Illinois', date_entree='2017-03-01', cik='0001374310', date_fondation='1973'),\n",
       " Ligne(symbole='CBRE', lien_nyse='https://www.nyse.com/quote/XNYS:CBRE', securite='CBRE Group', lien_wiki='https://en.wikipedia.org//wiki/CBRE_Group', gics='Real Estate', sous_gics='Real Estate Services', localisation='Dallas, Texas', date_entree='2006-11-10', cik='0001138118', date_fondation='1906'),\n",
       " Ligne(symbole='CDW', lien_nyse='https://www.nasdaq.com/market-activity/stocks/cdw', securite='CDW', lien_wiki='https://en.wikipedia.org//wiki/CDW', gics='Information Technology', sous_gics='Technology Distributors', localisation='Vernon Hills, Illinois', date_entree='2019-09-23', cik='0001402057', date_fondation='1984'),\n",
       " Ligne(symbole='CE', lien_nyse='https://www.nyse.com/quote/XNYS:CE', securite='Celanese', lien_wiki='https://en.wikipedia.org//wiki/Celanese', gics='Materials', sous_gics='Specialty Chemicals', localisation='Irving, Texas', date_entree='2018-12-24', cik='0001306830', date_fondation='1918'),\n",
       " Ligne(symbole='COR', lien_nyse='https://www.nyse.com/quote/XNYS:COR', securite='Cencora', lien_wiki='https://en.wikipedia.org//wiki/Cencora', gics='Health Care', sous_gics='Health Care Distributors', localisation='Conshohocken, Pennsylvania', date_entree='2001-08-30', cik='0001140859', date_fondation='1985'),\n",
       " Ligne(symbole='CNC', lien_nyse='https://www.nyse.com/quote/XNYS:CNC', securite='Centene Corporation', lien_wiki='https://en.wikipedia.org//wiki/Centene_Corporation', gics='Health Care', sous_gics='Managed Health Care', localisation='St. Louis, Missouri', date_entree='2016-03-30', cik='0001071739', date_fondation='1984'),\n",
       " Ligne(symbole='CNP', lien_nyse='https://www.nyse.com/quote/XNYS:CNP', securite='CenterPoint Energy', lien_wiki='https://en.wikipedia.org//wiki/CenterPoint_Energy', gics='Utilities', sous_gics='Multi-Utilities', localisation='Houston, Texas', date_entree='1985-07-31', cik='0001130310', date_fondation='1882'),\n",
       " Ligne(symbole='CF', lien_nyse='https://www.nyse.com/quote/XNYS:CF', securite='CF Industries', lien_wiki='https://en.wikipedia.org//wiki/CF_Industries', gics='Materials', sous_gics='Fertilizers &amp; Agricultural Chemicals', localisation='Deerfield, Illinois', date_entree='2008-08-27', cik='0001324404', date_fondation='1946'),\n",
       " Ligne(symbole='CRL', lien_nyse='https://www.nyse.com/quote/XNYS:CRL', securite='Charles River Laboratories', lien_wiki='https://en.wikipedia.org//wiki/Charles_River_Laboratories', gics='Health Care', sous_gics='Life Sciences Tools &amp; Services', localisation='Wilmington, Massachusetts', date_entree='2021-05-14', cik='0001100682', date_fondation='1947'),\n",
       " Ligne(symbole='SCHW', lien_nyse='https://www.nyse.com/quote/XNYS:SCHW', securite='Charles Schwab Corporation', lien_wiki='https://en.wikipedia.org//wiki/Charles_Schwab_Corporation', gics='Financials', sous_gics='Investment Banking &amp; Brokerage', localisation='Westlake, Texas', date_entree='1997-06-02', cik='0000316709', date_fondation='1971'),\n",
       " Ligne(symbole='CHTR', lien_nyse='https://www.nasdaq.com/market-activity/stocks/chtr', securite='Charter Communications', lien_wiki='https://en.wikipedia.org//wiki/Charter_Communications', gics='Communication Services', sous_gics='Cable &amp; Satellite', localisation='Stamford, Connecticut', date_entree='2016-09-08', cik='0001091667', date_fondation='1993'),\n",
       " Ligne(symbole='CVX', lien_nyse='https://www.nyse.com/quote/XNYS:CVX', securite='Chevron Corporation', lien_wiki='https://en.wikipedia.org//wiki/Chevron_Corporation', gics='Energy', sous_gics='Integrated Oil &amp; Gas', localisation='San Ramon, California', date_entree='1957-03-04', cik='0000093410', date_fondation='1879'),\n",
       " Ligne(symbole='CMG', lien_nyse='https://www.nyse.com/quote/XNYS:CMG', securite='Chipotle Mexican Grill', lien_wiki='https://en.wikipedia.org//wiki/Chipotle_Mexican_Grill', gics='Consumer Discretionary', sous_gics='Restaurants', localisation='Newport Beach, California', date_entree='2011-04-28', cik='0001058090', date_fondation='1993'),\n",
       " Ligne(symbole='CB', lien_nyse='https://www.nyse.com/quote/XNYS:CB', securite='Chubb Limited', lien_wiki='https://en.wikipedia.org//wiki/Chubb_Limited', gics='Financials', sous_gics='Property &amp; Casualty Insurance', localisation='Zurich, Switzerland', date_entree='2010-07-15', cik='0000896159', date_fondation='1985'),\n",
       " Ligne(symbole='CHD', lien_nyse='https://www.nyse.com/quote/XNYS:CHD', securite='Church &amp; Dwight', lien_wiki='https://en.wikipedia.org//wiki/Church_%26_Dwight', gics='Consumer Staples', sous_gics='Household Products', localisation='Ewing, New Jersey', date_entree='2015-12-29', cik='0000313927', date_fondation='1847'),\n",
       " Ligne(symbole='CI', lien_nyse='https://www.nyse.com/quote/XNYS:CI', securite='Cigna', lien_wiki='https://en.wikipedia.org//wiki/Cigna', gics='Health Care', sous_gics='Health Care Services', localisation='Bloomfield, Connecticut', date_entree='1976-06-30', cik='0001739940 ', date_fondation='1982'),\n",
       " Ligne(symbole='CINF', lien_nyse='https://www.nasdaq.com/market-activity/stocks/cinf', securite='Cincinnati Financial', lien_wiki='https://en.wikipedia.org//wiki/Cincinnati_Financial', gics='Financials', sous_gics='Property &amp; Casualty Insurance', localisation='Fairfield, Ohio', date_entree='1997-12-18', cik='0000020286', date_fondation='1950'),\n",
       " Ligne(symbole='CTAS', lien_nyse='https://www.nasdaq.com/market-activity/stocks/ctas', securite='Cintas', lien_wiki='https://en.wikipedia.org//wiki/Cintas', gics='Industrials', sous_gics='Diversified Support Services', localisation='Mason, Ohio', date_entree='2001-03-01', cik='0000723254', date_fondation='1929'),\n",
       " Ligne(symbole='CSCO', lien_nyse='https://www.nasdaq.com/market-activity/stocks/csco', securite='Cisco', lien_wiki='https://en.wikipedia.org//wiki/Cisco', gics='Information Technology', sous_gics='Communications Equipment', localisation='San Jose, California', date_entree='1993-12-01', cik='0000858877', date_fondation='1984'),\n",
       " Ligne(symbole='C', lien_nyse='https://www.nyse.com/quote/XNYS:C', securite='Citigroup', lien_wiki='https://en.wikipedia.org//wiki/Citigroup', gics='Financials', sous_gics='Diversified Banks', localisation='New York City, New York', date_entree='1988-05-31', cik='0000831001', date_fondation='1998'),\n",
       " Ligne(symbole='CFG', lien_nyse='https://www.nyse.com/quote/XNYS:CFG', securite='Citizens Financial Group', lien_wiki='https://en.wikipedia.org//wiki/Citizens_Financial_Group', gics='Financials', sous_gics='Regional Banks', localisation='Providence, Rhode Island', date_entree='2016-01-29', cik='0000759944', date_fondation='1828'),\n",
       " Ligne(symbole='CLX', lien_nyse='https://www.nyse.com/quote/XNYS:CLX', securite='Clorox', lien_wiki='https://en.wikipedia.org//wiki/Clorox', gics='Consumer Staples', sous_gics='Household Products', localisation='Oakland, California', date_entree='1969-03-31', cik='0000021076', date_fondation='1913'),\n",
       " Ligne(symbole='CME', lien_nyse='https://www.nasdaq.com/market-activity/stocks/cme', securite='CME Group', lien_wiki='https://en.wikipedia.org//wiki/CME_Group', gics='Financials', sous_gics='Financial Exchanges &amp; Data', localisation='Chicago, Illinois', date_entree='2006-08-11', cik='0001156375', date_fondation='1848'),\n",
       " Ligne(symbole='CMS', lien_nyse='https://www.nyse.com/quote/XNYS:CMS', securite='CMS Energy', lien_wiki='https://en.wikipedia.org//wiki/CMS_Energy', gics='Utilities', sous_gics='Multi-Utilities', localisation='Jackson, Michigan', date_entree='1957-03-04', cik='0000811156', date_fondation='1886'),\n",
       " Ligne(symbole='KO', lien_nyse='https://www.nyse.com/quote/XNYS:KO', securite='Coca-Cola Company (The)', lien_wiki='https://en.wikipedia.org//wiki/The_Coca-Cola_Company', gics='Consumer Staples', sous_gics='Soft Drinks &amp; Non-alcoholic Beverages', localisation='Atlanta, Georgia', date_entree='1957-03-04', cik='0000021344', date_fondation='1886'),\n",
       " Ligne(symbole='CTSH', lien_nyse='https://www.nasdaq.com/market-activity/stocks/ctsh', securite='Cognizant', lien_wiki='https://en.wikipedia.org//wiki/Cognizant', gics='Information Technology', sous_gics='IT Consulting &amp; Other Services', localisation='Teaneck, New Jersey', date_entree='2006-11-17', cik='0001058290', date_fondation='1994'),\n",
       " Ligne(symbole='CL', lien_nyse='https://www.nyse.com/quote/XNYS:CL', securite='Colgate-Palmolive', lien_wiki='https://en.wikipedia.org//wiki/Colgate-Palmolive', gics='Consumer Staples', sous_gics='Household Products', localisation='New York City, New York', date_entree='1957-03-04', cik='0000021665', date_fondation='1806'),\n",
       " Ligne(symbole='CMCSA', lien_nyse='https://www.nasdaq.com/market-activity/stocks/cmcsa', securite='Comcast', lien_wiki='https://en.wikipedia.org//wiki/Comcast', gics='Communication Services', sous_gics='Cable &amp; Satellite', localisation='Philadelphia, Pennsylvania', date_entree='2002-11-19', cik='0001166691', date_fondation='1963'),\n",
       " Ligne(symbole='CAG', lien_nyse='https://www.nyse.com/quote/XNYS:CAG', securite='Conagra Brands', lien_wiki='https://en.wikipedia.org//wiki/Conagra_Brands', gics='Consumer Staples', sous_gics='Packaged Foods &amp; Meats', localisation='Chicago, Illinois', date_entree='1983-08-31', cik='0000023217 ', date_fondation='1919'),\n",
       " Ligne(symbole='COP', lien_nyse='https://www.nyse.com/quote/XNYS:COP', securite='ConocoPhillips', lien_wiki='https://en.wikipedia.org//wiki/ConocoPhillips', gics='Energy', sous_gics='Oil &amp; Gas Exploration &amp; Production', localisation='Houston, Texas', date_entree='1957-03-04', cik='0001163165', date_fondation='2002'),\n",
       " Ligne(symbole='ED', lien_nyse='https://www.nyse.com/quote/XNYS:ED', securite='Consolidated Edison', lien_wiki='https://en.wikipedia.org//wiki/Consolidated_Edison', gics='Utilities', sous_gics='Multi-Utilities', localisation='New York City, New York', date_entree='1957-03-04', cik='0001047862', date_fondation='1823'),\n",
       " Ligne(symbole='STZ', lien_nyse='https://www.nyse.com/quote/XNYS:STZ', securite='Constellation Brands', lien_wiki='https://en.wikipedia.org//wiki/Constellation_Brands', gics='Consumer Staples', sous_gics='Distillers &amp; Vintners', localisation='Rochester, New York', date_entree='2005-07-01', cik='0000016918', date_fondation='1945'),\n",
       " Ligne(symbole='CEG', lien_nyse='https://www.nasdaq.com/market-activity/stocks/ceg', securite='Constellation Energy', lien_wiki='https://en.wikipedia.org//wiki/Constellation_Energy', gics='Utilities', sous_gics='Electric Utilities', localisation='Baltimore, Maryland', date_entree='2022-02-02', cik='0001868275', date_fondation='1999'),\n",
       " Ligne(symbole='COO', lien_nyse='https://www.nasdaq.com/market-activity/stocks/coo', securite='Cooper Companies (The)', lien_wiki='https://en.wikipedia.org//wiki/The_Cooper_Companies', gics='Health Care', sous_gics='Health Care Supplies', localisation='San Ramon, California', date_entree='2016-09-23', cik='0000711404', date_fondation='1958'),\n",
       " Ligne(symbole='CPRT', lien_nyse='https://www.nasdaq.com/market-activity/stocks/cprt', securite='Copart', lien_wiki='https://en.wikipedia.org//wiki/Copart', gics='Industrials', sous_gics='Diversified Support Services', localisation='Dallas, Texas', date_entree='2018-07-02', cik='0000900075', date_fondation='1982'),\n",
       " Ligne(symbole='GLW', lien_nyse='https://www.nyse.com/quote/XNYS:GLW', securite='Corning Inc.', lien_wiki='https://en.wikipedia.org//wiki/Corning_Inc.', gics='Information Technology', sous_gics='Electronic Components', localisation='Corning, New York', date_entree='1995-02-27', cik='0000024741', date_fondation='1851'),\n",
       " Ligne(symbole='CPAY', lien_nyse='https://www.nyse.com/quote/XNYS:CPAY', securite='Corpay', lien_wiki='https://en.wikipedia.org//wiki/Corpay', gics='Financials', sous_gics='Transaction &amp; Payment Processing Services', localisation='Atlanta, Georgia', date_entree='2018-06-20', cik='0001175454', date_fondation='2000'),\n",
       " Ligne(symbole='CTVA', lien_nyse='https://www.nyse.com/quote/XNYS:CTVA', securite='Corteva', lien_wiki='https://en.wikipedia.org//wiki/Corteva', gics='Materials', sous_gics='Fertilizers &amp; Agricultural Chemicals', localisation='Indianapolis, Indiana', date_entree='2019-06-03', cik='0001755672', date_fondation='2019'),\n",
       " Ligne(symbole='CSGP', lien_nyse='https://www.nasdaq.com/market-activity/stocks/csgp', securite='CoStar Group', lien_wiki='https://en.wikipedia.org//wiki/CoStar_Group', gics='Real Estate', sous_gics='Real Estate Services', localisation='Washington, D.C.', date_entree='2022-09-19', cik='0001057352', date_fondation='1987'),\n",
       " Ligne(symbole='COST', lien_nyse='https://www.nasdaq.com/market-activity/stocks/cost', securite='Costco', lien_wiki='https://en.wikipedia.org//wiki/Costco', gics='Consumer Staples', sous_gics='Consumer Staples Merchandise Retail', localisation='Issaquah, Washington', date_entree='1993-10-01', cik='0000909832', date_fondation='1976'),\n",
       " Ligne(symbole='CTRA', lien_nyse='https://www.nyse.com/quote/XNYS:CTRA', securite='Coterra', lien_wiki='https://en.wikipedia.org//wiki/Coterra', gics='Energy', sous_gics='Oil &amp; Gas Exploration &amp; Production', localisation='Houston, Texas', date_entree='2008-06-23', cik='0000858470', date_fondation='2021 (1989)'),\n",
       " Ligne(symbole='CRWD', lien_nyse='https://www.nasdaq.com/market-activity/stocks/crwd', securite='CrowdStrike', lien_wiki='https://en.wikipedia.org//wiki/CrowdStrike', gics='Information Technology', sous_gics='Systems Software', localisation='Austin, Texas', date_entree='2024-06-24', cik='0001535527', date_fondation='2011'),\n",
       " Ligne(symbole='CCI', lien_nyse='https://www.nyse.com/quote/XNYS:CCI', securite='Crown Castle', lien_wiki='https://en.wikipedia.org//wiki/Crown_Castle', gics='Real Estate', sous_gics='Telecom Tower REITs', localisation='Houston, Texas', date_entree='2012-03-14', cik='0001051470', date_fondation='1994'),\n",
       " Ligne(symbole='CSX', lien_nyse='https://www.nasdaq.com/market-activity/stocks/csx', securite='CSX Corporation', lien_wiki='https://en.wikipedia.org//wiki/CSX_Corporation', gics='Industrials', sous_gics='Rail Transportation', localisation='Jacksonville, Florida', date_entree='1957-03-04', cik='0000277948', date_fondation='1980'),\n",
       " Ligne(symbole='CMI', lien_nyse='https://www.nyse.com/quote/XNYS:CMI', securite='Cummins', lien_wiki='https://en.wikipedia.org//wiki/Cummins', gics='Industrials', sous_gics='Construction Machinery &amp; Heavy Transportation Equipment', localisation='Columbus, Indiana', date_entree='1965-03-31', cik='0000026172', date_fondation='1919'),\n",
       " Ligne(symbole='CVS', lien_nyse='https://www.nyse.com/quote/XNYS:CVS', securite='CVS Health', lien_wiki='https://en.wikipedia.org//wiki/CVS_Health', gics='Health Care', sous_gics='Health Care Services', localisation='Woonsocket, Rhode Island', date_entree='1957-03-04', cik='0000064803', date_fondation='1996'),\n",
       " Ligne(symbole='DHR', lien_nyse='https://www.nyse.com/quote/XNYS:DHR', securite='Danaher Corporation', lien_wiki='https://en.wikipedia.org//wiki/Danaher_Corporation', gics='Health Care', sous_gics='Life Sciences Tools &amp; Services', localisation='Washington, D.C.', date_entree='1998-11-18', cik='0000313616', date_fondation='1969'),\n",
       " Ligne(symbole='DRI', lien_nyse='https://www.nyse.com/quote/XNYS:DRI', securite='Darden Restaurants', lien_wiki='https://en.wikipedia.org//wiki/Darden_Restaurants', gics='Consumer Discretionary', sous_gics='Restaurants', localisation='Orlando, Florida', date_entree='1995-05-31', cik='0000940944', date_fondation='1938'),\n",
       " Ligne(symbole='DVA', lien_nyse='https://www.nyse.com/quote/XNYS:DVA', securite='DaVita', lien_wiki='https://en.wikipedia.org//wiki/DaVita', gics='Health Care', sous_gics='Health Care Services', localisation='Denver, Colorado', date_entree='2008-07-31', cik='0000927066', date_fondation='1979'),\n",
       " Ligne(symbole='DAY', lien_nyse='https://www.nyse.com/quote/XNYS:DAY', securite='Dayforce', lien_wiki='https://en.wikipedia.org//wiki/Dayforce', gics='Industrials', sous_gics='Human Resource &amp; Employment Services', localisation='Minneapolis, Minnesota', date_entree='2021-09-20', cik='0001725057', date_fondation='1992'),\n",
       " Ligne(symbole='DECK', lien_nyse='https://www.nyse.com/quote/XNYS:DECK', securite='Deckers Brands', lien_wiki='https://en.wikipedia.org//wiki/Deckers_Brands', gics='Consumer Discretionary', sous_gics='Footwear', localisation='Goleta, California', date_entree='2024-03-18', cik='0000910521', date_fondation='1973'),\n",
       " Ligne(symbole='DE', lien_nyse='https://www.nyse.com/quote/XNYS:DE', securite='Deere &amp; Company', lien_wiki='https://en.wikipedia.org//wiki/Deere_%26_Company', gics='Industrials', sous_gics='Agricultural &amp; Farm Machinery', localisation='Moline, Illinois', date_entree='1957-03-04', cik='0000315189', date_fondation='1837'),\n",
       " Ligne(symbole='DELL', lien_nyse='https://www.nyse.com/quote/XNYS:DELL', securite='Dell Technologies', lien_wiki='https://en.wikipedia.org//wiki/Dell_Technologies', gics='Information Technology', sous_gics='Technology Hardware, Storage &amp; Peripherals', localisation='Round Rock, Texas', date_entree='2024-09-23', cik='0001571996', date_fondation='2016'),\n",
       " Ligne(symbole='DAL', lien_nyse='https://www.nyse.com/quote/XNYS:DAL', securite='Delta Air Lines', lien_wiki='https://en.wikipedia.org//wiki/Delta_Air_Lines', gics='Industrials', sous_gics='Passenger Airlines', localisation='Atlanta, Georgia', date_entree='2013-09-11', cik='0000027904', date_fondation='1929'),\n",
       " Ligne(symbole='DVN', lien_nyse='https://www.nyse.com/quote/XNYS:DVN', securite='Devon Energy', lien_wiki='https://en.wikipedia.org//wiki/Devon_Energy', gics='Energy', sous_gics='Oil &amp; Gas Exploration &amp; Production', localisation='Oklahoma City, Oklahoma', date_entree='2000-08-30', cik='0001090012', date_fondation='1971'),\n",
       " Ligne(symbole='DXCM', lien_nyse='https://www.nasdaq.com/market-activity/stocks/dxcm', securite='Dexcom', lien_wiki='https://en.wikipedia.org//wiki/Dexcom', gics='Health Care', sous_gics='Health Care Equipment', localisation='San Diego, California', date_entree='2020-05-12', cik='0001093557', date_fondation='1999'),\n",
       " Ligne(symbole='FANG', lien_nyse='https://www.nasdaq.com/market-activity/stocks/fang', securite='Diamondback Energy', lien_wiki='https://en.wikipedia.org//wiki/Diamondback_Energy', gics='Energy', sous_gics='Oil &amp; Gas Exploration &amp; Production', localisation='Midland, Texas', date_entree='2018-12-03', cik='0001539838', date_fondation='2007'),\n",
       " Ligne(symbole='DLR', lien_nyse='https://www.nyse.com/quote/XNYS:DLR', securite='Digital Realty', lien_wiki='https://en.wikipedia.org//wiki/Digital_Realty', gics='Real Estate', sous_gics='Data Center REITs', localisation='Austin, Texas', date_entree='2016-05-18', cik='0001297996', date_fondation='2004'),\n",
       " Ligne(symbole='DFS', lien_nyse='https://www.nyse.com/quote/XNYS:DFS', securite='Discover Financial', lien_wiki='https://en.wikipedia.org//wiki/Discover_Financial', gics='Financials', sous_gics='Consumer Finance', localisation='Riverwoods, Illinois', date_entree='2007-07-02', cik='0001393612 ', date_fondation='1985'),\n",
       " Ligne(symbole='DG', lien_nyse='https://www.nyse.com/quote/XNYS:DG', securite='Dollar General', lien_wiki='https://en.wikipedia.org//wiki/Dollar_General', gics='Consumer Staples', sous_gics='Consumer Staples Merchandise Retail', localisation='Goodlettsville, Tennessee', date_entree='2012-12-03', cik='0000029534', date_fondation='1939'),\n",
       " Ligne(symbole='DLTR', lien_nyse='https://www.nasdaq.com/market-activity/stocks/dltr', securite='Dollar Tree', lien_wiki='https://en.wikipedia.org//wiki/Dollar_Tree', gics='Consumer Staples', sous_gics='Consumer Staples Merchandise Retail', localisation='Chesapeake, Virginia', date_entree='2011-12-19', cik='0000935703', date_fondation='1986'),\n",
       " Ligne(symbole='D', lien_nyse='https://www.nyse.com/quote/XNYS:D', securite='Dominion Energy', lien_wiki='https://en.wikipedia.org//wiki/Dominion_Energy', gics='Utilities', sous_gics='Multi-Utilities', localisation='Richmond, Virginia', date_entree='2016-11-30', cik='0000715957', date_fondation='1983'),\n",
       " Ligne(symbole='DPZ', lien_nyse='https://www.nyse.com/quote/XNYS:DPZ', securite=\"Domino's\", lien_wiki='https://en.wikipedia.org//wiki/Domino%27s', gics='Consumer Discretionary', sous_gics='Restaurants', localisation='Ann Arbor, Michigan', date_entree='2020-05-12', cik='0001286681', date_fondation='1960'),\n",
       " Ligne(symbole='DOV', lien_nyse='https://www.nyse.com/quote/XNYS:DOV', securite='Dover Corporation', lien_wiki='https://en.wikipedia.org//wiki/Dover_Corporation', gics='Industrials', sous_gics='Industrial Machinery &amp; Supplies &amp; Components', localisation='Downers Grove, Illinois', date_entree='1985-10-31', cik='0000029905', date_fondation='1955'),\n",
       " Ligne(symbole='DOW', lien_nyse='https://www.nyse.com/quote/XNYS:DOW', securite='Dow Inc.', lien_wiki='https://en.wikipedia.org//wiki/Dow_Inc.', gics='Materials', sous_gics='Commodity Chemicals', localisation='Midland, Michigan', date_entree='2019-04-01', cik='0001751788', date_fondation='2019 (1897)'),\n",
       " Ligne(symbole='DHI', lien_nyse='https://www.nyse.com/quote/XNYS:DHI', securite='D. R. Horton', lien_wiki='https://en.wikipedia.org//wiki/D._R._Horton', gics='Consumer Discretionary', sous_gics='Homebuilding', localisation='Arlington, Texas', date_entree='2005-06-22', cik='0000882184', date_fondation='1978'),\n",
       " Ligne(symbole='DTE', lien_nyse='https://www.nyse.com/quote/XNYS:DTE', securite='DTE Energy', lien_wiki='https://en.wikipedia.org//wiki/DTE_Energy', gics='Utilities', sous_gics='Multi-Utilities', localisation='Detroit, Michigan', date_entree='1957-03-04', cik='0000936340', date_fondation='1995'),\n",
       " Ligne(symbole='DUK', lien_nyse='https://www.nyse.com/quote/XNYS:DUK', securite='Duke Energy', lien_wiki='https://en.wikipedia.org//wiki/Duke_Energy', gics='Utilities', sous_gics='Electric Utilities', localisation='Charlotte, North Carolina', date_entree='1976-06-30', cik='0001326160 ', date_fondation='1904'),\n",
       " Ligne(symbole='DD', lien_nyse='https://www.nyse.com/quote/XNYS:DD', securite='DuPont', lien_wiki='https://en.wikipedia.org//wiki/DuPont', gics='Materials', sous_gics='Specialty Chemicals', localisation='Wilmington, Delaware', date_entree='2019-04-02', cik='0001666700', date_fondation='2017 (1802)'),\n",
       " Ligne(symbole='EMN', lien_nyse='https://www.nyse.com/quote/XNYS:EMN', securite='Eastman Chemical Company', lien_wiki='https://en.wikipedia.org//wiki/Eastman_Chemical_Company', gics='Materials', sous_gics='Specialty Chemicals', localisation='Kingsport, Tennessee', date_entree='1994-01-01', cik='0000915389', date_fondation='1920'),\n",
       " Ligne(symbole='ETN', lien_nyse='https://www.nyse.com/quote/XNYS:ETN', securite='Eaton Corporation', lien_wiki='https://en.wikipedia.org//wiki/Eaton_Corporation', gics='Industrials', sous_gics='Electrical Components &amp; Equipment', localisation='Dublin, Ireland', date_entree='1957-03-04', cik='0001551182', date_fondation='1911'),\n",
       " Ligne(symbole='EBAY', lien_nyse='https://www.nasdaq.com/market-activity/stocks/ebay', securite='eBay', lien_wiki='https://en.wikipedia.org//wiki/EBay', gics='Consumer Discretionary', sous_gics='Broadline Retail', localisation='San Jose, California', date_entree='2002-07-22', cik='0001065088', date_fondation='1995'),\n",
       " Ligne(symbole='ECL', lien_nyse='https://www.nyse.com/quote/XNYS:ECL', securite='Ecolab', lien_wiki='https://en.wikipedia.org//wiki/Ecolab', gics='Materials', sous_gics='Specialty Chemicals', localisation='Saint Paul, Minnesota', date_entree='1989-01-31', cik='0000031462', date_fondation='1923'),\n",
       " Ligne(symbole='EIX', lien_nyse='https://www.nyse.com/quote/XNYS:EIX', securite='Edison International', lien_wiki='https://en.wikipedia.org//wiki/Edison_International', gics='Utilities', sous_gics='Electric Utilities', localisation='Rosemead, California', date_entree='1957-03-04', cik='0000827052', date_fondation='1886'),\n",
       " Ligne(symbole='EW', lien_nyse='https://www.nyse.com/quote/XNYS:EW', securite='Edwards Lifesciences', lien_wiki='https://en.wikipedia.org//wiki/Edwards_Lifesciences', gics='Health Care', sous_gics='Health Care Equipment', localisation='Irvine, California', date_entree='2011-04-01', cik='0001099800', date_fondation='1958'),\n",
       " Ligne(symbole='EA', lien_nyse='https://www.nasdaq.com/market-activity/stocks/ea', securite='Electronic Arts', lien_wiki='https://en.wikipedia.org//wiki/Electronic_Arts', gics='Communication Services', sous_gics='Interactive Home Entertainment', localisation='Redwood City, California', date_entree='2002-07-22', cik='0000712515', date_fondation='1982'),\n",
       " Ligne(symbole='ELV', lien_nyse='https://www.nyse.com/quote/XNYS:ELV', securite='Elevance Health', lien_wiki='https://en.wikipedia.org//wiki/Elevance_Health', gics='Health Care', sous_gics='Managed Health Care', localisation='Indianapolis, Indiana', date_entree='2002-07-25', cik='0001156039 ', date_fondation='2014 (1946)'),\n",
       " Ligne(symbole='EMR', lien_nyse='https://www.nyse.com/quote/XNYS:EMR', securite='Emerson Electric', lien_wiki='https://en.wikipedia.org//wiki/Emerson_Electric', gics='Industrials', sous_gics='Electrical Components &amp; Equipment', localisation='Ferguson, Missouri', date_entree='1965-03-31', cik='0000032604', date_fondation='1890'),\n",
       " Ligne(symbole='ENPH', lien_nyse='https://www.nasdaq.com/market-activity/stocks/enph', securite='Enphase Energy', lien_wiki='https://en.wikipedia.org//wiki/Enphase_Energy', gics='Information Technology', sous_gics='Semiconductor Materials &amp; Equipment', localisation='Fremont, California', date_entree='2021-01-07', cik='0001463101', date_fondation='2006'),\n",
       " Ligne(symbole='ETR', lien_nyse='https://www.nyse.com/quote/XNYS:ETR', securite='Entergy', lien_wiki='https://en.wikipedia.org//wiki/Entergy', gics='Utilities', sous_gics='Electric Utilities', localisation='New Orleans, Louisiana', date_entree='1957-03-04', cik='0000065984', date_fondation='1913'),\n",
       " Ligne(symbole='EOG', lien_nyse='https://www.nyse.com/quote/XNYS:EOG', securite='EOG Resources', lien_wiki='https://en.wikipedia.org//wiki/EOG_Resources', gics='Energy', sous_gics='Oil &amp; Gas Exploration &amp; Production', localisation='Houston, Texas', date_entree='2000-11-02', cik='0000821189', date_fondation='1999'),\n",
       " Ligne(symbole='EPAM', lien_nyse='https://www.nyse.com/quote/XNYS:EPAM', securite='EPAM Systems', lien_wiki='https://en.wikipedia.org//wiki/EPAM_Systems', gics='Information Technology', sous_gics='IT Consulting &amp; Other Services', localisation='Newtown, Pennsylvania', date_entree='2021-12-14', cik='0001352010', date_fondation='1993'),\n",
       " Ligne(symbole='EQT', lien_nyse='https://www.nyse.com/quote/XNYS:EQT', securite='EQT Corporation', lien_wiki='https://en.wikipedia.org//wiki/EQT_Corporation', gics='Energy', sous_gics='Oil &amp; Gas Exploration &amp; Production', localisation='Pittsburgh, Pennsylvania', date_entree='2022-10-03', cik='0000033213', date_fondation='1888'),\n",
       " Ligne(symbole='EFX', lien_nyse='https://www.nyse.com/quote/XNYS:EFX', securite='Equifax', lien_wiki='https://en.wikipedia.org//wiki/Equifax', gics='Industrials', sous_gics='Research &amp; Consulting Services', localisation='Atlanta, Georgia', date_entree='1997-06-19', cik='0000033185', date_fondation='1899'),\n",
       " Ligne(symbole='EQIX', lien_nyse='https://www.nasdaq.com/market-activity/stocks/eqix', securite='Equinix', lien_wiki='https://en.wikipedia.org//wiki/Equinix', gics='Real Estate', sous_gics='Data Center REITs', localisation='Redwood City, California', date_entree='2015-03-20', cik='0001101239', date_fondation='1998'),\n",
       " Ligne(symbole='EQR', lien_nyse='https://www.nyse.com/quote/XNYS:EQR', securite='Equity Residential', lien_wiki='https://en.wikipedia.org//wiki/Equity_Residential', gics='Real Estate', sous_gics='Multi-Family Residential REITs', localisation='Chicago, Illinois', date_entree='2001-12-03', cik='0000906107', date_fondation='1969'),\n",
       " Ligne(symbole='ERIE', lien_nyse='https://www.nasdaq.com/market-activity/stocks/erie', securite='Erie Indemnity', lien_wiki='https://en.wikipedia.org//wiki/Erie_Insurance_Group', gics='Financials', sous_gics='Insurance Brokers', localisation='Erie, Pennsylvania', date_entree='2024-09-23', cik='0000922621', date_fondation='1925'),\n",
       " Ligne(symbole='ESS', lien_nyse='https://www.nyse.com/quote/XNYS:ESS', securite='Essex Property Trust', lien_wiki='https://en.wikipedia.org//wiki/Essex_Property_Trust', gics='Real Estate', sous_gics='Multi-Family Residential REITs', localisation='San Mateo, California', date_entree='2014-04-02', cik='0000920522', date_fondation='1971'),\n",
       " Ligne(symbole='EL', lien_nyse='https://www.nyse.com/quote/XNYS:EL', securite='Estée Lauder Companies (The)', lien_wiki='https://en.wikipedia.org//wiki/The_Est%C3%A9e_Lauder_Companies', gics='Consumer Staples', sous_gics='Personal Care Products', localisation='New York City, New York', date_entree='2006-01-05', cik='0001001250', date_fondation='1946'),\n",
       " Ligne(symbole='EG', lien_nyse='https://www.nyse.com/quote/XNYS:EG', securite='Everest Group', lien_wiki='https://en.wikipedia.org//wiki/Everest_Group', gics='Financials', sous_gics='Reinsurance', localisation='Hamilton, Bermuda', date_entree='2017-06-19', cik='0001095073', date_fondation='1973'),\n",
       " Ligne(symbole='EVRG', lien_nyse='https://www.nyse.com/quote/XNYS:EVRG', securite='Evergy', lien_wiki='https://en.wikipedia.org//wiki/Evergy', gics='Utilities', sous_gics='Electric Utilities', localisation='Kansas City, Missouri', date_entree='2018-06-05', cik='0001711269', date_fondation='1909'),\n",
       " Ligne(symbole='ES', lien_nyse='https://www.nyse.com/quote/XNYS:ES', securite='Eversource Energy', lien_wiki='https://en.wikipedia.org//wiki/Eversource_Energy', gics='Utilities', sous_gics='Electric Utilities', localisation='Hartford, Connecticut', date_entree='2009-07-24', cik='0000072741', date_fondation='1966'),\n",
       " Ligne(symbole='EXC', lien_nyse='https://www.nasdaq.com/market-activity/stocks/exc', securite='Exelon', lien_wiki='https://en.wikipedia.org//wiki/Exelon', gics='Utilities', sous_gics='Electric Utilities', localisation='Chicago, Illinois', date_entree='1957-03-04', cik='0001109357', date_fondation='2000'),\n",
       " Ligne(symbole='EXPE', lien_nyse='https://www.nasdaq.com/market-activity/stocks/expe', securite='Expedia Group', lien_wiki='https://en.wikipedia.org//wiki/Expedia_Group', gics='Consumer Discretionary', sous_gics='Hotels, Resorts &amp; Cruise Lines', localisation='Seattle, Washington', date_entree='2007-10-02', cik='0001324424', date_fondation='1996'),\n",
       " Ligne(symbole='EXPD', lien_nyse='https://www.nasdaq.com/market-activity/stocks/expd', securite='Expeditors International', lien_wiki='https://en.wikipedia.org//wiki/Expeditors_International', gics='Industrials', sous_gics='Air Freight &amp; Logistics', localisation='Seattle, Washington', date_entree='2007-10-10', cik='0000746515', date_fondation='1979'),\n",
       " Ligne(symbole='EXR', lien_nyse='https://www.nyse.com/quote/XNYS:EXR', securite='Extra Space Storage', lien_wiki='https://en.wikipedia.org//wiki/Extra_Space_Storage', gics='Real Estate', sous_gics='Self-Storage REITs', localisation='Salt Lake City, Utah', date_entree='2016-01-19', cik='0001289490', date_fondation='1977'),\n",
       " Ligne(symbole='XOM', lien_nyse='https://www.nyse.com/quote/XNYS:XOM', securite='ExxonMobil', lien_wiki='https://en.wikipedia.org//wiki/ExxonMobil', gics='Energy', sous_gics='Integrated Oil &amp; Gas', localisation='Irving, Texas', date_entree='1957-03-04', cik='0000034088', date_fondation='1999'),\n",
       " Ligne(symbole='FFIV', lien_nyse='https://www.nasdaq.com/market-activity/stocks/ffiv', securite='F5, Inc.', lien_wiki='https://en.wikipedia.org//wiki/F5,_Inc.', gics='Information Technology', sous_gics='Communications Equipment', localisation='Seattle, Washington', date_entree='2010-12-20', cik='0001048695', date_fondation='1996'),\n",
       " Ligne(symbole='FDS', lien_nyse='https://www.nyse.com/quote/XNYS:FDS', securite='FactSet', lien_wiki='https://en.wikipedia.org//wiki/FactSet', gics='Financials', sous_gics='Financial Exchanges &amp; Data', localisation='Norwalk, Connecticut', date_entree='2021-12-20', cik='0001013237', date_fondation='1978'),\n",
       " Ligne(symbole='FICO', lien_nyse='https://www.nyse.com/quote/XNYS:FICO', securite='Fair Isaac', lien_wiki='https://en.wikipedia.org//wiki/FICO', gics='Information Technology', sous_gics='Application Software', localisation='Bozeman, Montana', date_entree='2023-03-20', cik='0000814547', date_fondation='1956'),\n",
       " Ligne(symbole='FAST', lien_nyse='https://www.nasdaq.com/market-activity/stocks/fast', securite='Fastenal', lien_wiki='https://en.wikipedia.org//wiki/Fastenal', gics='Industrials', sous_gics='Trading Companies &amp; Distributors', localisation='Winona, Minnesota', date_entree='2008-09-15', cik='0000815556', date_fondation='1967'),\n",
       " Ligne(symbole='FRT', lien_nyse='https://www.nyse.com/quote/XNYS:FRT', securite='Federal Realty Investment Trust', lien_wiki='https://en.wikipedia.org//wiki/Federal_Realty_Investment_Trust', gics='Real Estate', sous_gics='Retail REITs', localisation='Rockville, Maryland', date_entree='2016-02-01', cik='0000034903', date_fondation='1962'),\n",
       " Ligne(symbole='FDX', lien_nyse='https://www.nyse.com/quote/XNYS:FDX', securite='FedEx', lien_wiki='https://en.wikipedia.org//wiki/FedEx', gics='Industrials', sous_gics='Air Freight &amp; Logistics', localisation='Memphis, Tennessee', date_entree='1980-12-31', cik='0001048911 ', date_fondation='1971'),\n",
       " Ligne(symbole='FIS', lien_nyse='https://www.nyse.com/quote/XNYS:FIS', securite='Fidelity National Information Services', lien_wiki='https://en.wikipedia.org//wiki/FIS_(company)', gics='Financials', sous_gics='Transaction &amp; Payment Processing Services', localisation='Jacksonville, Florida', date_entree='2006-11-10', cik='0001136893', date_fondation='1968'),\n",
       " Ligne(symbole='FITB', lien_nyse='https://www.nasdaq.com/market-activity/stocks/fitb', securite='Fifth Third Bancorp', lien_wiki='https://en.wikipedia.org//wiki/Fifth_Third_Bancorp', gics='Financials', sous_gics='Regional Banks', localisation='Cincinnati, Ohio', date_entree='1996-03-29', cik='0000035527', date_fondation='1858'),\n",
       " Ligne(symbole='FSLR', lien_nyse='https://www.nasdaq.com/market-activity/stocks/fslr', securite='First Solar', lien_wiki='https://en.wikipedia.org//wiki/First_Solar', gics='Information Technology', sous_gics='Semiconductors', localisation='Tempe, Arizona', date_entree='2022-12-19', cik='0001274494', date_fondation='1999'),\n",
       " Ligne(symbole='FE', lien_nyse='https://www.nyse.com/quote/XNYS:FE', securite='FirstEnergy', lien_wiki='https://en.wikipedia.org//wiki/FirstEnergy', gics='Utilities', sous_gics='Electric Utilities', localisation='Akron, Ohio', date_entree='1997-11-28', cik='0001031296', date_fondation='1997'),\n",
       " Ligne(symbole='FI', lien_nyse='https://www.nyse.com/quote/XNYS:FI', securite='Fiserv', lien_wiki='https://en.wikipedia.org//wiki/Fiserv', gics='Financials', sous_gics='Transaction &amp; Payment Processing Services', localisation='Brookfield, Wisconsin', date_entree='2001-04-02', cik='0000798354', date_fondation='1984'),\n",
       " Ligne(symbole='FMC', lien_nyse='https://www.nyse.com/quote/XNYS:FMC', securite='FMC Corporation', lien_wiki='https://en.wikipedia.org//wiki/FMC_Corporation', gics='Materials', sous_gics='Fertilizers &amp; Agricultural Chemicals', localisation='Philadelphia, Pennsylvania', date_entree='2009-08-19', cik='0000037785', date_fondation='1883'),\n",
       " Ligne(symbole='F', lien_nyse='https://www.nyse.com/quote/XNYS:F', securite='Ford Motor Company', lien_wiki='https://en.wikipedia.org//wiki/Ford_Motor_Company', gics='Consumer Discretionary', sous_gics='Automobile Manufacturers', localisation='Dearborn, Michigan', date_entree='1957-03-04', cik='0000037996', date_fondation='1903'),\n",
       " Ligne(symbole='FTNT', lien_nyse='https://www.nasdaq.com/market-activity/stocks/ftnt', securite='Fortinet', lien_wiki='https://en.wikipedia.org//wiki/Fortinet', gics='Information Technology', sous_gics='Systems Software', localisation='Sunnyvale, California', date_entree='2018-10-11', cik='0001262039', date_fondation='2000'),\n",
       " Ligne(symbole='FTV', lien_nyse='https://www.nyse.com/quote/XNYS:FTV', securite='Fortive', lien_wiki='https://en.wikipedia.org//wiki/Fortive', gics='Industrials', sous_gics='Industrial Machinery &amp; Supplies &amp; Components', localisation='Everett, Washington', date_entree='2016-07-01', cik='0001659166', date_fondation='2016'),\n",
       " Ligne(symbole='FOXA', lien_nyse='https://www.nasdaq.com/market-activity/stocks/foxa', securite='Fox Corporation', lien_wiki='https://en.wikipedia.org//wiki/Fox_Corporation', gics='Communication Services', sous_gics='Broadcasting', localisation='New York City, New York', date_entree='2019-03-04', cik='0001754301 ', date_fondation='2019'),\n",
       " Ligne(symbole='FOX', lien_nyse='https://www.nasdaq.com/market-activity/stocks/fox', securite='Fox Corporation', lien_wiki='https://en.wikipedia.org//wiki/Fox_Corporation', gics='Communication Services', sous_gics='Broadcasting', localisation='New York City, New York', date_entree='2019-03-04', cik='0001754301 ', date_fondation='2019'),\n",
       " Ligne(symbole='BEN', lien_nyse='https://www.nyse.com/quote/XNYS:BEN', securite='Franklin Resources', lien_wiki='https://en.wikipedia.org//wiki/Franklin_Resources', gics='Financials', sous_gics='Asset Management &amp; Custody Banks', localisation='San Mateo, California', date_entree='1998-04-30', cik='0000038777', date_fondation='1947'),\n",
       " Ligne(symbole='FCX', lien_nyse='https://www.nyse.com/quote/XNYS:FCX', securite='Freeport-McMoRan', lien_wiki='https://en.wikipedia.org//wiki/Freeport-McMoRan', gics='Materials', sous_gics='Copper', localisation='Phoenix, Arizona', date_entree='2011-07-01', cik='0000831259', date_fondation='1912'),\n",
       " Ligne(symbole='GRMN', lien_nyse='https://www.nyse.com/quote/XNYS:GRMN', securite='Garmin', lien_wiki='https://en.wikipedia.org//wiki/Garmin', gics='Consumer Discretionary', sous_gics='Consumer Electronics', localisation='Schaffhausen, Switzerland', date_entree='2012-12-12', cik='0001121788', date_fondation='1989'),\n",
       " Ligne(symbole='IT', lien_nyse='https://www.nyse.com/quote/XNYS:IT', securite='Gartner', lien_wiki='https://en.wikipedia.org//wiki/Gartner', gics='Information Technology', sous_gics='IT Consulting &amp; Other Services', localisation='Stamford, Connecticut', date_entree='2017-04-05', cik='0000749251', date_fondation='1979'),\n",
       " Ligne(symbole='GE', lien_nyse='https://www.nyse.com/quote/XNYS:GE', securite='GE Aerospace', lien_wiki='https://en.wikipedia.org//wiki/GE_Aerospace', gics='Industrials', sous_gics='Aerospace &amp; Defense', localisation='Evendale, Ohio', date_entree='1957-03-04', cik='0000040545', date_fondation='1892'),\n",
       " Ligne(symbole='GEHC', lien_nyse='https://www.nasdaq.com/market-activity/stocks/gehc', securite='GE HealthCare', lien_wiki='https://en.wikipedia.org//wiki/GE_HealthCare', gics='Health Care', sous_gics='Health Care Equipment', localisation='Chicago, Illinois', date_entree='2023-01-04', cik='0001932393', date_fondation='1994'),\n",
       " Ligne(symbole='GEV', lien_nyse='https://www.nyse.com/quote/XNYS:GEV', securite='GE Vernova', lien_wiki='https://en.wikipedia.org//wiki/GE_Vernova', gics='Industrials', sous_gics='Heavy Electrical Equipment', localisation='Cambridge, Massachusetts', date_entree='2024-04-02', cik='0001996810', date_fondation='2024'),\n",
       " Ligne(symbole='GEN', lien_nyse='https://www.nasdaq.com/market-activity/stocks/gen', securite='Gen Digital', lien_wiki='https://en.wikipedia.org//wiki/Gen_Digital', gics='Information Technology', sous_gics='Systems Software', localisation='Tempe, Arizona', date_entree='2003-03-25', cik='0000849399', date_fondation='1982'),\n",
       " Ligne(symbole='GNRC', lien_nyse='https://www.nyse.com/quote/XNYS:GNRC', securite='Generac', lien_wiki='https://en.wikipedia.org//wiki/Generac', gics='Industrials', sous_gics='Electrical Components &amp; Equipment', localisation='Waukesha, Wisconsin', date_entree='2021-03-22', cik='0001474735', date_fondation='1959'),\n",
       " Ligne(symbole='GD', lien_nyse='https://www.nyse.com/quote/XNYS:GD', securite='General Dynamics', lien_wiki='https://en.wikipedia.org//wiki/General_Dynamics', gics='Industrials', sous_gics='Aerospace &amp; Defense', localisation='Falls Church, Virginia', date_entree='1957-03-04', cik='0000040533', date_fondation='1899'),\n",
       " Ligne(symbole='GIS', lien_nyse='https://www.nyse.com/quote/XNYS:GIS', securite='General Mills', lien_wiki='https://en.wikipedia.org//wiki/General_Mills', gics='Consumer Staples', sous_gics='Packaged Foods &amp; Meats', localisation='Golden Valley, Minnesota', date_entree='1957-03-04', cik='0000040704', date_fondation='1856'),\n",
       " Ligne(symbole='GM', lien_nyse='https://www.nyse.com/quote/XNYS:GM', securite='General Motors', lien_wiki='https://en.wikipedia.org//wiki/General_Motors', gics='Consumer Discretionary', sous_gics='Automobile Manufacturers', localisation='Detroit, Michigan', date_entree='2013-06-06', cik='0001467858 ', date_fondation='1908'),\n",
       " Ligne(symbole='GPC', lien_nyse='https://www.nyse.com/quote/XNYS:GPC', securite='Genuine Parts Company', lien_wiki='https://en.wikipedia.org//wiki/Genuine_Parts_Company', gics='Consumer Discretionary', sous_gics='Distributors', localisation='Atlanta, Georgia', date_entree='1973-12-31', cik='0000040987', date_fondation='1925'),\n",
       " Ligne(symbole='GILD', lien_nyse='https://www.nasdaq.com/market-activity/stocks/gild', securite='Gilead Sciences', lien_wiki='https://en.wikipedia.org//wiki/Gilead_Sciences', gics='Health Care', sous_gics='Biotechnology', localisation='Foster City, California', date_entree='2004-07-01', cik='0000882095', date_fondation='1987'),\n",
       " Ligne(symbole='GPN', lien_nyse='https://www.nyse.com/quote/XNYS:GPN', securite='Global Payments', lien_wiki='https://en.wikipedia.org//wiki/Global_Payments', gics='Financials', sous_gics='Transaction &amp; Payment Processing Services', localisation='Atlanta, Georgia', date_entree='2016-04-25', cik='0001123360', date_fondation='2000'),\n",
       " Ligne(symbole='GL', lien_nyse='https://www.nyse.com/quote/XNYS:GL', securite='Globe Life', lien_wiki='https://en.wikipedia.org//wiki/Globe_Life', gics='Financials', sous_gics='Life &amp; Health Insurance', localisation='McKinney, Texas', date_entree='1989-04-30', cik='0000320335', date_fondation='1900'),\n",
       " Ligne(symbole='GDDY', lien_nyse='https://www.nyse.com/quote/XNYS:GDDY', securite='GoDaddy', lien_wiki='https://en.wikipedia.org//wiki/GoDaddy', gics='Information Technology', sous_gics='Internet Services &amp; Infrastructure', localisation='Tempe, Arizona', date_entree='2024-06-24', cik='0001609711', date_fondation='1997'),\n",
       " Ligne(symbole='GS', lien_nyse='https://www.nyse.com/quote/XNYS:GS', securite='Goldman Sachs', lien_wiki='https://en.wikipedia.org//wiki/Goldman_Sachs', gics='Financials', sous_gics='Investment Banking &amp; Brokerage', localisation='New York City, New York', date_entree='2002-07-22', cik='0000886982', date_fondation='1869'),\n",
       " Ligne(symbole='HAL', lien_nyse='https://www.nyse.com/quote/XNYS:HAL', securite='Halliburton', lien_wiki='https://en.wikipedia.org//wiki/Halliburton', gics='Energy', sous_gics='Oil &amp; Gas Equipment &amp; Services', localisation='Houston, Texas', date_entree='1957-03-04', cik='0000045012', date_fondation='1919'),\n",
       " Ligne(symbole='HIG', lien_nyse='https://www.nyse.com/quote/XNYS:HIG', securite='Hartford (The)', lien_wiki='https://en.wikipedia.org//wiki/The_Hartford', gics='Financials', sous_gics='Property &amp; Casualty Insurance', localisation='Hartford, Connecticut', date_entree='1957-03-04', cik='0000874766', date_fondation='1810'),\n",
       " Ligne(symbole='HAS', lien_nyse='https://www.nasdaq.com/market-activity/stocks/has', securite='Hasbro', lien_wiki='https://en.wikipedia.org//wiki/Hasbro', gics='Consumer Discretionary', sous_gics='Leisure Products', localisation='Pawtucket, Rhode Island', date_entree='1984-09-30', cik='0000046080', date_fondation='1923'),\n",
       " Ligne(symbole='HCA', lien_nyse='https://www.nyse.com/quote/XNYS:HCA', securite='HCA Healthcare', lien_wiki='https://en.wikipedia.org//wiki/HCA_Healthcare', gics='Health Care', sous_gics='Health Care Facilities', localisation='Nashville, Tennessee', date_entree='2015-01-27', cik='0000860730', date_fondation='1968'),\n",
       " Ligne(symbole='DOC', lien_nyse='https://www.nyse.com/quote/XNYS:DOC', securite='Healthpeak Properties', lien_wiki='https://en.wikipedia.org//wiki/Healthpeak_Properties', gics='Real Estate', sous_gics='Health Care REITs', localisation='Denver, Colorado', date_entree='2008-03-31', cik='0000765880', date_fondation='1985'),\n",
       " Ligne(symbole='HSIC', lien_nyse='https://www.nasdaq.com/market-activity/stocks/hsic', securite='Henry Schein', lien_wiki='https://en.wikipedia.org//wiki/Henry_Schein', gics='Health Care', sous_gics='Health Care Distributors', localisation='Melville, New York', date_entree='2015-03-17', cik='0001000228', date_fondation='1932'),\n",
       " Ligne(symbole='HSY', lien_nyse='https://www.nyse.com/quote/XNYS:HSY', securite='Hershey Company (The)', lien_wiki='https://en.wikipedia.org//wiki/The_Hershey_Company', gics='Consumer Staples', sous_gics='Packaged Foods &amp; Meats', localisation='Hershey, Pennsylvania', date_entree='1957-03-04', cik='0000047111', date_fondation='1894'),\n",
       " Ligne(symbole='HES', lien_nyse='https://www.nyse.com/quote/XNYS:HES', securite='Hess Corporation', lien_wiki='https://en.wikipedia.org//wiki/Hess_Corporation', gics='Energy', sous_gics='Integrated Oil &amp; Gas', localisation='New York City, New York', date_entree='1984-05-31', cik='0000004447', date_fondation='1919'),\n",
       " Ligne(symbole='HPE', lien_nyse='https://www.nyse.com/quote/XNYS:HPE', securite='Hewlett Packard Enterprise', lien_wiki='https://en.wikipedia.org//wiki/Hewlett_Packard_Enterprise', gics='Information Technology', sous_gics='Technology Hardware, Storage &amp; Peripherals', localisation='Houston, Texas', date_entree='2015-11-02', cik='0001645590', date_fondation='2015'),\n",
       " Ligne(symbole='HLT', lien_nyse='https://www.nyse.com/quote/XNYS:HLT', securite='Hilton Worldwide', lien_wiki='https://en.wikipedia.org//wiki/Hilton_Worldwide', gics='Consumer Discretionary', sous_gics='Hotels, Resorts &amp; Cruise Lines', localisation='Tysons Corner, Virginia', date_entree='2017-06-19', cik='0001585689', date_fondation='1919'),\n",
       " Ligne(symbole='HOLX', lien_nyse='https://www.nasdaq.com/market-activity/stocks/holx', securite='Hologic', lien_wiki='https://en.wikipedia.org//wiki/Hologic', gics='Health Care', sous_gics='Health Care Equipment', localisation='Marlborough, Massachusetts', date_entree='2016-03-30', cik='0000859737', date_fondation='1985'),\n",
       " Ligne(symbole='HD', lien_nyse='https://www.nyse.com/quote/XNYS:HD', securite='Home Depot (The)', lien_wiki='https://en.wikipedia.org//wiki/Home_Depot', gics='Consumer Discretionary', sous_gics='Home Improvement Retail', localisation='Atlanta, Georgia', date_entree='1988-03-31', cik='0000354950', date_fondation='1978'),\n",
       " Ligne(symbole='HON', lien_nyse='https://www.nasdaq.com/market-activity/stocks/hon', securite='Honeywell', lien_wiki='https://en.wikipedia.org//wiki/Honeywell', gics='Industrials', sous_gics='Industrial Conglomerates', localisation='Charlotte, North Carolina', date_entree='1957-03-04', cik='0000773840', date_fondation='1906'),\n",
       " Ligne(symbole='HRL', lien_nyse='https://www.nyse.com/quote/XNYS:HRL', securite='Hormel Foods', lien_wiki='https://en.wikipedia.org//wiki/Hormel_Foods', gics='Consumer Staples', sous_gics='Packaged Foods &amp; Meats', localisation='Austin, Minnesota', date_entree='2009-03-04', cik='0000048465', date_fondation='1891'),\n",
       " Ligne(symbole='HST', lien_nyse='https://www.nasdaq.com/market-activity/stocks/hst', securite='Host Hotels &amp; Resorts', lien_wiki='https://en.wikipedia.org//wiki/Host_Hotels_%26_Resorts', gics='Real Estate', sous_gics='Hotel &amp; Resort REITs', localisation='Bethesda, Maryland', date_entree='2007-03-20', cik='0001070750', date_fondation='1993'),\n",
       " Ligne(symbole='HWM', lien_nyse='https://www.nyse.com/quote/XNYS:HWM', securite='Howmet Aerospace', lien_wiki='https://en.wikipedia.org//wiki/Howmet_Aerospace', gics='Industrials', sous_gics='Aerospace &amp; Defense', localisation='Pittsburgh, Pennsylvania', date_entree='2016-10-21', cik='0000004281', date_fondation='1888'),\n",
       " Ligne(symbole='HPQ', lien_nyse='https://www.nyse.com/quote/XNYS:HPQ', securite='HP Inc.', lien_wiki='https://en.wikipedia.org//wiki/HP_Inc.', gics='Information Technology', sous_gics='Technology Hardware, Storage &amp; Peripherals', localisation='Palo Alto, California', date_entree='1974-12-31', cik='0000047217', date_fondation='1939 (2015)'),\n",
       " Ligne(symbole='HUBB', lien_nyse='https://www.nyse.com/quote/XNYS:HUBB', securite='Hubbell Incorporated', lien_wiki='https://en.wikipedia.org//wiki/Hubbell_Incorporated', gics='Industrials', sous_gics='Industrial Machinery &amp; Supplies &amp; Components', localisation='Shelton, Connecticut', date_entree='2023-10-18', cik='0000048898', date_fondation='1888'),\n",
       " Ligne(symbole='HUM', lien_nyse='https://www.nyse.com/quote/XNYS:HUM', securite='Humana', lien_wiki='https://en.wikipedia.org//wiki/Humana', gics='Health Care', sous_gics='Managed Health Care', localisation='Louisville, Kentucky', date_entree='2012-12-10', cik='0000049071', date_fondation='1961'),\n",
       " Ligne(symbole='HBAN', lien_nyse='https://www.nasdaq.com/market-activity/stocks/hban', securite='Huntington Bancshares', lien_wiki='https://en.wikipedia.org//wiki/Huntington_Bancshares', gics='Financials', sous_gics='Regional Banks', localisation='Columbus, Ohio', date_entree='1997-08-28', cik='0000049196', date_fondation='1866'),\n",
       " Ligne(symbole='HII', lien_nyse='https://www.nyse.com/quote/XNYS:HII', securite='Huntington Ingalls Industries', lien_wiki='https://en.wikipedia.org//wiki/Huntington_Ingalls_Industries', gics='Industrials', sous_gics='Aerospace &amp; Defense', localisation='Newport News, Virginia', date_entree='2018-01-03', cik='0001501585', date_fondation='2011'),\n",
       " Ligne(symbole='IBM', lien_nyse='https://www.nyse.com/quote/XNYS:IBM', securite='IBM', lien_wiki='https://en.wikipedia.org//wiki/IBM', gics='Information Technology', sous_gics='IT Consulting &amp; Other Services', localisation='Armonk, New York', date_entree='1957-03-04', cik='0000051143', date_fondation='1911'),\n",
       " Ligne(symbole='IEX', lien_nyse='https://www.nyse.com/quote/XNYS:IEX', securite='IDEX Corporation', lien_wiki='https://en.wikipedia.org//wiki/IDEX_Corporation', gics='Industrials', sous_gics='Industrial Machinery &amp; Supplies &amp; Components', localisation='Lake Forest, Illinois', date_entree='2019-08-09', cik='0000832101', date_fondation='1988'),\n",
       " Ligne(symbole='IDXX', lien_nyse='https://www.nasdaq.com/market-activity/stocks/idxx', securite='Idexx Laboratories', lien_wiki='https://en.wikipedia.org//wiki/Idexx_Laboratories', gics='Health Care', sous_gics='Health Care Equipment', localisation='Westbrook, Maine', date_entree='2017-01-05', cik='0000874716', date_fondation='1983'),\n",
       " Ligne(symbole='ITW', lien_nyse='https://www.nyse.com/quote/XNYS:ITW', securite='Illinois Tool Works', lien_wiki='https://en.wikipedia.org//wiki/Illinois_Tool_Works', gics='Industrials', sous_gics='Industrial Machinery &amp; Supplies &amp; Components', localisation='Glenview, Illinois', date_entree='1986-02-28', cik='0000049826', date_fondation='1912'),\n",
       " Ligne(symbole='INCY', lien_nyse='https://www.nasdaq.com/market-activity/stocks/incy', securite='Incyte', lien_wiki='https://en.wikipedia.org//wiki/Incyte', gics='Health Care', sous_gics='Biotechnology', localisation='Wilmington, Delaware', date_entree='2017-02-28', cik='0000879169', date_fondation='1991'),\n",
       " Ligne(symbole='IR', lien_nyse='https://www.nyse.com/quote/XNYS:IR', securite='Ingersoll Rand', lien_wiki='https://en.wikipedia.org//wiki/Ingersoll_Rand', gics='Industrials', sous_gics='Industrial Machinery &amp; Supplies &amp; Components', localisation='Davidson, North Carolina', date_entree='2020-03-03', cik='0001699150', date_fondation='1859'),\n",
       " Ligne(symbole='PODD', lien_nyse='https://www.nasdaq.com/market-activity/stocks/podd', securite='Insulet Corporation', lien_wiki='https://en.wikipedia.org//w/index.php?title=Insulet_Corporation&amp;action=edit&amp;redlink=1', gics='Health Care', sous_gics='Health Care Equipment', localisation='Acton, Massachusetts', date_entree='2023-03-15', cik='0001145197', date_fondation='2000'),\n",
       " Ligne(symbole='INTC', lien_nyse='https://www.nasdaq.com/market-activity/stocks/intc', securite='Intel', lien_wiki='https://en.wikipedia.org//wiki/Intel', gics='Information Technology', sous_gics='Semiconductors', localisation='Santa Clara, California', date_entree='1976-12-31', cik='0000050863 ', date_fondation='1968'),\n",
       " Ligne(symbole='ICE', lien_nyse='https://www.nyse.com/quote/XNYS:ICE', securite='Intercontinental Exchange', lien_wiki='https://en.wikipedia.org//wiki/Intercontinental_Exchange', gics='Financials', sous_gics='Financial Exchanges &amp; Data', localisation='Atlanta, Georgia', date_entree='2007-09-26', cik='0001571949', date_fondation='2000'),\n",
       " Ligne(symbole='IFF', lien_nyse='https://www.nyse.com/quote/XNYS:IFF', securite='International Flavors &amp; Fragrances', lien_wiki='https://en.wikipedia.org//wiki/International_Flavors_%26_Fragrances', gics='Materials', sous_gics='Specialty Chemicals', localisation='New York City, New York', date_entree='1976-03-31', cik='0000051253 ', date_fondation='1958 (1889)'),\n",
       " Ligne(symbole='IP', lien_nyse='https://www.nyse.com/quote/XNYS:IP', securite='International Paper', lien_wiki='https://en.wikipedia.org//wiki/International_Paper', gics='Materials', sous_gics='Paper &amp; Plastic Packaging Products &amp; Materials', localisation='Memphis, Tennessee', date_entree='1957-03-04', cik='0000051434', date_fondation='1898'),\n",
       " Ligne(symbole='IPG', lien_nyse='https://www.nyse.com/quote/XNYS:IPG', securite='Interpublic Group of Companies (The)', lien_wiki='https://en.wikipedia.org//wiki/The_Interpublic_Group_of_Companies', gics='Communication Services', sous_gics='Advertising', localisation='New York City, New York', date_entree='1992-10-01', cik='0000051644', date_fondation='1961 (1930)'),\n",
       " Ligne(symbole='INTU', lien_nyse='https://www.nasdaq.com/market-activity/stocks/intu', securite='Intuit', lien_wiki='https://en.wikipedia.org//wiki/Intuit', gics='Information Technology', sous_gics='Application Software', localisation='Mountain View, California', date_entree='2000-12-05', cik='0000896878', date_fondation='1983'),\n",
       " Ligne(symbole='ISRG', lien_nyse='https://www.nasdaq.com/market-activity/stocks/isrg', securite='Intuitive Surgical', lien_wiki='https://en.wikipedia.org//wiki/Intuitive_Surgical', gics='Health Care', sous_gics='Health Care Equipment', localisation='Sunnyvale, California', date_entree='2008-06-02', cik='0001035267', date_fondation='1995'),\n",
       " Ligne(symbole='IVZ', lien_nyse='https://www.nyse.com/quote/XNYS:IVZ', securite='Invesco', lien_wiki='https://en.wikipedia.org//wiki/Invesco', gics='Financials', sous_gics='Asset Management &amp; Custody Banks', localisation='Atlanta, Georgia', date_entree='2008-08-21', cik='0000914208', date_fondation='1935'),\n",
       " Ligne(symbole='INVH', lien_nyse='https://www.nyse.com/quote/XNYS:INVH', securite='Invitation Homes', lien_wiki='https://en.wikipedia.org//wiki/Invitation_Homes', gics='Real Estate', sous_gics='Single-Family Residential REITs', localisation='Dallas, Texas', date_entree='2022-09-19', cik='0001687229', date_fondation='2012'),\n",
       " Ligne(symbole='IQV', lien_nyse='https://www.nyse.com/quote/XNYS:IQV', securite='IQVIA', lien_wiki='https://en.wikipedia.org//wiki/IQVIA', gics='Health Care', sous_gics='Life Sciences Tools &amp; Services', localisation='Durham, North Carolina', date_entree='2017-08-29', cik='0001478242 ', date_fondation='1982'),\n",
       " Ligne(symbole='IRM', lien_nyse='https://www.nyse.com/quote/XNYS:IRM', securite='Iron Mountain', lien_wiki='https://en.wikipedia.org//wiki/Iron_Mountain_(company)', gics='Real Estate', sous_gics='Other Specialized REITs', localisation='Boston, Massachusetts', date_entree='2009-01-06', cik='0001020569', date_fondation='1951'),\n",
       " Ligne(symbole='JBHT', lien_nyse='https://www.nasdaq.com/market-activity/stocks/jbht', securite='J.B. Hunt', lien_wiki='https://en.wikipedia.org//wiki/J.B._Hunt', gics='Industrials', sous_gics='Cargo Ground Transportation', localisation='Lowell, Arkansas', date_entree='2015-07-01', cik='0000728535', date_fondation='1961'),\n",
       " Ligne(symbole='JBL', lien_nyse='https://www.nyse.com/quote/XNYS:JBL', securite='Jabil', lien_wiki='https://en.wikipedia.org//wiki/Jabil', gics='Information Technology', sous_gics='Electronic Manufacturing Services', localisation='St. Petersburg, Florida', date_entree='2023-12-18', cik='0000898293', date_fondation='1966'),\n",
       " Ligne(symbole='JKHY', lien_nyse='https://www.nasdaq.com/market-activity/stocks/jkhy', securite='Jack Henry &amp; Associates', lien_wiki='https://en.wikipedia.org//wiki/Jack_Henry_%26_Associates', gics='Financials', sous_gics='Transaction &amp; Payment Processing Services', localisation='Monett, Missouri', date_entree='2018-11-13', cik='0000779152', date_fondation='1976'),\n",
       " Ligne(symbole='J', lien_nyse='https://www.nyse.com/quote/XNYS:J', securite='Jacobs Solutions', lien_wiki='https://en.wikipedia.org//wiki/Jacobs_Solutions', gics='Industrials', sous_gics='Construction &amp; Engineering', localisation='Dallas, Texas', date_entree='2007-10-26', cik='0000052988', date_fondation='1947'),\n",
       " Ligne(symbole='JNJ', lien_nyse='https://www.nyse.com/quote/XNYS:JNJ', securite='Johnson &amp; Johnson', lien_wiki='https://en.wikipedia.org//wiki/Johnson_%26_Johnson', gics='Health Care', sous_gics='Pharmaceuticals', localisation='New Brunswick, New Jersey', date_entree='1973-06-30', cik='0000200406', date_fondation='1886'),\n",
       " Ligne(symbole='JCI', lien_nyse='https://www.nyse.com/quote/XNYS:JCI', securite='Johnson Controls', lien_wiki='https://en.wikipedia.org//wiki/Johnson_Controls', gics='Industrials', sous_gics='Building Products', localisation='Cork, Ireland', date_entree='2010-08-27', cik='0000833444', date_fondation='1885'),\n",
       " Ligne(symbole='JPM', lien_nyse='https://www.nyse.com/quote/XNYS:JPM', securite='JPMorgan Chase', lien_wiki='https://en.wikipedia.org//wiki/JPMorgan_Chase', gics='Financials', sous_gics='Diversified Banks', localisation='New York City, New York', date_entree='1975-06-30', cik='0000019617 ', date_fondation='2000 (1799 / 1871)'),\n",
       " Ligne(symbole='JNPR', lien_nyse='https://www.nyse.com/quote/XNYS:JNPR', securite='Juniper Networks', lien_wiki='https://en.wikipedia.org//wiki/Juniper_Networks', gics='Information Technology', sous_gics='Communications Equipment', localisation='Sunnyvale, California', date_entree='2006-06-02', cik='0001043604', date_fondation='1996'),\n",
       " Ligne(symbole='K', lien_nyse='https://www.nyse.com/quote/XNYS:K', securite='Kellanova', lien_wiki='https://en.wikipedia.org//wiki/Kellanova', gics='Consumer Staples', sous_gics='Packaged Foods &amp; Meats', localisation='Chicago, Illinois', date_entree='1989-09-11', cik='0000055067', date_fondation='1906'),\n",
       " Ligne(symbole='KVUE', lien_nyse='https://www.nyse.com/quote/XNYS:KVUE', securite='Kenvue', lien_wiki='https://en.wikipedia.org//wiki/Kenvue', gics='Consumer Staples', sous_gics='Personal Care Products', localisation='Skillman, New Jersey', date_entree='2023-08-25', cik='0001944048', date_fondation='2022 (<a href=\"/wiki/Johnson_%26_Johnson\" title=\"Johnson &amp; Johnson\">Johnson &amp; Johnson</a> spinoff)'),\n",
       " Ligne(symbole='KDP', lien_nyse='https://www.nasdaq.com/market-activity/stocks/kdp', securite='Keurig Dr Pepper', lien_wiki='https://en.wikipedia.org//wiki/Keurig_Dr_Pepper', gics='Consumer Staples', sous_gics='Soft Drinks &amp; Non-alcoholic Beverages', localisation='Burlington, Massachusetts', date_entree='2022-06-21', cik='0001418135', date_fondation='1981'),\n",
       " Ligne(symbole='KEY', lien_nyse='https://www.nyse.com/quote/XNYS:KEY', securite='KeyCorp', lien_wiki='https://en.wikipedia.org//wiki/KeyCorp', gics='Financials', sous_gics='Regional Banks', localisation='Cleveland, Ohio', date_entree='1994-03-01', cik='0000091576', date_fondation='1825'),\n",
       " Ligne(symbole='KEYS', lien_nyse='https://www.nyse.com/quote/XNYS:KEYS', securite='Keysight Technologies', lien_wiki='https://en.wikipedia.org//wiki/Keysight_Technologies', gics='Information Technology', sous_gics='Electronic Equipment &amp; Instruments', localisation='Santa Rosa, California', date_entree='2018-11-06', cik='0001601046', date_fondation='2014 (1939)'),\n",
       " Ligne(symbole='KMB', lien_nyse='https://www.nyse.com/quote/XNYS:KMB', securite='Kimberly-Clark', lien_wiki='https://en.wikipedia.org//wiki/Kimberly-Clark', gics='Consumer Staples', sous_gics='Household Products', localisation='Irving, Texas', date_entree='1957-03-04', cik='0000055785', date_fondation='1872'),\n",
       " Ligne(symbole='KIM', lien_nyse='https://www.nyse.com/quote/XNYS:KIM', securite='Kimco Realty', lien_wiki='https://en.wikipedia.org//wiki/Kimco_Realty', gics='Real Estate', sous_gics='Retail REITs', localisation='Jericho, New York', date_entree='2006-04-04', cik='0000879101', date_fondation='1958'),\n",
       " Ligne(symbole='KMI', lien_nyse='https://www.nyse.com/quote/XNYS:KMI', securite='Kinder Morgan', lien_wiki='https://en.wikipedia.org//wiki/Kinder_Morgan', gics='Energy', sous_gics='Oil &amp; Gas Storage &amp; Transportation', localisation='Houston, Texas', date_entree='2012-05-25', cik='0001506307', date_fondation='1997'),\n",
       " Ligne(symbole='KKR', lien_nyse='https://www.nyse.com/quote/XNYS:KKR', securite='KKR', lien_wiki='https://en.wikipedia.org//wiki/Kohlberg_Kravis_Roberts', gics='Financials', sous_gics='Asset Management &amp; Custody Banks', localisation='New York City, New York', date_entree='2024-06-24', cik='0001404912', date_fondation='1976'),\n",
       " Ligne(symbole='KLAC', lien_nyse='https://www.nasdaq.com/market-activity/stocks/klac', securite='KLA Corporation', lien_wiki='https://en.wikipedia.org//wiki/KLA_Corporation', gics='Information Technology', sous_gics='Semiconductor Materials &amp; Equipment', localisation='Milpitas, California', date_entree='1997-09-30', cik='0000319201', date_fondation='1975/1977 (1997)'),\n",
       " Ligne(symbole='KHC', lien_nyse='https://www.nasdaq.com/market-activity/stocks/khc', securite='Kraft Heinz', lien_wiki='https://en.wikipedia.org//wiki/Kraft_Heinz', gics='Consumer Staples', sous_gics='Packaged Foods &amp; Meats', localisation='Chicago, Illinois', date_entree='2015-07-06', cik='0001637459', date_fondation='2015 (1869)'),\n",
       " Ligne(symbole='KR', lien_nyse='https://www.nyse.com/quote/XNYS:KR', securite='Kroger', lien_wiki='https://en.wikipedia.org//wiki/Kroger', gics='Consumer Staples', sous_gics='Food Retail', localisation='Cincinnati, Ohio', date_entree='1957-03-04', cik='0000056873', date_fondation='1883'),\n",
       " Ligne(symbole='LHX', lien_nyse='https://www.nyse.com/quote/XNYS:LHX', securite='L3Harris', lien_wiki='https://en.wikipedia.org//wiki/L3Harris', gics='Industrials', sous_gics='Aerospace &amp; Defense', localisation='Melbourne, Florida', date_entree='2008-09-22', cik='0000202058 ', date_fondation='2019 (<a href=\"/wiki/L3_Technologies\" title=\"L3 Technologies\">L3</a> 1997, <a href=\"/wiki/Harris_Corporation\" title=\"Harris Corporation\">Harris</a> 1895)'),\n",
       " Ligne(symbole='LH', lien_nyse='https://www.nyse.com/quote/XNYS:LH', securite='LabCorp', lien_wiki='https://en.wikipedia.org//wiki/LabCorp', gics='Health Care', sous_gics='Health Care Services', localisation='Burlington, North Carolina', date_entree='2004-11-01', cik='0000920148', date_fondation='1978'),\n",
       " Ligne(symbole='LRCX', lien_nyse='https://www.nasdaq.com/market-activity/stocks/lrcx', securite='Lam Research', lien_wiki='https://en.wikipedia.org//wiki/Lam_Research', gics='Information Technology', sous_gics='Semiconductor Materials &amp; Equipment', localisation='Fremont, California', date_entree='2012-06-29', cik='0000707549', date_fondation='1980'),\n",
       " Ligne(symbole='LW', lien_nyse='https://www.nyse.com/quote/XNYS:LW', securite='Lamb Weston', lien_wiki='https://en.wikipedia.org//wiki/Lamb_Weston', gics='Consumer Staples', sous_gics='Packaged Foods &amp; Meats', localisation='Eagle, Idaho', date_entree='2018-12-03', cik='0001679273', date_fondation='2016 (1950)'),\n",
       " Ligne(symbole='LVS', lien_nyse='https://www.nyse.com/quote/XNYS:LVS', securite='Las Vegas Sands', lien_wiki='https://en.wikipedia.org//wiki/Las_Vegas_Sands', gics='Consumer Discretionary', sous_gics='Casinos &amp; Gaming', localisation='Las Vegas, Nevada', date_entree='2019-10-03', cik='0001300514', date_fondation='1988'),\n",
       " Ligne(symbole='LDOS', lien_nyse='https://www.nyse.com/quote/XNYS:LDOS', securite='Leidos', lien_wiki='https://en.wikipedia.org//wiki/Leidos', gics='Industrials', sous_gics='Diversified Support Services', localisation='Reston, Virginia', date_entree='2019-08-09', cik='0001336920', date_fondation='1969'),\n",
       " Ligne(symbole='LEN', lien_nyse='https://www.nyse.com/quote/XNYS:LEN', securite='Lennar', lien_wiki='https://en.wikipedia.org//wiki/Lennar', gics='Consumer Discretionary', sous_gics='Homebuilding', localisation='Miami, Florida', date_entree='2005-10-04', cik='0000920760', date_fondation='1954'),\n",
       " Ligne(symbole='LLY', lien_nyse='https://www.nyse.com/quote/XNYS:LLY', securite='Lilly (Eli)', lien_wiki='https://en.wikipedia.org//wiki/Eli_Lilly_and_Company', gics='Health Care', sous_gics='Pharmaceuticals', localisation='Indianapolis, Indiana', date_entree='1970-12-31', cik='0000059478', date_fondation='1876'),\n",
       " Ligne(symbole='LIN', lien_nyse='https://www.nyse.com/quote/XNYS:LIN', securite='Linde plc', lien_wiki='https://en.wikipedia.org//wiki/Linde_plc', gics='Materials', sous_gics='Industrial Gases', localisation='Guildford, United Kingdom', date_entree='1992-07-01', cik='0001707925', date_fondation='1879'),\n",
       " Ligne(symbole='LYV', lien_nyse='https://www.nyse.com/quote/XNYS:LYV', securite='Live Nation Entertainment', lien_wiki='https://en.wikipedia.org//wiki/Live_Nation_Entertainment', gics='Communication Services', sous_gics='Movies &amp; Entertainment', localisation='Beverly Hills, California', date_entree='2019-12-23', cik='0001335258', date_fondation='2010'),\n",
       " Ligne(symbole='LKQ', lien_nyse='https://www.nasdaq.com/market-activity/stocks/lkq', securite='LKQ Corporation', lien_wiki='https://en.wikipedia.org//wiki/LKQ_Corporation', gics='Consumer Discretionary', sous_gics='Distributors', localisation='Chicago, Illinois', date_entree='2016-05-23', cik='0001065696', date_fondation='1998'),\n",
       " Ligne(symbole='LMT', lien_nyse='https://www.nyse.com/quote/XNYS:LMT', securite='Lockheed Martin', lien_wiki='https://en.wikipedia.org//wiki/Lockheed_Martin', gics='Industrials', sous_gics='Aerospace &amp; Defense', localisation='Bethesda, Maryland', date_entree='1957-03-04', cik='0000936468', date_fondation='1995'),\n",
       " Ligne(symbole='L', lien_nyse='https://www.nyse.com/quote/XNYS:L', securite='Loews Corporation', lien_wiki='https://en.wikipedia.org//wiki/Loews_Corporation', gics='Financials', sous_gics='Multi-line Insurance', localisation='New York City, New York', date_entree='1995-05-31', cik='0000060086 ', date_fondation='1959'),\n",
       " Ligne(symbole='LOW', lien_nyse='https://www.nyse.com/quote/XNYS:LOW', securite=\"Lowe's\", lien_wiki='https://en.wikipedia.org//wiki/Lowe%27s', gics='Consumer Discretionary', sous_gics='Home Improvement Retail', localisation='Mooresville, North Carolina', date_entree='1984-02-29', cik='0000060667', date_fondation='1904/1946/1959'),\n",
       " Ligne(symbole='LULU', lien_nyse='https://www.nasdaq.com/market-activity/stocks/lulu', securite='Lululemon Athletica', lien_wiki='https://en.wikipedia.org//wiki/Lululemon_Athletica', gics='Consumer Discretionary', sous_gics='Apparel, Accessories &amp; Luxury Goods', localisation='Vancouver, Canada', date_entree='2023-10-18', cik='0001397187', date_fondation='1998'),\n",
       " Ligne(symbole='LYB', lien_nyse='https://www.nyse.com/quote/XNYS:LYB', securite='LyondellBasell', lien_wiki='https://en.wikipedia.org//wiki/LyondellBasell', gics='Materials', sous_gics='Specialty Chemicals', localisation='Rotterdam, Netherlands', date_entree='2012-09-05', cik='0001489393 ', date_fondation='2007'),\n",
       " Ligne(symbole='MTB', lien_nyse='https://www.nyse.com/quote/XNYS:MTB', securite='M&amp;T Bank', lien_wiki='https://en.wikipedia.org//wiki/M%26T_Bank', gics='Financials', sous_gics='Regional Banks', localisation='Buffalo, New York', date_entree='2004-02-23', cik='0000036270', date_fondation='1856'),\n",
       " Ligne(symbole='MRO', lien_nyse='https://www.nyse.com/quote/XNYS:MRO', securite='Marathon Oil', lien_wiki='https://en.wikipedia.org//wiki/Marathon_Oil', gics='Energy', sous_gics='Oil &amp; Gas Exploration &amp; Production', localisation='Houston, Texas', date_entree='1957-03-04', cik='0000101778', date_fondation='1887'),\n",
       " Ligne(symbole='MPC', lien_nyse='https://www.nyse.com/quote/XNYS:MPC', securite='Marathon Petroleum', lien_wiki='https://en.wikipedia.org//wiki/Marathon_Petroleum', gics='Energy', sous_gics='Oil &amp; Gas Refining &amp; Marketing', localisation='Findlay, Ohio', date_entree='2011-07-01', cik='0001510295 ', date_fondation='2009 (1887)'),\n",
       " Ligne(symbole='MKTX', lien_nyse='https://www.nasdaq.com/market-activity/stocks/mktx', securite='MarketAxess', lien_wiki='https://en.wikipedia.org//wiki/MarketAxess', gics='Financials', sous_gics='Financial Exchanges &amp; Data', localisation='New York City, New York', date_entree='2019-07-01', cik='0001278021 ', date_fondation='2000'),\n",
       " Ligne(symbole='MAR', lien_nyse='https://www.nasdaq.com/market-activity/stocks/mar', securite='Marriott International', lien_wiki='https://en.wikipedia.org//wiki/Marriott_International', gics='Consumer Discretionary', sous_gics='Hotels, Resorts &amp; Cruise Lines', localisation='Bethesda, Maryland', date_entree='1998-05-29', cik='0001048286', date_fondation='1927'),\n",
       " Ligne(symbole='MMC', lien_nyse='https://www.nyse.com/quote/XNYS:MMC', securite='Marsh McLennan', lien_wiki='https://en.wikipedia.org//wiki/Marsh_McLennan', gics='Financials', sous_gics='Insurance Brokers', localisation='New York City, New York', date_entree='1987-08-31', cik='0000062709', date_fondation='1905'),\n",
       " Ligne(symbole='MLM', lien_nyse='https://www.nyse.com/quote/XNYS:MLM', securite='Martin Marietta Materials', lien_wiki='https://en.wikipedia.org//wiki/Martin_Marietta_Materials', gics='Materials', sous_gics='Construction Materials', localisation='Raleigh, North Carolina', date_entree='2014-07-02', cik='0000916076', date_fondation='1993'),\n",
       " Ligne(symbole='MAS', lien_nyse='https://www.nyse.com/quote/XNYS:MAS', securite='Masco', lien_wiki='https://en.wikipedia.org//wiki/Masco', gics='Industrials', sous_gics='Building Products', localisation='Livonia, Michigan', date_entree='1981-06-30', cik='0000062996 ', date_fondation='1929'),\n",
       " Ligne(symbole='MA', lien_nyse='https://www.nyse.com/quote/XNYS:MA', securite='Mastercard', lien_wiki='https://en.wikipedia.org//wiki/Mastercard', gics='Financials', sous_gics='Transaction &amp; Payment Processing Services', localisation='Harrison, New York', date_entree='2008-07-18', cik='0001141391', date_fondation='1966'),\n",
       " Ligne(symbole='MTCH', lien_nyse='https://www.nasdaq.com/market-activity/stocks/mtch', securite='Match Group', lien_wiki='https://en.wikipedia.org//wiki/Match_Group', gics='Communication Services', sous_gics='Interactive Media &amp; Services', localisation='Dallas, Texas', date_entree='2021-09-20', cik='0000891103', date_fondation='1986'),\n",
       " Ligne(symbole='MKC', lien_nyse='https://www.nyse.com/quote/XNYS:MKC', securite='McCormick &amp; Company', lien_wiki='https://en.wikipedia.org//wiki/McCormick_%26_Company', gics='Consumer Staples', sous_gics='Packaged Foods &amp; Meats', localisation='Hunt Valley, Maryland', date_entree='2003-03-20', cik='0000063754', date_fondation='1889'),\n",
       " Ligne(symbole='MCD', lien_nyse='https://www.nyse.com/quote/XNYS:MCD', securite=\"McDonald's\", lien_wiki='https://en.wikipedia.org//wiki/McDonald%27s', gics='Consumer Discretionary', sous_gics='Restaurants', localisation='Chicago, Illinois', date_entree='1970-06-30', cik='0000063908', date_fondation='1940'),\n",
       " Ligne(symbole='MCK', lien_nyse='https://www.nyse.com/quote/XNYS:MCK', securite='McKesson Corporation', lien_wiki='https://en.wikipedia.org//wiki/McKesson_Corporation', gics='Health Care', sous_gics='Health Care Distributors', localisation='Irving, Texas', date_entree='1999-01-13', cik='0000927653', date_fondation='1833'),\n",
       " Ligne(symbole='MDT', lien_nyse='https://www.nyse.com/quote/XNYS:MDT', securite='Medtronic', lien_wiki='https://en.wikipedia.org//wiki/Medtronic', gics='Health Care', sous_gics='Health Care Equipment', localisation='Dublin, Ireland', date_entree='1986-10-31', cik='0001613103', date_fondation='1949'),\n",
       " Ligne(symbole='MRK', lien_nyse='https://www.nyse.com/quote/XNYS:MRK', securite='Merck &amp; Co.', lien_wiki='https://en.wikipedia.org//wiki/Merck_%26_Co.', gics='Health Care', sous_gics='Pharmaceuticals', localisation='Kenilworth, New Jersey', date_entree='1957-03-04', cik='0000310158', date_fondation='1891'),\n",
       " Ligne(symbole='META', lien_nyse='https://www.nasdaq.com/market-activity/stocks/meta', securite='Meta Platforms', lien_wiki='https://en.wikipedia.org//wiki/Meta_Platforms', gics='Communication Services', sous_gics='Interactive Media &amp; Services', localisation='Menlo Park, California', date_entree='2013-12-23', cik='0001326801', date_fondation='2004'),\n",
       " Ligne(symbole='MET', lien_nyse='https://www.nyse.com/quote/XNYS:MET', securite='MetLife', lien_wiki='https://en.wikipedia.org//wiki/MetLife', gics='Financials', sous_gics='Life &amp; Health Insurance', localisation='New York City, New York', date_entree='2000-12-11', cik='0001099219', date_fondation='1868'),\n",
       " Ligne(symbole='MTD', lien_nyse='https://www.nyse.com/quote/XNYS:MTD', securite='Mettler Toledo', lien_wiki='https://en.wikipedia.org//wiki/Mettler_Toledo', gics='Health Care', sous_gics='Life Sciences Tools &amp; Services', localisation='Columbus, Ohio', date_entree='2016-09-06', cik='0001037646', date_fondation='1945'),\n",
       " Ligne(symbole='MGM', lien_nyse='https://www.nyse.com/quote/XNYS:MGM', securite='MGM Resorts', lien_wiki='https://en.wikipedia.org//wiki/MGM_Resorts', gics='Consumer Discretionary', sous_gics='Casinos &amp; Gaming', localisation='Paradise, Nevada', date_entree='2017-07-26', cik='0000789570', date_fondation='1986'),\n",
       " Ligne(symbole='MCHP', lien_nyse='https://www.nasdaq.com/market-activity/stocks/mchp', securite='Microchip Technology', lien_wiki='https://en.wikipedia.org//wiki/Microchip_Technology', gics='Information Technology', sous_gics='Semiconductors', localisation='Chandler, Arizona', date_entree='2007-09-07', cik='0000827054', date_fondation='1989'),\n",
       " Ligne(symbole='MU', lien_nyse='https://www.nasdaq.com/market-activity/stocks/mu', securite='Micron Technology', lien_wiki='https://en.wikipedia.org//wiki/Micron_Technology', gics='Information Technology', sous_gics='Semiconductors', localisation='Boise, Idaho', date_entree='1994-09-27', cik='0000723125', date_fondation='1978'),\n",
       " Ligne(symbole='MSFT', lien_nyse='https://www.nasdaq.com/market-activity/stocks/msft', securite='Microsoft', lien_wiki='https://en.wikipedia.org//wiki/Microsoft', gics='Information Technology', sous_gics='Systems Software', localisation='Redmond, Washington', date_entree='1994-06-01', cik='0000789019', date_fondation='1975'),\n",
       " Ligne(symbole='MAA', lien_nyse='https://www.nyse.com/quote/XNYS:MAA', securite='Mid-America Apartment Communities', lien_wiki='https://en.wikipedia.org//wiki/Mid-America_Apartment_Communities', gics='Real Estate', sous_gics='Multi-Family Residential REITs', localisation='Memphis, Tennessee', date_entree='2016-12-02', cik='0000912595', date_fondation='1977'),\n",
       " Ligne(symbole='MRNA', lien_nyse='https://www.nasdaq.com/market-activity/stocks/mrna', securite='Moderna', lien_wiki='https://en.wikipedia.org//wiki/Moderna', gics='Health Care', sous_gics='Biotechnology', localisation='Cambridge, Massachusetts', date_entree='2021-07-21', cik='0001682852', date_fondation='2010'),\n",
       " Ligne(symbole='MHK', lien_nyse='https://www.nyse.com/quote/XNYS:MHK', securite='Mohawk Industries', lien_wiki='https://en.wikipedia.org//wiki/Mohawk_Industries', gics='Consumer Discretionary', sous_gics='Home Furnishings', localisation='Calhoun, Georgia', date_entree='2013-12-23', cik='0000851968', date_fondation='1878'),\n",
       " Ligne(symbole='MOH', lien_nyse='https://www.nyse.com/quote/XNYS:MOH', securite='Molina Healthcare', lien_wiki='https://en.wikipedia.org//wiki/Molina_Healthcare', gics='Health Care', sous_gics='Managed Health Care', localisation='Long Beach, California', date_entree='2022-03-02', cik='0001179929', date_fondation='1980'),\n",
       " Ligne(symbole='TAP', lien_nyse='https://www.nyse.com/quote/XNYS:TAP', securite='Molson Coors Beverage Company', lien_wiki='https://en.wikipedia.org//wiki/Molson_Coors_Beverage_Company', gics='Consumer Staples', sous_gics='Brewers', localisation='Chicago, Illinois', date_entree='1976-06-30', cik='0000024545 ', date_fondation='2005 (Molson 1786, Coors 1873)'),\n",
       " Ligne(symbole='MDLZ', lien_nyse='https://www.nasdaq.com/market-activity/stocks/mdlz', securite='Mondelez International', lien_wiki='https://en.wikipedia.org//wiki/Mondelez_International', gics='Consumer Staples', sous_gics='Packaged Foods &amp; Meats', localisation='Chicago, Illinois', date_entree='2012-10-02', cik='0001103982', date_fondation='2012'),\n",
       " Ligne(symbole='MPWR', lien_nyse='https://www.nasdaq.com/market-activity/stocks/mpwr', securite='Monolithic Power Systems', lien_wiki='https://en.wikipedia.org//wiki/Monolithic_Power_Systems', gics='Information Technology', sous_gics='Semiconductors', localisation='Kirkland, Washington', date_entree='2021-02-12', cik='0001280452', date_fondation='1997'),\n",
       " Ligne(symbole='MNST', lien_nyse='https://www.nasdaq.com/market-activity/stocks/mnst', securite='Monster Beverage', lien_wiki='https://en.wikipedia.org//wiki/Monster_Beverage', gics='Consumer Staples', sous_gics='Soft Drinks &amp; Non-alcoholic Beverages', localisation='Corona, California', date_entree='2012-06-28', cik='0000865752', date_fondation='2012 (1935)'),\n",
       " Ligne(symbole='MCO', lien_nyse='https://www.nyse.com/quote/XNYS:MCO', securite=\"Moody's Corporation\", lien_wiki='https://en.wikipedia.org//wiki/Moody%27s_Corporation', gics='Financials', sous_gics='Financial Exchanges &amp; Data', localisation='New York City, New York', date_entree='1998-07-01', cik='0001059556', date_fondation='1909'),\n",
       " Ligne(symbole='MS', lien_nyse='https://www.nyse.com/quote/XNYS:MS', securite='Morgan Stanley', lien_wiki='https://en.wikipedia.org//wiki/Morgan_Stanley', gics='Financials', sous_gics='Investment Banking &amp; Brokerage', localisation='New York City, New York', date_entree='1993-07-29', cik='0000895421', date_fondation='1935'),\n",
       " Ligne(symbole='MOS', lien_nyse='https://www.nyse.com/quote/XNYS:MOS', securite='Mosaic Company (The)', lien_wiki='https://en.wikipedia.org//wiki/The_Mosaic_Company', gics='Materials', sous_gics='Fertilizers &amp; Agricultural Chemicals', localisation='Tampa, Florida', date_entree='2011-09-26', cik='0001285785 ', date_fondation='2004 (1865 / 1909)'),\n",
       " Ligne(symbole='MSI', lien_nyse='https://www.nyse.com/quote/XNYS:MSI', securite='Motorola Solutions', lien_wiki='https://en.wikipedia.org//wiki/Motorola_Solutions', gics='Information Technology', sous_gics='Communications Equipment', localisation='Chicago, Illinois', date_entree='1957-03-04', cik='0000068505', date_fondation='1928 (2011)'),\n",
       " Ligne(symbole='MSCI', lien_nyse='https://www.nyse.com/quote/XNYS:MSCI', securite='MSCI', lien_wiki='https://en.wikipedia.org//wiki/MSCI', gics='Financials', sous_gics='Financial Exchanges &amp; Data', localisation='New York City, New York', date_entree='2018-04-04', cik='0001408198 ', date_fondation='1969'),\n",
       " Ligne(symbole='NDAQ', lien_nyse='https://www.nasdaq.com/market-activity/stocks/ndaq', securite='Nasdaq, Inc.', lien_wiki='https://en.wikipedia.org//wiki/Nasdaq,_Inc.', gics='Financials', sous_gics='Financial Exchanges &amp; Data', localisation='New York City, New York', date_entree='2008-10-22', cik='0001120193 ', date_fondation='1971'),\n",
       " Ligne(symbole='NTAP', lien_nyse='https://www.nasdaq.com/market-activity/stocks/ntap', securite='NetApp', lien_wiki='https://en.wikipedia.org//wiki/NetApp', gics='Information Technology', sous_gics='Technology Hardware, Storage &amp; Peripherals', localisation='San Jose, California', date_entree='1999-06-25', cik='0001002047', date_fondation='1992'),\n",
       " Ligne(symbole='NFLX', lien_nyse='https://www.nasdaq.com/market-activity/stocks/nflx', securite='Netflix', lien_wiki='https://en.wikipedia.org//wiki/Netflix,_Inc.', gics='Communication Services', sous_gics='Movies &amp; Entertainment', localisation='Los Gatos, California', date_entree='2010-12-20', cik='0001065280', date_fondation='1997'),\n",
       " Ligne(symbole='NEM', lien_nyse='https://www.nyse.com/quote/XNYS:NEM', securite='Newmont', lien_wiki='https://en.wikipedia.org//wiki/Newmont', gics='Materials', sous_gics='Gold', localisation='Denver, Colorado', date_entree='1969-06-30', cik='0001164727', date_fondation='1921'),\n",
       " Ligne(symbole='NWSA', lien_nyse='https://www.nasdaq.com/market-activity/stocks/nwsa', securite='News Corp', lien_wiki='https://en.wikipedia.org//wiki/News_Corp', gics='Communication Services', sous_gics='Publishing', localisation='New York City, New York', date_entree='2013-08-01', cik='0001564708', date_fondation='2013 (<a href=\"/wiki/News_Corporation\" title=\"News Corporation\">News Corporation</a> 1980)'),\n",
       " Ligne(symbole='NWS', lien_nyse='https://www.nasdaq.com/market-activity/stocks/nws', securite='News Corp', lien_wiki='https://en.wikipedia.org//wiki/News_Corp', gics='Communication Services', sous_gics='Publishing', localisation='New York City, New York', date_entree='2015-09-18', cik='0001564708', date_fondation='2013 (<a href=\"/wiki/News_Corporation\" title=\"News Corporation\">News Corporation</a> 1980)'),\n",
       " Ligne(symbole='NEE', lien_nyse='https://www.nyse.com/quote/XNYS:NEE', securite='NextEra Energy', lien_wiki='https://en.wikipedia.org//wiki/NextEra_Energy', gics='Utilities', sous_gics='Multi-Utilities', localisation='Juno Beach, Florida', date_entree='1976-06-30', cik='0000753308 ', date_fondation='1984 (1925)'),\n",
       " Ligne(symbole='NKE', lien_nyse='https://www.nyse.com/quote/XNYS:NKE', securite='Nike, Inc.', lien_wiki='https://en.wikipedia.org//wiki/Nike,_Inc.', gics='Consumer Discretionary', sous_gics='Apparel, Accessories &amp; Luxury Goods', localisation='Washington County, Oregon', date_entree='1988-11-30', cik='0000320187', date_fondation='1964'),\n",
       " Ligne(symbole='NI', lien_nyse='https://www.nyse.com/quote/XNYS:NI', securite='NiSource', lien_wiki='https://en.wikipedia.org//wiki/NiSource', gics='Utilities', sous_gics='Multi-Utilities', localisation='Merrillville, Indiana', date_entree='2000-11-02', cik='0001111711', date_fondation='1912'),\n",
       " Ligne(symbole='NDSN', lien_nyse='https://www.nasdaq.com/market-activity/stocks/ndsn', securite='Nordson Corporation', lien_wiki='https://en.wikipedia.org//wiki/Nordson_Corporation', gics='Industrials', sous_gics='Industrial Machinery &amp; Supplies &amp; Components', localisation='Westlake, Ohio', date_entree='2022-02-15', cik='0000072331', date_fondation='1935'),\n",
       " Ligne(symbole='NSC', lien_nyse='https://www.nyse.com/quote/XNYS:NSC', securite='Norfolk Southern Railway', lien_wiki='https://en.wikipedia.org//wiki/Norfolk_Southern_Railway', gics='Industrials', sous_gics='Rail Transportation', localisation='Atlanta, Georgia', date_entree='1957-03-04', cik='0000702165', date_fondation='1881/1894 (1980)'),\n",
       " Ligne(symbole='NTRS', lien_nyse='https://www.nasdaq.com/market-activity/stocks/ntrs', securite='Northern Trust', lien_wiki='https://en.wikipedia.org//wiki/Northern_Trust', gics='Financials', sous_gics='Asset Management &amp; Custody Banks', localisation='Chicago, Illinois', date_entree='1998-01-30', cik='0000073124', date_fondation='1889'),\n",
       " Ligne(symbole='NOC', lien_nyse='https://www.nyse.com/quote/XNYS:NOC', securite='Northrop Grumman', lien_wiki='https://en.wikipedia.org//wiki/Northrop_Grumman', gics='Industrials', sous_gics='Aerospace &amp; Defense', localisation='West Falls Church, Virginia', date_entree='1957-03-04', cik='0001133421', date_fondation='1994 (Northrop 1939, Grumman 1930)'),\n",
       " Ligne(symbole='NCLH', lien_nyse='https://www.nyse.com/quote/XNYS:NCLH', securite='Norwegian Cruise Line Holdings', lien_wiki='https://en.wikipedia.org//wiki/Norwegian_Cruise_Line_Holdings', gics='Consumer Discretionary', sous_gics='Hotels, Resorts &amp; Cruise Lines', localisation='Miami, Florida', date_entree='2017-10-13', cik='0001513761', date_fondation='2011 (1966)'),\n",
       " Ligne(symbole='NRG', lien_nyse='https://www.nyse.com/quote/XNYS:NRG', securite='NRG Energy', lien_wiki='https://en.wikipedia.org//wiki/NRG_Energy', gics='Utilities', sous_gics='Independent Power Producers &amp; Energy Traders', localisation='Houston, Texas', date_entree='2010-01-29', cik='0001013871', date_fondation='1992'),\n",
       " Ligne(symbole='NUE', lien_nyse='https://www.nyse.com/quote/XNYS:NUE', securite='Nucor', lien_wiki='https://en.wikipedia.org//wiki/Nucor', gics='Materials', sous_gics='Steel', localisation='Charlotte, North Carolina', date_entree='1985-04-30', cik='0000073309', date_fondation='1940'),\n",
       " Ligne(symbole='NVDA', lien_nyse='https://www.nasdaq.com/market-activity/stocks/nvda', securite='Nvidia', lien_wiki='https://en.wikipedia.org//wiki/Nvidia', gics='Information Technology', sous_gics='Semiconductors', localisation='Santa Clara, California', date_entree='2001-11-30', cik='0001045810', date_fondation='1993'),\n",
       " Ligne(symbole='NVR', lien_nyse='https://www.nyse.com/quote/XNYS:NVR', securite='NVR, Inc.', lien_wiki='https://en.wikipedia.org//wiki/NVR,_Inc.', gics='Consumer Discretionary', sous_gics='Homebuilding', localisation='Reston, Virginia', date_entree='2019-09-26', cik='0000906163', date_fondation='1980'),\n",
       " Ligne(symbole='NXPI', lien_nyse='https://www.nasdaq.com/market-activity/stocks/nxpi', securite='NXP Semiconductors', lien_wiki='https://en.wikipedia.org//wiki/NXP_Semiconductors', gics='Information Technology', sous_gics='Semiconductors', localisation='Eindhoven, Netherlands', date_entree='2021-03-22', cik='0001413447', date_fondation='1953'),\n",
       " Ligne(symbole='ORLY', lien_nyse='https://www.nasdaq.com/market-activity/stocks/orly', securite=\"O'Reilly Auto Parts\", lien_wiki='https://en.wikipedia.org//wiki/O%27Reilly_Auto_Parts', gics='Consumer Discretionary', sous_gics='Automotive Retail', localisation='Springfield, Missouri', date_entree='2009-03-27', cik='0000898173', date_fondation='1957'),\n",
       " Ligne(symbole='OXY', lien_nyse='https://www.nyse.com/quote/XNYS:OXY', securite='Occidental Petroleum', lien_wiki='https://en.wikipedia.org//wiki/Occidental_Petroleum', gics='Energy', sous_gics='Oil &amp; Gas Exploration &amp; Production', localisation='Houston, Texas', date_entree='1957-03-04', cik='0000797468', date_fondation='1920'),\n",
       " Ligne(symbole='ODFL', lien_nyse='https://www.nasdaq.com/market-activity/stocks/odfl', securite='Old Dominion', lien_wiki='https://en.wikipedia.org//wiki/Old_Dominion_Freight_Line', gics='Industrials', sous_gics='Cargo Ground Transportation', localisation='Thomasville, North Carolina', date_entree='2019-12-09', cik='0000878927', date_fondation='1934'),\n",
       " Ligne(symbole='OMC', lien_nyse='https://www.nyse.com/quote/XNYS:OMC', securite='Omnicom Group', lien_wiki='https://en.wikipedia.org//wiki/Omnicom_Group', gics='Communication Services', sous_gics='Advertising', localisation='New York City, New York', date_entree='1997-12-31', cik='0000029989', date_fondation='1986'),\n",
       " Ligne(symbole='ON', lien_nyse='https://www.nasdaq.com/market-activity/stocks/on', securite='ON Semiconductor', lien_wiki='https://en.wikipedia.org//wiki/ON_Semiconductor', gics='Information Technology', sous_gics='Semiconductors', localisation='Phoenix, Arizona', date_entree='2022-06-21', cik='0001097864', date_fondation='1999'),\n",
       " Ligne(symbole='OKE', lien_nyse='https://www.nyse.com/quote/XNYS:OKE', securite='ONEOK', lien_wiki='https://en.wikipedia.org//wiki/Oneok', gics='Energy', sous_gics='Oil &amp; Gas Storage &amp; Transportation', localisation='Tulsa, Oklahoma', date_entree='2010-03-15', cik='0001039684', date_fondation='1906'),\n",
       " Ligne(symbole='ORCL', lien_nyse='https://www.nyse.com/quote/XNYS:ORCL', securite='Oracle Corporation', lien_wiki='https://en.wikipedia.org//wiki/Oracle_Corporation', gics='Information Technology', sous_gics='Application Software', localisation='Austin, Texas', date_entree='1989-08-31', cik='0001341439', date_fondation='1977'),\n",
       " Ligne(symbole='OTIS', lien_nyse='https://www.nyse.com/quote/XNYS:OTIS', securite='Otis Worldwide', lien_wiki='https://en.wikipedia.org//wiki/Otis_Worldwide', gics='Industrials', sous_gics='Industrial Machinery &amp; Supplies &amp; Components', localisation='Farmington, Connecticut', date_entree='2020-04-03', cik='0001781335 ', date_fondation='2020 (1853, <a href=\"/wiki/United_Technologies\" title=\"United Technologies\">United Technologies</a> spinoff)'),\n",
       " Ligne(symbole='PCAR', lien_nyse='https://www.nasdaq.com/market-activity/stocks/pcar', securite='Paccar', lien_wiki='https://en.wikipedia.org//wiki/Paccar', gics='Industrials', sous_gics='Construction Machinery &amp; Heavy Transportation Equipment', localisation='Bellevue, Washington', date_entree='1980-12-31', cik='0000075362 ', date_fondation='1905'),\n",
       " Ligne(symbole='PKG', lien_nyse='https://www.nyse.com/quote/XNYS:PKG', securite='Packaging Corporation of America', lien_wiki='https://en.wikipedia.org//wiki/Packaging_Corporation_of_America', gics='Materials', sous_gics='Paper &amp; Plastic Packaging Products &amp; Materials', localisation='Lake Forest, Illinois', date_entree='2017-07-26', cik='0000075677', date_fondation='1959'),\n",
       " Ligne(symbole='PLTR', lien_nyse='https://www.nyse.com/quote/XNYS:PLTR', securite='Palantir Technologies', lien_wiki='https://en.wikipedia.org//wiki/Palantir_Technologies', gics='Information Technology', sous_gics='Internet Services &amp; Infrastructure', localisation='Denver, Colorado', date_entree='2024-09-23', cik='0001321655', date_fondation='2003'),\n",
       " Ligne(symbole='PANW', lien_nyse='https://www.nasdaq.com/market-activity/stocks/panw', securite='Palo Alto Networks', lien_wiki='https://en.wikipedia.org//wiki/Palo_Alto_Networks', gics='Information Technology', sous_gics='Systems Software', localisation='Santa Clara, California', date_entree='2023-06-20', cik='0001327567', date_fondation='2005'),\n",
       " Ligne(symbole='PARA', lien_nyse='https://www.nasdaq.com/market-activity/stocks/para', securite='Paramount Global', lien_wiki='https://en.wikipedia.org//wiki/Paramount_Global', gics='Communication Services', sous_gics='Movies &amp; Entertainment', localisation='New York City, New York', date_entree='1994-09-30', cik='0000813828 ', date_fondation='2019 (<a href=\"/wiki/Paramount_Pictures\" title=\"Paramount Pictures\">Paramount Pictures</a> 1912)'),\n",
       " Ligne(symbole='PH', lien_nyse='https://www.nyse.com/quote/XNYS:PH', securite='Parker Hannifin', lien_wiki='https://en.wikipedia.org//wiki/Parker_Hannifin', gics='Industrials', sous_gics='Industrial Machinery &amp; Supplies &amp; Components', localisation='Cleveland, Ohio', date_entree='1985-11-30', cik='0000076334', date_fondation='1917'),\n",
       " Ligne(symbole='PAYX', lien_nyse='https://www.nasdaq.com/market-activity/stocks/payx', securite='Paychex', lien_wiki='https://en.wikipedia.org//wiki/Paychex', gics='Industrials', sous_gics='Human Resource &amp; Employment Services', localisation='Penfield, New York', date_entree='1998-10-01', cik='0000723531', date_fondation='1971'),\n",
       " Ligne(symbole='PAYC', lien_nyse='https://www.nyse.com/quote/XNYS:PAYC', securite='Paycom', lien_wiki='https://en.wikipedia.org//wiki/Paycom', gics='Industrials', sous_gics='Human Resource &amp; Employment Services', localisation='Oklahoma City, Oklahoma', date_entree='2020-01-28', cik='0001590955', date_fondation='1998'),\n",
       " Ligne(symbole='PYPL', lien_nyse='https://www.nasdaq.com/market-activity/stocks/pypl', securite='PayPal', lien_wiki='https://en.wikipedia.org//wiki/PayPal', gics='Financials', sous_gics='Transaction &amp; Payment Processing Services', localisation='San Jose, California', date_entree='2015-07-20', cik='0001633917', date_fondation='1998'),\n",
       " Ligne(symbole='PNR', lien_nyse='https://www.nyse.com/quote/XNYS:PNR', securite='Pentair', lien_wiki='https://en.wikipedia.org//wiki/Pentair', gics='Industrials', sous_gics='Industrial Machinery &amp; Supplies &amp; Components', localisation='Worsley, United Kingdom', date_entree='2012-10-01', cik='0000077360', date_fondation='1966'),\n",
       " Ligne(symbole='PEP', lien_nyse='https://www.nasdaq.com/market-activity/stocks/pep', securite='PepsiCo', lien_wiki='https://en.wikipedia.org//wiki/PepsiCo', gics='Consumer Staples', sous_gics='Soft Drinks &amp; Non-alcoholic Beverages', localisation='Purchase, New York', date_entree='1957-03-04', cik='0000077476', date_fondation='1898'),\n",
       " Ligne(symbole='PFE', lien_nyse='https://www.nyse.com/quote/XNYS:PFE', securite='Pfizer', lien_wiki='https://en.wikipedia.org//wiki/Pfizer', gics='Health Care', sous_gics='Pharmaceuticals', localisation='New York City, New York', date_entree='1957-03-04', cik='0000078003', date_fondation='1849'),\n",
       " Ligne(symbole='PCG', lien_nyse='https://www.nyse.com/quote/XNYS:PCG', securite='PG&amp;E Corporation', lien_wiki='https://en.wikipedia.org//wiki/PG%26E', gics='Utilities', sous_gics='Multi-Utilities', localisation='Oakland, California', date_entree='2022-10-03', cik='0001004980', date_fondation='1905'),\n",
       " Ligne(symbole='PM', lien_nyse='https://www.nyse.com/quote/XNYS:PM', securite='Philip Morris International', lien_wiki='https://en.wikipedia.org//wiki/Philip_Morris_International', gics='Consumer Staples', sous_gics='Tobacco', localisation='New York City, New York', date_entree='2008-03-31', cik='0001413329', date_fondation='2008 (1847)'),\n",
       " Ligne(symbole='PSX', lien_nyse='https://www.nyse.com/quote/XNYS:PSX', securite='Phillips 66', lien_wiki='https://en.wikipedia.org//wiki/Phillips_66', gics='Energy', sous_gics='Oil &amp; Gas Refining &amp; Marketing', localisation='Houston, Texas', date_entree='2012-05-01', cik='0001534701', date_fondation='2012 (1917)'),\n",
       " Ligne(symbole='PNW', lien_nyse='https://www.nyse.com/quote/XNYS:PNW', securite='Pinnacle West', lien_wiki='https://en.wikipedia.org//wiki/Pinnacle_West', gics='Utilities', sous_gics='Multi-Utilities', localisation='Phoenix, Arizona', date_entree='1999-10-04', cik='0000764622', date_fondation='1985'),\n",
       " Ligne(symbole='PNC', lien_nyse='https://www.nyse.com/quote/XNYS:PNC', securite='PNC Financial Services', lien_wiki='https://en.wikipedia.org//wiki/PNC_Financial_Services', gics='Financials', sous_gics='Diversified Banks', localisation='Pittsburgh, Pennsylvania', date_entree='1988-04-30', cik='0000713676', date_fondation='1845'),\n",
       " Ligne(symbole='POOL', lien_nyse='https://www.nasdaq.com/market-activity/stocks/pool', securite='Pool Corporation', lien_wiki='https://en.wikipedia.org//wiki/Pool_Corporation', gics='Consumer Discretionary', sous_gics='Distributors', localisation='Covington, Louisiana', date_entree='2020-10-07', cik='0000945841', date_fondation='1993'),\n",
       " Ligne(symbole='PPG', lien_nyse='https://www.nyse.com/quote/XNYS:PPG', securite='PPG Industries', lien_wiki='https://en.wikipedia.org//wiki/PPG_Industries', gics='Materials', sous_gics='Specialty Chemicals', localisation='Pittsburgh, Pennsylvania', date_entree='1957-03-04', cik='0000079879', date_fondation='1883'),\n",
       " Ligne(symbole='PPL', lien_nyse='https://www.nyse.com/quote/XNYS:PPL', securite='PPL Corporation', lien_wiki='https://en.wikipedia.org//wiki/PPL_Corporation', gics='Utilities', sous_gics='Electric Utilities', localisation='Allentown, Pennsylvania', date_entree='2001-10-01', cik='0000922224 ', date_fondation='1920'),\n",
       " Ligne(symbole='PFG', lien_nyse='https://www.nasdaq.com/market-activity/stocks/pfg', securite='Principal Financial Group', lien_wiki='https://en.wikipedia.org//wiki/Principal_Financial_Group', gics='Financials', sous_gics='Life &amp; Health Insurance', localisation='Des Moines, Iowa', date_entree='2002-07-22', cik='0001126328', date_fondation='1879'),\n",
       " Ligne(symbole='PG', lien_nyse='https://www.nyse.com/quote/XNYS:PG', securite='Procter &amp; Gamble', lien_wiki='https://en.wikipedia.org//wiki/Procter_%26_Gamble', gics='Consumer Staples', sous_gics='Personal Care Products', localisation='Cincinnati, Ohio', date_entree='1957-03-04', cik='0000080424', date_fondation='1837'),\n",
       " Ligne(symbole='PGR', lien_nyse='https://www.nyse.com/quote/XNYS:PGR', securite='Progressive Corporation', lien_wiki='https://en.wikipedia.org//wiki/Progressive_Corporation', gics='Financials', sous_gics='Property &amp; Casualty Insurance', localisation='Mayfield Village, Ohio', date_entree='1997-08-04', cik='0000080661', date_fondation='1937'),\n",
       " Ligne(symbole='PLD', lien_nyse='https://www.nyse.com/quote/XNYS:PLD', securite='Prologis', lien_wiki='https://en.wikipedia.org//wiki/Prologis', gics='Real Estate', sous_gics='Industrial REITs', localisation='San Francisco, California', date_entree='2003-07-17', cik='0001045609', date_fondation='1983'),\n",
       " Ligne(symbole='PRU', lien_nyse='https://www.nyse.com/quote/XNYS:PRU', securite='Prudential Financial', lien_wiki='https://en.wikipedia.org//wiki/Prudential_Financial', gics='Financials', sous_gics='Life &amp; Health Insurance', localisation='Newark, New Jersey', date_entree='2002-07-22', cik='0001137774', date_fondation='1875'),\n",
       " Ligne(symbole='PEG', lien_nyse='https://www.nyse.com/quote/XNYS:PEG', securite='Public Service Enterprise Group', lien_wiki='https://en.wikipedia.org//wiki/Public_Service_Enterprise_Group', gics='Utilities', sous_gics='Electric Utilities', localisation='Newark, New Jersey', date_entree='1957-03-04', cik='0000788784 ', date_fondation='1903'),\n",
       " Ligne(symbole='PTC', lien_nyse='https://www.nasdaq.com/market-activity/stocks/ptc', securite='PTC Inc.', lien_wiki='https://en.wikipedia.org//wiki/PTC_(software_company)', gics='Information Technology', sous_gics='Application Software', localisation='Boston, Massachusetts', date_entree='2021-04-20', cik='0000857005', date_fondation='1985'),\n",
       " Ligne(symbole='PSA', lien_nyse='https://www.nyse.com/quote/XNYS:PSA', securite='Public Storage', lien_wiki='https://en.wikipedia.org//wiki/Public_Storage', gics='Real Estate', sous_gics='Self-Storage REITs', localisation='Glendale, California', date_entree='2005-08-19', cik='0001393311', date_fondation='1972'),\n",
       " Ligne(symbole='PHM', lien_nyse='https://www.nyse.com/quote/XNYS:PHM', securite='PulteGroup', lien_wiki='https://en.wikipedia.org//wiki/PulteGroup', gics='Consumer Discretionary', sous_gics='Homebuilding', localisation='Atlanta, Georgia', date_entree='1984-04-30', cik='0000822416 ', date_fondation='1956'),\n",
       " Ligne(symbole='QRVO', lien_nyse='https://www.nasdaq.com/market-activity/stocks/qrvo', securite='Qorvo', lien_wiki='https://en.wikipedia.org//wiki/Qorvo', gics='Information Technology', sous_gics='Semiconductors', localisation='Greensboro, North Carolina', date_entree='2015-06-11', cik='0001604778', date_fondation='2015'),\n",
       " Ligne(symbole='PWR', lien_nyse='https://www.nyse.com/quote/XNYS:PWR', securite='Quanta Services', lien_wiki='https://en.wikipedia.org//wiki/Quanta_Services', gics='Industrials', sous_gics='Construction &amp; Engineering', localisation='Houston, Texas', date_entree='2009-07-01', cik='0001050915', date_fondation='1997'),\n",
       " Ligne(symbole='QCOM', lien_nyse='https://www.nasdaq.com/market-activity/stocks/qcom', securite='Qualcomm', lien_wiki='https://en.wikipedia.org//wiki/Qualcomm', gics='Information Technology', sous_gics='Semiconductors', localisation='San Diego, California', date_entree='1999-07-22', cik='0000804328', date_fondation='1985'),\n",
       " Ligne(symbole='DGX', lien_nyse='https://www.nyse.com/quote/XNYS:DGX', securite='Quest Diagnostics', lien_wiki='https://en.wikipedia.org//wiki/Quest_Diagnostics', gics='Health Care', sous_gics='Health Care Services', localisation='Secaucus, New Jersey', date_entree='2002-12-12', cik='0001022079', date_fondation='1967'),\n",
       " Ligne(symbole='RL', lien_nyse='https://www.nyse.com/quote/XNYS:RL', securite='Ralph Lauren Corporation', lien_wiki='https://en.wikipedia.org//wiki/Ralph_Lauren_Corporation', gics='Consumer Discretionary', sous_gics='Apparel, Accessories &amp; Luxury Goods', localisation='New York City, New York', date_entree='2007-02-02', cik='0001037038', date_fondation='1967'),\n",
       " Ligne(symbole='RJF', lien_nyse='https://www.nyse.com/quote/XNYS:RJF', securite='Raymond James Financial', lien_wiki='https://en.wikipedia.org//wiki/Raymond_James_Financial', gics='Financials', sous_gics='Investment Banking &amp; Brokerage', localisation='St. Petersburg, Florida', date_entree='2017-03-20', cik='0000720005', date_fondation='1962'),\n",
       " Ligne(symbole='RTX', lien_nyse='https://www.nyse.com/quote/XNYS:RTX', securite='RTX Corporation', lien_wiki='https://en.wikipedia.org//wiki/RTX_Corporation', gics='Industrials', sous_gics='Aerospace &amp; Defense', localisation='Waltham, Massachusetts', date_entree='1957-03-04', cik='0000101829', date_fondation='1922'),\n",
       " Ligne(symbole='O', lien_nyse='https://www.nyse.com/quote/XNYS:O', securite='Realty Income', lien_wiki='https://en.wikipedia.org//wiki/Realty_Income', gics='Real Estate', sous_gics='Retail REITs', localisation='San Diego, California', date_entree='2015-04-07', cik='0000726728', date_fondation='1969'),\n",
       " Ligne(symbole='REG', lien_nyse='https://www.nasdaq.com/market-activity/stocks/reg', securite='Regency Centers', lien_wiki='https://en.wikipedia.org//wiki/Regency_Centers', gics='Real Estate', sous_gics='Retail REITs', localisation='Jacksonville', date_entree='2017-03-02', cik='0000910606', date_fondation='1963'),\n",
       " Ligne(symbole='REGN', lien_nyse='https://www.nasdaq.com/market-activity/stocks/regn', securite='Regeneron Pharmaceuticals', lien_wiki='https://en.wikipedia.org//wiki/Regeneron_Pharmaceuticals', gics='Health Care', sous_gics='Biotechnology', localisation='Tarrytown, New York', date_entree='2013-05-01', cik='0000872589', date_fondation='1988'),\n",
       " Ligne(symbole='RF', lien_nyse='https://www.nyse.com/quote/XNYS:RF', securite='Regions Financial Corporation', lien_wiki='https://en.wikipedia.org//wiki/Regions_Financial_Corporation', gics='Financials', sous_gics='Regional Banks', localisation='Birmingham, Alabama', date_entree='1998-08-28', cik='0001281761', date_fondation='1971'),\n",
       " Ligne(symbole='RSG', lien_nyse='https://www.nyse.com/quote/XNYS:RSG', securite='Republic Services', lien_wiki='https://en.wikipedia.org//wiki/Republic_Services', gics='Industrials', sous_gics='Environmental &amp; Facilities Services', localisation='Phoenix, Arizona', date_entree='2008-12-05', cik='0001060391', date_fondation='1998 (1981)'),\n",
       " Ligne(symbole='RMD', lien_nyse='https://www.nyse.com/quote/XNYS:RMD', securite='ResMed', lien_wiki='https://en.wikipedia.org//wiki/ResMed', gics='Health Care', sous_gics='Health Care Equipment', localisation='San Diego, California', date_entree='2017-07-26', cik='0000943819', date_fondation='1989'),\n",
       " Ligne(symbole='RVTY', lien_nyse='https://www.nyse.com/quote/XNYS:RVTY', securite='Revvity', lien_wiki='https://en.wikipedia.org//wiki/Revvity', gics='Health Care', sous_gics='Health Care Equipment', localisation='Waltham, Massachusetts', date_entree='1985-05-31', cik='0000031791', date_fondation='1937'),\n",
       " Ligne(symbole='ROK', lien_nyse='https://www.nyse.com/quote/XNYS:ROK', securite='Rockwell Automation', lien_wiki='https://en.wikipedia.org//wiki/Rockwell_Automation', gics='Industrials', sous_gics='Electrical Components &amp; Equipment', localisation='Milwaukee, Wisconsin', date_entree='2000-03-12', cik='0001024478 ', date_fondation='1903'),\n",
       " Ligne(symbole='ROL', lien_nyse='https://www.nyse.com/quote/XNYS:ROL', securite='Rollins, Inc.', lien_wiki='https://en.wikipedia.org//wiki/Rollins,_Inc.', gics='Industrials', sous_gics='Environmental &amp; Facilities Services', localisation='Atlanta, Georgia', date_entree='2018-10-01', cik='0000084839', date_fondation='1948'),\n",
       " Ligne(symbole='ROP', lien_nyse='https://www.nasdaq.com/market-activity/stocks/rop', securite='Roper Technologies', lien_wiki='https://en.wikipedia.org//wiki/Roper_Technologies', gics='Information Technology', sous_gics='Electronic Equipment &amp; Instruments', localisation='Sarasota, Florida', date_entree='2009-12-23', cik='0000882835', date_fondation='1981'),\n",
       " Ligne(symbole='ROST', lien_nyse='https://www.nasdaq.com/market-activity/stocks/rost', securite='Ross Stores', lien_wiki='https://en.wikipedia.org//wiki/Ross_Stores', gics='Consumer Discretionary', sous_gics='Apparel Retail', localisation='Dublin, California', date_entree='2009-12-21', cik='0000745732', date_fondation='1982'),\n",
       " Ligne(symbole='RCL', lien_nyse='https://www.nyse.com/quote/XNYS:RCL', securite='Royal Caribbean Group', lien_wiki='https://en.wikipedia.org//wiki/Royal_Caribbean_Group', gics='Consumer Discretionary', sous_gics='Hotels, Resorts &amp; Cruise Lines', localisation='Miami, Florida', date_entree='2014-12-05', cik='0000884887', date_fondation='1997'),\n",
       " Ligne(symbole='SPGI', lien_nyse='https://www.nyse.com/quote/XNYS:SPGI', securite='S&amp;P Global', lien_wiki='https://en.wikipedia.org//wiki/S%26P_Global', gics='Financials', sous_gics='Financial Exchanges &amp; Data', localisation='New York City, New York', date_entree='1957-03-04', cik='0000064040 ', date_fondation='1917'),\n",
       " Ligne(symbole='CRM', lien_nyse='https://www.nyse.com/quote/XNYS:CRM', securite='Salesforce', lien_wiki='https://en.wikipedia.org//wiki/Salesforce', gics='Information Technology', sous_gics='Application Software', localisation='San Francisco, California', date_entree='2008-09-15', cik='0001108524', date_fondation='1999'),\n",
       " Ligne(symbole='SBAC', lien_nyse='https://www.nasdaq.com/market-activity/stocks/sbac', securite='SBA Communications', lien_wiki='https://en.wikipedia.org//wiki/SBA_Communications', gics='Real Estate', sous_gics='Telecom Tower REITs', localisation='Boca Raton, Florida', date_entree='2017-09-01', cik='0001034054', date_fondation='1989'),\n",
       " Ligne(symbole='SLB', lien_nyse='https://www.nyse.com/quote/XNYS:SLB', securite='Schlumberger', lien_wiki='https://en.wikipedia.org//wiki/Schlumberger', gics='Energy', sous_gics='Oil &amp; Gas Equipment &amp; Services', localisation='Houston, Texas', date_entree='1957-03-04', cik='0000087347', date_fondation='1926'),\n",
       " Ligne(symbole='STX', lien_nyse='https://www.nasdaq.com/market-activity/stocks/stx', securite='Seagate Technology', lien_wiki='https://en.wikipedia.org//wiki/Seagate_Technology', gics='Information Technology', sous_gics='Technology Hardware, Storage &amp; Peripherals', localisation='Dublin, Ireland', date_entree='2012-07-02', cik='0001137789', date_fondation='1979'),\n",
       " Ligne(symbole='SRE', lien_nyse='https://www.nyse.com/quote/XNYS:SRE', securite='Sempra', lien_wiki='https://en.wikipedia.org//wiki/Sempra', gics='Utilities', sous_gics='Multi-Utilities', localisation='San Diego, California', date_entree='2017-03-17', cik='0001032208', date_fondation='1998'),\n",
       " Ligne(symbole='NOW', lien_nyse='https://www.nyse.com/quote/XNYS:NOW', securite='ServiceNow', lien_wiki='https://en.wikipedia.org//wiki/ServiceNow', gics='Information Technology', sous_gics='Systems Software', localisation='Santa Clara, California', date_entree='2019-11-21', cik='0001373715', date_fondation='2003'),\n",
       " Ligne(symbole='SHW', lien_nyse='https://www.nyse.com/quote/XNYS:SHW', securite='Sherwin-Williams', lien_wiki='https://en.wikipedia.org//wiki/Sherwin-Williams', gics='Materials', sous_gics='Specialty Chemicals', localisation='Cleveland, Ohio', date_entree='1964-06-30', cik='0000089800', date_fondation='1866'),\n",
       " Ligne(symbole='SPG', lien_nyse='https://www.nyse.com/quote/XNYS:SPG', securite='Simon Property Group', lien_wiki='https://en.wikipedia.org//wiki/Simon_Property_Group', gics='Real Estate', sous_gics='Retail REITs', localisation='Indianapolis, Indiana', date_entree='2002-06-26', cik='0001063761 ', date_fondation='2003'),\n",
       " Ligne(symbole='SWKS', lien_nyse='https://www.nasdaq.com/market-activity/stocks/swks', securite='Skyworks Solutions', lien_wiki='https://en.wikipedia.org//wiki/Skyworks_Solutions', gics='Information Technology', sous_gics='Semiconductors', localisation='Irvine, California', date_entree='2015-03-12', cik='0000004127', date_fondation='2002'),\n",
       " Ligne(symbole='SJM', lien_nyse='https://www.nyse.com/quote/XNYS:SJM', securite='J.M. Smucker Company (The)', lien_wiki='https://en.wikipedia.org//wiki/The_J.M._Smucker_Company', gics='Consumer Staples', sous_gics='Packaged Foods &amp; Meats', localisation='Orrville, Ohio', date_entree='2008-11-06', cik='0000091419', date_fondation='1897'),\n",
       " Ligne(symbole='SW', lien_nyse='https://www.nyse.com/quote/XNYS:SW', securite='Smurfit WestRock', lien_wiki='https://en.wikipedia.org//wiki/Smurfit_WestRock', gics='Materials', sous_gics='Paper &amp; Plastic Packaging Products &amp; Materials', localisation='Dublin, Ireland', date_entree='2024-07-08', cik='0002005951', date_fondation='1934'),\n",
       " Ligne(symbole='SNA', lien_nyse='https://www.nyse.com/quote/XNYS:SNA', securite='Snap-on', lien_wiki='https://en.wikipedia.org//wiki/Snap-on', gics='Industrials', sous_gics='Industrial Machinery &amp; Supplies &amp; Components', localisation='Kenosha, Wisconsin', date_entree='1982-09-30', cik='0000091440', date_fondation='1920'),\n",
       " Ligne(symbole='SOLV', lien_nyse='https://www.nyse.com/quote/XNYS:SOLV', securite='Solventum', lien_wiki='https://en.wikipedia.org//wiki/Solventum', gics='Health Care', sous_gics='Health Care Technology', localisation='Saint Paul, Minnesota', date_entree='2024-04-01', cik='0001964738', date_fondation='2023'),\n",
       " Ligne(symbole='SO', lien_nyse='https://www.nyse.com/quote/XNYS:SO', securite='Southern Company', lien_wiki='https://en.wikipedia.org//wiki/Southern_Company', gics='Utilities', sous_gics='Electric Utilities', localisation='Atlanta, Georgia', date_entree='1957-03-04', cik='0000092122', date_fondation='1945'),\n",
       " Ligne(symbole='LUV', lien_nyse='https://www.nyse.com/quote/XNYS:LUV', securite='Southwest Airlines', lien_wiki='https://en.wikipedia.org//wiki/Southwest_Airlines', gics='Industrials', sous_gics='Passenger Airlines', localisation='Dallas, Texas', date_entree='1994-07-01', cik='0000092380', date_fondation='1967'),\n",
       " Ligne(symbole='SWK', lien_nyse='https://www.nyse.com/quote/XNYS:SWK', securite='Stanley Black &amp; Decker', lien_wiki='https://en.wikipedia.org//wiki/Stanley_Black_%26_Decker', gics='Industrials', sous_gics='Industrial Machinery &amp; Supplies &amp; Components', localisation='New Britain, Connecticut', date_entree='1982-09-30', cik='0000093556', date_fondation='1843'),\n",
       " Ligne(symbole='SBUX', lien_nyse='https://www.nasdaq.com/market-activity/stocks/sbux', securite='Starbucks', lien_wiki='https://en.wikipedia.org//wiki/Starbucks', gics='Consumer Discretionary', sous_gics='Restaurants', localisation='Seattle, Washington', date_entree='2000-06-07', cik='0000829224', date_fondation='1971'),\n",
       " Ligne(symbole='STT', lien_nyse='https://www.nyse.com/quote/XNYS:STT', securite='State Street Corporation', lien_wiki='https://en.wikipedia.org//wiki/State_Street_Corporation', gics='Financials', sous_gics='Asset Management &amp; Custody Banks', localisation='Boston, Massachusetts', date_entree='2003-03-14', cik='0000093751', date_fondation='1792'),\n",
       " Ligne(symbole='STLD', lien_nyse='https://www.nasdaq.com/market-activity/stocks/stld', securite='Steel Dynamics', lien_wiki='https://en.wikipedia.org//wiki/Steel_Dynamics', gics='Materials', sous_gics='Steel', localisation='Fort Wayne, Indiana', date_entree='2022-12-22', cik='0001022671', date_fondation='1993'),\n",
       " Ligne(symbole='STE', lien_nyse='https://www.nyse.com/quote/XNYS:STE', securite='Steris', lien_wiki='https://en.wikipedia.org//wiki/Steris', gics='Health Care', sous_gics='Health Care Equipment', localisation='Dublin, Ireland', date_entree='2019-12-23', cik='0001757898', date_fondation='1985'),\n",
       " Ligne(symbole='SYK', lien_nyse='https://www.nyse.com/quote/XNYS:SYK', securite='Stryker Corporation', lien_wiki='https://en.wikipedia.org//wiki/Stryker_Corporation', gics='Health Care', sous_gics='Health Care Equipment', localisation='Kalamazoo, Michigan', date_entree='2000-12-12', cik='0000310764', date_fondation='1941'),\n",
       " Ligne(symbole='SMCI', lien_nyse='https://www.nasdaq.com/market-activity/stocks/smci', securite='Supermicro', lien_wiki='https://en.wikipedia.org//wiki/Supermicro', gics='Information Technology', sous_gics='Technology Hardware, Storage &amp; Peripherals', localisation='San Jose, California', date_entree='2024-03-18', cik='0001375365', date_fondation='1993'),\n",
       " Ligne(symbole='SYF', lien_nyse='https://www.nyse.com/quote/XNYS:SYF', securite='Synchrony Financial', lien_wiki='https://en.wikipedia.org//wiki/Synchrony_Financial', gics='Financials', sous_gics='Consumer Finance', localisation='Stamford, Connecticut', date_entree='2015-11-18', cik='0001601712', date_fondation='2003'),\n",
       " Ligne(symbole='SNPS', lien_nyse='https://www.nasdaq.com/market-activity/stocks/snps', securite='Synopsys', lien_wiki='https://en.wikipedia.org//wiki/Synopsys', gics='Information Technology', sous_gics='Application Software', localisation='Sunnyvale, California', date_entree='2017-03-16', cik='0000883241', date_fondation='1986'),\n",
       " Ligne(symbole='SYY', lien_nyse='https://www.nyse.com/quote/XNYS:SYY', securite='Sysco', lien_wiki='https://en.wikipedia.org//wiki/Sysco', gics='Consumer Staples', sous_gics='Food Distributors', localisation='Houston, Texas', date_entree='1986-12-31', cik='0000096021', date_fondation='1969'),\n",
       " Ligne(symbole='TMUS', lien_nyse='https://www.nasdaq.com/market-activity/stocks/tmus', securite='T-Mobile US', lien_wiki='https://en.wikipedia.org//wiki/T-Mobile_US', gics='Communication Services', sous_gics='Wireless Telecommunication Services', localisation='Bellevue, Washington', date_entree='2019-07-15', cik='0001283699', date_fondation='1994'),\n",
       " Ligne(symbole='TROW', lien_nyse='https://www.nasdaq.com/market-activity/stocks/trow', securite='T. Rowe Price', lien_wiki='https://en.wikipedia.org//wiki/T._Rowe_Price', gics='Financials', sous_gics='Asset Management &amp; Custody Banks', localisation='Baltimore, Maryland', date_entree='2019-07-29', cik='0001113169', date_fondation='1937'),\n",
       " Ligne(symbole='TTWO', lien_nyse='https://www.nasdaq.com/market-activity/stocks/ttwo', securite='Take-Two Interactive', lien_wiki='https://en.wikipedia.org//wiki/Take-Two_Interactive', gics='Communication Services', sous_gics='Interactive Home Entertainment', localisation='New York City, New York', date_entree='2018-03-19', cik='0000946581', date_fondation='1993'),\n",
       " Ligne(symbole='TPR', lien_nyse='https://www.nyse.com/quote/XNYS:TPR', securite='Tapestry, Inc.', lien_wiki='https://en.wikipedia.org//wiki/Tapestry,_Inc.', gics='Consumer Discretionary', sous_gics='Apparel, Accessories &amp; Luxury Goods', localisation='New York City, New York', date_entree='2004-09-01', cik='0001116132', date_fondation='2017'),\n",
       " Ligne(symbole='TRGP', lien_nyse='https://www.nyse.com/quote/XNYS:TRGP', securite='Targa Resources', lien_wiki='https://en.wikipedia.org//wiki/Targa_Resources', gics='Energy', sous_gics='Oil &amp; Gas Storage &amp; Transportation', localisation='Houston, Texas', date_entree='2022-10-12', cik='0001389170', date_fondation='2005'),\n",
       " Ligne(symbole='TGT', lien_nyse='https://www.nyse.com/quote/XNYS:TGT', securite='Target Corporation', lien_wiki='https://en.wikipedia.org//wiki/Target_Corporation', gics='Consumer Staples', sous_gics='Consumer Staples Merchandise Retail', localisation='Minneapolis, Minnesota', date_entree='1976-12-31', cik='0000027419 ', date_fondation='1902'),\n",
       " Ligne(symbole='TEL', lien_nyse='https://www.nyse.com/quote/XNYS:TEL', securite='TE Connectivity', lien_wiki='https://en.wikipedia.org//wiki/TE_Connectivity', gics='Information Technology', sous_gics='Electronic Manufacturing Services', localisation='Schaffhausen', date_entree='2011-10-17', cik='0001385157 ', date_fondation='2007'),\n",
       " Ligne(symbole='TDY', lien_nyse='https://www.nyse.com/quote/XNYS:TDY', securite='Teledyne Technologies', lien_wiki='https://en.wikipedia.org//wiki/Teledyne_Technologies', gics='Information Technology', sous_gics='Electronic Equipment &amp; Instruments', localisation='Thousand Oaks, California', date_entree='2020-06-22', cik='0001094285 ', date_fondation='1960'),\n",
       " Ligne(symbole='TFX', lien_nyse='https://www.nyse.com/quote/XNYS:TFX', securite='Teleflex', lien_wiki='https://en.wikipedia.org//wiki/Teleflex', gics='Health Care', sous_gics='Health Care Equipment', localisation='Wayne, Pennsylvania', date_entree='2019-01-18', cik='0000096943', date_fondation='1943'),\n",
       " Ligne(symbole='TER', lien_nyse='https://www.nasdaq.com/market-activity/stocks/ter', securite='Teradyne', lien_wiki='https://en.wikipedia.org//wiki/Teradyne', gics='Information Technology', sous_gics='Semiconductor Materials &amp; Equipment', localisation='North Reading, Massachusetts', date_entree='2020-09-21', cik='0000097210', date_fondation='1960'),\n",
       " Ligne(symbole='TSLA', lien_nyse='https://www.nasdaq.com/market-activity/stocks/tsla', securite='Tesla, Inc.', lien_wiki='https://en.wikipedia.org//wiki/Tesla,_Inc.', gics='Consumer Discretionary', sous_gics='Automobile Manufacturers', localisation='Austin, Texas', date_entree='2020-12-21', cik='0001318605', date_fondation='2003'),\n",
       " Ligne(symbole='TXN', lien_nyse='https://www.nasdaq.com/market-activity/stocks/txn', securite='Texas Instruments', lien_wiki='https://en.wikipedia.org//wiki/Texas_Instruments', gics='Information Technology', sous_gics='Semiconductors', localisation='Dallas, Texas', date_entree='2001-03-12', cik='0000097476', date_fondation='1930'),\n",
       " Ligne(symbole='TXT', lien_nyse='https://www.nyse.com/quote/XNYS:TXT', securite='Textron', lien_wiki='https://en.wikipedia.org//wiki/Textron', gics='Industrials', sous_gics='Aerospace &amp; Defense', localisation='Providence, Rhode Island', date_entree='1978-12-31', cik='0000217346 ', date_fondation='1923'),\n",
       " Ligne(symbole='TMO', lien_nyse='https://www.nyse.com/quote/XNYS:TMO', securite='Thermo Fisher Scientific', lien_wiki='https://en.wikipedia.org//wiki/Thermo_Fisher_Scientific', gics='Health Care', sous_gics='Life Sciences Tools &amp; Services', localisation='Waltham, Massachusetts', date_entree='2004-08-03', cik='0000097745', date_fondation='2006 (1902)'),\n",
       " Ligne(symbole='TJX', lien_nyse='https://www.nyse.com/quote/XNYS:TJX', securite='TJX Companies', lien_wiki='https://en.wikipedia.org//wiki/TJX_Companies', gics='Consumer Discretionary', sous_gics='Apparel Retail', localisation='Framingham, Massachusetts', date_entree='1985-09-30', cik='0000109198', date_fondation='1987'),\n",
       " Ligne(symbole='TSCO', lien_nyse='https://www.nasdaq.com/market-activity/stocks/tsco', securite='Tractor Supply', lien_wiki='https://en.wikipedia.org//wiki/Tractor_Supply', gics='Consumer Discretionary', sous_gics='Other Specialty Retail', localisation='Brentwood, Tennessee', date_entree='2014-01-24', cik='0000916365', date_fondation='1938'),\n",
       " Ligne(symbole='TT', lien_nyse='https://www.nyse.com/quote/XNYS:TT', securite='Trane Technologies', lien_wiki='https://en.wikipedia.org//wiki/Trane_Technologies', gics='Industrials', sous_gics='Building Products', localisation='Dublin, Ireland', date_entree='2010-11-17', cik='0001466258 ', date_fondation='1871'),\n",
       " Ligne(symbole='TDG', lien_nyse='https://www.nyse.com/quote/XNYS:TDG', securite='TransDigm Group', lien_wiki='https://en.wikipedia.org//wiki/TransDigm_Group', gics='Industrials', sous_gics='Aerospace &amp; Defense', localisation='Cleveland, Ohio', date_entree='2016-06-03', cik='0001260221 ', date_fondation='1993'),\n",
       " Ligne(symbole='TRV', lien_nyse='https://www.nyse.com/quote/XNYS:TRV', securite='Travelers Companies (The)', lien_wiki='https://en.wikipedia.org//wiki/The_Travelers_Companies', gics='Financials', sous_gics='Property &amp; Casualty Insurance', localisation='New York City, New York', date_entree='2002-08-21', cik='0000086312', date_fondation='1853'),\n",
       " Ligne(symbole='TRMB', lien_nyse='https://www.nasdaq.com/market-activity/stocks/trmb', securite='Trimble Inc.', lien_wiki='https://en.wikipedia.org//wiki/Trimble_Inc.', gics='Information Technology', sous_gics='Electronic Equipment &amp; Instruments', localisation='Westminster, Colorado', date_entree='2021-01-21', cik='0000864749', date_fondation='1978'),\n",
       " Ligne(symbole='TFC', lien_nyse='https://www.nyse.com/quote/XNYS:TFC', securite='Truist Financial', lien_wiki='https://en.wikipedia.org//wiki/Truist_Financial', gics='Financials', sous_gics='Diversified Banks', localisation='Charlotte, North Carolina', date_entree='1997-12-04', cik='0000092230', date_fondation='1872'),\n",
       " Ligne(symbole='TYL', lien_nyse='https://www.nyse.com/quote/XNYS:TYL', securite='Tyler Technologies', lien_wiki='https://en.wikipedia.org//wiki/Tyler_Technologies', gics='Information Technology', sous_gics='Application Software', localisation='Plano, Texas', date_entree='2020-06-22', cik='0000860731', date_fondation='1966'),\n",
       " Ligne(symbole='TSN', lien_nyse='https://www.nyse.com/quote/XNYS:TSN', securite='Tyson Foods', lien_wiki='https://en.wikipedia.org//wiki/Tyson_Foods', gics='Consumer Staples', sous_gics='Packaged Foods &amp; Meats', localisation='Springdale, Arkansas', date_entree='2005-08-10', cik='0000100493', date_fondation='1935'),\n",
       " Ligne(symbole='USB', lien_nyse='https://www.nyse.com/quote/XNYS:USB', securite='U.S. Bancorp', lien_wiki='https://en.wikipedia.org//wiki/U.S._Bancorp', gics='Financials', sous_gics='Diversified Banks', localisation='Minneapolis, Minnesota', date_entree='1999-11-01', cik='0000036104', date_fondation='1968'),\n",
       " Ligne(symbole='UBER', lien_nyse='https://www.nyse.com/quote/XNYS:UBER', securite='Uber', lien_wiki='https://en.wikipedia.org//wiki/Uber', gics='Industrials', sous_gics='Passenger Ground Transportation', localisation='San Francisco, California', date_entree='2023-12-18', cik='0001543151', date_fondation='2009'),\n",
       " Ligne(symbole='UDR', lien_nyse='https://www.nyse.com/quote/XNYS:UDR', securite='UDR, Inc.', lien_wiki='https://en.wikipedia.org//wiki/UDR,_Inc.', gics='Real Estate', sous_gics='Multi-Family Residential REITs', localisation='Highlands Ranch, Colorado', date_entree='2016-03-07', cik='0000074208', date_fondation='1972'),\n",
       " Ligne(symbole='ULTA', lien_nyse='https://www.nasdaq.com/market-activity/stocks/ulta', securite='Ulta Beauty', lien_wiki='https://en.wikipedia.org//wiki/Ulta_Beauty', gics='Consumer Discretionary', sous_gics='Other Specialty Retail', localisation='Bolingbrook, Illinois', date_entree='2016-04-18', cik='0001403568', date_fondation='1990'),\n",
       " Ligne(symbole='UNP', lien_nyse='https://www.nyse.com/quote/XNYS:UNP', securite='Union Pacific Corporation', lien_wiki='https://en.wikipedia.org//wiki/Union_Pacific_Corporation', gics='Industrials', sous_gics='Rail Transportation', localisation='Omaha, Nebraska', date_entree='1957-03-04', cik='0000100885', date_fondation='1862'),\n",
       " Ligne(symbole='UAL', lien_nyse='https://www.nasdaq.com/market-activity/stocks/ual', securite='United Airlines Holdings', lien_wiki='https://en.wikipedia.org//wiki/United_Airlines_Holdings', gics='Industrials', sous_gics='Passenger Airlines', localisation='Chicago, Illinois', date_entree='2015-09-03', cik='0000100517', date_fondation='1967'),\n",
       " Ligne(symbole='UPS', lien_nyse='https://www.nyse.com/quote/XNYS:UPS', securite='United Parcel Service', lien_wiki='https://en.wikipedia.org//wiki/United_Parcel_Service', gics='Industrials', sous_gics='Air Freight &amp; Logistics', localisation='Sandy Springs, Georgia', date_entree='2002-07-22', cik='0001090727', date_fondation='1907'),\n",
       " Ligne(symbole='URI', lien_nyse='https://www.nyse.com/quote/XNYS:URI', securite='United Rentals', lien_wiki='https://en.wikipedia.org//wiki/United_Rentals', gics='Industrials', sous_gics='Trading Companies &amp; Distributors', localisation='Stamford, Connecticut', date_entree='2014-09-20', cik='0001067701', date_fondation='1997'),\n",
       " Ligne(symbole='UNH', lien_nyse='https://www.nyse.com/quote/XNYS:UNH', securite='UnitedHealth Group', lien_wiki='https://en.wikipedia.org//wiki/UnitedHealth_Group', gics='Health Care', sous_gics='Managed Health Care', localisation='Minnetonka, Minnesota', date_entree='1994-07-01', cik='0000731766', date_fondation='1977'),\n",
       " Ligne(symbole='UHS', lien_nyse='https://www.nyse.com/quote/XNYS:UHS', securite='Universal Health Services', lien_wiki='https://en.wikipedia.org//wiki/Universal_Health_Services', gics='Health Care', sous_gics='Health Care Facilities', localisation='King of Prussia, Pennsylvania', date_entree='2014-09-20', cik='0000352915', date_fondation='1979'),\n",
       " Ligne(symbole='VLO', lien_nyse='https://www.nyse.com/quote/XNYS:VLO', securite='Valero Energy', lien_wiki='https://en.wikipedia.org//wiki/Valero_Energy', gics='Energy', sous_gics='Oil &amp; Gas Refining &amp; Marketing', localisation='San Antonio, Texas', date_entree='2002-12-20', cik='0001035002', date_fondation='1980'),\n",
       " Ligne(symbole='VTR', lien_nyse='https://www.nyse.com/quote/XNYS:VTR', securite='Ventas', lien_wiki='https://en.wikipedia.org//wiki/Ventas_(company)', gics='Real Estate', sous_gics='Health Care REITs', localisation='Chicago, Illinois', date_entree='2009-03-04', cik='0000740260', date_fondation='1998'),\n",
       " Ligne(symbole='VLTO', lien_nyse='https://www.nyse.com/quote/XNYS:VLTO', securite='Veralto', lien_wiki='https://en.wikipedia.org//wiki/Veralto', gics='Industrials', sous_gics='Environmental &amp; Facilities Services', localisation='Waltham, Massachusetts', date_entree='2023-10-02', cik='0001967680', date_fondation='2023'),\n",
       " Ligne(symbole='VRSN', lien_nyse='https://www.nasdaq.com/market-activity/stocks/vrsn', securite='Verisign', lien_wiki='https://en.wikipedia.org//wiki/Verisign', gics='Information Technology', sous_gics='Internet Services &amp; Infrastructure', localisation='Dulles, Virginia', date_entree='2006-02-01', cik='0001014473', date_fondation='1995'),\n",
       " Ligne(symbole='VRSK', lien_nyse='https://www.nasdaq.com/market-activity/stocks/vrsk', securite='Verisk Analytics', lien_wiki='https://en.wikipedia.org//wiki/Verisk_Analytics', gics='Industrials', sous_gics='Research &amp; Consulting Services', localisation='Jersey City, New Jersey', date_entree='2015-10-08', cik='0001442145', date_fondation='1971'),\n",
       " Ligne(symbole='VZ', lien_nyse='https://www.nyse.com/quote/XNYS:VZ', securite='Verizon', lien_wiki='https://en.wikipedia.org//wiki/Verizon', gics='Communication Services', sous_gics='Integrated Telecommunication Services', localisation='New York City, New York', date_entree='1983-11-30', cik='0000732712 ', date_fondation='1983 (1877)'),\n",
       " Ligne(symbole='VRTX', lien_nyse='https://www.nasdaq.com/market-activity/stocks/vrtx', securite='Vertex Pharmaceuticals', lien_wiki='https://en.wikipedia.org//wiki/Vertex_Pharmaceuticals', gics='Health Care', sous_gics='Biotechnology', localisation='Boston, Massachusetts', date_entree='2013-09-23', cik='0000875320', date_fondation='1989'),\n",
       " Ligne(symbole='VTRS', lien_nyse='https://www.nasdaq.com/market-activity/stocks/vtrs', securite='Viatris', lien_wiki='https://en.wikipedia.org//wiki/Viatris', gics='Health Care', sous_gics='Pharmaceuticals', localisation='Pittsburgh, Pennsylvania', date_entree='2004-04-23', cik='0001792044', date_fondation='1961'),\n",
       " Ligne(symbole='VICI', lien_nyse='https://www.nyse.com/quote/XNYS:VICI', securite='Vici Properties', lien_wiki='https://en.wikipedia.org//wiki/Vici_Properties', gics='Real Estate', sous_gics='Hotel &amp; Resort REITs', localisation='New York City, New York', date_entree='2022-06-08', cik='0001705696', date_fondation='2017'),\n",
       " Ligne(symbole='V', lien_nyse='https://www.nyse.com/quote/XNYS:V', securite='Visa Inc.', lien_wiki='https://en.wikipedia.org//wiki/Visa_Inc.', gics='Financials', sous_gics='Transaction &amp; Payment Processing Services', localisation='San Francisco, California', date_entree='2009-12-21', cik='0001403161', date_fondation='1958'),\n",
       " Ligne(symbole='VST', lien_nyse='https://www.nyse.com/quote/XNYS:VST', securite='Vistra Corp.', lien_wiki='https://en.wikipedia.org//wiki/Vistra_Corp', gics='Utilities', sous_gics='Electric Utilities', localisation='Irving, Texas', date_entree='2024-05-08', cik='0001692819', date_fondation='2016'),\n",
       " Ligne(symbole='VMC', lien_nyse='https://www.nyse.com/quote/XNYS:VMC', securite='Vulcan Materials Company', lien_wiki='https://en.wikipedia.org//wiki/Vulcan_Materials_Company', gics='Materials', sous_gics='Construction Materials', localisation='Birmingham, Alabama', date_entree='1999-06-30', cik='0001396009', date_fondation='1909'),\n",
       " Ligne(symbole='WRB', lien_nyse='https://www.nyse.com/quote/XNYS:WRB', securite='W. R. Berkley Corporation', lien_wiki='https://en.wikipedia.org//wiki/W._R._Berkley_Corporation', gics='Financials', sous_gics='Property &amp; Casualty Insurance', localisation='Greenwich, Connecticut', date_entree='2019-12-05', cik='0000011544', date_fondation='1967'),\n",
       " Ligne(symbole='GWW', lien_nyse='https://www.nyse.com/quote/XNYS:GWW', securite='W. W. Grainger', lien_wiki='https://en.wikipedia.org//wiki/W._W._Grainger', gics='Industrials', sous_gics='Industrial Machinery &amp; Supplies &amp; Components', localisation='Lake Forest, Illinois', date_entree='1981-06-30', cik='0000277135', date_fondation='1927'),\n",
       " Ligne(symbole='WAB', lien_nyse='https://www.nyse.com/quote/XNYS:WAB', securite='Wabtec', lien_wiki='https://en.wikipedia.org//wiki/Wabtec', gics='Industrials', sous_gics='Construction Machinery &amp; Heavy Transportation Equipment', localisation='Pittsburgh, Pennsylvania', date_entree='2019-02-27', cik='0000943452', date_fondation='1999 (1869)'),\n",
       " Ligne(symbole='WBA', lien_nyse='https://www.nasdaq.com/market-activity/stocks/wba', securite='Walgreens Boots Alliance', lien_wiki='https://en.wikipedia.org//wiki/Walgreens_Boots_Alliance', gics='Consumer Staples', sous_gics='Drug Retail', localisation='Deerfield, Illinois', date_entree='1979-12-31', cik='0001618921', date_fondation='2014'),\n",
       " Ligne(symbole='WMT', lien_nyse='https://www.nyse.com/quote/XNYS:WMT', securite='Walmart', lien_wiki='https://en.wikipedia.org//wiki/Walmart', gics='Consumer Staples', sous_gics='Consumer Staples Merchandise Retail', localisation='Bentonville, Arkansas', date_entree='1982-08-31', cik='0000104169', date_fondation='1962'),\n",
       " Ligne(symbole='DIS', lien_nyse='https://www.nyse.com/quote/XNYS:DIS', securite='Walt Disney Company (The)', lien_wiki='https://en.wikipedia.org//wiki/The_Walt_Disney_Company', gics='Communication Services', sous_gics='Movies &amp; Entertainment', localisation='Burbank, California', date_entree='1976-06-30', cik='0001744489', date_fondation='1923'),\n",
       " Ligne(symbole='WBD', lien_nyse='https://www.nasdaq.com/market-activity/stocks/wbd', securite='Warner Bros. Discovery', lien_wiki='https://en.wikipedia.org//wiki/Warner_Bros._Discovery', gics='Communication Services', sous_gics='Broadcasting', localisation='New York City, New York', date_entree='2022-04-11', cik='0001437107', date_fondation='2022 (<a href=\"/wiki/Warner_Bros.\" title=\"Warner Bros.\">Warner Bros.</a> 1923)'),\n",
       " Ligne(symbole='WM', lien_nyse='https://www.nyse.com/quote/XNYS:WM', securite='Waste Management', lien_wiki='https://en.wikipedia.org//wiki/Waste_Management_(corporation)', gics='Industrials', sous_gics='Environmental &amp; Facilities Services', localisation='Houston, Texas', date_entree='1998-08-31', cik='0000823768', date_fondation='1968'),\n",
       " Ligne(symbole='WAT', lien_nyse='https://www.nyse.com/quote/XNYS:WAT', securite='Waters Corporation', lien_wiki='https://en.wikipedia.org//wiki/Waters_Corporation', gics='Health Care', sous_gics='Life Sciences Tools &amp; Services', localisation='Milford, Massachusetts', date_entree='2002-01-02', cik='0001000697', date_fondation='1958'),\n",
       " Ligne(symbole='WEC', lien_nyse='https://www.nyse.com/quote/XNYS:WEC', securite='WEC Energy Group', lien_wiki='https://en.wikipedia.org//wiki/WEC_Energy_Group', gics='Utilities', sous_gics='Electric Utilities', localisation='Milwaukee, Wisconsin', date_entree='2008-10-31', cik='0000783325 ', date_fondation='1896'),\n",
       " Ligne(symbole='WFC', lien_nyse='https://www.nyse.com/quote/XNYS:WFC', securite='Wells Fargo', lien_wiki='https://en.wikipedia.org//wiki/Wells_Fargo', gics='Financials', sous_gics='Diversified Banks', localisation='San Francisco, California', date_entree='1976-06-30', cik='0000072971 ', date_fondation='1852'),\n",
       " Ligne(symbole='WELL', lien_nyse='https://www.nyse.com/quote/XNYS:WELL', securite='Welltower', lien_wiki='https://en.wikipedia.org//wiki/Welltower', gics='Real Estate', sous_gics='Health Care REITs', localisation='Toledo, Ohio', date_entree='2009-01-30', cik='0000766704 ', date_fondation='1970'),\n",
       " Ligne(symbole='WST', lien_nyse='https://www.nyse.com/quote/XNYS:WST', securite='West Pharmaceutical Services', lien_wiki='https://en.wikipedia.org//wiki/West_Pharmaceutical_Services', gics='Health Care', sous_gics='Health Care Supplies', localisation='Exton, Pennsylvania', date_entree='2020-05-22', cik='0000105770 ', date_fondation='1923'),\n",
       " Ligne(symbole='WDC', lien_nyse='https://www.nasdaq.com/market-activity/stocks/wdc', securite='Western Digital', lien_wiki='https://en.wikipedia.org//wiki/Western_Digital', gics='Information Technology', sous_gics='Technology Hardware, Storage &amp; Peripherals', localisation='San Jose, California', date_entree='2009-07-01', cik='0000106040 ', date_fondation='1970'),\n",
       " Ligne(symbole='WY', lien_nyse='https://www.nyse.com/quote/XNYS:WY', securite='Weyerhaeuser', lien_wiki='https://en.wikipedia.org//wiki/Weyerhaeuser', gics='Real Estate', sous_gics='Timber REITs', localisation='Seattle, Washington', date_entree='1979-10-01', cik='0000106535', date_fondation='1900'),\n",
       " Ligne(symbole='WMB', lien_nyse='https://www.nyse.com/quote/XNYS:WMB', securite='Williams Companies', lien_wiki='https://en.wikipedia.org//wiki/Williams_Companies', gics='Energy', sous_gics='Oil &amp; Gas Storage &amp; Transportation', localisation='Tulsa, Oklahoma', date_entree='1975-03-31', cik='0000107263 ', date_fondation='1908'),\n",
       " Ligne(symbole='WTW', lien_nyse='https://www.nasdaq.com/market-activity/stocks/wtw', securite='Willis Towers Watson', lien_wiki='https://en.wikipedia.org//wiki/Willis_Towers_Watson', gics='Financials', sous_gics='Insurance Brokers', localisation='London, United Kingdom', date_entree='2016-01-05', cik='0001140536 ', date_fondation='2016'),\n",
       " Ligne(symbole='WYNN', lien_nyse='https://www.nasdaq.com/market-activity/stocks/wynn', securite='Wynn Resorts', lien_wiki='https://en.wikipedia.org//wiki/Wynn_Resorts', gics='Consumer Discretionary', sous_gics='Casinos &amp; Gaming', localisation='Paradise, Nevada', date_entree='2008-11-14', cik='0001174922 ', date_fondation='2002'),\n",
       " Ligne(symbole='XEL', lien_nyse='https://www.nasdaq.com/market-activity/stocks/xel', securite='Xcel Energy', lien_wiki='https://en.wikipedia.org//wiki/Xcel_Energy', gics='Utilities', sous_gics='Multi-Utilities', localisation='Minneapolis, Minnesota', date_entree='1957-03-04', cik='0000072903', date_fondation='1909'),\n",
       " Ligne(symbole='XYL', lien_nyse='https://www.nyse.com/quote/XNYS:XYL', securite='Xylem Inc.', lien_wiki='https://en.wikipedia.org//wiki/Xylem_Inc.', gics='Industrials', sous_gics='Industrial Machinery &amp; Supplies &amp; Components', localisation='White Plains, New York', date_entree='2011-11-01', cik='0001524472', date_fondation='2011'),\n",
       " Ligne(symbole='YUM', lien_nyse='https://www.nyse.com/quote/XNYS:YUM', securite='Yum! Brands', lien_wiki='https://en.wikipedia.org//wiki/Yum!_Brands', gics='Consumer Discretionary', sous_gics='Restaurants', localisation='Louisville, Kentucky', date_entree='1997-10-06', cik='0001041061 ', date_fondation='1997'),\n",
       " Ligne(symbole='ZBRA', lien_nyse='https://www.nasdaq.com/market-activity/stocks/zbra', securite='Zebra Technologies', lien_wiki='https://en.wikipedia.org//wiki/Zebra_Technologies', gics='Information Technology', sous_gics='Electronic Equipment &amp; Instruments', localisation='Lincolnshire, Illinois', date_entree='2019-12-23', cik='0000877212 ', date_fondation='1969'),\n",
       " Ligne(symbole='ZBH', lien_nyse='https://www.nyse.com/quote/XNYS:ZBH', securite='Zimmer Biomet', lien_wiki='https://en.wikipedia.org//wiki/Zimmer_Biomet', gics='Health Care', sous_gics='Health Care Equipment', localisation='Warsaw, Indiana', date_entree='2001-08-07', cik='0001136869 ', date_fondation='1927'),\n",
       " Ligne(symbole='ZTS', lien_nyse='https://www.nyse.com/quote/XNYS:ZTS', securite='Zoetis', lien_wiki='https://en.wikipedia.org//wiki/Zoetis', gics='Health Care', sous_gics='Pharmaceuticals', localisation='Parsippany, New Jersey', date_entree='2013-06-21', cik='0001555280', date_fondation='1952')]"
      ]
     },
     "execution_count": 94,
     "metadata": {},
     "output_type": "execute_result"
    }
   ],
   "source": [
    "deserialises"
   ]
  },
  {
   "cell_type": "markdown",
   "id": "d2825649-321f-4480-b7df-4f7c3f14ae2a",
   "metadata": {},
   "source": [
    "## Expressions régulières"
   ]
  },
  {
   "cell_type": "markdown",
   "id": "6fbacaa2-c156-4c6f-ab7d-75ae4bc7029d",
   "metadata": {},
   "source": [
    "Langage permettant de décrire des motifs permettant d'identifier des chaines de caractères.\n",
    "\n",
    "On consultera [la documentation](https://docs.python.org/3/library/re.html) pour une description plus complète de la syntaxe."
   ]
  },
  {
   "cell_type": "code",
   "execution_count": 44,
   "id": "d6f400cb-e733-4943-88a3-5ea3e2eb895d",
   "metadata": {},
   "outputs": [],
   "source": [
    "import re"
   ]
  },
  {
   "cell_type": "markdown",
   "id": "f96c0327-434d-476f-8983-f8a4b0128c22",
   "metadata": {},
   "source": [
    "On va décrire une chaine\n",
    "1. Commençant par au moins un `a`\n",
    "2. Suivi d'un chiffre de 0 à 5\n",
    "3. suivi d'un caractère `b` répété au plus trois fois\n",
    "4. se finissant par un chiffre de 3 à 9"
   ]
  },
  {
   "cell_type": "code",
   "execution_count": 46,
   "id": "c42e869e-af55-4c7a-9da0-4a8c27561685",
   "metadata": {},
   "outputs": [],
   "source": [
    "motif = re.compile(r\"^aa*[0-5]b{0,3}[3-9]$\")"
   ]
  },
  {
   "cell_type": "code",
   "execution_count": 47,
   "id": "c44d927d-b4e3-4013-814b-d8a27f736716",
   "metadata": {},
   "outputs": [
    {
     "data": {
      "text/plain": [
       "<re.Match object; span=(0, 5), match='a3bb8'>"
      ]
     },
     "execution_count": 47,
     "metadata": {},
     "output_type": "execute_result"
    }
   ],
   "source": [
    "motif.match(\"a3bb8\")"
   ]
  },
  {
   "cell_type": "code",
   "execution_count": 48,
   "id": "595d83c6-19af-45a6-adf2-31c64e75ab89",
   "metadata": {},
   "outputs": [
    {
     "data": {
      "text/plain": [
       "<re.Match object; span=(0, 7), match='aa0bbb3'>"
      ]
     },
     "execution_count": 48,
     "metadata": {},
     "output_type": "execute_result"
    }
   ],
   "source": [
    "motif.match(\"aa0bbb3\")"
   ]
  },
  {
   "cell_type": "code",
   "execution_count": 49,
   "id": "6796fcf4-e5cd-463a-8520-c689cabd0575",
   "metadata": {},
   "outputs": [],
   "source": [
    "motif.match(\"0b3\")"
   ]
  },
  {
   "cell_type": "code",
   "execution_count": 50,
   "id": "695dd13f-07a5-4663-aced-5be4e92de1ce",
   "metadata": {},
   "outputs": [],
   "source": [
    "motif.match(\"a6b3\")"
   ]
  },
  {
   "cell_type": "code",
   "execution_count": 51,
   "id": "dabae2df-d643-42e6-9533-31077d888ce2",
   "metadata": {},
   "outputs": [],
   "source": [
    "motif.match(\"ab5b3\")"
   ]
  },
  {
   "cell_type": "code",
   "execution_count": 52,
   "id": "2d0e624d-e881-420f-af4c-3434e3c6e996",
   "metadata": {},
   "outputs": [],
   "source": [
    "motif.match(\"aa3bbbb3\")"
   ]
  },
  {
   "cell_type": "code",
   "execution_count": 53,
   "id": "244c5004-bc79-4a47-a7b2-9902d6c1a23f",
   "metadata": {},
   "outputs": [],
   "source": [
    "motif.match(\"aa3bbb2\")"
   ]
  },
  {
   "cell_type": "markdown",
   "id": "3618795e-5ebd-4712-b35f-d6413aa3d68b",
   "metadata": {},
   "source": [
    "On peut extraire des sous parties intéressantes de la chaine."
   ]
  },
  {
   "cell_type": "code",
   "execution_count": 55,
   "id": "051faa00-15ac-4987-8cc2-2a0e13cfa117",
   "metadata": {},
   "outputs": [],
   "source": [
    "motif2 = re.compile(r\"^(aa*)[0-5](b{0,3})[3-9]$\")"
   ]
  },
  {
   "cell_type": "code",
   "execution_count": 57,
   "id": "22c883bb-cdaa-47b8-b775-39a66edc279a",
   "metadata": {},
   "outputs": [],
   "source": [
    "resultat = motif2.match(\"aa0bbb3\")"
   ]
  },
  {
   "cell_type": "code",
   "execution_count": 58,
   "id": "43063eec-0d86-40ee-b6cd-1bdfded4753d",
   "metadata": {},
   "outputs": [
    {
     "data": {
      "text/plain": [
       "re.Match"
      ]
     },
     "execution_count": 58,
     "metadata": {},
     "output_type": "execute_result"
    }
   ],
   "source": [
    "type(resultat)"
   ]
  },
  {
   "cell_type": "code",
   "execution_count": 59,
   "id": "9859e01b-cb58-47e0-b670-8daa90eefec0",
   "metadata": {},
   "outputs": [
    {
     "data": {
      "text/plain": [
       "('aa', 'bbb')"
      ]
     },
     "execution_count": 59,
     "metadata": {},
     "output_type": "execute_result"
    }
   ],
   "source": [
    "resultat.groups()"
   ]
  },
  {
   "cell_type": "markdown",
   "id": "5ceab138-3ebc-42b3-9a8c-36d030c09b30",
   "metadata": {},
   "source": [
    "On peut aussi rechercher les apparitions d'un motif dans une chaine de caractères."
   ]
  },
  {
   "cell_type": "code",
   "execution_count": 60,
   "id": "2d55b392-318f-4216-ac64-e4929e770f0e",
   "metadata": {},
   "outputs": [],
   "source": [
    "nombre = re.compile(\"[1-9][0-9]*\")"
   ]
  },
  {
   "cell_type": "code",
   "execution_count": 62,
   "id": "b0c22b8b-6794-4b3e-90f7-622274b43212",
   "metadata": {},
   "outputs": [
    {
     "data": {
      "text/plain": [
       "['123', '456', '12', '12']"
      ]
     },
     "execution_count": 62,
     "metadata": {},
     "output_type": "execute_result"
    }
   ],
   "source": [
    "nombre.findall(\"123 blabla 456 bla012bla 12\")"
   ]
  },
  {
   "cell_type": "code",
   "execution_count": null,
   "id": "ccda9aaa-5a07-4e1c-9949-0969cce4a76c",
   "metadata": {},
   "outputs": [],
   "source": []
  }
 ],
 "metadata": {
  "kernelspec": {
   "display_name": "Python 3 (ipykernel)",
   "language": "python",
   "name": "python3"
  },
  "language_info": {
   "codemirror_mode": {
    "name": "ipython",
    "version": 3
   },
   "file_extension": ".py",
   "mimetype": "text/x-python",
   "name": "python",
   "nbconvert_exporter": "python",
   "pygments_lexer": "ipython3",
   "version": "3.10.9"
  }
 },
 "nbformat": 4,
 "nbformat_minor": 5
}
